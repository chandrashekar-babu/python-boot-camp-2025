{
 "cells": [
  {
   "cell_type": "markdown",
   "id": "8698ce3d",
   "metadata": {},
   "source": [
    "# Python Bootcamp 2025\n",
    "### Day 5: Functions, Classes, Objects and Modules\n",
    "\n",
    "#### Planned Agenda\n",
    "##### Functions (contd.)\n",
    " - Nested (Inner functions) and External Scope\n",
    " - The LEG-B rule of scope resolution\n",
    " - Function object features and attributes\n",
    " - Function-level encapsulation\n",
    "\n",
    "##### Classes and Objects (overview)\n",
    " - Introduction to OOP using Python\n",
    " - Objects, Types, Classes and Values in Python\n",
    " - Python OO architectural overview\n",
    " - Defining classes and instantiating objects\n",
    " - Class attributes: `__name__`, `__bases__`, `__doc__`, `__dict__`, `__class__`\n",
    " - Instances and instance attributes\n",
    " - Class-Instance relationship: rules and bindings\n",
    " - Instance methods, class methods and static methods\n",
    " - Inheritance and Duck-typing\n",
    " - Introspection of objects\n",
    " - Python OO Design: Pythonisms and best practices\n",
    " \n",
    "##### Modular development\n",
    " - An overview on modules and namespaces\n",
    " - Different types of modules\n",
    " - Modules as first-class singleton objects\n",
    " - Creating hierarchical module packages\n"
   ]
  },
  {
   "cell_type": "markdown",
   "id": "467a1537",
   "metadata": {},
   "source": [
    "#### Nested functions and external scope"
   ]
  },
  {
   "cell_type": "code",
   "execution_count": 3,
   "id": "6c99c439",
   "metadata": {},
   "outputs": [
    {
     "name": "stdout",
     "output_type": "stream",
     "text": [
      "foo invoked\n",
      "foo invoked\n"
     ]
    }
   ],
   "source": [
    "def testfn():\n",
    "    global foo\n",
    "    def foo():\n",
    "        print(\"foo invoked\")\n",
    "    foo()\n",
    "\n",
    "testfn()\n",
    "foo()"
   ]
  },
  {
   "cell_type": "code",
   "execution_count": 2,
   "id": "201900ff",
   "metadata": {},
   "outputs": [
    {
     "name": "stdout",
     "output_type": "stream",
     "text": [
      "foo invoked\n"
     ]
    },
    {
     "ename": "NameError",
     "evalue": "name 'foo' is not defined",
     "output_type": "error",
     "traceback": [
      "\u001b[0;31m---------------------------------------------------------------------------\u001b[0m",
      "\u001b[0;31mNameError\u001b[0m                                 Traceback (most recent call last)",
      "Cell \u001b[0;32mIn[2], line 7\u001b[0m\n\u001b[1;32m      4\u001b[0m     foo()\n\u001b[1;32m      6\u001b[0m testfn()\n\u001b[0;32m----> 7\u001b[0m foo()\n",
      "\u001b[0;31mNameError\u001b[0m: name 'foo' is not defined"
     ]
    }
   ],
   "source": [
    "def testfn():\n",
    "    def foo():\n",
    "        print(\"foo invoked\")\n",
    "    foo()\n",
    "\n",
    "testfn()\n",
    "foo()  # This will raise a NameError since foo is not defined in the scope of testfn"
   ]
  },
  {
   "cell_type": "code",
   "execution_count": null,
   "id": "b72ed134",
   "metadata": {},
   "outputs": [
    {
     "name": "stdout",
     "output_type": "stream",
     "text": [
      "foo invoked\n"
     ]
    }
   ],
   "source": [
    "def testfn(): # This is also an example of a higher order function (a function that returns a function - closure)\n",
    "    def foo():\n",
    "        print(\"foo invoked\")\n",
    "    return foo\n",
    "\n",
    "fn = testfn()\n",
    "fn()"
   ]
  },
  {
   "cell_type": "code",
   "execution_count": 5,
   "id": "2d9352af",
   "metadata": {},
   "outputs": [
    {
     "name": "stdout",
     "output_type": "stream",
     "text": [
      "Postgres connection established\n"
     ]
    }
   ],
   "source": [
    "# A simple \"Factory method\" implementation using functions\n",
    "def connect(conn_type):\n",
    "    if conn_type == 'mysql':\n",
    "        def connection():\n",
    "            print(\"MySQL connection established\")\n",
    "    elif conn_type == 'postgres':\n",
    "        def connection():\n",
    "            print(\"Postgres connection established\")\n",
    "    else:\n",
    "        def connection():\n",
    "            print(\"SQLite connection established\")\n",
    "    return connection\n",
    "\n",
    "fn = connect('postgres')\n",
    "fn()"
   ]
  },
  {
   "cell_type": "code",
   "execution_count": 7,
   "id": "45061ff3",
   "metadata": {},
   "outputs": [
    {
     "name": "stdout",
     "output_type": "stream",
     "text": [
      "100\n"
     ]
    }
   ],
   "source": [
    "a = 100\n",
    "\n",
    "def testfn():\n",
    "    def innerfn():\n",
    "        print(a)  # Accessing global variable 'a'\n",
    "    innerfn()\n",
    "\n",
    "testfn()"
   ]
  },
  {
   "cell_type": "code",
   "execution_count": null,
   "id": "5901c0ce",
   "metadata": {},
   "outputs": [
    {
     "name": "stdout",
     "output_type": "stream",
     "text": [
      "Wed Sep 10 09:54:59 2025 : In innerfn: a=10\n",
      "Wed Sep 10 09:54:59 2025 : In innerfn: b=300\n",
      "Wed Sep 10 09:54:59 2025 : In innerfn: c=400\n"
     ]
    }
   ],
   "source": [
    "a = 10\n",
    "b = 20\n",
    "c = 30\n",
    "\n",
    "def testfn():\n",
    "    def print(*args, **kwargs):\n",
    "        from time import ctime\n",
    "        __builtins__.print(ctime(), \":\", *args, **kwargs)\n",
    "        \n",
    "    b = 300\n",
    "    c = 350\n",
    "    def innerfn():\n",
    "        c = 400\n",
    "        print(f\"In innerfn: {a=}\") # Accessing 'a' from the global scope\n",
    "        print(f\"In innerfn: {b=}\") # Accessing 'b' from the enclosing scope\n",
    "        print(f\"In innerfn: {c=}\") # Accessing 'c' from the local scope\n",
    "    innerfn()\n",
    "\n",
    "testfn()"
   ]
  },
  {
   "cell_type": "code",
   "execution_count": 15,
   "id": "b0dcf307",
   "metadata": {},
   "outputs": [
    {
     "data": {
      "text/plain": [
       "11"
      ]
     },
     "execution_count": 15,
     "metadata": {},
     "output_type": "execute_result"
    }
   ],
   "source": [
    "def len(x):\n",
    "    return 1000\n",
    "\n",
    "a = \"Hello world\"\n",
    "len(a) # __main__.len(a)\n",
    "__builtins__.len(a)"
   ]
  },
  {
   "cell_type": "code",
   "execution_count": 19,
   "id": "a1d6e87e",
   "metadata": {},
   "outputs": [
    {
     "name": "stdout",
     "output_type": "stream",
     "text": [
      "100\n"
     ]
    },
    {
     "ename": "TypeError",
     "evalue": "'int' object is not callable",
     "output_type": "error",
     "traceback": [
      "\u001b[0;31m---------------------------------------------------------------------------\u001b[0m",
      "\u001b[0;31mTypeError\u001b[0m                                 Traceback (most recent call last)",
      "Cell \u001b[0;32mIn[19], line 4\u001b[0m\n\u001b[1;32m      1\u001b[0m \u001b[38;5;28mid\u001b[39m \u001b[38;5;241m=\u001b[39m \u001b[38;5;241m100\u001b[39m\n\u001b[1;32m      2\u001b[0m \u001b[38;5;28mprint\u001b[39m(\u001b[38;5;28mid\u001b[39m)  \u001b[38;5;66;03m# This will print the local variable 'id'\u001b[39;00m\n\u001b[0;32m----> 4\u001b[0m \u001b[38;5;28mid\u001b[39m(a)\n",
      "\u001b[0;31mTypeError\u001b[0m: 'int' object is not callable"
     ]
    }
   ],
   "source": [
    "id = 100\n",
    "print(id)  # This will print the local variable 'id'\n",
    "\n",
    "id(a)"
   ]
  },
  {
   "cell_type": "code",
   "execution_count": 22,
   "id": "abe9c16b",
   "metadata": {},
   "outputs": [
    {
     "data": {
      "text/plain": [
       "4348406640"
      ]
     },
     "execution_count": 22,
     "metadata": {},
     "output_type": "execute_result"
    }
   ],
   "source": [
    "str = \"Hello world\"\n",
    "a = 100\n",
    "del id\n",
    "del str\n",
    "b = str(a)\n",
    "id(a)\n"
   ]
  },
  {
   "cell_type": "code",
   "execution_count": 26,
   "id": "0b4b3bbc",
   "metadata": {},
   "outputs": [
    {
     "ename": "NameError",
     "evalue": "name 'print' is not defined",
     "output_type": "error",
     "traceback": [
      "\u001b[0;31m---------------------------------------------------------------------------\u001b[0m",
      "\u001b[0;31mNameError\u001b[0m                                 Traceback (most recent call last)",
      "Cell \u001b[0;32mIn[26], line 1\u001b[0m\n\u001b[0;32m----> 1\u001b[0m \u001b[38;5;28mprint\u001b[39m(\u001b[38;5;124m\"\u001b[39m\u001b[38;5;124mHello world\u001b[39m\u001b[38;5;124m\"\u001b[39m)\n",
      "\u001b[0;31mNameError\u001b[0m: name 'print' is not defined"
     ]
    }
   ],
   "source": [
    "print(\"Hello world\")"
   ]
  },
  {
   "cell_type": "code",
   "execution_count": 25,
   "id": "583f0249",
   "metadata": {},
   "outputs": [],
   "source": [
    "del __builtins__.print"
   ]
  },
  {
   "cell_type": "markdown",
   "id": "7cf1d51f",
   "metadata": {},
   "source": [
    "NOTE: Scope resolution -> Local - Enclosing (External) - Global - Builtin"
   ]
  },
  {
   "cell_type": "code",
   "execution_count": 1,
   "id": "f7a3af62",
   "metadata": {},
   "outputs": [
    {
     "name": "stdout",
     "output_type": "stream",
     "text": [
      "In innerfn: a=200\n"
     ]
    }
   ],
   "source": [
    "a = 100\n",
    "\n",
    "def testfn():\n",
    "    a = 200\n",
    "    def innerfn():\n",
    "        print(f\"In innerfn: {a=}\")  # Accessing 'a' from the enclosing scope\n",
    "    innerfn()\n",
    "\n",
    "testfn()"
   ]
  },
  {
   "cell_type": "code",
   "execution_count": 2,
   "id": "fa92c90a",
   "metadata": {},
   "outputs": [
    {
     "name": "stdout",
     "output_type": "stream",
     "text": [
      "In innerfn: a=200\n"
     ]
    }
   ],
   "source": [
    "a = 100\n",
    "\n",
    "def testfn():\n",
    "    a = 200\n",
    "    def innerfn():\n",
    "        print(f\"In innerfn: {a=}\")  # Accessing 'a' from the enclosing scope\n",
    "    return innerfn\n",
    "\n",
    "fn = testfn()\n",
    "fn()"
   ]
  },
  {
   "cell_type": "code",
   "execution_count": null,
   "id": "ee97638c",
   "metadata": {},
   "outputs": [
    {
     "name": "stdout",
     "output_type": "stream",
     "text": [
      "In innerfn: a=1234\n"
     ]
    }
   ],
   "source": [
    "def testfn():\n",
    "    a = 1234\n",
    "    def innerfn():\n",
    "        print(f\"In innerfn: {a=}\")  # Accessing 'a' from the enclosing scope\n",
    "    return innerfn\n",
    "\n",
    "fn = testfn()\n",
    "fn()  # Accessor pattern"
   ]
  },
  {
   "cell_type": "code",
   "execution_count": null,
   "id": "e965d05c",
   "metadata": {},
   "outputs": [
    {
     "name": "stdout",
     "output_type": "stream",
     "text": [
      "testfn __main__\n",
      "<function testfn at 0x12140f920>\n",
      "<function testfn at 0x12140f920>\n",
      "<function __main__.testfn()>\n"
     ]
    }
   ],
   "source": [
    "print(testfn.__qualname__, testfn.__module__)\n",
    "\n",
    "print(f\"<function {testfn.__qualname__} at {hex(id(testfn))}>\") # str() of testfn\n",
    "print(testfn)\n",
    "print(f\"<function {testfn.__module__}.{testfn.__qualname__}()>\") # repr() of testfn\n"
   ]
  },
  {
   "cell_type": "code",
   "execution_count": null,
   "id": "48410280",
   "metadata": {},
   "outputs": [
    {
     "data": {
      "text/plain": [
       "<function __main__.greet()>"
      ]
     },
     "execution_count": 16,
     "metadata": {},
     "output_type": "execute_result"
    }
   ],
   "source": [
    "testfn.__qualname__ = \"greet\" # Monkey-patching the name of the function\n",
    "testfn"
   ]
  },
  {
   "cell_type": "code",
   "execution_count": 21,
   "id": "8bedeaad",
   "metadata": {},
   "outputs": [
    {
     "name": "stdout",
     "output_type": "stream",
     "text": [
      "2025_Sep_10.ipynb  somefile.txt\n"
     ]
    }
   ],
   "source": [
    "ls"
   ]
  },
  {
   "cell_type": "code",
   "execution_count": 20,
   "id": "37b7cffd",
   "metadata": {},
   "outputs": [],
   "source": [
    "import os\n",
    "del os.unlink\n"
   ]
  },
  {
   "cell_type": "code",
   "execution_count": 25,
   "id": "ff834d1b",
   "metadata": {},
   "outputs": [
    {
     "name": "stdout",
     "output_type": "stream",
     "text": [
      "This function is disabled.\n",
      "This incidence will be reported.\n"
     ]
    }
   ],
   "source": [
    "os.unlink(\"somefile.txt\")"
   ]
  },
  {
   "cell_type": "code",
   "execution_count": 24,
   "id": "b7385f04",
   "metadata": {},
   "outputs": [],
   "source": [
    "def disabled_function(*args, **kwargs):\n",
    "    print(\"This function is disabled.\")\n",
    "    print(\"This incidence will be reported.\")\n",
    "\n",
    "os.unlink = disabled_function\n"
   ]
  },
  {
   "cell_type": "code",
   "execution_count": 26,
   "id": "a57ce475",
   "metadata": {},
   "outputs": [],
   "source": [
    "os.rmdir = disabled_function"
   ]
  },
  {
   "cell_type": "code",
   "execution_count": 27,
   "id": "98ed8554",
   "metadata": {},
   "outputs": [
    {
     "name": "stdout",
     "output_type": "stream",
     "text": [
      "This function is disabled.\n",
      "This incidence will be reported.\n"
     ]
    }
   ],
   "source": [
    "os.rmdir(\"somedir\")"
   ]
  },
  {
   "cell_type": "code",
   "execution_count": 2,
   "id": "7e536d06",
   "metadata": {},
   "outputs": [
    {
     "name": "stdout",
     "output_type": "stream",
     "text": [
      "\u001b[0;31mSignature:\u001b[0m \u001b[0mos\u001b[0m\u001b[0;34m.\u001b[0m\u001b[0munlink\u001b[0m\u001b[0;34m(\u001b[0m\u001b[0mpath\u001b[0m\u001b[0;34m,\u001b[0m \u001b[0;34m*\u001b[0m\u001b[0;34m,\u001b[0m \u001b[0mdir_fd\u001b[0m\u001b[0;34m=\u001b[0m\u001b[0;32mNone\u001b[0m\u001b[0;34m)\u001b[0m\u001b[0;34m\u001b[0m\u001b[0;34m\u001b[0m\u001b[0m\n",
      "\u001b[0;31mDocstring:\u001b[0m\n",
      "Remove a file (same as remove()).\n",
      "\n",
      "If dir_fd is not None, it should be a file descriptor open to a directory,\n",
      "  and path should be relative; path will then be relative to that directory.\n",
      "dir_fd may not be implemented on your platform.\n",
      "  If it is unavailable, using it will raise a NotImplementedError.\n",
      "\u001b[0;31mType:\u001b[0m      builtin_function_or_method"
     ]
    }
   ],
   "source": [
    "import os\n",
    "os.unlink?"
   ]
  },
  {
   "cell_type": "markdown",
   "id": "2cd85d0c",
   "metadata": {},
   "source": [
    "Monkey-patching is the act of removing / replacing / customizing attributes of Python objects in runtime.\n",
    "\n",
    "Monkey-patching can be applied on Python modules, user-defined functions, user-defined classes and their instances."
   ]
  },
  {
   "cell_type": "code",
   "execution_count": 7,
   "id": "8075a7b3",
   "metadata": {},
   "outputs": [
    {
     "name": "stdout",
     "output_type": "stream",
     "text": [
      "<class 'builtin_function_or_method'>\n",
      "len\n"
     ]
    },
    {
     "ename": "AttributeError",
     "evalue": "attribute '__qualname__' of 'builtin_function_or_method' objects is not writable",
     "output_type": "error",
     "traceback": [
      "\u001b[0;31m---------------------------------------------------------------------------\u001b[0m",
      "\u001b[0;31mAttributeError\u001b[0m                            Traceback (most recent call last)",
      "Cell \u001b[0;32mIn[7], line 5\u001b[0m\n\u001b[1;32m      2\u001b[0m \u001b[38;5;28mprint\u001b[39m(\u001b[38;5;28mtype\u001b[39m(\u001b[38;5;28mlen\u001b[39m))\n\u001b[1;32m      4\u001b[0m \u001b[38;5;28mprint\u001b[39m(\u001b[38;5;28mlen\u001b[39m\u001b[38;5;241m.\u001b[39m\u001b[38;5;18m__qualname__\u001b[39m)\n\u001b[0;32m----> 5\u001b[0m \u001b[38;5;28mlen\u001b[39m\u001b[38;5;241m.\u001b[39m\u001b[38;5;18m__qualname__\u001b[39m \u001b[38;5;241m=\u001b[39m \u001b[38;5;124m\"\u001b[39m\u001b[38;5;124mmy_len\u001b[39m\u001b[38;5;124m\"\u001b[39m\n\u001b[1;32m      6\u001b[0m \u001b[38;5;28mprint\u001b[39m(\u001b[38;5;28mlen\u001b[39m\u001b[38;5;241m.\u001b[39m\u001b[38;5;18m__qualname__\u001b[39m)\n",
      "\u001b[0;31mAttributeError\u001b[0m: attribute '__qualname__' of 'builtin_function_or_method' objects is not writable"
     ]
    }
   ],
   "source": [
    "a = \"sdfsdsdf\"\n",
    "print(type(len))\n",
    "\n",
    "print(len.__qualname__)\n",
    "len.__qualname__ = \"my_len\"\n",
    "print(len.__qualname__)"
   ]
  },
  {
   "cell_type": "code",
   "execution_count": 9,
   "id": "59ba3f3e",
   "metadata": {},
   "outputs": [
    {
     "data": {
      "text/plain": [
       "<code object testfn at 0x1184c7800, file \"/var/folders/8r/bd41h17j3g733j4twtb7rh9c0000gn/T/ipykernel_3255/740877821.py\", line 1>"
      ]
     },
     "execution_count": 9,
     "metadata": {},
     "output_type": "execute_result"
    }
   ],
   "source": [
    "def testfn(name, role, dept=\"IT\"):\n",
    "    testvar = 123\n",
    "    teststr = \"Hello, world\"\n",
    "    for i in range(5):\n",
    "        print(i)\n",
    "    if i > 4:\n",
    "        print(\"Inside if block\")\n",
    "    \n",
    "testfn.__code__"
   ]
  },
  {
   "cell_type": "code",
   "execution_count": 11,
   "id": "09552fbb",
   "metadata": {},
   "outputs": [
    {
     "data": {
      "text/plain": [
       "b'\\x97\\x00d\\x01}\\x03d\\x02}\\x04t\\x01\\x00\\x00\\x00\\x00\\x00\\x00\\x00\\x00d\\x03\\xab\\x01\\x00\\x00\\x00\\x00\\x00\\x00D\\x00]\\r\\x00\\x00}\\x05t\\x03\\x00\\x00\\x00\\x00\\x00\\x00\\x00\\x00|\\x05\\xab\\x01\\x00\\x00\\x00\\x00\\x00\\x00\\x01\\x00\\x8c\\x0f\\x04\\x00\\x7f\\x05d\\x04kD\\x00\\x00r\\x0ct\\x03\\x00\\x00\\x00\\x00\\x00\\x00\\x00\\x00d\\x05\\xab\\x01\\x00\\x00\\x00\\x00\\x00\\x00\\x01\\x00y\\x00y\\x00'"
      ]
     },
     "execution_count": 11,
     "metadata": {},
     "output_type": "execute_result"
    }
   ],
   "source": [
    "def testfn(name, role, dept=\"IT\"):\n",
    "    testvar = 123\n",
    "    teststr = \"Hello, world\"\n",
    "    for i in range(5):\n",
    "        print(i)\n",
    "    if i > 4:\n",
    "        print(\"Inside if block\")\n",
    "    \n",
    "testfn.__code__.co_varnames\n",
    "testfn.__code__.co_code"
   ]
  },
  {
   "cell_type": "code",
   "execution_count": 12,
   "id": "8605e746",
   "metadata": {},
   "outputs": [
    {
     "name": "stdout",
     "output_type": "stream",
     "text": [
      "  1           0 RESUME                   0\n",
      "\n",
      "  2           2 LOAD_CONST               1 (123)\n",
      "              4 STORE_FAST               3 (testvar)\n",
      "\n",
      "  3           6 LOAD_CONST               2 ('Hello, world')\n",
      "              8 STORE_FAST               4 (teststr)\n",
      "\n",
      "  4          10 LOAD_GLOBAL              1 (NULL + range)\n",
      "             20 LOAD_CONST               3 (5)\n",
      "             22 CALL                     1\n",
      "             30 GET_ITER\n",
      "        >>   32 FOR_ITER                13 (to 62)\n",
      "             36 STORE_FAST               5 (i)\n",
      "\n",
      "  5          38 LOAD_GLOBAL              3 (NULL + print)\n",
      "             48 LOAD_FAST                5 (i)\n",
      "             50 CALL                     1\n",
      "             58 POP_TOP\n",
      "             60 JUMP_BACKWARD           15 (to 32)\n",
      "\n",
      "  4     >>   62 END_FOR\n",
      "\n",
      "  6          64 LOAD_FAST_CHECK          5 (i)\n",
      "             66 LOAD_CONST               4 (4)\n",
      "             68 COMPARE_OP              68 (>)\n",
      "             72 POP_JUMP_IF_FALSE       12 (to 98)\n",
      "\n",
      "  7          74 LOAD_GLOBAL              3 (NULL + print)\n",
      "             84 LOAD_CONST               5 ('Inside if block')\n",
      "             86 CALL                     1\n",
      "             94 POP_TOP\n",
      "             96 RETURN_CONST             0 (None)\n",
      "\n",
      "  6     >>   98 RETURN_CONST             0 (None)\n"
     ]
    }
   ],
   "source": [
    "import dis\n",
    "dis.disassemble(testfn.__code__)"
   ]
  },
  {
   "cell_type": "code",
   "execution_count": 17,
   "id": "ef2c3962",
   "metadata": {},
   "outputs": [
    {
     "name": "stdout",
     "output_type": "stream",
     "text": [
      "<function greet at 0x11ca51580> 4775548288\n",
      "Hello, world\n",
      "<function greet at 0x11ca51580> 4775548288\n",
      "This is a test function\n",
      "0\n",
      "1\n",
      "2\n",
      "3\n",
      "4\n"
     ]
    }
   ],
   "source": [
    "def greet():\n",
    "    print(\"Hello, world\")\n",
    "\n",
    "print(greet, id(greet))\n",
    "greet()\n",
    "\n",
    "def testfn():\n",
    "    print(\"This is a test function\")\n",
    "    for i in range(5):\n",
    "        print(i)\n",
    "\n",
    "greet.__code__ = testfn.__code__\n",
    "print(greet, id(greet))\n",
    "greet()"
   ]
  },
  {
   "cell_type": "code",
   "execution_count": null,
   "id": "00007835",
   "metadata": {},
   "outputs": [
    {
     "ename": "AttributeError",
     "evalue": "'function' object has no attribute 'a'",
     "output_type": "error",
     "traceback": [
      "\u001b[0;31m---------------------------------------------------------------------------\u001b[0m",
      "\u001b[0;31mAttributeError\u001b[0m                            Traceback (most recent call last)",
      "Cell \u001b[0;32mIn[18], line 5\u001b[0m\n\u001b[1;32m      2\u001b[0m     a \u001b[38;5;241m=\u001b[39m \u001b[38;5;241m100\u001b[39m\n\u001b[1;32m      3\u001b[0m     \u001b[38;5;28mprint\u001b[39m(\u001b[38;5;124mf\u001b[39m\u001b[38;5;124m\"\u001b[39m\u001b[38;5;124mIn testfn: \u001b[39m\u001b[38;5;132;01m{\u001b[39;00ma\u001b[38;5;132;01m=}\u001b[39;00m\u001b[38;5;124m\"\u001b[39m)\n\u001b[0;32m----> 5\u001b[0m testfn\u001b[38;5;241m.\u001b[39ma\n",
      "\u001b[0;31mAttributeError\u001b[0m: 'function' object has no attribute 'a'"
     ]
    }
   ],
   "source": [
    "def testfn():\n",
    "    a = 100\n",
    "    print(f\"In testfn: {a=}\")\n",
    "\n",
    "testfn.a  # Local variables are not attributes of the function object\n",
    "# Local variables exist only during the function execution\n"
   ]
  },
  {
   "cell_type": "code",
   "execution_count": null,
   "id": "938d3029",
   "metadata": {},
   "outputs": [
    {
     "data": {
      "text/plain": [
       "100"
      ]
     },
     "execution_count": 19,
     "metadata": {},
     "output_type": "execute_result"
    }
   ],
   "source": [
    "def testfn():\n",
    "    a = 100\n",
    "    def get_a():\n",
    "        return a\n",
    "    return get_a\n",
    "\n",
    "\n",
    "fn = testfn()\n",
    "fn() # This is a accessor function (implements accessor pattern)\n"
   ]
  },
  {
   "cell_type": "code",
   "execution_count": 24,
   "id": "04cf96b0",
   "metadata": {},
   "outputs": [
    {
     "name": "stdout",
     "output_type": "stream",
     "text": [
      "In innerfn: a=200\n",
      "In testfn after innerfn call: a=200\n"
     ]
    }
   ],
   "source": [
    "def testfn():\n",
    "    a = 100\n",
    "    def innerfn():\n",
    "        nonlocal a # a is now accessing only via enclosing scope\n",
    "        a = 200 # Modifying 'a' in the enclosing scope\n",
    "        print(f\"In innerfn: {a=}\")  # Accessing  'a' from enclosing scope\n",
    "    innerfn()\n",
    "    print(f\"In testfn after innerfn call: a={a}\")\n",
    "\n",
    "testfn()\n",
    "\n",
    "# The nonlocal statement can be used to modify a variable in the nearest enclosing scope that is not global.\n"
   ]
  },
  {
   "cell_type": "code",
   "execution_count": 25,
   "id": "bb97433f",
   "metadata": {},
   "outputs": [
    {
     "name": "stdout",
     "output_type": "stream",
     "text": [
      "In testfn: a=[100, 20, 30]\n",
      "In global scope: a=[100, 20, 30]\n"
     ]
    }
   ],
   "source": [
    "a = [10, 20, 30]\n",
    "\n",
    "def testfn():\n",
    "    a[0] = 100  # Modifying the first element of the list 'a'\n",
    "    print(f\"In testfn: {a=}\")\n",
    "\n",
    "testfn()\n",
    "print(f\"In global scope: {a=}\")"
   ]
  },
  {
   "cell_type": "code",
   "execution_count": 26,
   "id": "c5e0c73b",
   "metadata": {},
   "outputs": [
    {
     "name": "stdout",
     "output_type": "stream",
     "text": [
      "Hired Steve\n",
      "Hired Claire\n",
      "Hired Bourne\n",
      "Current staff:\n",
      "- Alice\n",
      "- Bob\n",
      "- Claire\n",
      "- Steve\n",
      "- Bourne\n",
      "- Charlie\n"
     ]
    }
   ],
   "source": [
    "import company\n",
    "company.hire(\"Steve\")\n",
    "company.hire(\"Claire\")\n",
    "company.hire(\"Bourne\")\n",
    "company.list_staff()"
   ]
  },
  {
   "cell_type": "code",
   "execution_count": 28,
   "id": "676f8667",
   "metadata": {},
   "outputs": [
    {
     "name": "stdout",
     "output_type": "stream",
     "text": [
      "Cannot fire founding member Bob\n",
      "Current staff:\n",
      "- Alice\n",
      "- Bob\n",
      "- Claire\n",
      "- Bourne\n",
      "- Charlie\n"
     ]
    }
   ],
   "source": [
    "company.fire(\"Bob\")\n",
    "company.list_staff()"
   ]
  },
  {
   "cell_type": "code",
   "execution_count": 30,
   "id": "12b553de",
   "metadata": {},
   "outputs": [],
   "source": [
    "company.staff.clear()"
   ]
  },
  {
   "cell_type": "code",
   "execution_count": 31,
   "id": "849386cc",
   "metadata": {},
   "outputs": [
    {
     "name": "stdout",
     "output_type": "stream",
     "text": [
      "Current staff:\n"
     ]
    }
   ],
   "source": [
    "company.list_staff()"
   ]
  },
  {
   "cell_type": "code",
   "execution_count": null,
   "id": "fcd2eb37",
   "metadata": {},
   "outputs": [
    {
     "name": "stdout",
     "output_type": "stream",
     "text": [
      "Hired Steve\n",
      "Hired Claire\n",
      "Hired Bourne\n",
      "Current staff:\n",
      "- Alice\n",
      "- Bob\n",
      "- Claire\n",
      "- Steve\n",
      "- Bourne\n",
      "- Charlie\n"
     ]
    }
   ],
   "source": [
    "from company_encap import company\n",
    "\n",
    "hire, fire, list_staff = company()\n",
    "hire(\"Steve\")\n",
    "hire(\"Claire\")\n",
    "hire(\"Bourne\")\n",
    "list_staff()\n",
    "\n",
    "# The hire(), fire() and list_staff() are examples of functions with side-effects."
   ]
  },
  {
   "cell_type": "code",
   "execution_count": 33,
   "id": "2422b35e",
   "metadata": {},
   "outputs": [
    {
     "name": "stdout",
     "output_type": "stream",
     "text": [
      "Fired Claire\n",
      "Fired Bourne\n",
      "Current staff:\n",
      "- Alice\n",
      "- Bob\n",
      "- Steve\n",
      "- Charlie\n"
     ]
    }
   ],
   "source": [
    "fire(\"Claire\")\n",
    "fire(\"Bourne\")\n",
    "list_staff()"
   ]
  },
  {
   "cell_type": "code",
   "execution_count": 34,
   "id": "c2012b88",
   "metadata": {},
   "outputs": [
    {
     "name": "stdout",
     "output_type": "stream",
     "text": [
      "Cannot fire founding member Bob\n"
     ]
    }
   ],
   "source": [
    "fire(\"Bob\")"
   ]
  },
  {
   "cell_type": "code",
   "execution_count": null,
   "id": "a2a9f516",
   "metadata": {},
   "outputs": [
    {
     "name": "stdout",
     "output_type": "stream",
     "text": [
      "Hired Steve\n",
      "Hired Claire\n",
      "Current staff:\n",
      "- Bob\n",
      "- Charlie\n",
      "- Claire\n",
      "- Alice\n",
      "- Steve\n",
      "Fired Claire\n",
      "Current staff:\n",
      "- Bob\n",
      "- Charlie\n",
      "- Alice\n",
      "- Steve\n"
     ]
    }
   ],
   "source": [
    "import company_encap as company\n",
    "\n",
    "company.hire(\"Steve\")\n",
    "company.hire(\"Claire\")\n",
    "company.list_staff()\n",
    "company.fire(\"Claire\")\n",
    "company.list_staff()\n",
    "\n",
    "# Though the above code looks OOP-like, it lacks \"Instantiability\"\n",
    "\n",
    "# In order to achieve instantiability, we can use classes"
   ]
  },
  {
   "cell_type": "code",
   "execution_count": 9,
   "id": "17bfe515",
   "metadata": {},
   "outputs": [],
   "source": [
    "class Company:\n",
    "    def __init__(self, *founding_members):\n",
    "        self.__founders = founding_members\n",
    "        self.__staff = set(self.__founders)\n",
    "    \n",
    "    def hire(self, name):\n",
    "        self.__staff.add(name)\n",
    "        print(f\"{name} has been hired.\")\n",
    "\n",
    "    def fire(self, name):   \n",
    "        if name in self.__staff:\n",
    "            if name in self.__founders:\n",
    "                print(f\"Cannot fire founding member: {name}\")\n",
    "            else:\n",
    "                self.__staff.remove(name)\n",
    "                print(f\"{name} has been fired.\")\n",
    "        else:\n",
    "            print(f\"{name} is not a current employee.\")\n",
    "\n",
    "    def list_staff(self):\n",
    "        for member in self.__staff:\n",
    "            print(\" -\", member)\n"
   ]
  },
  {
   "cell_type": "code",
   "execution_count": 12,
   "id": "b987a50f",
   "metadata": {},
   "outputs": [
    {
     "name": "stdout",
     "output_type": "stream",
     "text": [
      "Steve has been hired.\n",
      "Claire has been hired.\n",
      " - Bob\n",
      " - Steve\n",
      " - Claire\n",
      " - Alice\n",
      "Claire has been fired.\n",
      " - Bob\n",
      " - Steve\n",
      " - Alice\n",
      "Cannot fire founding member: Bob\n"
     ]
    }
   ],
   "source": [
    "c1 = Company(\"Alice\", \"Bob\")\n",
    "c1.hire(\"Steve\")\n",
    "c1.hire(\"Claire\")\n",
    "c1.list_staff()\n",
    "c1.fire(\"Claire\")\n",
    "c1.list_staff()\n",
    "c1.fire(\"Bob\")"
   ]
  },
  {
   "cell_type": "code",
   "execution_count": 13,
   "id": "3b9862a0",
   "metadata": {},
   "outputs": [
    {
     "name": "stdout",
     "output_type": "stream",
     "text": [
      "Zach has been hired.\n",
      " - Zach\n",
      " - Xavier\n",
      " - Yolanda\n"
     ]
    }
   ],
   "source": [
    "c2 = Company(\"Xavier\", \"Yolanda\")\n",
    "c2.hire(\"Zach\")\n",
    "c2.list_staff()"
   ]
  },
  {
   "cell_type": "code",
   "execution_count": 22,
   "id": "271c7646",
   "metadata": {},
   "outputs": [
    {
     "name": "stdout",
     "output_type": "stream",
     "text": [
      "Inside class body: John Doe 30 New York\n",
      "John Doe 30\n"
     ]
    }
   ],
   "source": [
    "name = \"Smith\"\n",
    "age = 45\n",
    "place = \"New York\"\n",
    "\n",
    "class User:\n",
    "    \"A simple User class\"\n",
    "    name = \"John Doe\" # All definitions within a class body are class attributes\n",
    "    age = 30\n",
    "    print(\"Inside class body:\", name, age, place)\n",
    "\n",
    "print(User.name, User.age)\n",
    "\n",
    "# In realistic scenarios, only definitions are placed inside class body. \n",
    "# Executable statements are placed inside methods."
   ]
  },
  {
   "cell_type": "code",
   "execution_count": 25,
   "id": "a59e9233",
   "metadata": {},
   "outputs": [
    {
     "name": "stdout",
     "output_type": "stream",
     "text": [
      "User\n",
      "__main__\n",
      "{'__module__': '__main__', '__doc__': 'A simple User class', 'name': 'John Doe', 'age': 30, '__dict__': <attribute '__dict__' of 'User' objects>, '__weakref__': <attribute '__weakref__' of 'User' objects>}\n",
      "A simple User class\n",
      "<class 'type'>\n"
     ]
    }
   ],
   "source": [
    "print(User.__name__)\n",
    "print(User.__module__)\n",
    "print(User.__dict__)\n",
    "print(User.__doc__)\n",
    "print(User.__class__)"
   ]
  },
  {
   "cell_type": "markdown",
   "id": "34ced04a",
   "metadata": {},
   "source": [
    "NOTE: All \"classes\" in Python are instances of \"type\". The \"type\" class is a \"meta-class\" and is used to instantiate classes (as classes in Python are also first-class callable objects).\n"
   ]
  },
  {
   "cell_type": "code",
   "execution_count": 26,
   "id": "128b2fb2",
   "metadata": {},
   "outputs": [
    {
     "name": "stdout",
     "output_type": "stream",
     "text": [
      "<class '__main__.User'> John Doe 30\n"
     ]
    }
   ],
   "source": [
    "#class User:\n",
    "#    name = \"John Doe\"\n",
    "#    age = 30\n",
    "\n",
    "User = type(\"User\", (), {\"name\": \"John Doe\", \"age\": 30})\n",
    "print(User, User.name, User.age)"
   ]
  },
  {
   "cell_type": "code",
   "execution_count": null,
   "id": "cb471427",
   "metadata": {},
   "outputs": [
    {
     "name": "stdout",
     "output_type": "stream",
     "text": [
      "<class '__main__.Car'>\n",
      "<__main__.Car object at 0x107742960> <__main__.Car object at 0x1074fe390>\n",
      "<class '__main__.Car'> <class '__main__.Car'>\n",
      "<class '__main__.Car'> <class '__main__.Car'>\n",
      "Red\n"
     ]
    }
   ],
   "source": [
    "class Car:\n",
    "    pass\n",
    "\n",
    "print(Car)\n",
    "\n",
    "c1 = Car() # Constructor expression / Instantiation\n",
    "c2 = Car()\n",
    "print(c1, c2)\n",
    "print(type(c1), type(c2))\n",
    "print(c1.__class__, c2.__class__)\n"
   ]
  },
  {
   "cell_type": "code",
   "execution_count": null,
   "id": "a5ded935",
   "metadata": {},
   "outputs": [
    {
     "name": "stdout",
     "output_type": "stream",
     "text": [
      "Red\n",
      "Red\n",
      "Red Red\n",
      "{} {}\n",
      "Red\n",
      "Red\n"
     ]
    }
   ],
   "source": [
    "\n",
    "Car.color = \"Red\" # Adding a class attribute dynamically\n",
    "print(Car.color)\n",
    "print(Car.__dict__[\"color\"])\n",
    "print(c1.color, c2.color)\n",
    "print(c1.__dict__, c2.__dict__)\n",
    "print(c1.color)\n",
    "print(c1.__dict__.get(\"color\", c1.__class__.__dict__.get(\"color\")))\n",
    "\n",
    "# Class attributes are shared and visible by default to all instances of the class."
   ]
  },
  {
   "cell_type": "code",
   "execution_count": 44,
   "id": "0f24abff",
   "metadata": {},
   "outputs": [
    {
     "name": "stdout",
     "output_type": "stream",
     "text": [
      "Blue Red Red\n",
      "{'color': 'Blue', 'name': 'Honda'} {}\n",
      "Blue\n",
      "Honda\n"
     ]
    },
    {
     "ename": "AttributeError",
     "evalue": "'Car' object has no attribute 'name'",
     "output_type": "error",
     "traceback": [
      "\u001b[0;31m---------------------------------------------------------------------------\u001b[0m",
      "\u001b[0;31mAttributeError\u001b[0m                            Traceback (most recent call last)",
      "Cell \u001b[0;32mIn[44], line 10\u001b[0m\n\u001b[1;32m      8\u001b[0m c1\u001b[38;5;241m.\u001b[39mname \u001b[38;5;241m=\u001b[39m \u001b[38;5;124m\"\u001b[39m\u001b[38;5;124mHonda\u001b[39m\u001b[38;5;124m\"\u001b[39m\n\u001b[1;32m      9\u001b[0m \u001b[38;5;28mprint\u001b[39m(c1\u001b[38;5;241m.\u001b[39mname)\n\u001b[0;32m---> 10\u001b[0m \u001b[38;5;28mprint\u001b[39m(c2\u001b[38;5;241m.\u001b[39mname)\n",
      "\u001b[0;31mAttributeError\u001b[0m: 'Car' object has no attribute 'name'"
     ]
    }
   ],
   "source": [
    "c1.color = \"Blue\" # Adding an instance attribute dynamically\n",
    "print(c1.color, c2.color, Car.color)\n",
    "print(c1.__dict__, c2.__dict__)\n",
    "print(c1.__dict__.get(\"color\", c1.__class__.__dict__.get(\"color\")))\n",
    "\n",
    "# Instance attributes are specific to the instance and override class attributes of the same name.\n",
    "\n",
    "c1.name = \"Honda\"\n",
    "print(c1.name)\n",
    "print(c2.name)"
   ]
  },
  {
   "cell_type": "code",
   "execution_count": 51,
   "id": "6b8f059d",
   "metadata": {},
   "outputs": [
    {
     "name": "stdout",
     "output_type": "stream",
     "text": [
      "Honda Toyota\n",
      "Driving Honda\n",
      "Driving Toyota\n",
      "Driving Honda\n",
      "Driving Toyota\n",
      "<function drive_car at 0x121913c40> <function drive_car at 0x121913c40>\n",
      "Driving Honda\n",
      "Driving Toyota\n",
      "<bound method drive_car of <__main__.Car object at 0x1077413a0>> <bound method drive_car of <__main__.Car object at 0x1069b3620>>\n"
     ]
    }
   ],
   "source": [
    "class Car: pass\n",
    "\n",
    "c1 = Car()\n",
    "c2 = Car()\n",
    "\n",
    "c1.name = \"Honda\"\n",
    "c2.name = \"Toyota\"\n",
    "print(c1.name, c2.name)\n",
    "\n",
    "def drive_car(car):\n",
    "    print(f\"Driving {car.name}\")\n",
    "\n",
    "drive_car(c1)\n",
    "drive_car(c2)\n",
    "\n",
    "Car.drive = drive_car # Assigning a function as a class attribute\n",
    "# When a function is assigned as a class attribute, it is transformed to a instance method.\n",
    "Car.drive(c1)\n",
    "Car.drive(c2)\n",
    "print(drive_car, Car.drive)\n",
    "c1.drive()\n",
    "c2.drive()\n",
    "print(c1.drive, c2.drive)\n",
    "\n",
    "# In order to make a function, an instance method, it must accept the instance as the first argument."
   ]
  },
  {
   "cell_type": "code",
   "execution_count": 54,
   "id": "7cc10520",
   "metadata": {},
   "outputs": [
    {
     "name": "stdout",
     "output_type": "stream",
     "text": [
      "Started the car...\n"
     ]
    },
    {
     "ename": "TypeError",
     "evalue": "start() takes 0 positional arguments but 1 was given",
     "output_type": "error",
     "traceback": [
      "\u001b[0;31m---------------------------------------------------------------------------\u001b[0m",
      "\u001b[0;31mTypeError\u001b[0m                                 Traceback (most recent call last)",
      "Cell \u001b[0;32mIn[54], line 10\u001b[0m\n\u001b[1;32m      7\u001b[0m Car\u001b[38;5;241m.\u001b[39mstart()\n\u001b[1;32m      9\u001b[0m c1 \u001b[38;5;241m=\u001b[39m Car()\n\u001b[0;32m---> 10\u001b[0m c1\u001b[38;5;241m.\u001b[39mstart()\n",
      "\u001b[0;31mTypeError\u001b[0m: start() takes 0 positional arguments but 1 was given"
     ]
    }
   ],
   "source": [
    "class Car: pass\n",
    "\n",
    "def start():\n",
    "    print(\"Started the car...\")\n",
    "\n",
    "Car.start = start\n",
    "Car.start()\n",
    "\n",
    "c1 = Car()\n",
    "c1.start() # Car.start(c1)\n",
    "\n",
    "# As mentioned earlier, when a function is assigned as a class attribute, it is transformed to a instance method.\n",
    "# Hence, it must accept the instance as the first argument."
   ]
  },
  {
   "cell_type": "code",
   "execution_count": 56,
   "id": "3de40292",
   "metadata": {},
   "outputs": [
    {
     "name": "stdout",
     "output_type": "stream",
     "text": [
      "Driving Honda\n"
     ]
    },
    {
     "ename": "AttributeError",
     "evalue": "'Car' object has no attribute 'name'",
     "output_type": "error",
     "traceback": [
      "\u001b[0;31m---------------------------------------------------------------------------\u001b[0m",
      "\u001b[0;31mAttributeError\u001b[0m                            Traceback (most recent call last)",
      "Cell \u001b[0;32mIn[56], line 11\u001b[0m\n\u001b[1;32m      8\u001b[0m c1\u001b[38;5;241m.\u001b[39mname \u001b[38;5;241m=\u001b[39m \u001b[38;5;124m\"\u001b[39m\u001b[38;5;124mHonda\u001b[39m\u001b[38;5;124m\"\u001b[39m\n\u001b[1;32m      9\u001b[0m c1\u001b[38;5;241m.\u001b[39mdrive()\n\u001b[0;32m---> 11\u001b[0m c2\u001b[38;5;241m.\u001b[39mdrive()\n",
      "Cell \u001b[0;32mIn[56], line 3\u001b[0m, in \u001b[0;36mCar.drive\u001b[0;34m(self)\u001b[0m\n\u001b[1;32m      2\u001b[0m \u001b[38;5;28;01mdef\u001b[39;00m \u001b[38;5;21mdrive\u001b[39m(\u001b[38;5;28mself\u001b[39m):  \u001b[38;5;66;03m# All function definitions within a class body are instance methods\u001b[39;00m\n\u001b[0;32m----> 3\u001b[0m     \u001b[38;5;28mprint\u001b[39m(\u001b[38;5;124mf\u001b[39m\u001b[38;5;124m\"\u001b[39m\u001b[38;5;124mDriving \u001b[39m\u001b[38;5;132;01m{\u001b[39;00m\u001b[38;5;28mself\u001b[39m\u001b[38;5;241m.\u001b[39mname\u001b[38;5;132;01m}\u001b[39;00m\u001b[38;5;124m\"\u001b[39m)\n",
      "\u001b[0;31mAttributeError\u001b[0m: 'Car' object has no attribute 'name'"
     ]
    }
   ],
   "source": [
    "class Car:\n",
    "    def drive(self):  # All function definitions within a class body are instance methods\n",
    "        print(f\"Driving {self.name}\")\n",
    "\n",
    "c1 = Car()\n",
    "c2 = Car()\n",
    "\n",
    "c1.name = \"Honda\"\n",
    "c1.drive()\n",
    "\n",
    "c2.drive()"
   ]
  },
  {
   "cell_type": "code",
   "execution_count": null,
   "id": "2aac576b",
   "metadata": {},
   "outputs": [],
   "source": [
    "class Car:\n",
    "    def __init__(self, name): # special method that is automatically invoked during instantiation\n",
    "        print(f\"Car instance {self} is being initialized\")\n",
    "        self.name = name\n",
    "\n",
    "    def drive(self):\n",
    "        print(f\"Driving {self.name}\")\n",
    "\n",
    "# The primarly purpose of __init__ is to initialize instance attributes."
   ]
  },
  {
   "cell_type": "code",
   "execution_count": 62,
   "id": "55831a79",
   "metadata": {},
   "outputs": [
    {
     "name": "stdout",
     "output_type": "stream",
     "text": [
      "Car instance <__main__.Car object at 0x1173fa8a0> is being initialized\n",
      "<__main__.Car object at 0x1173fa8a0>\n",
      "Driving Honda\n",
      "Car instance <__main__.Car object at 0x1173fa1b0> is being initialized\n",
      "<__main__.Car object at 0x1173fa1b0>\n",
      "Driving Toyota\n"
     ]
    }
   ],
   "source": [
    "c1 = Car(\"Honda\")\n",
    "print(c1)\n",
    "c1.drive()\n",
    "\n",
    "c2 = Car(\"Toyota\")\n",
    "print(c2)\n",
    "c2.drive()"
   ]
  },
  {
   "cell_type": "markdown",
   "id": "d016695e",
   "metadata": {},
   "source": [
    "#### Summary of concepts related classes and objects\n",
    "1. All classes are callable instances of \"type\"\n",
    "2. Calling a class with the () operator, constructs a new object of that class (instantiation)\n",
    "3. All definitions within a class body are treated as class attributes\n",
    "4. All instances of a class by default inherit their class attributes\n",
    "5. All functions defined within a class act as instance methods\n",
    "6. All instance methods take their first argument as instances on which they operate\n",
    "7. Class / Instance attributes do not participate in scope resolution of names (variables). \n",
    "   - To access attributes of instance, explicitly use `self.attribute` notation\n",
    "   "
   ]
  },
  {
   "cell_type": "markdown",
   "id": "afb22d57",
   "metadata": {},
   "source": [
    "#### Inheritance"
   ]
  },
  {
   "cell_type": "code",
   "execution_count": 65,
   "id": "658d1168",
   "metadata": {},
   "outputs": [
    {
     "name": "stdout",
     "output_type": "stream",
     "text": [
      "Car instance <__main__.SUV object at 0x1173f6e40> is being initialized\n",
      "Driving Ford\n"
     ]
    }
   ],
   "source": [
    "class Car:\n",
    "    def __init__(self, make, model, year):\n",
    "        print(\"Car instance\", self, \"is being initialized\")\n",
    "        self.make = make\n",
    "        self.model = model\n",
    "        self.year = year\n",
    "\n",
    "    def display_info(self): \n",
    "        print(f\"Car Info: {self.year} {self.make} {self.model}\")\n",
    "\n",
    "    def drive(self):\n",
    "        print(f\"Driving {self.make}\")\n",
    "\n",
    "class SUV(Car): pass # SUV is a subclass of Car\n",
    "\n",
    "s1 = SUV(\"Ford\", \"Explorer\", 2020)\n",
    "s1.drive()\n"
   ]
  },
  {
   "cell_type": "code",
   "execution_count": null,
   "id": "23916820",
   "metadata": {},
   "outputs": [
    {
     "name": "stdout",
     "output_type": "stream",
     "text": [
      "SUV.__init__ called\n"
     ]
    }
   ],
   "source": [
    "class Car:\n",
    "    def __init__(self):\n",
    "        print(\"Car.__init__ called\")\n",
    "\n",
    "class SUV(Car):\n",
    "    def __init__(self): # This method \"overrides\" the __init__ method of Car\n",
    "        print(\"SUV.__init__ called\")\n",
    "\n",
    "s1 = SUV()"
   ]
  },
  {
   "cell_type": "code",
   "execution_count": null,
   "id": "f2f8e0dc",
   "metadata": {},
   "outputs": [
    {
     "name": "stdout",
     "output_type": "stream",
     "text": [
      "Car.__init__ called\n",
      "Car.__init__ called\n",
      "Car.__init__ called\n",
      "SUV.__init__ called\n"
     ]
    }
   ],
   "source": [
    "class Car:\n",
    "    def __init__(self):\n",
    "        print(\"Car.__init__ called\")\n",
    "\n",
    "class SUV(Car):\n",
    "    def __init__(self): # This method \"extends\" the __init__ method of Car\n",
    "        super().__init__() # Valid from Python 3.3 onwards (recommended way)\n",
    "        super(SUV, self).__init__() # Valid from Python 3.0 onwards\n",
    "        Car.__init__(self) # Legacy way of invoking parent class method (Python 2.x style)\n",
    "        print(\"SUV.__init__ called\")\n",
    "\n",
    "s1 = SUV()"
   ]
  },
  {
   "cell_type": "markdown",
   "id": "90ca4826",
   "metadata": {},
   "source": [
    "The pillars of OOP:\n",
    "  - isA    -> inheritance -> generalization\n",
    "  - hasA   -> composition -> reusability\n",
    "  - usesA  -> abstraction, encapsulation and interface / contract"
   ]
  },
  {
   "cell_type": "markdown",
   "id": "86d991ec",
   "metadata": {},
   "source": [
    "What is the use of inheritance in OOP ?\n",
    "- To implement Generalization. Generalization allows \"standardized\" interface of a class to be available amongsts its sub-class hierarchy.\n"
   ]
  },
  {
   "cell_type": "code",
   "execution_count": 77,
   "id": "f54e678e",
   "metadata": {},
   "outputs": [
    {
     "name": "stdout",
     "output_type": "stream",
     "text": [
      "[22, 1, 'hello', 3, 12, 6]\n",
      "[484, 1, 0, 9, 144, 36]\n"
     ]
    }
   ],
   "source": [
    "def square(x):\n",
    "    return x * x\n",
    "\n",
    "\n",
    "\n",
    "\n",
    "def apply(fn, data, default=0):\n",
    "    result = []\n",
    "    for item in data:\n",
    "        \n",
    "        if type(item) not in (int, float):\n",
    "            r = default\n",
    "        else:\n",
    "            r = fn(item)\n",
    "        \n",
    "        result.append(r)\n",
    "    return result\n",
    "\n",
    "nums = [22, 1, \"hello\", 3, 12, 6]\n",
    "squares = apply(square, nums)\n",
    "print(nums)\n",
    "print(squares)\n",
    "\n"
   ]
  },
  {
   "cell_type": "code",
   "execution_count": 78,
   "id": "5f21d813",
   "metadata": {},
   "outputs": [
    {
     "name": "stdout",
     "output_type": "stream",
     "text": [
      "[22, 1, 'hello', (3+2j), 12, 6]\n",
      "[484, 1, 0, 0, 144, 36]\n"
     ]
    }
   ],
   "source": [
    "def square(x):\n",
    "    return x * x\n",
    "\n",
    "\n",
    "\n",
    "\n",
    "def apply(fn, data, default=0):\n",
    "    result = []\n",
    "    for item in data:\n",
    "        \n",
    "        if type(item) not in (int, float):\n",
    "            r = default\n",
    "        else:\n",
    "            r = fn(item)\n",
    "        \n",
    "        result.append(r)\n",
    "    return result\n",
    "\n",
    "nums = [22, 1, \"hello\", 3+2j, 12, 6]\n",
    "squares = apply(square, nums)\n",
    "print(nums)\n",
    "print(squares)\n",
    "\n"
   ]
  },
  {
   "cell_type": "code",
   "execution_count": 87,
   "id": "cc5e2f27",
   "metadata": {},
   "outputs": [
    {
     "name": "stdout",
     "output_type": "stream",
     "text": [
      "[22, 1, 'hello', (3+2j), 12, 6]\n",
      "[484, 1, 0, (5+12j), 144, 36]\n"
     ]
    },
    {
     "ename": "AttributeError",
     "evalue": "'int' object has no attribute 'upper'",
     "output_type": "error",
     "traceback": [
      "\u001b[0;31m---------------------------------------------------------------------------\u001b[0m",
      "\u001b[0;31mAttributeError\u001b[0m                            Traceback (most recent call last)",
      "Cell \u001b[0;32mIn[87], line 27\u001b[0m\n\u001b[1;32m     24\u001b[0m     \u001b[38;5;28;01mreturn\u001b[39;00m n\u001b[38;5;241m.\u001b[39mupper()\n\u001b[1;32m     26\u001b[0m users \u001b[38;5;241m=\u001b[39m \u001b[38;5;124m\"\u001b[39m\u001b[38;5;124mjohn\u001b[39m\u001b[38;5;124m\"\u001b[39m, \u001b[38;5;124m\"\u001b[39m\u001b[38;5;124msam\u001b[39m\u001b[38;5;124m\"\u001b[39m, \u001b[38;5;124m\"\u001b[39m\u001b[38;5;124malice\u001b[39m\u001b[38;5;124m\"\u001b[39m, \u001b[38;5;241m123\u001b[39m, \u001b[38;5;124m\"\u001b[39m\u001b[38;5;124mBourne\u001b[39m\u001b[38;5;124m\"\u001b[39m, \u001b[38;5;241m5.6\u001b[39m\n\u001b[0;32m---> 27\u001b[0m uppers \u001b[38;5;241m=\u001b[39m apply(to_upper, users, default\u001b[38;5;241m=\u001b[39m\u001b[38;5;124m\"\u001b[39m\u001b[38;5;124mN/A\u001b[39m\u001b[38;5;124m\"\u001b[39m)\n\u001b[1;32m     28\u001b[0m \u001b[38;5;28mprint\u001b[39m(users)\n\u001b[1;32m     29\u001b[0m \u001b[38;5;28mprint\u001b[39m(uppers)\n",
      "Cell \u001b[0;32mIn[87], line 11\u001b[0m, in \u001b[0;36mapply\u001b[0;34m(fn, data, default)\u001b[0m\n\u001b[1;32m      8\u001b[0m \u001b[38;5;28;01mfor\u001b[39;00m item \u001b[38;5;129;01min\u001b[39;00m data:\n\u001b[1;32m     10\u001b[0m     \u001b[38;5;28;01mif\u001b[39;00m \u001b[38;5;28misinstance\u001b[39m(item, Number):\n\u001b[0;32m---> 11\u001b[0m         r \u001b[38;5;241m=\u001b[39m fn(item)\n\u001b[1;32m     12\u001b[0m     \u001b[38;5;28;01melse\u001b[39;00m:\n\u001b[1;32m     13\u001b[0m         r \u001b[38;5;241m=\u001b[39m default\n",
      "Cell \u001b[0;32mIn[87], line 24\u001b[0m, in \u001b[0;36mto_upper\u001b[0;34m(n)\u001b[0m\n\u001b[1;32m     23\u001b[0m \u001b[38;5;28;01mdef\u001b[39;00m \u001b[38;5;21mto_upper\u001b[39m(n):\n\u001b[0;32m---> 24\u001b[0m     \u001b[38;5;28;01mreturn\u001b[39;00m n\u001b[38;5;241m.\u001b[39mupper()\n",
      "\u001b[0;31mAttributeError\u001b[0m: 'int' object has no attribute 'upper'"
     ]
    }
   ],
   "source": [
    "def square(x):\n",
    "    return x * x\n",
    "\n",
    "# Using \"generalization\" approach\n",
    "def apply(fn, data, default=0):\n",
    "    from numbers import Number\n",
    "    result = []\n",
    "    for item in data:\n",
    "\n",
    "        if isinstance(item, Number):\n",
    "            r = fn(item)\n",
    "        else:\n",
    "            r = default\n",
    "        \n",
    "        result.append(r)\n",
    "    return result\n",
    "\n",
    "nums = [22, 1, \"hello\", 3+2j, 12, 6]\n",
    "squares = apply(square, nums)\n",
    "print(nums)\n",
    "print(squares)\n",
    "\n",
    "def to_upper(n):\n",
    "    return n.upper()\n",
    "\n",
    "users = \"john\", \"sam\", \"alice\", 123, \"Bourne\", 5.6\n",
    "uppers = apply(to_upper, users, default=\"N/A\")\n",
    "print(users)\n",
    "print(uppers)\n"
   ]
  },
  {
   "cell_type": "code",
   "execution_count": null,
   "id": "cb8bb17c",
   "metadata": {},
   "outputs": [
    {
     "name": "stdout",
     "output_type": "stream",
     "text": [
      "True\n",
      "False\n",
      "True\n",
      "True\n",
      "True\n",
      "False\n"
     ]
    }
   ],
   "source": [
    "class Person: pass\n",
    "class Student(Person): pass\n",
    "class Employee(Person): pass\n",
    "class Manager(Employee): pass\n",
    "\n",
    "m = Manager()\n",
    "print(type(m) is Manager)\n",
    "print(type(m) is Employee)\n",
    "\n",
    "print(isinstance(m, Manager)) # LSP -> Liskov Substitution Principle\n",
    "print(isinstance(m, Employee))\n",
    "print(isinstance(m, Person))\n",
    "print(isinstance(m, Student))\n"
   ]
  },
  {
   "cell_type": "code",
   "execution_count": null,
   "id": "ef0edb45",
   "metadata": {},
   "outputs": [
    {
     "name": "stdout",
     "output_type": "stream",
     "text": [
      "[22, 1, 'hello', (3+2j), 12, 6]\n",
      "[484, 1, 0, (5+12j), 144, 36]\n",
      "('john', 'sam', 'alice', 123, 'Bourne', 5.6)\n",
      "['JOHN', 'SAM', 'ALICE', 'N/A', 'BOURNE', 'N/A']\n"
     ]
    }
   ],
   "source": [
    "# Duck-Typing - coined by Alex Martelli\n",
    "# \"If it looks like a duck and quacks like a duck, it's a duck\"\n",
    "\n",
    "def square(x):\n",
    "    return x * x\n",
    "\n",
    "def apply(fn, data, default=0):\n",
    "    result = []\n",
    "    for item in data:\n",
    "        try:    # Using Duck-Typing approach\n",
    "            r = fn(item)\n",
    "        except:\n",
    "            r = default\n",
    "        result.append(r)\n",
    "    return result\n",
    "\n",
    "nums = [22, 1, \"hello\", 3+2j, 12, 6]\n",
    "squares = apply(square, nums)\n",
    "print(nums)\n",
    "print(squares)\n",
    "\n",
    "\n",
    "users = \"john\", \"sam\", \"alice\", 123, \"Bourne\", 5.6\n",
    "uppers = apply(to_upper, users, default=\"N/A\")\n",
    "print(users)\n",
    "print(uppers)\n",
    "\n",
    "# Duck-Typing is a more \"Pythonic\" way of achieving generalization\n",
    "# It is more flexible and less restrictive than traditional type-checking approaches.\n",
    "# Duck-Typing focuses on the behavior of objects rather than their specific types.\n",
    "# Duck-Typing is based on the idiom: \"I dont care about who you are! But rather what you are capable of doing !\"\n"
   ]
  },
  {
   "cell_type": "markdown",
   "id": "be429d3a",
   "metadata": {},
   "source": [
    "NOTE: Python supports multiple inheritance!\n"
   ]
  },
  {
   "cell_type": "code",
   "execution_count": null,
   "id": "c990a46a",
   "metadata": {},
   "outputs": [],
   "source": [
    "class HTTPServer: pass\n",
    "class SMTPServer: pass\n",
    "\n",
    "class TLS: pass # Mixin class - provides TLS capabilities to other classes, generally non-instantiable\n",
    "\n",
    "class HTTPSServer(TLS, HTTPServer): pass\n",
    "\n",
    "class ESMTPServer(TLS, SMTPServer): pass\n",
    "\n",
    "# In multiple inheritance design, the order of base classes matters.\n",
    "# It is a good practice to place mixin classes first in the base class list\n"
   ]
  },
  {
   "cell_type": "code",
   "execution_count": 95,
   "id": "9e8c061c",
   "metadata": {},
   "outputs": [
    {
     "name": "stdout",
     "output_type": "stream",
     "text": [
      "Music player reset\n"
     ]
    }
   ],
   "source": [
    "\n",
    "\n",
    "class ElectronicDeviceMixin(Resettable):\n",
    "    def power_on(self):\n",
    "        print(f\"{self} is powered ON\")\n",
    "    \n",
    "    def power_off(self):\n",
    "        print(f\"{self} is powered OFF\")\n",
    "\n",
    "    def reset(self):\n",
    "        print(\"Electronic device reset\")\n",
    "\n",
    "class MusicPlayer:\n",
    "    def play_music(self):\n",
    "        print(f\"{self} is playing music\")\n",
    "\n",
    "    def reset(self):\n",
    "        print(\"Music player reset\")\n",
    "\n",
    "class MP3Player(ElectronicDeviceMixin, MusicPlayer):\n",
    "    def reset(self):\n",
    "        MusicPlayer.reset(self)\n",
    "\n",
    "m = MP3Player()\n",
    "#m.power_on()\n",
    "#m.play_music()\n",
    "#m.power_off()\n",
    "m.reset()"
   ]
  },
  {
   "cell_type": "markdown",
   "id": "675fdcde",
   "metadata": {},
   "source": [
    "#### Special methods a.k.a \"dunder-methods\" / Data Model Methods (magic methods)"
   ]
  },
  {
   "cell_type": "markdown",
   "id": "9c00f234",
   "metadata": {},
   "source": [
    "##### Object life-cycle methods\n",
    "  - __new__ (class method)\n",
    "  - __init__\n",
    "  - __del__ (not recommended to be used)"
   ]
  },
  {
   "cell_type": "code",
   "execution_count": null,
   "id": "0940f987",
   "metadata": {},
   "outputs": [
    {
     "name": "stdout",
     "output_type": "stream",
     "text": [
      "0\n",
      "1 1 1\n"
     ]
    }
   ],
   "source": [
    "# Class Methods\n",
    "\n",
    "class User:\n",
    "    count = 0  # Class attribute\n",
    "\n",
    "    def __init__(self, name, role):\n",
    "        self.count += 1  # self.count = self.count + 1\n",
    "        self.name = name\n",
    "        self.role = role\n",
    "\n",
    "u1 = User(\"Alice\", \"Admin\")\n",
    "u2 = User(\"Bob\", \"User\")\n",
    "u3 = User(\"Charlie\", \"User\")\n",
    "print(User.count)\n",
    "print(u1.count, u2.count, u3.count)"
   ]
  },
  {
   "cell_type": "code",
   "execution_count": 104,
   "id": "0b4ce28c",
   "metadata": {},
   "outputs": [
    {
     "name": "stdout",
     "output_type": "stream",
     "text": [
      "3\n",
      "3 3 3\n"
     ]
    }
   ],
   "source": [
    "# Class Methods\n",
    "\n",
    "class User:\n",
    "    count = 0  # Class attribute\n",
    "\n",
    "    def __init__(self, name, role):\n",
    "        #User.count += 1\n",
    "        type(self).count += 1\n",
    "        self.name = name\n",
    "        self.role = role\n",
    "\n",
    "u1 = User(\"Alice\", \"Admin\")\n",
    "u2 = User(\"Bob\", \"User\")\n",
    "u3 = User(\"Charlie\", \"User\")\n",
    "print(User.count)\n",
    "print(u1.count, u2.count, u3.count)"
   ]
  },
  {
   "cell_type": "code",
   "execution_count": 108,
   "id": "0e62b674",
   "metadata": {},
   "outputs": [
    {
     "name": "stdout",
     "output_type": "stream",
     "text": [
      "In inc_count: cls = <class '__main__.User'>\n",
      "In inc_count: cls = <class '__main__.User'>\n",
      "In inc_count: cls = <class '__main__.User'>\n",
      "3\n",
      "3 3 3\n",
      "In inc_count: cls = <class '__main__.User'>\n"
     ]
    }
   ],
   "source": [
    "# Class Methods\n",
    "\n",
    "class User:\n",
    "    count = 0  # Class attribute\n",
    "\n",
    "    @classmethod\n",
    "    def inc_count(cls):\n",
    "        print(\"In inc_count: cls =\", cls)\n",
    "        cls.count += 1 \n",
    "\n",
    "    def __init__(self, name, role):\n",
    "        self.inc_count()\n",
    "        self.name = name\n",
    "        self.role = role\n",
    "\n",
    "u1 = User(\"Alice\", \"Admin\")\n",
    "u2 = User(\"Bob\", \"User\")\n",
    "u3 = User(\"Charlie\", \"User\")\n",
    "print(User.count)\n",
    "print(u1.count, u2.count, u3.count)\n",
    "\n",
    "u1.inc_count()"
   ]
  },
  {
   "cell_type": "code",
   "execution_count": 114,
   "id": "a912abbe",
   "metadata": {},
   "outputs": [
    {
     "name": "stdout",
     "output_type": "stream",
     "text": [
      "greet: cls = <class '__main__.User'>\n",
      "greet: cls = <class '__main__.User'>\n"
     ]
    }
   ],
   "source": [
    "class User:\n",
    "\n",
    "    @classmethod\n",
    "    def greet(cls):\n",
    "        print(\"greet: cls =\", cls)\n",
    "\n",
    "u = User()\n",
    "u.greet()\n",
    "User.greet()"
   ]
  },
  {
   "cell_type": "code",
   "execution_count": null,
   "id": "889633be",
   "metadata": {},
   "outputs": [
    {
     "name": "stdout",
     "output_type": "stream",
     "text": [
      "An admin instance created\n",
      "A staff instance is created\n",
      "A Guest instance is created\n",
      "<__main__.Admin object at 0x1174093a0>\n",
      "<__main__.Staff object at 0x117402600>\n",
      "<__main__.Guest object at 0x117403710>\n"
     ]
    }
   ],
   "source": [
    "class Admin:\n",
    "    def __init__(self, name):\n",
    "        self.name = name\n",
    "        print(\"An admin instance created\")\n",
    "\n",
    "class Staff:\n",
    "    def __init__(self, name):\n",
    "        self.name = name\n",
    "        print(\"A staff instance is created\")\n",
    "\n",
    "class Guest:\n",
    "    def __init__(self, name):\n",
    "        self.name = name\n",
    "        print(\"A Guest instance is created\")\n",
    "\n",
    "\n",
    "class User:  # An Abstract Factory Pattern\n",
    "    def __new__(cls, name):\n",
    "        if name.lower() in (\"admin\", \"root\", \"john\", \"alice\"):\n",
    "            return Admin(name)\n",
    "        elif name.lower() in (\"joe\", \"bob\", \"charlie\"):\n",
    "            return Staff(name)\n",
    "        else:\n",
    "            return Guest(name)\n",
    "        \n",
    "u1 = User(\"alice\")\n",
    "u2 = User(\"bob\")\n",
    "u3 = User(\"Floyd\")\n",
    "print(u1, u2, u3, sep=\"\\n\")\n"
   ]
  },
  {
   "cell_type": "code",
   "execution_count": 130,
   "id": "bdc1795a",
   "metadata": {},
   "outputs": [
    {
     "name": "stdout",
     "output_type": "stream",
     "text": [
      "<__main__.Admin object at 0x107750800>\n",
      "<__main__.Staff object at 0x107752810>\n",
      "<__main__.Guest object at 0x107750fe0>\n"
     ]
    },
    {
     "ename": "NotImplementedError",
     "evalue": "print_info must be implemented",
     "output_type": "error",
     "traceback": [
      "\u001b[0;31m---------------------------------------------------------------------------\u001b[0m",
      "\u001b[0;31mNotImplementedError\u001b[0m                       Traceback (most recent call last)",
      "Cell \u001b[0;32mIn[130], line 37\u001b[0m\n\u001b[1;32m     34\u001b[0m u3 \u001b[38;5;241m=\u001b[39m UserFactory(\u001b[38;5;124m\"\u001b[39m\u001b[38;5;124mFloyd\u001b[39m\u001b[38;5;124m\"\u001b[39m)\n\u001b[1;32m     35\u001b[0m \u001b[38;5;28mprint\u001b[39m(u1, u2, u3, sep\u001b[38;5;241m=\u001b[39m\u001b[38;5;124m\"\u001b[39m\u001b[38;5;130;01m\\n\u001b[39;00m\u001b[38;5;124m\"\u001b[39m)\n\u001b[0;32m---> 37\u001b[0m u2\u001b[38;5;241m.\u001b[39mprint_info()\n",
      "Cell \u001b[0;32mIn[130], line 9\u001b[0m, in \u001b[0;36mUserBase.print_info\u001b[0;34m(self)\u001b[0m\n\u001b[1;32m      8\u001b[0m \u001b[38;5;28;01mdef\u001b[39;00m \u001b[38;5;21mprint_info\u001b[39m(\u001b[38;5;28mself\u001b[39m):\n\u001b[0;32m----> 9\u001b[0m     \u001b[38;5;28;01mraise\u001b[39;00m \u001b[38;5;167;01mNotImplementedError\u001b[39;00m(\u001b[38;5;124m\"\u001b[39m\u001b[38;5;124mprint_info must be implemented\u001b[39m\u001b[38;5;124m\"\u001b[39m)\n",
      "\u001b[0;31mNotImplementedError\u001b[0m: print_info must be implemented"
     ]
    }
   ],
   "source": [
    "#from abc import abstractmethod\n",
    "\n",
    "class UserBase:\n",
    "    def __init__(self, name):\n",
    "        self.name = name\n",
    "\n",
    "    #@abstractmethod\n",
    "    def print_info(self):\n",
    "        raise NotImplementedError(\"print_info must be implemented\")\n",
    "\n",
    "class Admin(UserBase):\n",
    "    def print_info(self):\n",
    "        print(f\"{self.name} is an Administrator\")\n",
    "\n",
    "class Staff(UserBase):\n",
    "    pass\n",
    "\n",
    "class Guest(UserBase):\n",
    "    def print_info(self):\n",
    "        print(f\"{self.name} is a Guest\")\n",
    "        \n",
    "\n",
    "class UserFactory:  # An Abstract Factory Pattern\n",
    "    def __new__(cls, name):\n",
    "        if name.lower() in (\"admin\", \"root\", \"john\", \"alice\"):\n",
    "            return Admin(name)\n",
    "        elif name.lower() in (\"joe\", \"bob\", \"charlie\"):\n",
    "            return Staff(name)\n",
    "        else:\n",
    "            return Guest(name)\n",
    "        \n",
    "u1 = UserFactory(\"alice\")\n",
    "u2 = UserFactory(\"bob\")\n",
    "u3 = UserFactory(\"Floyd\")\n",
    "print(u1, u2, u3, sep=\"\\n\")\n",
    "\n",
    "u2.print_info()\n"
   ]
  },
  {
   "cell_type": "code",
   "execution_count": 133,
   "id": "7357ee98",
   "metadata": {},
   "outputs": [
    {
     "name": "stdout",
     "output_type": "stream",
     "text": [
      "__new__ invoked: obj = <__main__.User object at 0x1219e6360>\n",
      "__init__ invoked: self= <__main__.User object at 0x1219e6360>\n"
     ]
    }
   ],
   "source": [
    "class User:\n",
    "    def __new__(cls):\n",
    "        obj = super().__new__(cls)\n",
    "        print(\"__new__ invoked: obj =\", obj)\n",
    "        return obj\n",
    "    \n",
    "    def __init__(self):\n",
    "        print(\"__init__ invoked: self=\", self)\n",
    "        return None\n",
    "    \n",
    "u = User()"
   ]
  },
  {
   "cell_type": "code",
   "execution_count": 134,
   "id": "21a931c4",
   "metadata": {},
   "outputs": [
    {
     "name": "stdout",
     "output_type": "stream",
     "text": [
      "__new__ invoked: obj = <__main__.User object at 0x1219e4c80>\n",
      "__init__ invoked: self= <__main__.User object at 0x1219e4c80>\n"
     ]
    }
   ],
   "source": [
    "class User:\n",
    "    def __new__(cls):\n",
    "        obj = super().__new__(cls)\n",
    "        print(\"__new__ invoked: obj =\", obj)\n",
    "        return obj\n",
    "    \n",
    "    def __init__(self):\n",
    "        print(\"__init__ invoked: self=\", self)\n",
    "        \n",
    "    def __del__(self):\n",
    "        print(\"__del__ method invoked on\", self)\n",
    "    \n",
    "u = User()"
   ]
  },
  {
   "cell_type": "code",
   "execution_count": 136,
   "id": "ba96b61d",
   "metadata": {},
   "outputs": [],
   "source": [
    "del u"
   ]
  },
  {
   "cell_type": "code",
   "execution_count": null,
   "id": "9b30b5fb",
   "metadata": {},
   "outputs": [
    {
     "name": "stdout",
     "output_type": "stream",
     "text": [
      "Driving a Maruti Suzuki\n"
     ]
    }
   ],
   "source": [
    "class Car:\n",
    "    def __init__(self, make):\n",
    "        self.make = make\n",
    "\n",
    "    def drive(self):\n",
    "        print(f\"Driving a {self.make}\")\n",
    "\n",
    "    def __add__(self, other):  # self is left operand, other is right operand\n",
    "        return Car(self.make + \" \" + other.make)\n",
    "\n",
    "c1 = Car(\"Maruti\")\n",
    "c2 = Car(\"Suzuki\")\n",
    "c3 = c1 + c2 # c1.__add__(c2) -> Car.__add__(c1, c2)\n",
    "c3.drive()"
   ]
  },
  {
   "cell_type": "code",
   "execution_count": null,
   "id": "204b9b34",
   "metadata": {},
   "outputs": [],
   "source": [
    "# %load https://tinyurl.com/fract-ex\n",
    "\"\"\"\n",
    "Implement the Fraction class below passing all\n",
    "the test cases in the doc-tests.\n",
    "\n",
    "    >>> a = Fraction(1, 2)\n",
    "    >>> b = Fraction(\"1/4\")\n",
    "    >>> print(a)\n",
    "    1/2\n",
    "    >>> print(b)\n",
    "    1/4\n",
    "    >>> print(a + b)\n",
    "    3/4\n",
    "    >>> print(a - b)\n",
    "    1/4\n",
    "    >>> print(a * b)\n",
    "    1/8\n",
    "    >>> print(a / b)\n",
    "    2/1\n",
    "    >>> float(a)\n",
    "    0.5\n",
    "    >>> float(b)\n",
    "    0.25\n",
    "    >>> c = Fraction(33, 99)\n",
    "    >>> print(c)\n",
    "    1/3\n",
    "    \n",
    "\"\"\"\n",
    "class Fraction:\n",
    "    \"\"\"\n",
    "    This class implements fractional numbers.\n",
    "    If instantiated with two arguments in the constructor\n",
    "    expression, each argument must be an integer representing\n",
    "    the numerator and the denominator. If the constructor\n",
    "    expession is passed with single argument, then the argument\n",
    "    must be a string of the form \"n/d\" when n represents numerator\n",
    "    and d represents denominator.\n",
    "\n",
    "    For example:  \n",
    "        >>> a = Fraction(1, 2) # Create a fraction 1/2\n",
    "        >>> b = Fraction(\"1/4\") # Create a fraction 1/4\n",
    "        >>> c = a + b   # Add the two fractions\n",
    "        >>> print(c)    # Print the string representation of c\n",
    "        3/4\n",
    "        >>> a > b\n",
    "        True\n",
    "        >>> c == b\n",
    "        False\n",
    "\n",
    "\n",
    "    \"\"\"\n",
    "    pass\n",
    "\n",
    "if __name__ == '__main__':\n",
    "    import doctest\n",
    "    doctest.testmod()\n",
    "\n"
   ]
  },
  {
   "cell_type": "code",
   "execution_count": 146,
   "id": "1aceee62",
   "metadata": {},
   "outputs": [
    {
     "name": "stdout",
     "output_type": "stream",
     "text": [
      "User(name='Alice') User(name='Bob')\n"
     ]
    },
    {
     "data": {
      "text/plain": [
       "User(name='Alice')"
      ]
     },
     "execution_count": 146,
     "metadata": {},
     "output_type": "execute_result"
    }
   ],
   "source": [
    "class User:\n",
    "    def __init__(self, name):\n",
    "        self.name = name\n",
    "\n",
    "    #def __str__(self):\n",
    "    #    return f\"<User: name='{self.name}'>\"\n",
    "\n",
    "    def __repr__(self):\n",
    "        return f\"User(name='{self.name}')\"\n",
    "\n",
    "u1 = User(\"Alice\")\n",
    "u2 = User(\"Bob\")\n",
    "\n",
    "print(u1, u2)\n",
    "str(u1)\n",
    "u1"
   ]
  },
  {
   "cell_type": "code",
   "execution_count": 151,
   "id": "c6966da8",
   "metadata": {},
   "outputs": [
    {
     "name": "stdout",
     "output_type": "stream",
     "text": [
      "sensor-1 45 13.2\n",
      "False\n"
     ]
    }
   ],
   "source": [
    "class Stats:\n",
    "    def __init__(self, device, temperature, humidity):\n",
    "        self.device, self.temperature, self.humidity = device, temperature, humidity\n",
    "\n",
    "    def __str__(self):\n",
    "        return self.device\n",
    "    \n",
    "    def __int__(self):\n",
    "        return self.humidity\n",
    "    \n",
    "    def __float__(self):\n",
    "        return self.temperature\n",
    "    \n",
    "    def __bool__(self):\n",
    "        return self.temperature > 20\n",
    "\n",
    "s = Stats(\"sensor-1\", 13.2, 45)\n",
    "\n",
    "print(s, int(s), float(s))\n",
    "print(bool(s))\n"
   ]
  },
  {
   "cell_type": "code",
   "execution_count": null,
   "id": "36fe57c0",
   "metadata": {},
   "outputs": [
    {
     "name": "stdout",
     "output_type": "stream",
     "text": [
      "__getitem__ invoked: idx = sdffs\n"
     ]
    }
   ],
   "source": [
    "class Squares:\n",
    "    def __init__(self, limit):\n",
    "        self.__limit = limit\n",
    "\n",
    "    def __len__(self):\n",
    "        return self.__limit\n",
    "    \n",
    "    def __getitem__(self, idx):\n",
    "        print(\"__getitem__ invoked: idx =\", idx)\n",
    "\n",
    "\n",
    "s = Squares(12)\n",
    "len(s) # s.__len__()\n",
    "\n",
    "s[10] # s.__getitem__(10) -> Squares.__getitem__(s, 10)"
   ]
  },
  {
   "cell_type": "code",
   "execution_count": 161,
   "id": "65ef210c",
   "metadata": {},
   "outputs": [
    {
     "ename": "IndexError",
     "evalue": "90",
     "output_type": "error",
     "traceback": [
      "\u001b[0;31m---------------------------------------------------------------------------\u001b[0m",
      "\u001b[0;31mIndexError\u001b[0m                                Traceback (most recent call last)",
      "Cell \u001b[0;32mIn[161], line 16\u001b[0m\n\u001b[1;32m     12\u001b[0m             \u001b[38;5;28;01mraise\u001b[39;00m \u001b[38;5;167;01mIndexError\u001b[39;00m(\u001b[38;5;28mstr\u001b[39m(idx))\n\u001b[1;32m     15\u001b[0m s \u001b[38;5;241m=\u001b[39m Squares(\u001b[38;5;241m12\u001b[39m)\n\u001b[0;32m---> 16\u001b[0m s[\u001b[38;5;241m90\u001b[39m]\n",
      "Cell \u001b[0;32mIn[161], line 12\u001b[0m, in \u001b[0;36mSquares.__getitem__\u001b[0;34m(self, idx)\u001b[0m\n\u001b[1;32m     10\u001b[0m     \u001b[38;5;28;01mreturn\u001b[39;00m idx \u001b[38;5;241m*\u001b[39m idx\n\u001b[1;32m     11\u001b[0m \u001b[38;5;28;01melse\u001b[39;00m:\n\u001b[0;32m---> 12\u001b[0m     \u001b[38;5;28;01mraise\u001b[39;00m \u001b[38;5;167;01mIndexError\u001b[39;00m(\u001b[38;5;28mstr\u001b[39m(idx))\n",
      "\u001b[0;31mIndexError\u001b[0m: 90"
     ]
    }
   ],
   "source": [
    "class Squares:\n",
    "    def __init__(self, limit):\n",
    "        self.__limit = limit\n",
    "\n",
    "    def __len__(self):\n",
    "        return self.__limit\n",
    "    \n",
    "    def __getitem__(self, idx):\n",
    "        if 0 <= idx < len(self):\n",
    "            return idx * idx\n",
    "        else:\n",
    "            raise IndexError(str(idx))\n",
    "\n",
    "\n",
    "s = Squares(12)\n",
    "s[90]"
   ]
  },
  {
   "cell_type": "code",
   "execution_count": 162,
   "id": "6869471c",
   "metadata": {},
   "outputs": [
    {
     "name": "stdout",
     "output_type": "stream",
     "text": [
      "0\n",
      "1\n",
      "4\n",
      "9\n",
      "16\n",
      "25\n",
      "36\n",
      "49\n",
      "64\n",
      "81\n",
      "100\n",
      "121\n"
     ]
    }
   ],
   "source": [
    "class Squares:\n",
    "    def __init__(self, limit):\n",
    "        self.__limit = limit\n",
    "\n",
    "    def __len__(self):\n",
    "        return self.__limit\n",
    "    \n",
    "    def __getitem__(self, idx):\n",
    "        if 0 <= idx < len(self):\n",
    "            return idx * idx\n",
    "        else:\n",
    "            raise IndexError(str(idx))\n",
    "\n",
    "\n",
    "s = Squares(12)\n",
    "for v in s:\n",
    "    print(v)"
   ]
  },
  {
   "cell_type": "code",
   "execution_count": 164,
   "id": "134fb444",
   "metadata": {},
   "outputs": [
    {
     "data": {
      "text/plain": [
       "<iterator at 0x1219e76a0>"
      ]
     },
     "execution_count": 164,
     "metadata": {},
     "output_type": "execute_result"
    }
   ],
   "source": [
    "g = iter(s)\n",
    "g"
   ]
  },
  {
   "cell_type": "code",
   "execution_count": 177,
   "id": "2a820e8c",
   "metadata": {},
   "outputs": [
    {
     "ename": "StopIteration",
     "evalue": "",
     "output_type": "error",
     "traceback": [
      "\u001b[0;31m---------------------------------------------------------------------------\u001b[0m",
      "\u001b[0;31mStopIteration\u001b[0m                             Traceback (most recent call last)",
      "Cell \u001b[0;32mIn[177], line 1\u001b[0m\n\u001b[0;32m----> 1\u001b[0m \u001b[38;5;28mnext\u001b[39m(g)\n",
      "\u001b[0;31mStopIteration\u001b[0m: "
     ]
    }
   ],
   "source": [
    "next(g)"
   ]
  }
 ],
 "metadata": {
  "kernelspec": {
   "display_name": "base",
   "language": "python",
   "name": "python3"
  },
  "language_info": {
   "codemirror_mode": {
    "name": "ipython",
    "version": 3
   },
   "file_extension": ".py",
   "mimetype": "text/x-python",
   "name": "python",
   "nbconvert_exporter": "python",
   "pygments_lexer": "ipython3",
   "version": "3.12.7"
  }
 },
 "nbformat": 4,
 "nbformat_minor": 5
}
