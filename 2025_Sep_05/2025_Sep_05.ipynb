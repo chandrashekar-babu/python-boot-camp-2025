{
 "cells": [
  {
   "cell_type": "markdown",
   "id": "7803a5d1",
   "metadata": {},
   "source": [
    "# Python Bootcamp 2025\n",
    "### Day 2\n",
    "\n",
    "#### Planned Agenda\n",
    " - Data Types and Flow Control\n",
    " - Working with Strings"
   ]
  }
 ],
 "metadata": {
  "kernelspec": {
   "display_name": "base",
   "language": "python",
   "name": "python3"
  },
  "language_info": {
   "name": "python",
   "version": "3.12.7"
  }
 },
 "nbformat": 4,
 "nbformat_minor": 5
}
