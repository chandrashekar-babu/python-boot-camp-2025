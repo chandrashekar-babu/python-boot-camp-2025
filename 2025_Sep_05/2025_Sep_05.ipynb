{
 "cells": [
  {
   "cell_type": "markdown",
   "id": "7803a5d1",
   "metadata": {},
   "source": [
    "# Python Bootcamp 2025\n",
    "### Day 2\n",
    "\n",
    "#### Planned Agenda\n",
    " - Data Types and Flow Control\n",
    " - Working with Strings"
   ]
  },
  {
   "cell_type": "code",
   "execution_count": null,
   "id": "797b0f15",
   "metadata": {},
   "outputs": [],
   "source": [
    "# %load http://www.tinyurl.com/hcf-ex\n",
    "\"\"\"\n",
    "Implement the function that returns the highest common factor\n",
    "(or greatest common divisor) of two integers passed as arguments\n",
    "\n",
    "Highest common factor of 'a' and 'b' is the largest number that\n",
    "can divide both 'a' and 'b' in common. For example, hcf of 16 and\n",
    "24 is 8 (though it is commonly divisible also by 2 and 4).\n",
    "\n",
    "Example usage\n",
    "-------------\n",
    "    >>> hcf(20, 4)\n",
    "    4\n",
    "\n",
    "    >>> hcf(150, 8)\n",
    "    2\n",
    "\n",
    "    >>> hcf(16, 24)\n",
    "    8\n",
    "\n",
    "    >>> hcf(48, 6)\n",
    "    6\n",
    "\n",
    "\"\"\"\n",
    "def hcf(a, b):\n",
    "    \"\"\"\n",
    "    Returns the highest common factor of arguments 'a' and 'b'.\n",
    "\n",
    "    Example\n",
    "    -------\n",
    "        >>> hcf(100, 2)\n",
    "        2\n",
    "\n",
    "        >>> hcf(5, 7)\n",
    "        1\n",
    "\n",
    "        >>> hcf(20, 8)\n",
    "        4\n",
    "    \"\"\"\n",
    "    while b:\n",
    "        a, b = b, a % b\n",
    "    return a\n",
    "\n",
    "if __name__ == '__main__':\n",
    "    from doctest import testmod\n",
    "    testmod()"
   ]
  },
  {
   "cell_type": "code",
   "execution_count": 33,
   "id": "5bd8cc56",
   "metadata": {},
   "outputs": [
    {
     "name": "stdout",
     "output_type": "stream",
     "text": [
      "2, 3, 4, 5, 6, 7, 9, 11, 13, 17, "
     ]
    }
   ],
   "source": [
    "def is_prime(n):\n",
    "    \n",
    "    for i in range(2, round(n ** 0.5)):\n",
    "        if n % i == 0:\n",
    "            return False\n",
    "    return True\n",
    "\n",
    "def print_primes(n):\n",
    "    i = 2\n",
    "    while n:\n",
    "        if is_prime(i):\n",
    "            print(i, end=\", \")\n",
    "            n -= 1\n",
    "        i += 1\n",
    "\n",
    "\n",
    "print_primes(10)\n"
   ]
  },
  {
   "cell_type": "markdown",
   "id": "7cb351b6",
   "metadata": {},
   "source": [
    "NOTE: Using for-loop vs while-loop:\n",
    "\n",
    "Use for-loop for \"deterministic\" iteration, i.e., we know how many times a block of code must be executed programmatically.\n",
    "\n",
    "Use while-loop for all forms of \"non-deterministic\" iteration, i.e., we may not know beforehand, how many times the block of code needs to be executed. Rather, in most circumstances we want this loop for run based on a condition.\n"
   ]
  },
  {
   "cell_type": "markdown",
   "id": "6abb7ac4",
   "metadata": {},
   "source": [
    "#### Arithmetic operators in Python\n",
    "a + b\n",
    "a - b\n",
    "a * b\n",
    "a % b\n",
    "\n",
    "a / b\n",
    "a // b\n",
    "\n",
    "a ** 2  -> power-of operator"
   ]
  },
  {
   "cell_type": "code",
   "execution_count": null,
   "id": "dd32783d",
   "metadata": {},
   "outputs": [
    {
     "name": "stdout",
     "output_type": "stream",
     "text": [
      "2.3333333333333335\n",
      "2\n"
     ]
    }
   ],
   "source": [
    "a = 7\n",
    "b = 3\n",
    "\n",
    "print(a / b)  # truediv operator always returns a 'float'\n",
    "print(a // b) # floordiv operator returns an integer if both operands are integers\n",
    "\n"
   ]
  },
  {
   "cell_type": "code",
   "execution_count": 17,
   "id": "7ad2e035",
   "metadata": {},
   "outputs": [
    {
     "data": {
      "text/plain": [
       "(1.4142135623730951, 16.0)"
      ]
     },
     "execution_count": 17,
     "metadata": {},
     "output_type": "execute_result"
    }
   ],
   "source": [
    "import math\n",
    "math.sqrt(2), math.pow(2, 4)"
   ]
  },
  {
   "cell_type": "code",
   "execution_count": 19,
   "id": "3eb4cb44",
   "metadata": {},
   "outputs": [
    {
     "data": {
      "text/plain": [
       "4"
      ]
     },
     "execution_count": 19,
     "metadata": {},
     "output_type": "execute_result"
    }
   ],
   "source": [
    "int(4.9)"
   ]
  },
  {
   "cell_type": "code",
   "execution_count": 22,
   "id": "567f21dc",
   "metadata": {},
   "outputs": [
    {
     "data": {
      "text/plain": [
       "4"
      ]
     },
     "execution_count": 22,
     "metadata": {},
     "output_type": "execute_result"
    }
   ],
   "source": [
    "round(4.5)"
   ]
  },
  {
   "cell_type": "code",
   "execution_count": 24,
   "id": "17479598",
   "metadata": {},
   "outputs": [
    {
     "data": {
      "text/plain": [
       "1.24"
      ]
     },
     "execution_count": 24,
     "metadata": {},
     "output_type": "execute_result"
    }
   ],
   "source": [
    "a = 1.23656\n",
    "round(a, 2)"
   ]
  },
  {
   "cell_type": "code",
   "execution_count": 9,
   "id": "8cba6c82",
   "metadata": {},
   "outputs": [
    {
     "ename": "TypeError",
     "evalue": "'float' object cannot be interpreted as an integer",
     "output_type": "error",
     "traceback": [
      "\u001b[0;31m---------------------------------------------------------------------------\u001b[0m",
      "\u001b[0;31mTypeError\u001b[0m                                 Traceback (most recent call last)",
      "Cell \u001b[0;32mIn[9], line 1\u001b[0m\n\u001b[0;32m----> 1\u001b[0m \u001b[38;5;28mrange\u001b[39m(\u001b[38;5;241m10\u001b[39m \u001b[38;5;241m/\u001b[39m \u001b[38;5;241m2\u001b[39m)\n",
      "\u001b[0;31mTypeError\u001b[0m: 'float' object cannot be interpreted as an integer"
     ]
    }
   ],
   "source": [
    "range(10 / 2)"
   ]
  },
  {
   "cell_type": "markdown",
   "id": "cd5bda1e",
   "metadata": {},
   "source": [
    "### Python builtin datatypes\n",
    "\n",
    "1. NoneType -> `None`\n",
    "2. Numerical types:\n",
    "    1. `bool` -> `True`, `False`\n",
    "    2. `int`\n",
    "    3. `float`\n",
    "    4. `complex`\n",
    "3. Iterables\n",
    "   a. Collections\n",
    "      - Sequences\n",
    "        - Buffers\n",
    "          - `str`, `bytes`, `bytearray`, (`memoryview`)\n",
    "        - Heterogenous Sequences\n",
    "          - `tuple`, `list`\n",
    "      - Sets\n",
    "        - `set`\n",
    "        - `frozenset`\n",
    "      - Maps\n",
    "        - `dict`\n",
    "   b. Generators\n",
    "        - `range`\n",
    "        - `enumerate`\n",
    "        - `zip`\n",
    "        - `reversed` objects\n",
    "   c. Views\n",
    "        - Dictionary key views\n",
    "        - Dictionary value views\n",
    "        - Dictionary item views\n",
    "        - `memoryview`\n",
    "\n",
    "\n"
   ]
  },
  {
   "cell_type": "code",
   "execution_count": 40,
   "id": "8542f8f7",
   "metadata": {},
   "outputs": [
    {
     "name": "stdout",
     "output_type": "stream",
     "text": [
      "<class 'int'> <class 'float'> <class 'complex'> <class 'bool'>\n"
     ]
    },
    {
     "data": {
      "text/plain": [
       "True"
      ]
     },
     "execution_count": 40,
     "metadata": {},
     "output_type": "execute_result"
    }
   ],
   "source": [
    "a = 10    # integer\n",
    "b = 10.0  # float\n",
    "c = 10+0j # complex\n",
    "d = False # Boolean\n",
    "\n",
    "print(type(a), type(b), type(c), type(d))\n",
    "\n",
    "i = 1\n",
    "j = True\n",
    "i == j"
   ]
  },
  {
   "cell_type": "code",
   "execution_count": 51,
   "id": "863e58b3",
   "metadata": {},
   "outputs": [
    {
     "name": "stdout",
     "output_type": "stream",
     "text": [
      "123 87 510 6\n",
      "123 0o127 0x1fe 0b110\n",
      "123, 127, 1fe, 110\n",
      "a = 123, o = 127, h = 1fe\n"
     ]
    }
   ],
   "source": [
    "# Literal notations of integers\n",
    "a = 123    # Default decimal literal notation\n",
    "o = 0o127  # Octal literal notation\n",
    "h = 0x1fe  # Hexadecimal literal notation\n",
    "b = 0b110  # Binary literal notation\n",
    "\n",
    "print(a, o, h, b)  # str(n) returns decimal string representation of integer\n",
    "print(str(a), oct(o), hex(h), bin(b))\n",
    "print(f\"{a:d}, {o:o}, {h:x}, {b:b}\")\n",
    "print(\"a = %d, o = %o, h = %x\" % (a, o, h))"
   ]
  },
  {
   "cell_type": "code",
   "execution_count": 60,
   "id": "a5e123dd",
   "metadata": {},
   "outputs": [
    {
     "data": {
      "text/plain": [
       "255"
      ]
     },
     "execution_count": 60,
     "metadata": {},
     "output_type": "execute_result"
    }
   ],
   "source": [
    "a = \"0xff\"\n",
    "int(a, 0)"
   ]
  },
  {
   "cell_type": "code",
   "execution_count": 62,
   "id": "a85802a0",
   "metadata": {},
   "outputs": [
    {
     "data": {
      "text/plain": [
       "13"
      ]
     },
     "execution_count": 62,
     "metadata": {},
     "output_type": "execute_result"
    }
   ],
   "source": [
    "a = \"0b1101\"\n",
    "int(a, 0)"
   ]
  },
  {
   "cell_type": "code",
   "execution_count": 64,
   "id": "adedc378",
   "metadata": {},
   "outputs": [
    {
     "data": {
      "text/plain": [
       "13"
      ]
     },
     "execution_count": 64,
     "metadata": {},
     "output_type": "execute_result"
    }
   ],
   "source": [
    "a = \"1101\"\n",
    "int(a, 2)"
   ]
  },
  {
   "cell_type": "code",
   "execution_count": 65,
   "id": "24dbb7dc",
   "metadata": {},
   "outputs": [
    {
     "data": {
      "text/plain": [
       "64206"
      ]
     },
     "execution_count": 65,
     "metadata": {},
     "output_type": "execute_result"
    }
   ],
   "source": [
    "a = \"face\"\n",
    "int(a, 16)"
   ]
  },
  {
   "cell_type": "code",
   "execution_count": null,
   "id": "90078f51",
   "metadata": {},
   "outputs": [],
   "source": [
    "a = \"10\"\n",
    "b = int(a) # THIS IS NOT \"type-casting\"! It is type construction / type-conversion\n"
   ]
  },
  {
   "cell_type": "code",
   "execution_count": 66,
   "id": "ada73da0",
   "metadata": {},
   "outputs": [
    {
     "data": {
      "text/plain": [
       "0"
      ]
     },
     "execution_count": 66,
     "metadata": {},
     "output_type": "execute_result"
    }
   ],
   "source": [
    "int()"
   ]
  },
  {
   "cell_type": "code",
   "execution_count": 70,
   "id": "e2ff4192",
   "metadata": {},
   "outputs": [
    {
     "name": "stdout",
     "output_type": "stream",
     "text": [
      "<class 'int'>\n",
      "<class 'float'>\n",
      "<class 'bool'>\n",
      "<class 'complex'>\n"
     ]
    }
   ],
   "source": [
    "print(int, float, bool, complex, sep=\"\\n\")"
   ]
  },
  {
   "cell_type": "markdown",
   "id": "a95132f3",
   "metadata": {},
   "source": [
    "### Integer bit-wise operators:\n",
    "`>>` -> rshift \n",
    "`<<` -> lshift\n",
    "`|`  -> bitwise or\n",
    "`&`  -> bitwise and\n",
    "`^`  -> bitwise xor\n",
    "`~`  -> bitwise complement\n"
   ]
  },
  {
   "cell_type": "code",
   "execution_count": 75,
   "id": "085a1e13",
   "metadata": {},
   "outputs": [
    {
     "data": {
      "text/plain": [
       "(True, True)"
      ]
     },
     "execution_count": 75,
     "metadata": {},
     "output_type": "execute_result"
    }
   ],
   "source": [
    "a = 56\n",
    "a % 2 == 0, a & 1 == 0"
   ]
  },
  {
   "cell_type": "code",
   "execution_count": 73,
   "id": "f823f2df",
   "metadata": {},
   "outputs": [
    {
     "data": {
      "text/plain": [
       "2"
      ]
     },
     "execution_count": 73,
     "metadata": {},
     "output_type": "execute_result"
    }
   ],
   "source": [
    "a = 4\n",
    "a >> 1"
   ]
  },
  {
   "cell_type": "code",
   "execution_count": 76,
   "id": "ef97b29c",
   "metadata": {},
   "outputs": [
    {
     "name": "stdout",
     "output_type": "stream",
     "text": [
      "45000000000.0\n"
     ]
    }
   ],
   "source": [
    "# float literal notations\n",
    "a = 4.5\n",
    "a = 4.5e+10\n",
    "print(a)"
   ]
  },
  {
   "cell_type": "markdown",
   "id": "8f113161",
   "metadata": {},
   "source": [
    "NOTE: In Python, every special character (used as operators) in expressions,\n",
    "are mapped to special (dunder) methods associated with them.\n"
   ]
  },
  {
   "cell_type": "code",
   "execution_count": 78,
   "id": "c3cc63b5",
   "metadata": {},
   "outputs": [
    {
     "name": "stdout",
     "output_type": "stream",
     "text": [
      "30\n",
      "30\n"
     ]
    }
   ],
   "source": [
    "a = 10\n",
    "b = 20\n",
    "#c = a + b\n",
    "c = a.__add__(b)\n",
    "print(c)\n",
    "c = int.__add__(a, b)\n",
    "print(c)"
   ]
  },
  {
   "cell_type": "code",
   "execution_count": 79,
   "id": "2f7eacd4",
   "metadata": {},
   "outputs": [
    {
     "name": "stdout",
     "output_type": "stream",
     "text": [
      "['__abs__', '__add__', '__and__', '__bool__', '__ceil__', '__class__', '__delattr__', '__dir__', '__divmod__', '__doc__', '__eq__', '__float__', '__floor__', '__floordiv__', '__format__', '__ge__', '__getattribute__', '__getnewargs__', '__getstate__', '__gt__', '__hash__', '__index__', '__init__', '__init_subclass__', '__int__', '__invert__', '__le__', '__lshift__', '__lt__', '__mod__', '__mul__', '__ne__', '__neg__', '__new__', '__or__', '__pos__', '__pow__', '__radd__', '__rand__', '__rdivmod__', '__reduce__', '__reduce_ex__', '__repr__', '__rfloordiv__', '__rlshift__', '__rmod__', '__rmul__', '__ror__', '__round__', '__rpow__', '__rrshift__', '__rshift__', '__rsub__', '__rtruediv__', '__rxor__', '__setattr__', '__sizeof__', '__str__', '__sub__', '__subclasshook__', '__truediv__', '__trunc__', '__xor__', 'as_integer_ratio', 'bit_count', 'bit_length', 'conjugate', 'denominator', 'from_bytes', 'imag', 'is_integer', 'numerator', 'real', 'to_bytes']\n"
     ]
    }
   ],
   "source": [
    "a = 123\n",
    "print(dir(a))"
   ]
  },
  {
   "cell_type": "code",
   "execution_count": 82,
   "id": "df2d8fe5",
   "metadata": {},
   "outputs": [
    {
     "data": {
      "text/plain": [
       "True"
      ]
     },
     "execution_count": 82,
     "metadata": {},
     "output_type": "execute_result"
    }
   ],
   "source": [
    "a = [0]\n",
    "bool(a)"
   ]
  },
  {
   "cell_type": "code",
   "execution_count": 86,
   "id": "87268ded",
   "metadata": {},
   "outputs": [
    {
     "name": "stdout",
     "output_type": "stream",
     "text": [
      "True False None\n",
      "<class 'bool'> <class 'bool'> <class 'NoneType'>\n"
     ]
    }
   ],
   "source": [
    "print(True, False, None)\n",
    "print(type(True), type(False), type(None))"
   ]
  },
  {
   "cell_type": "code",
   "execution_count": null,
   "id": "ba398fa5",
   "metadata": {},
   "outputs": [],
   "source": [
    "a = None  # Avoid statements like these in Python\n",
    "\n",
    "a = input(\"Enter value: \")"
   ]
  },
  {
   "cell_type": "code",
   "execution_count": null,
   "id": "8a2668d0",
   "metadata": {},
   "outputs": [
    {
     "name": "stdout",
     "output_type": "stream",
     "text": [
      "Fri Sep  5 11:20:00 2025\n"
     ]
    },
    {
     "ename": "NameError",
     "evalue": "name 'ctime' is not defined",
     "output_type": "error",
     "traceback": [
      "\u001b[0;31m---------------------------------------------------------------------------\u001b[0m",
      "\u001b[0;31mNameError\u001b[0m                                 Traceback (most recent call last)",
      "Cell \u001b[0;32mIn[89], line 6\u001b[0m\n\u001b[1;32m      3\u001b[0m     \u001b[38;5;28mprint\u001b[39m(ctime())\n\u001b[1;32m      5\u001b[0m print_time()\n\u001b[0;32m----> 6\u001b[0m ctime\n",
      "\u001b[0;31mNameError\u001b[0m: name 'ctime' is not defined"
     ]
    }
   ],
   "source": [
    "def print_time():\n",
    "    from time import ctime # Local imports\n",
    "    print(ctime())\n",
    "\n",
    "print_time()\n",
    "ctime"
   ]
  },
  {
   "cell_type": "code",
   "execution_count": 91,
   "id": "802da3de",
   "metadata": {},
   "outputs": [
    {
     "name": "stdout",
     "output_type": "stream",
     "text": [
      "16\n"
     ]
    }
   ],
   "source": [
    "def square(x):\n",
    "    return x*x\n",
    "\n",
    "r = square(4)\n",
    "print(r)"
   ]
  },
  {
   "cell_type": "code",
   "execution_count": 94,
   "id": "4934a91e",
   "metadata": {},
   "outputs": [
    {
     "name": "stdout",
     "output_type": "stream",
     "text": [
      "Hello, Pythonista!\n",
      "Function returned nothing\n"
     ]
    }
   ],
   "source": [
    "# NOTE: The default return value of any function in Python is None.\n",
    "def greet():\n",
    "    print(\"Hello, Pythonista!\")\n",
    "\n",
    "r = greet()\n",
    "if r is None:\n",
    "    print(\"Function returned nothing\")\n",
    "else:\n",
    "    print(\"Function returned a value:\", r)"
   ]
  },
  {
   "cell_type": "code",
   "execution_count": 95,
   "id": "ba06983c",
   "metadata": {},
   "outputs": [
    {
     "name": "stdout",
     "output_type": "stream",
     "text": [
      "T h i s   i s   a   t e s t   s t r i n g "
     ]
    }
   ],
   "source": [
    "a = \"This is a test string\"\n",
    "# String is a collection -> Sequence -> Buffer\n",
    "# All collections in Python are iterables\n",
    "\n",
    "for c in a:\n",
    "    print(c, end=\" \")"
   ]
  },
  {
   "cell_type": "code",
   "execution_count": 96,
   "id": "a0e8a6f5",
   "metadata": {},
   "outputs": [
    {
     "data": {
      "text/plain": [
       "<str_ascii_iterator at 0x108ef8b80>"
      ]
     },
     "execution_count": 96,
     "metadata": {},
     "output_type": "execute_result"
    }
   ],
   "source": [
    "iter(a)"
   ]
  },
  {
   "cell_type": "code",
   "execution_count": 98,
   "id": "ae034374",
   "metadata": {},
   "outputs": [
    {
     "ename": "TypeError",
     "evalue": "'int' object is not iterable",
     "output_type": "error",
     "traceback": [
      "\u001b[0;31m---------------------------------------------------------------------------\u001b[0m",
      "\u001b[0;31mTypeError\u001b[0m                                 Traceback (most recent call last)",
      "Cell \u001b[0;32mIn[98], line 1\u001b[0m\n\u001b[0;32m----> 1\u001b[0m \u001b[38;5;28;01mfor\u001b[39;00m v \u001b[38;5;129;01min\u001b[39;00m \u001b[38;5;241m10\u001b[39m:\n\u001b[1;32m      2\u001b[0m     \u001b[38;5;28mprint\u001b[39m(v)\n",
      "\u001b[0;31mTypeError\u001b[0m: 'int' object is not iterable"
     ]
    }
   ],
   "source": [
    "for v in 10:\n",
    "    print(v)"
   ]
  },
  {
   "cell_type": "code",
   "execution_count": 100,
   "id": "22a3e598",
   "metadata": {},
   "outputs": [
    {
     "name": "stdout",
     "output_type": "stream",
     "text": [
      "h <class 'str'>\n",
      "e <class 'str'>\n",
      "l <class 'str'>\n",
      "l <class 'str'>\n",
      "o <class 'str'>\n"
     ]
    }
   ],
   "source": [
    "for v in \"hello\":\n",
    "    print(v, type(v))"
   ]
  },
  {
   "cell_type": "markdown",
   "id": "7a17f787",
   "metadata": {},
   "source": [
    "#### The iterator protocol in Python"
   ]
  },
  {
   "cell_type": "code",
   "execution_count": 111,
   "id": "fd03ac5d",
   "metadata": {},
   "outputs": [
    {
     "name": "stdout",
     "output_type": "stream",
     "text": [
      "[11, 22, 33, 44] <class 'list'>\n",
      "11\n",
      "22\n",
      "33\n",
      "44\n"
     ]
    }
   ],
   "source": [
    "a = [11, 22, 33, 44]\n",
    "print(a, type(a))\n",
    "\n",
    "#for v in a:\n",
    "#    print(v)\n",
    "\n",
    "iterator = iter(a)\n",
    "try:\n",
    "    while True:\n",
    "        v = next(iterator)\n",
    "        # for-loop body\n",
    "        print(v)\n",
    "except StopIteration:\n",
    "    pass"
   ]
  },
  {
   "cell_type": "code",
   "execution_count": 104,
   "id": "59faec79",
   "metadata": {},
   "outputs": [
    {
     "data": {
      "text/plain": [
       "<list_iterator at 0x106ac0ac0>"
      ]
     },
     "execution_count": 104,
     "metadata": {},
     "output_type": "execute_result"
    }
   ],
   "source": [
    "iter(a)\n",
    "a.__iter__()"
   ]
  },
  {
   "cell_type": "code",
   "execution_count": 105,
   "id": "4a4d8fec",
   "metadata": {},
   "outputs": [
    {
     "data": {
      "text/plain": [
       "<list_iterator at 0x106ac3a60>"
      ]
     },
     "execution_count": 105,
     "metadata": {},
     "output_type": "execute_result"
    }
   ],
   "source": [
    "iterator = iter(a)\n",
    "iterator"
   ]
  },
  {
   "cell_type": "code",
   "execution_count": 110,
   "id": "46fea62e",
   "metadata": {},
   "outputs": [
    {
     "ename": "StopIteration",
     "evalue": "",
     "output_type": "error",
     "traceback": [
      "\u001b[0;31m---------------------------------------------------------------------------\u001b[0m",
      "\u001b[0;31mStopIteration\u001b[0m                             Traceback (most recent call last)",
      "Cell \u001b[0;32mIn[110], line 1\u001b[0m\n\u001b[0;32m----> 1\u001b[0m \u001b[38;5;28mnext\u001b[39m(iterator)\n",
      "\u001b[0;31mStopIteration\u001b[0m: "
     ]
    }
   ],
   "source": [
    "next(iterator)"
   ]
  },
  {
   "cell_type": "markdown",
   "id": "5bcbf052",
   "metadata": {},
   "source": [
    "#### Rules to identify collections / containers in Python:\n",
    "1. Iterability: `iter(obj)` must return an iterator and not raise Exception\n",
    "2. Searchability: `item in obj` must return True / False\n",
    "3. Length: `len(obj)` must return a positive integer or 0"
   ]
  },
  {
   "cell_type": "code",
   "execution_count": 126,
   "id": "5c44a6f9",
   "metadata": {},
   "outputs": [],
   "source": [
    "ins = open(\"users.txt\")\n"
   ]
  },
  {
   "cell_type": "code",
   "execution_count": null,
   "id": "b6943084",
   "metadata": {},
   "outputs": [
    {
     "name": "stdout",
     "output_type": "stream",
     "text": [
      "<_io.TextIOWrapper name='users.txt' mode='r' encoding='UTF-8'>\n",
      "True\n"
     ]
    },
    {
     "ename": "TypeError",
     "evalue": "object of type '_io.TextIOWrapper' has no len()",
     "output_type": "error",
     "traceback": [
      "\u001b[0;31m---------------------------------------------------------------------------\u001b[0m",
      "\u001b[0;31mTypeError\u001b[0m                                 Traceback (most recent call last)",
      "Cell \u001b[0;32mIn[127], line 3\u001b[0m\n\u001b[1;32m      1\u001b[0m \u001b[38;5;28mprint\u001b[39m(\u001b[38;5;28miter\u001b[39m(ins))\n\u001b[1;32m      2\u001b[0m \u001b[38;5;28mprint\u001b[39m(\u001b[38;5;124m\"\u001b[39m\u001b[38;5;124mjoe\u001b[39m\u001b[38;5;130;01m\\n\u001b[39;00m\u001b[38;5;124m\"\u001b[39m \u001b[38;5;129;01min\u001b[39;00m ins)\n\u001b[0;32m----> 3\u001b[0m \u001b[38;5;28mprint\u001b[39m(\u001b[38;5;28mlen\u001b[39m(ins))\n",
      "\u001b[0;31mTypeError\u001b[0m: object of type '_io.TextIOWrapper' has no len()"
     ]
    }
   ],
   "source": [
    "print(iter(ins))\n",
    "print(\"joe\\n\" in ins)\n",
    "print(len(ins)) # Fails collection test #3\n",
    "\n"
   ]
  },
  {
   "cell_type": "code",
   "execution_count": 128,
   "id": "6751d7b3",
   "metadata": {},
   "outputs": [],
   "source": [
    "ins.close()"
   ]
  },
  {
   "cell_type": "code",
   "execution_count": 131,
   "id": "ea633218",
   "metadata": {},
   "outputs": [
    {
     "name": "stdout",
     "output_type": "stream",
     "text": [
      "0 1 2 3 4 \n",
      "5 6 7 8 9 \n",
      "10 12 14 16 18 "
     ]
    }
   ],
   "source": [
    "for v in range(5):\n",
    "    print(v, end=\" \")\n",
    "\n",
    "print() # Prints a new-line\n",
    "for v in range(5, 10):\n",
    "    print(v, end=\" \")\n",
    "\n",
    "print()\n",
    "for v in range(10, 20, 2):\n",
    "    print(v, end=\" \")"
   ]
  },
  {
   "cell_type": "code",
   "execution_count": null,
   "id": "dd043681",
   "metadata": {},
   "outputs": [
    {
     "name": "stdout",
     "output_type": "stream",
     "text": [
      "range(10, 20, 2) <class 'range'>\n",
      "<range_iterator object at 0x1091129d0>\n",
      "True False\n",
      "5\n"
     ]
    }
   ],
   "source": [
    "r = range(10, 20, 2)\n",
    "print(r, type(r))\n",
    "print(iter(r))\n",
    "print(16 in r, 17 in r)\n",
    "print(len(r))\n",
    "\n",
    "# range objects are a \"peculiar\" case: they are generators, but also sequence collections\n"
   ]
  },
  {
   "cell_type": "code",
   "execution_count": 136,
   "id": "6c1961f3",
   "metadata": {},
   "outputs": [
    {
     "name": "stdout",
     "output_type": "stream",
     "text": [
      "<str_ascii_iterator object at 0x108fa4ca0>\n",
      "True\n",
      "5\n"
     ]
    }
   ],
   "source": [
    "a = \"hello\"\n",
    "print(iter(a))\n",
    "print(\"e\" in a)\n",
    "print(len(a))"
   ]
  },
  {
   "cell_type": "markdown",
   "id": "25837925",
   "metadata": {},
   "source": [
    "#### Python categorizes collections in 3 broad categories:\n",
    " 1. Sequences\n",
    " 2. Sets\n",
    " 3. Mappings\n",
    "\n",
    "Sequences are \"ordered\" collection of items, where item(s) can be accessed\n",
    "using index / slice operators (getitem, getslice).\n",
    "\n"
   ]
  },
  {
   "cell_type": "markdown",
   "id": "fe646550",
   "metadata": {},
   "source": [
    "#### Common features of all sequence collections in Python\n",
    "  1. Indexing and Slicing operations\n",
    "  2. Reversed Iteration (`reversed(seq)`)\n",
    "  3. Concatentation\n",
    "  4. Repetition"
   ]
  },
  {
   "cell_type": "code",
   "execution_count": 140,
   "id": "467bf12e",
   "metadata": {},
   "outputs": [
    {
     "name": "stdout",
     "output_type": "stream",
     "text": [
      "h l d l r d\n"
     ]
    }
   ],
   "source": [
    "# Index / getitem operations\n",
    "a = \"hello world\"\n",
    "\n",
    "print(a[0], a[3], a[-1], a[-2], a[-3], a[len(a) - 1])"
   ]
  },
  {
   "cell_type": "code",
   "execution_count": 143,
   "id": "e7ea436f",
   "metadata": {},
   "outputs": [
    {
     "name": "stdout",
     "output_type": "stream",
     "text": [
      "11\n",
      "d\n"
     ]
    },
    {
     "ename": "IndexError",
     "evalue": "string index out of range",
     "output_type": "error",
     "traceback": [
      "\u001b[0;31m---------------------------------------------------------------------------\u001b[0m",
      "\u001b[0;31mIndexError\u001b[0m                                Traceback (most recent call last)",
      "Cell \u001b[0;32mIn[143], line 3\u001b[0m\n\u001b[1;32m      1\u001b[0m \u001b[38;5;28mprint\u001b[39m(\u001b[38;5;28mlen\u001b[39m(a))\n\u001b[1;32m      2\u001b[0m \u001b[38;5;28mprint\u001b[39m(a[\u001b[38;5;241m10\u001b[39m])\n\u001b[0;32m----> 3\u001b[0m \u001b[38;5;28mprint\u001b[39m(a[\u001b[38;5;241m11\u001b[39m])\n",
      "\u001b[0;31mIndexError\u001b[0m: string index out of range"
     ]
    }
   ],
   "source": [
    "print(len(a))\n",
    "print(a[10])\n",
    "print(a[11])"
   ]
  },
  {
   "cell_type": "code",
   "execution_count": 147,
   "id": "15a912a6",
   "metadata": {},
   "outputs": [
    {
     "data": {
      "text/plain": [
       "(88, 43, 12)"
      ]
     },
     "execution_count": 147,
     "metadata": {},
     "output_type": "execute_result"
    }
   ],
   "source": [
    "t = 44, 22, 77, 88, 43, 12, 67, 88, 99\n",
    "t[3:6]"
   ]
  },
  {
   "cell_type": "code",
   "execution_count": 154,
   "id": "0001c720",
   "metadata": {},
   "outputs": [
    {
     "name": "stdout",
     "output_type": "stream",
     "text": [
      "this is a test string 21\n",
      "test\n",
      "this\n",
      " is a test string\n",
      "string\n",
      "this is a test \n",
      "ti sats \n"
     ]
    }
   ],
   "source": [
    "a = \"this is a test string\"\n",
    "print(a, len(a))\n",
    "print(a[10:14])  # Extract a slice of a sequence\n",
    "\n",
    "print(a[:4])  # Extract first 'n' items\n",
    "print(a[4:])  # Skip the first 'n' items\n",
    "print(a[-6:]) # Extract the last 'n' items\n",
    "\n",
    "print(a[:-6]) # Skip the last 'n' items\n",
    "print(a[:-6:2])"
   ]
  },
  {
   "cell_type": "code",
   "execution_count": 157,
   "id": "99abfd30",
   "metadata": {},
   "outputs": [
    {
     "data": {
      "text/plain": [
       "'This is a test'"
      ]
     },
     "execution_count": 157,
     "metadata": {},
     "output_type": "execute_result"
    }
   ],
   "source": [
    "a = \"T.h.i.s. .i.s. .a. .t.e.s.t\"\n",
    "a[::2]"
   ]
  },
  {
   "cell_type": "code",
   "execution_count": 159,
   "id": "e1743b48",
   "metadata": {},
   "outputs": [
    {
     "data": {
      "text/plain": [
       "(10, 40, 70, 100)"
      ]
     },
     "execution_count": 159,
     "metadata": {},
     "output_type": "execute_result"
    }
   ],
   "source": [
    "t = 10, 20, 30, 40, 50, 60, 70, 80, 90, 100\n",
    "\n",
    "t[::3]"
   ]
  },
  {
   "cell_type": "code",
   "execution_count": null,
   "id": "b8a85cb0",
   "metadata": {},
   "outputs": [
    {
     "data": {
      "text/plain": [
       "'dlrow olleh'"
      ]
     },
     "execution_count": 164,
     "metadata": {},
     "output_type": "execute_result"
    }
   ],
   "source": [
    "a = \"hello world\"\n",
    "\"\".join(list(reversed(a)))"
   ]
  },
  {
   "cell_type": "code",
   "execution_count": null,
   "id": "6cdecb32",
   "metadata": {},
   "outputs": [
    {
     "data": {
      "text/plain": [
       "'dlrow olleh'"
      ]
     },
     "execution_count": 165,
     "metadata": {},
     "output_type": "execute_result"
    }
   ],
   "source": [
    "a = \"hello world\"\n",
    "a[::-1]  # Returns a reverse-copy of a string"
   ]
  },
  {
   "cell_type": "code",
   "execution_count": 166,
   "id": "9d5975a2",
   "metadata": {},
   "outputs": [
    {
     "name": "stdout",
     "output_type": "stream",
     "text": [
      "h e l l o   w o r l d "
     ]
    }
   ],
   "source": [
    "for v in a:\n",
    "    print(v, end=\" \")"
   ]
  },
  {
   "cell_type": "code",
   "execution_count": null,
   "id": "087cea56",
   "metadata": {},
   "outputs": [
    {
     "name": "stdout",
     "output_type": "stream",
     "text": [
      "d l r o w   o l l e h "
     ]
    }
   ],
   "source": [
    "for v in reversed(a): # reversed() returns a reverse iterator for a sequence.\n",
    "    print(v, end=\" \")"
   ]
  },
  {
   "cell_type": "code",
   "execution_count": 171,
   "id": "2006d950",
   "metadata": {},
   "outputs": [
    {
     "name": "stdout",
     "output_type": "stream",
     "text": [
      "(10, 20, 30, 40, 50, 60, 70, 80, 90, 100)\n",
      "<tuple_iterator object at 0x108f98130>\n",
      "<reversed object at 0x108f98130>\n"
     ]
    }
   ],
   "source": [
    "print(t)\n",
    "print(iter(t))\n",
    "print(reversed(t))"
   ]
  },
  {
   "cell_type": "code",
   "execution_count": 172,
   "id": "f930019c",
   "metadata": {},
   "outputs": [
    {
     "name": "stdout",
     "output_type": "stream",
     "text": [
      "<list_iterator object at 0x106abd300>\n",
      "<list_reverseiterator object at 0x106abd300>\n"
     ]
    }
   ],
   "source": [
    "li = [11, 22, 33, 44]\n",
    "print(iter(li))\n",
    "print(reversed(li))"
   ]
  },
  {
   "cell_type": "code",
   "execution_count": 175,
   "id": "201b706b",
   "metadata": {},
   "outputs": [
    {
     "name": "stdout",
     "output_type": "stream",
     "text": [
      "g n i r t s   t s e t   a   s i   s i h t \n",
      "g n i r t s   t s e t   a   s i   s i h t "
     ]
    }
   ],
   "source": [
    "a = \"this is a test string\"\n",
    "for v in a[::-1]: # This is not Pythonic - inefficient!\n",
    "    print(v, end=\" \")\n",
    "\n",
    "print()\n",
    "for v in reversed(a): # This is Python - efficient!\n",
    "    print(v, end=\" \")\n",
    "    "
   ]
  },
  {
   "cell_type": "code",
   "execution_count": null,
   "id": "2399fa0f",
   "metadata": {},
   "outputs": [
    {
     "name": "stdout",
     "output_type": "stream",
     "text": [
      "HelloWorld\n",
      "HelloHelloHelloHelloHello\n"
     ]
    }
   ],
   "source": [
    "a = \"Hello\"\n",
    "b = \"World\"\n",
    "c = a + b  # Sequence concatenation\n",
    "print(c)\n",
    "\n",
    "d = a * 5  # Sequence repetition\n",
    "print(d)"
   ]
  },
  {
   "cell_type": "code",
   "execution_count": 179,
   "id": "5866e9c0",
   "metadata": {},
   "outputs": [
    {
     "name": "stdout",
     "output_type": "stream",
     "text": [
      "----------------------------------------\n",
      "                Hello world\n",
      "========================================\n"
     ]
    }
   ],
   "source": [
    "print(\"-\" * 40)\n",
    "print(\" \" * 15, \"Hello world\")\n",
    "print(\"=\" * 40)"
   ]
  },
  {
   "cell_type": "markdown",
   "id": "78945c03",
   "metadata": {},
   "source": [
    "#### Buffers in Python\n",
    "\n",
    "Buffers are sequences of items laid out in contiguous memory locations.\n",
    "In Python, strings (`str`, `bytes`, `bytearray`) are builtin buffers.\n",
    "Memory views (`memoryview`) also are considered as buffers.\n",
    "\n",
    "Other examples of buffers are:\n",
    "   - `array.array`\n",
    "   - `numpy.ndarray`\n",
    "\n",
    "NOTE: Lists and Tuples in Python are NOT buffers - as they are heterogenous collections.\n"
   ]
  },
  {
   "cell_type": "code",
   "execution_count": 180,
   "id": "2fe11dd8",
   "metadata": {},
   "outputs": [],
   "source": [
    "a = [10, \"hello\", [2, 3, 4], (55, 66, 77), None]\n"
   ]
  },
  {
   "cell_type": "markdown",
   "id": "396e81f8",
   "metadata": {},
   "source": [
    "#### Important string operations and features"
   ]
  },
  {
   "cell_type": "code",
   "execution_count": 184,
   "id": "bf374d7c",
   "metadata": {},
   "outputs": [
    {
     "name": "stdout",
     "output_type": "stream",
     "text": [
      "Hello John, Your score is 56.32\n"
     ]
    }
   ],
   "source": [
    "s = \"Hello %s, Your score is %3.2f\"\n",
    "r = s % (\"John\", 56.32344)\n",
    "print(r)"
   ]
  },
  {
   "cell_type": "code",
   "execution_count": 189,
   "id": "b0588ec7",
   "metadata": {},
   "outputs": [
    {
     "data": {
      "text/plain": [
       "47"
      ]
     },
     "execution_count": 189,
     "metadata": {},
     "output_type": "execute_result"
    }
   ],
   "source": [
    "# String methods\n",
    "s = \"this is a test string with test words test times\"\n",
    "#print(len(s))\n",
    "len([a for a in dir(s) if a[0] != '_' and callable(getattr(s, a))])"
   ]
  },
  {
   "cell_type": "code",
   "execution_count": 194,
   "id": "4fab1186",
   "metadata": {},
   "outputs": [
    {
     "name": "stdout",
     "output_type": "stream",
     "text": [
      "THIS IS A TEST STRING WITH TEST WORDS TEST TIMES\n",
      "this is a test string with test words test times\n",
      "This Is A Test String With Test Words Test Times\n",
      "This is a test string with test words test times\n",
      "ThIS Is A TeST StrING WITH test WOrDS TEST TImES\n"
     ]
    }
   ],
   "source": [
    "s = \"tHis iS a tEst sTRing with TEST woRds test tiMes\"\n",
    "print(s.upper())\n",
    "print(s.lower())\n",
    "print(s.title())\n",
    "print(s.capitalize())\n",
    "print(s.swapcase())"
   ]
  },
  {
   "cell_type": "code",
   "execution_count": 199,
   "id": "cb4f845e",
   "metadata": {},
   "outputs": [
    {
     "name": "stdout",
     "output_type": "stream",
     "text": [
      "True False\n",
      "1\n",
      "3\n",
      "22\n"
     ]
    }
   ],
   "source": [
    "s = \"tHis iS a tEst sTRing with TEST woRds test tiMes\"\n",
    "\n",
    "print(\"with\" in s, \"new\" in s)\n",
    "\n",
    "print(s.count(\"test\"))\n",
    "print(s.lower().count(\"test\"))\n",
    "\n",
    "print(s.find(\"with\"))"
   ]
  },
  {
   "cell_type": "code",
   "execution_count": 201,
   "id": "a8dee4f9",
   "metadata": {},
   "outputs": [
    {
     "name": "stdout",
     "output_type": "stream",
     "text": [
      "10\n",
      "10\n"
     ]
    }
   ],
   "source": [
    "s1 = s.lower()\n",
    "print(s1.index(\"test\"))\n",
    "print(s1.find(\"test\"))"
   ]
  },
  {
   "cell_type": "code",
   "execution_count": 202,
   "id": "2ba4a2e9",
   "metadata": {},
   "outputs": [
    {
     "data": {
      "text/plain": [
       "-1"
      ]
     },
     "execution_count": 202,
     "metadata": {},
     "output_type": "execute_result"
    }
   ],
   "source": [
    "s1.find(\"new\")"
   ]
  },
  {
   "cell_type": "code",
   "execution_count": 203,
   "id": "6d128ea4",
   "metadata": {},
   "outputs": [
    {
     "ename": "ValueError",
     "evalue": "substring not found",
     "output_type": "error",
     "traceback": [
      "\u001b[0;31m---------------------------------------------------------------------------\u001b[0m",
      "\u001b[0;31mValueError\u001b[0m                                Traceback (most recent call last)",
      "Cell \u001b[0;32mIn[203], line 1\u001b[0m\n\u001b[0;32m----> 1\u001b[0m s1\u001b[38;5;241m.\u001b[39mindex(\u001b[38;5;124m\"\u001b[39m\u001b[38;5;124mnew\u001b[39m\u001b[38;5;124m\"\u001b[39m)\n",
      "\u001b[0;31mValueError\u001b[0m: substring not found"
     ]
    }
   ],
   "source": [
    "s1.index(\"new\")"
   ]
  },
  {
   "cell_type": "code",
   "execution_count": 209,
   "id": "7626a29e",
   "metadata": {},
   "outputs": [
    {
     "name": "stdout",
     "output_type": "stream",
     "text": [
      "this is a test string with test words test times\n"
     ]
    },
    {
     "data": {
      "text/plain": [
       "-1"
      ]
     },
     "execution_count": 209,
     "metadata": {},
     "output_type": "execute_result"
    }
   ],
   "source": [
    "print(s1)\n",
    "s1.find(\"test\", 42)"
   ]
  },
  {
   "cell_type": "code",
   "execution_count": null,
   "id": "8318ac44",
   "metadata": {},
   "outputs": [],
   "source": [
    "# %load https://tinyurl.com/findall-ex\n",
    "\"\"\"\n",
    "Implement the findall() function below that should return\n",
    "a list of indices all occurrence of a substring found in \n",
    "a string (both passed as arguments to the function).\n",
    "\n",
    "Example usage:\n",
    "--------------\n",
    "   >>> quote = '''\n",
    "   ... When I see a bird\n",
    "   ... that walks like a duck\n",
    "   ... and swims like a duck\n",
    "   ... and quacks like a duck,\n",
    "   ... I call that bird a duck\n",
    "   ... '''\n",
    "\n",
    "   >>> findall(quote, \"duck\")\n",
    "   [37, 59, 82, 107]\n",
    "\n",
    "\"\"\"\n",
    "\n",
    "def findall(main_string, sub_string):\n",
    "    \"\"\"\n",
    "    Returns a list of indices of each occurrence of\n",
    "    sub_string in main_string\n",
    "\n",
    "    Example usage:\n",
    "    --------------\n",
    "        >>> poem = '''\n",
    "        ... A fly and flea flew into a flue,\n",
    "        ... said the fly to the flea 'what shall we do ?'\n",
    "        ... 'let us fly' said the flea\n",
    "        ... and said the fly 'let us flee'\n",
    "        ... and so they flew through a flaw in the the flue.\n",
    "        ... '''\n",
    "\n",
    "        >>> findall(poem, 'fly')\n",
    "        [3, 43, 88, 120]\n",
    "\n",
    "    \"\"\"\n",
    "    indices = []\n",
    "    index, skip = 0, len(sub_string)\n",
    "    while True:\n",
    "        index = main_string.find(sub_string, index)\n",
    "        if index == -1:\n",
    "            break\n",
    "        indices.append(index)\n",
    "        index += skip\n",
    "    return indices\n",
    "\n",
    "if __name__ == '__main__':\n",
    "    import doctest\n",
    "    doctest.testmod()\n",
    "    # Running this program using 'python3 findall.py' should\n",
    "    # ideally pass all tests in the doctest - on implementation\n",
    "    # of findall() function\n",
    "\n"
   ]
  },
  {
   "cell_type": "code",
   "execution_count": 214,
   "id": "4f27d523",
   "metadata": {},
   "outputs": [
    {
     "name": "stdout",
     "output_type": "stream",
     "text": [
      "this is a test string with test words test times\n"
     ]
    },
    {
     "data": {
      "text/plain": [
       "[10, 27, 38]"
      ]
     },
     "execution_count": 214,
     "metadata": {},
     "output_type": "execute_result"
    }
   ],
   "source": [
    "print(s1)\n",
    "findall(s1, \"test\")"
   ]
  },
  {
   "cell_type": "code",
   "execution_count": 211,
   "id": "ab0a3db5",
   "metadata": {},
   "outputs": [],
   "source": [
    "# %load https://tinyurl.com/findall-ex\n",
    "\"\"\"\n",
    "Implement the findall() function below that should return\n",
    "a list of indices all occurrence of a substring found in \n",
    "a string (both passed as arguments to the function).\n",
    "\n",
    "Example usage:\n",
    "--------------\n",
    "   >>> quote = '''\n",
    "   ... When I see a bird\n",
    "   ... that walks like a duck\n",
    "   ... and swims like a duck\n",
    "   ... and quacks like a duck,\n",
    "   ... I call that bird a duck\n",
    "   ... '''\n",
    "\n",
    "   >>> findall(quote, \"duck\")\n",
    "   [37, 59, 82, 107]\n",
    "\n",
    "\"\"\"\n",
    "\n",
    "def findall(main_string, sub_string):\n",
    "    \"\"\"\n",
    "    Returns a list of indices of each occurrence of\n",
    "    sub_string in main_string\n",
    "\n",
    "    Example usage:\n",
    "    --------------\n",
    "        >>> poem = '''\n",
    "        ... A fly and flea flew into a flue,\n",
    "        ... said the fly to the flea 'what shall we do ?'\n",
    "        ... 'let us fly' said the flea\n",
    "        ... and said the fly 'let us flee'\n",
    "        ... and so they flew through a flaw in the the flue.\n",
    "        ... '''\n",
    "\n",
    "        >>> findall(poem, 'fly')\n",
    "        [3, 43, 88, 120]\n",
    "\n",
    "    \"\"\"\n",
    "    indices = []\n",
    "    index, skip = 0, len(sub_string)\n",
    "    while (index := main_string.find(sub_string, index)) != -1:\n",
    "        indices.append(index)\n",
    "        index += skip\n",
    "    return indices\n",
    "\n",
    "if __name__ == '__main__':\n",
    "    import doctest\n",
    "    doctest.testmod()\n",
    "    # Running this program using 'python3 findall.py' should\n",
    "    # ideally pass all tests in the doctest - on implementation\n",
    "    # of findall() function\n",
    "\n"
   ]
  },
  {
   "cell_type": "code",
   "execution_count": 216,
   "id": "a210186f",
   "metadata": {},
   "outputs": [
    {
     "name": "stdout",
     "output_type": "stream",
     "text": [
      "True\n",
      "True\n",
      "True\n"
     ]
    }
   ],
   "source": [
    "s = \"this is a test string\"\n",
    "print(s.startswith(\"this\"))\n",
    "print(s.endswith(\"ing\"))\n",
    "print(\"test\" in s)"
   ]
  },
  {
   "cell_type": "code",
   "execution_count": null,
   "id": "b33f7709",
   "metadata": {},
   "outputs": [
    {
     "data": {
      "text/plain": [
       "True"
      ]
     },
     "execution_count": 220,
     "metadata": {},
     "output_type": "execute_result"
    }
   ],
   "source": [
    "s = \"tHis is a test string\"\n",
    "r = \"this\"\n",
    "s.lower().startswith(r)  # Inefficient!\n",
    "s[:len(r)].lower() == r  # Efficient\n"
   ]
  },
  {
   "cell_type": "code",
   "execution_count": 228,
   "id": "51eea4be",
   "metadata": {},
   "outputs": [
    {
     "name": "stdout",
     "output_type": "stream",
     "text": [
      "a='\\n\\n\\t\\r\\t    \\t hello world\\n\\t\\r'\n",
      "a.lstrip()='hello world\\n\\t\\r'\n",
      "a.rstrip()='\\n\\n\\t\\r\\t    \\t hello world'\n",
      "a.strip()='hello world'\n"
     ]
    }
   ],
   "source": [
    "a = \"\\n\\n\\t\\r\\t    \\t hello world\\n\\t\\r\"\n",
    "print(f\"{a=}\")\n",
    "print(f\"{a.lstrip()=}\")\n",
    "print(f\"{a.rstrip()=}\")\n",
    "print(f\"{a.strip()=}\")"
   ]
  },
  {
   "cell_type": "code",
   "execution_count": 232,
   "id": "f7f913ff",
   "metadata": {},
   "outputs": [
    {
     "name": "stdout",
     "output_type": "stream",
     "text": [
      ":::::hello world:::::\n",
      "hello world:::::\n",
      ":::::hello world\n",
      "hello world\n"
     ]
    }
   ],
   "source": [
    "a = \":::::hello world:::::\"\n",
    "print(a)\n",
    "print(a.lstrip(\":\"))\n",
    "print(a.rstrip(\":\"))\n",
    "print(a.strip(\":\"))"
   ]
  },
  {
   "cell_type": "code",
   "execution_count": 235,
   "id": "9028d92b",
   "metadata": {},
   "outputs": [
    {
     "name": "stdout",
     "output_type": "stream",
     "text": [
      "this\t\t\tis\n",
      "a     test\n",
      "\t  string\n",
      "['this', 'is', 'a', 'test', 'string']\n"
     ]
    },
    {
     "data": {
      "text/plain": [
       "['john', '45', 'denver']"
      ]
     },
     "execution_count": 235,
     "metadata": {},
     "output_type": "execute_result"
    }
   ],
   "source": [
    "a = \"this\\t\\t\\tis\\na     test\\n\\r\\t  string\"\n",
    "print(a)\n",
    "words = a.split() # By default, .split() method splits a string based on variable-length white-space delimiters into a list\n",
    "print(words)\n",
    "\n",
    "a = \"john,45,denver\"\n",
    "a.split(\",\")"
   ]
  },
  {
   "cell_type": "code",
   "execution_count": 239,
   "id": "878586c4",
   "metadata": {},
   "outputs": [
    {
     "name": "stdout",
     "output_type": "stream",
     "text": [
      "('john', 'sam', 'claire', 'bourne', 'emily')\n",
      "johnsamclairebourneemily\n",
      "john sam claire bourne emily\n",
      "john, sam, claire, bourne, emily\n"
     ]
    }
   ],
   "source": [
    "users = \"john\", \"sam\", \"claire\", \"bourne\", \"emily\"\n",
    "print(users)\n",
    "\n",
    "r = \"\".join(users)\n",
    "print(r)\n",
    "print(\" \".join(users))\n",
    "print(\", \".join(users))"
   ]
  },
  {
   "cell_type": "code",
   "execution_count": 242,
   "id": "8369100b",
   "metadata": {},
   "outputs": [
    {
     "name": "stdout",
     "output_type": "stream",
     "text": [
      "('john', 'sam', None, 'claire', 'bourne', 'emily')\n"
     ]
    },
    {
     "ename": "TypeError",
     "evalue": "sequence item 2: expected str instance, NoneType found",
     "output_type": "error",
     "traceback": [
      "\u001b[0;31m---------------------------------------------------------------------------\u001b[0m",
      "\u001b[0;31mTypeError\u001b[0m                                 Traceback (most recent call last)",
      "Cell \u001b[0;32mIn[242], line 4\u001b[0m\n\u001b[1;32m      1\u001b[0m users \u001b[38;5;241m=\u001b[39m \u001b[38;5;124m\"\u001b[39m\u001b[38;5;124mjohn\u001b[39m\u001b[38;5;124m\"\u001b[39m, \u001b[38;5;124m\"\u001b[39m\u001b[38;5;124msam\u001b[39m\u001b[38;5;124m\"\u001b[39m, \u001b[38;5;28;01mNone\u001b[39;00m, \u001b[38;5;124m\"\u001b[39m\u001b[38;5;124mclaire\u001b[39m\u001b[38;5;124m\"\u001b[39m, \u001b[38;5;124m\"\u001b[39m\u001b[38;5;124mbourne\u001b[39m\u001b[38;5;124m\"\u001b[39m, \u001b[38;5;124m\"\u001b[39m\u001b[38;5;124memily\u001b[39m\u001b[38;5;124m\"\u001b[39m\n\u001b[1;32m      2\u001b[0m \u001b[38;5;28mprint\u001b[39m(users)\n\u001b[0;32m----> 4\u001b[0m r \u001b[38;5;241m=\u001b[39m \u001b[38;5;124m\"\u001b[39m\u001b[38;5;124m\"\u001b[39m\u001b[38;5;241m.\u001b[39mjoin(users)\n\u001b[1;32m      5\u001b[0m \u001b[38;5;28mprint\u001b[39m(r)\n\u001b[1;32m      6\u001b[0m \u001b[38;5;28mprint\u001b[39m(\u001b[38;5;124m\"\u001b[39m\u001b[38;5;124m \u001b[39m\u001b[38;5;124m\"\u001b[39m\u001b[38;5;241m.\u001b[39mjoin(users))\n",
      "\u001b[0;31mTypeError\u001b[0m: sequence item 2: expected str instance, NoneType found"
     ]
    }
   ],
   "source": [
    "users = \"john\", \"sam\", None, \"claire\", \"bourne\", \"emily\"\n",
    "print(users)\n",
    "\n",
    "r = \"\".join(users)\n",
    "print(r)\n",
    "print(\" \".join(users))\n",
    "print(\", \".join(users))"
   ]
  },
  {
   "cell_type": "code",
   "execution_count": 244,
   "id": "2285a30d",
   "metadata": {},
   "outputs": [
    {
     "name": "stdout",
     "output_type": "stream",
     "text": [
      "True True True\n",
      "False False False\n"
     ]
    }
   ],
   "source": [
    "s = \"hello\"\n",
    "print(s.isalpha(), s.isalnum(), s.islower())\n",
    "print(s.isdigit(), s.isupper(), s.isspace())"
   ]
  },
  {
   "cell_type": "code",
   "execution_count": 248,
   "id": "c6e46b00",
   "metadata": {},
   "outputs": [
    {
     "data": {
      "text/plain": [
       "(True, True)"
      ]
     },
     "execution_count": 248,
     "metadata": {},
     "output_type": "execute_result"
    }
   ],
   "source": [
    "s = \"   hello world\\n\"\n",
    "s[-1].isspace(), s[:3].isspace()"
   ]
  },
  {
   "cell_type": "code",
   "execution_count": 249,
   "id": "91da24ff",
   "metadata": {},
   "outputs": [
    {
     "name": "stdout",
     "output_type": "stream",
     "text": [
      "CREATE TABLE users(\n",
      "    id INTEGER PRIMARY AUTO_INCREMENT,\n",
      "    name VARCHAR(32) NOT NULL,\n",
      "    dept VARCHAR(32)\n",
      ")\n",
      "\n"
     ]
    }
   ],
   "source": [
    "query = \"\"\"CREATE TABLE users(\n",
    "    id INTEGER PRIMARY AUTO_INCREMENT,\n",
    "    name VARCHAR(32) NOT NULL,\n",
    "    dept VARCHAR(32)\n",
    ")\n",
    "\"\"\"\n",
    "\n",
    "print(query)"
   ]
  },
  {
   "cell_type": "code",
   "execution_count": 250,
   "id": "d7dc1dbf",
   "metadata": {},
   "outputs": [
    {
     "name": "stdout",
     "output_type": "stream",
     "text": [
      "<!DOCTYPE html>\n",
      "<html>\n",
      "  <head><title>Sample Report</title></head>\n",
      "  <body>\n",
      "\n",
      "         <h1>Sample Report</h1>\n",
      "\n",
      "   </body>\n",
      "</html>\n",
      "\n"
     ]
    }
   ],
   "source": [
    "header = \"\"\"<!DOCTYPE html>\n",
    "<html>\n",
    "  <head><title>Sample Report</title></head>\n",
    "  <body>\n",
    "\"\"\"\n",
    "\n",
    "footer = \"\"\"\n",
    "   </body>\n",
    "</html>\n",
    "\"\"\"\n",
    "\n",
    "print(header)\n",
    "print(\" \" * 8, \"<h1>Sample Report</h1>\")\n",
    "print(footer)"
   ]
  },
  {
   "cell_type": "code",
   "execution_count": 251,
   "id": "869d84e1",
   "metadata": {},
   "outputs": [],
   "source": [
    "import docstr_test"
   ]
  },
  {
   "cell_type": "code",
   "execution_count": null,
   "id": "7a385211",
   "metadata": {},
   "outputs": [],
   "source": [
    "docstr_test.User()"
   ]
  },
  {
   "cell_type": "code",
   "execution_count": 252,
   "id": "75358c44",
   "metadata": {},
   "outputs": [
    {
     "data": {
      "text/plain": [
       "'A simple module to test doc-strings\\n\\nThis is a sample module with a few definitions\\nto try using doc-strings\\n'"
      ]
     },
     "execution_count": 252,
     "metadata": {},
     "output_type": "execute_result"
    }
   ],
   "source": [
    "docstr_test.__doc__"
   ]
  },
  {
   "cell_type": "code",
   "execution_count": 253,
   "id": "9cea6272",
   "metadata": {},
   "outputs": [
    {
     "data": {
      "text/plain": [
       "'A simple class to represent User records\\n    \\n       The user object can be used for authentication\\n       sdlkfjhkldsjfklsdj fklsjfdsf\\n       sdflksdjf lksdjf sdkfj\\n    '"
      ]
     },
     "execution_count": 253,
     "metadata": {},
     "output_type": "execute_result"
    }
   ],
   "source": [
    "docstr_test.User.__doc__"
   ]
  },
  {
   "cell_type": "code",
   "execution_count": 254,
   "id": "e0b79f6e",
   "metadata": {},
   "outputs": [
    {
     "data": {
      "text/plain": [
       "'Returns the square of x'"
      ]
     },
     "execution_count": 254,
     "metadata": {},
     "output_type": "execute_result"
    }
   ],
   "source": [
    "docstr_test.square.__doc__"
   ]
  },
  {
   "cell_type": "code",
   "execution_count": 255,
   "id": "6cbfff18",
   "metadata": {},
   "outputs": [
    {
     "name": "stdout",
     "output_type": "stream",
     "text": [
      "Cackup\temp\n",
      "emote\test\u0007ssorted\n"
     ]
    }
   ],
   "source": [
    "wp = \"C:\\backup\\temp\\network\\remote\\test\\assorted\"\n",
    "print(wp)"
   ]
  },
  {
   "cell_type": "code",
   "execution_count": 256,
   "id": "ba648290",
   "metadata": {},
   "outputs": [
    {
     "name": "stdout",
     "output_type": "stream",
     "text": [
      "C:\\backup\\temp\\network\\remote\\test\\assorted\n"
     ]
    }
   ],
   "source": [
    "wp = \"C:\\\\backup\\\\temp\\\\network\\\\remote\\\\test\\\\assorted\"\n",
    "print(wp)"
   ]
  },
  {
   "cell_type": "code",
   "execution_count": null,
   "id": "f316a698",
   "metadata": {},
   "outputs": [
    {
     "name": "stdout",
     "output_type": "stream",
     "text": [
      "C:\\backup\\temp\\network\\remote\\test\\assorted\n"
     ]
    }
   ],
   "source": [
    "# r-strings a.k.a raw-literal-string notation\n",
    "wp = r\"C:\\backup\\temp\\network\\remote\\test\\assorted\"\n",
    "print(wp)\n",
    "\n",
    "# NOTE: It is recommended to create regex patterns using r-strings.\n",
    "# For example, \\b is interpolated to backspace character in python strings\n",
    "# However, \\b in regex acts as word-boundary."
   ]
  },
  {
   "cell_type": "code",
   "execution_count": 260,
   "id": "96fbdcc7",
   "metadata": {},
   "outputs": [
    {
     "name": "stdout",
     "output_type": "stream",
     "text": [
      "Hello world <class 'str'>\n",
      "b'Hello world' <class 'bytes'>\n"
     ]
    }
   ],
   "source": [
    "a = \"Hello world\"\n",
    "print(a, type(a))\n",
    "\n",
    "b = b\"Hello world\"\n",
    "print(b, type(b))"
   ]
  },
  {
   "cell_type": "code",
   "execution_count": null,
   "id": "538164dd",
   "metadata": {},
   "outputs": [],
   "source": [
    "# Difference between str and bytes ?\n",
    "# str objects are sequences of \"unicode\" characters\n",
    "# bytes objects are sequences of byte values."
   ]
  },
  {
   "cell_type": "code",
   "execution_count": null,
   "id": "59272c19",
   "metadata": {},
   "outputs": [
    {
     "name": "stdout",
     "output_type": "stream",
     "text": [
      "Aಅಆअआ\n",
      "5\n"
     ]
    }
   ],
   "source": [
    "s = \"A\\u0c85\\u0c86\\u0905\\u0906\"\n",
    "print(s)\n",
    "# Strings str are used to represent human-readable textual data with\n",
    "# support for different language character and also special \n",
    "# iconography (emojis, copyright, trademark, degree, etc...)\n",
    "\n",
    "print(len(s))"
   ]
  },
  {
   "cell_type": "code",
   "execution_count": 269,
   "id": "9a07a917",
   "metadata": {},
   "outputs": [
    {
     "name": "stdout",
     "output_type": "stream",
     "text": [
      "abcअआइ 6\n",
      "b'abc\\xe0\\xa4\\x85\\xe0\\xa4\\x86\\xe0\\xa4\\x87' 12\n",
      "b'abc\\xe0\\xa4\\x85\\xe0\\xa4\\x86\\xe0\\xa4\\x87' 12\n",
      "abcअआइ\n",
      "abcअआइ\n"
     ]
    }
   ],
   "source": [
    "# bytes are used to represent raw binary data.\n",
    "s = \"abc\\u0905\\u0906\\u0907\"\n",
    "print(s, len(s))\n",
    "\n",
    "b = bytes(s, \"utf8\")\n",
    "print(b, len(b))\n",
    "\n",
    "b1 = s.encode(\"utf8\")\n",
    "print(b1, len(b1))\n",
    "\n",
    "s1 = b.decode(\"utf8\")\n",
    "print(s1)\n",
    "\n",
    "s2 = str(b1, \"utf8\")\n",
    "print(s2)"
   ]
  },
  {
   "cell_type": "code",
   "execution_count": 272,
   "id": "45e2ecd8",
   "metadata": {},
   "outputs": [
    {
     "name": "stdout",
     "output_type": "stream",
     "text": [
      "b'\\xe5\\xf2\\x00Eg\\x12'\n"
     ]
    },
    {
     "ename": "UnicodeDecodeError",
     "evalue": "'utf-8' codec can't decode byte 0xe5 in position 0: invalid continuation byte",
     "output_type": "error",
     "traceback": [
      "\u001b[0;31m---------------------------------------------------------------------------\u001b[0m",
      "\u001b[0;31mUnicodeDecodeError\u001b[0m                        Traceback (most recent call last)",
      "Cell \u001b[0;32mIn[272], line 4\u001b[0m\n\u001b[1;32m      1\u001b[0m b \u001b[38;5;241m=\u001b[39m \u001b[38;5;124mb\u001b[39m\u001b[38;5;124m\"\u001b[39m\u001b[38;5;130;01m\\xe5\u001b[39;00m\u001b[38;5;130;01m\\xf2\u001b[39;00m\u001b[38;5;130;01m\\x00\u001b[39;00m\u001b[38;5;130;01m\\x45\u001b[39;00m\u001b[38;5;130;01m\\x67\u001b[39;00m\u001b[38;5;130;01m\\x12\u001b[39;00m\u001b[38;5;124m\"\u001b[39m\n\u001b[1;32m      2\u001b[0m \u001b[38;5;28mprint\u001b[39m(b)\n\u001b[0;32m----> 4\u001b[0m s \u001b[38;5;241m=\u001b[39m b\u001b[38;5;241m.\u001b[39mdecode(\u001b[38;5;124m\"\u001b[39m\u001b[38;5;124mutf8\u001b[39m\u001b[38;5;124m\"\u001b[39m)\n",
      "\u001b[0;31mUnicodeDecodeError\u001b[0m: 'utf-8' codec can't decode byte 0xe5 in position 0: invalid continuation byte"
     ]
    }
   ],
   "source": [
    "b = b\"\\xe5\\xf2\\x00\\x45\\x67\\x12\"\n",
    "print(b)\n",
    "\n",
    "s = b.decode(\"utf8\")"
   ]
  },
  {
   "cell_type": "markdown",
   "id": "bc554289",
   "metadata": {},
   "source": [
    "In Python, we can construct a list or a tuple from *any* iterables using\n",
    "the `list()` or `tuple()` constructors"
   ]
  },
  {
   "cell_type": "code",
   "execution_count": 275,
   "id": "f46818d7",
   "metadata": {},
   "outputs": [
    {
     "data": {
      "text/plain": [
       "(0, 1, 2, 3, 4, 5, 6, 7, 8, 9)"
      ]
     },
     "execution_count": 275,
     "metadata": {},
     "output_type": "execute_result"
    }
   ],
   "source": [
    "tuple(range(10))"
   ]
  },
  {
   "cell_type": "code",
   "execution_count": 274,
   "id": "3dca1696",
   "metadata": {},
   "outputs": [
    {
     "data": {
      "text/plain": [
       "[0, 1, 2, 3, 4, 5, 6, 7, 8, 9]"
      ]
     },
     "execution_count": 274,
     "metadata": {},
     "output_type": "execute_result"
    }
   ],
   "source": [
    "list(range(10))"
   ]
  },
  {
   "cell_type": "code",
   "execution_count": 276,
   "id": "9cef7c6c",
   "metadata": {},
   "outputs": [
    {
     "name": "stdout",
     "output_type": "stream",
     "text": [
      "['h', 'e', 'l', 'l', 'o']\n",
      "('h', 'e', 'l', 'l', 'o')\n"
     ]
    }
   ],
   "source": [
    "s = \"hello\"\n",
    "l = list(s)\n",
    "t = tuple(s)\n",
    "print(l)\n",
    "print(t)"
   ]
  },
  {
   "cell_type": "code",
   "execution_count": 280,
   "id": "d967ca70",
   "metadata": {},
   "outputs": [
    {
     "name": "stdout",
     "output_type": "stream",
     "text": [
      "('H', 'e', 'l', 'l', 'o')\n",
      "(72, 101, 108, 108, 111)\n",
      "b'Hello'\n",
      "('H', 'e', 'l', 'l', 'o')\n"
     ]
    }
   ],
   "source": [
    "s = \"Hello\"\n",
    "b = b\"Hello\"\n",
    "\n",
    "t1 = tuple(s)\n",
    "t2 = tuple(b)\n",
    "print(t1)\n",
    "print(t2)\n",
    "\n",
    "b1 = bytes(t2)\n",
    "print(b1)\n",
    "\n",
    "s1 = str(t1)\n",
    "print(s1)"
   ]
  },
  {
   "cell_type": "code",
   "execution_count": 282,
   "id": "43576908",
   "metadata": {},
   "outputs": [
    {
     "name": "stdout",
     "output_type": "stream",
     "text": [
      "(97, 98, 99, 100, 101, 102, 103, 104)\n",
      "b'abcdefgh'\n"
     ]
    }
   ],
   "source": [
    "a = b\"abcdefgh\"\n",
    "t = tuple(a)\n",
    "print(t)\n",
    "\n",
    "b = bytes(t)\n",
    "print(b)"
   ]
  },
  {
   "cell_type": "code",
   "execution_count": 284,
   "id": "b9fc5548",
   "metadata": {},
   "outputs": [
    {
     "name": "stdout",
     "output_type": "stream",
     "text": [
      "('a', 'b', 'c', 'd', 'e', 'f', 'g', 'h')\n",
      "('a', 'b', 'c', 'd', 'e', 'f', 'g', 'h')\n",
      "abcdefgh\n"
     ]
    }
   ],
   "source": [
    "a = \"abcdefgh\"\n",
    "t = tuple(a)\n",
    "print(t)\n",
    "\n",
    "s = str(t)\n",
    "print(s)\n",
    "print(\"\".join(t))"
   ]
  },
  {
   "cell_type": "code",
   "execution_count": 285,
   "id": "e0980a70",
   "metadata": {},
   "outputs": [
    {
     "name": "stdout",
     "output_type": "stream",
     "text": [
      "h\n",
      "e\n",
      "l\n",
      "l\n",
      "o\n"
     ]
    }
   ],
   "source": [
    "a = \"hello\"\n",
    "for v in a:\n",
    "    print(v)"
   ]
  },
  {
   "cell_type": "code",
   "execution_count": 286,
   "id": "99328a8d",
   "metadata": {},
   "outputs": [
    {
     "name": "stdout",
     "output_type": "stream",
     "text": [
      "104\n",
      "101\n",
      "108\n",
      "108\n",
      "111\n"
     ]
    }
   ],
   "source": [
    "a = b\"hello\"\n",
    "for v in a:\n",
    "    print(v)"
   ]
  },
  {
   "cell_type": "code",
   "execution_count": 289,
   "id": "ec69b1a2",
   "metadata": {},
   "outputs": [
    {
     "name": "stdout",
     "output_type": "stream",
     "text": [
      "h 104\n",
      "hel b'hel'\n"
     ]
    }
   ],
   "source": [
    "a = \"hello\"\n",
    "b = b\"hello\"\n",
    "\n",
    "print(a[0], b[0])\n",
    "print(a[:3], b[:3])"
   ]
  },
  {
   "cell_type": "code",
   "execution_count": 290,
   "id": "17e56966",
   "metadata": {},
   "outputs": [
    {
     "data": {
      "text/plain": [
       "b'AN]CRYn'"
      ]
     },
     "execution_count": 290,
     "metadata": {},
     "output_type": "execute_result"
    }
   ],
   "source": [
    "nums = [65, 78, 93, 67, 82, 89, 110]\n",
    "bytes(nums)"
   ]
  },
  {
   "cell_type": "code",
   "execution_count": 291,
   "id": "fa6d2cdd",
   "metadata": {},
   "outputs": [
    {
     "ename": "ValueError",
     "evalue": "bytes must be in range(0, 256)",
     "output_type": "error",
     "traceback": [
      "\u001b[0;31m---------------------------------------------------------------------------\u001b[0m",
      "\u001b[0;31mValueError\u001b[0m                                Traceback (most recent call last)",
      "Cell \u001b[0;32mIn[291], line 2\u001b[0m\n\u001b[1;32m      1\u001b[0m nums \u001b[38;5;241m=\u001b[39m [\u001b[38;5;241m65\u001b[39m, \u001b[38;5;241m783\u001b[39m, \u001b[38;5;241m93\u001b[39m, \u001b[38;5;241m67\u001b[39m, \u001b[38;5;241m82\u001b[39m, \u001b[38;5;241m89\u001b[39m, \u001b[38;5;241m110\u001b[39m]\n\u001b[0;32m----> 2\u001b[0m \u001b[38;5;28mbytes\u001b[39m(nums)\n",
      "\u001b[0;31mValueError\u001b[0m: bytes must be in range(0, 256)"
     ]
    }
   ],
   "source": [
    "nums = [65, 783, 93, 67, 82, 89, 110]\n",
    "bytes(nums)"
   ]
  },
  {
   "cell_type": "code",
   "execution_count": 292,
   "id": "d31e8a40",
   "metadata": {},
   "outputs": [
    {
     "name": "stdout",
     "output_type": "stream",
     "text": [
      "Hello Alice, Welcome to Hyatt.\n",
      "Hyatt is a great place to stay.\n",
      "Have a nice day ahead Alice.\n",
      "\n"
     ]
    }
   ],
   "source": [
    "s = \"\"\"Hello %s, Welcome to %s.\n",
    "%s is a great place to stay.\n",
    "Have a nice day ahead %s.\n",
    "\"\"\"\n",
    "\n",
    "r = s % (\"Alice\", \"Hyatt\", \"Hyatt\", \"Alice\")\n",
    "print(r)"
   ]
  },
  {
   "cell_type": "code",
   "execution_count": 293,
   "id": "e28124bb",
   "metadata": {},
   "outputs": [
    {
     "name": "stdout",
     "output_type": "stream",
     "text": [
      "Hello Alice, Welcome to Hyatt\n",
      "Hyatt is a great place to stay.\n",
      "Have a nice day Alice\n",
      "\n"
     ]
    }
   ],
   "source": [
    "s = \"\"\"Hello {0}, Welcome to {1}\n",
    "{1} is a great place to stay.\n",
    "Have a nice day {0}\n",
    "\"\"\"\n",
    "\n",
    "r = s.format(\"Alice\", \"Hyatt\")\n",
    "print(r)"
   ]
  },
  {
   "cell_type": "code",
   "execution_count": 295,
   "id": "909197a6",
   "metadata": {},
   "outputs": [
    {
     "name": "stdout",
     "output_type": "stream",
     "text": [
      "Hello Alice, Welcome to Hyatt\n",
      "Hyatt is a great place to stay.\n",
      "Have a nice day Alice\n",
      "\n"
     ]
    }
   ],
   "source": [
    "s = \"\"\"Hello {guest}, Welcome to {hotel}\n",
    "{hotel} is a great place to stay.\n",
    "Have a nice day {guest}\n",
    "\"\"\"\n",
    "\n",
    "r = s.format(guest=\"Alice\", hotel=\"Hyatt\")\n",
    "print(r)"
   ]
  },
  {
   "cell_type": "code",
   "execution_count": 304,
   "id": "2669890a",
   "metadata": {},
   "outputs": [
    {
     "name": "stdout",
     "output_type": "stream",
     "text": [
      "Score:  45  \n",
      "Score: 3545 \n",
      "Score:   3  \n",
      "Score:  667 \n",
      "Score:  111 \n",
      "Score:  77  \n",
      "Score:   8  \n"
     ]
    }
   ],
   "source": [
    "scores = (45, 3545, 3, 667, 111, 77, 8)\n",
    "output = \"Score: {:^5d}\"\n",
    "\n",
    "for s in scores:\n",
    "    print(output.format(s))"
   ]
  },
  {
   "cell_type": "code",
   "execution_count": 308,
   "id": "ceda8c66",
   "metadata": {},
   "outputs": [
    {
     "name": "stdout",
     "output_type": "stream",
     "text": [
      "1,234,220,045,329\n"
     ]
    }
   ],
   "source": [
    "num = 1234220045329\n",
    "print(\"{:,d}\".format(num))"
   ]
  },
  {
   "cell_type": "code",
   "execution_count": 294,
   "id": "e65e3998",
   "metadata": {},
   "outputs": [
    {
     "data": {
      "text/plain": [
       "'Decimal: 33, Binary: 100001, Hex: 21, Oct: 41'"
      ]
     },
     "execution_count": 294,
     "metadata": {},
     "output_type": "execute_result"
    }
   ],
   "source": [
    "num = \"Decimal: {0:d}, Binary: {0:b}, Hex: {0:x}, Oct: {0:o}\"\n",
    "\n",
    "num.format(33)"
   ]
  },
  {
   "cell_type": "code",
   "execution_count": 316,
   "id": "14e9fa6c",
   "metadata": {},
   "outputs": [
    {
     "name": "stdout",
     "output_type": "stream",
     "text": [
      "Player: John, score: 5.6\n",
      "Player: JOHN, score: 56.0\n",
      "John\n",
      "player='John' 3*2=6\n"
     ]
    }
   ],
   "source": [
    "player = \"John\"\n",
    "score = 5.6\n",
    "\n",
    "output = \"Player: {}, score: {}\"\n",
    "print(output.format(player, score))\n",
    "\n",
    "output = f\"Player: {player.upper()}, score: {score * 10}\"\n",
    "print(output)\n",
    "\n",
    "print(f\"{player}\")\n",
    "print(f\"{player=} {3*2=}\")"
   ]
  },
  {
   "cell_type": "code",
   "execution_count": null,
   "id": "0bcfdab3",
   "metadata": {},
   "outputs": [
    {
     "name": "stdout",
     "output_type": "stream",
     "text": [
      "this is a test string <class 'str'>\n",
      "bytearray(b'this is a test string')\n"
     ]
    }
   ],
   "source": [
    "# bytearray are mutable equivalent of bytes\n",
    "\n",
    "a = \"this is a test string\"\n",
    "print(a, type(a))\n",
    "\n",
    "b = bytearray(a, \"utf8\")\n",
    "print(b)"
   ]
  },
  {
   "cell_type": "code",
   "execution_count": 328,
   "id": "cb458f4d",
   "metadata": {},
   "outputs": [
    {
     "name": "stdout",
     "output_type": "stream",
     "text": [
      "b'Hello world' <class 'bytes'>\n",
      "bytearray(b'Hello world') <class 'bytearray'>\n",
      "bytearray(b'aello world')\n",
      "bytearray(b'aello new world')\n",
      "bytearray(b'aello old world')\n",
      "bytearray(b'aello world')\n"
     ]
    }
   ],
   "source": [
    "a = b\"Hello world\"\n",
    "print(a, type(a))\n",
    "\n",
    "b = bytearray(a)\n",
    "print(b, type(b))\n",
    "\n",
    "b[0] = 97\n",
    "print(b)\n",
    "b[6:6] = b\"new \"\n",
    "print(b)\n",
    "b[6:9] = b\"old\"\n",
    "print(b)\n",
    "\n",
    "del b[6:10]\n",
    "print(b)"
   ]
  },
  {
   "cell_type": "code",
   "execution_count": 335,
   "id": "00bf0dd9",
   "metadata": {},
   "outputs": [
    {
     "name": "stdout",
     "output_type": "stream",
     "text": [
      "even_total=238, odd_total=191\n"
     ]
    }
   ],
   "source": [
    "values = [4, 22, 78, 5, 43, 12, 78, 44, 23, 89, 31]\n",
    "\n",
    "odd_total = 0\n",
    "even_total = 0\n",
    "\n",
    "all_ok = True\n",
    "\n",
    "for v in values:\n",
    "    if v < 0:\n",
    "        all_ok = False\n",
    "        even_total = odd_total = 0\n",
    "        break\n",
    "    if v % 2 == 0:\n",
    "        even_total += v\n",
    "    else:\n",
    "        odd_total += v\n",
    "\n",
    "if all_ok:\n",
    "    print(f\"{even_total=}, {odd_total=}\")\n",
    "else:\n",
    "    print(\"Input dataset is corrupt...\")\n"
   ]
  },
  {
   "cell_type": "code",
   "execution_count": null,
   "id": "e941004a",
   "metadata": {},
   "outputs": [
    {
     "name": "stdout",
     "output_type": "stream",
     "text": [
      "Input dataset is corrupt...\n"
     ]
    }
   ],
   "source": [
    "values = [4, 22, 78, -5, 43, 12, 78, 44, 23, 89, 31]\n",
    "\n",
    "odd_total = 0\n",
    "even_total = 0\n",
    "\n",
    "for v in values:\n",
    "    if v % 2 == 0:\n",
    "        even_total += v\n",
    "    else:\n",
    "        odd_total += v\n",
    "\n",
    "    if v < 0:\n",
    "        print(\"Input dataset is corrupt...\")  \n",
    "        even_total = odd_total = 0\n",
    "        break\n",
    "else: # DO NOT RE-INDENT! Read for..else in Python tutorial\n",
    "    print(f\"{even_total=}, {odd_total=}\")\n"
   ]
  },
  {
   "cell_type": "code",
   "execution_count": 340,
   "id": "11b4267f",
   "metadata": {},
   "outputs": [
    {
     "name": "stdout",
     "output_type": "stream",
     "text": [
      "Accumulated total = 231\n"
     ]
    }
   ],
   "source": [
    "values = [11, 22, 33, 44, 55, 66]\n",
    "total = 0\n",
    "\n",
    "while values:\n",
    "    v = values.pop(0)\n",
    "    if v < 0:\n",
    "        print(\"values corrupt, bailing out!\")\n",
    "        break\n",
    "    total += v\n",
    "else:\n",
    "    print(\"Accumulated total =\", total)\n"
   ]
  },
  {
   "cell_type": "code",
   "execution_count": 341,
   "id": "b2634818",
   "metadata": {},
   "outputs": [
    {
     "name": "stdout",
     "output_type": "stream",
     "text": [
      "Accumulated total = 231\n"
     ]
    }
   ],
   "source": [
    "values = [11, 22, 33, 44, 55, 66]\n",
    "total = 0\n",
    "\n",
    "while values:\n",
    "    if (v := values.pop(0)) < 0:\n",
    "        print(\"values corrupt, bailing out!\")\n",
    "        break\n",
    "    total += v\n",
    "else:\n",
    "    print(\"Accumulated total =\", total)\n"
   ]
  },
  {
   "cell_type": "markdown",
   "id": "9fa348ee",
   "metadata": {},
   "source": [
    "### In Python, errors can be of two broad categories:\n",
    " 1. Parse-time errors:\n",
    "     - SyntaxError\n",
    "     - IndentationError\n",
    "     - TabError\n",
    " 2. Runtime errors:\n",
    "     - NameError, ValueError, TypeError\n",
    "     - IndexError, KeyError, UnicodeDecodeError, ZeroDivisionError\n",
    "     - ...\n",
    "     "
   ]
  },
  {
   "cell_type": "code",
   "execution_count": 343,
   "id": "59f33643",
   "metadata": {},
   "outputs": [
    {
     "name": "stdout",
     "output_type": "stream",
     "text": [
      "Access to undefined variable ?  name 'var1' is not defined\n"
     ]
    }
   ],
   "source": [
    "try:\n",
    "    print(var1)\n",
    "except NameError as e:\n",
    "    print(\"Access to undefined variable ? \", e)\n",
    "    "
   ]
  },
  {
   "cell_type": "code",
   "execution_count": 344,
   "id": "ab62cd3f",
   "metadata": {},
   "outputs": [
    {
     "ename": "TypeError",
     "evalue": "int() argument must be a string, a bytes-like object or a real number, not 'list'",
     "output_type": "error",
     "traceback": [
      "\u001b[0;31m---------------------------------------------------------------------------\u001b[0m",
      "\u001b[0;31mTypeError\u001b[0m                                 Traceback (most recent call last)",
      "Cell \u001b[0;32mIn[344], line 2\u001b[0m\n\u001b[1;32m      1\u001b[0m a \u001b[38;5;241m=\u001b[39m [\u001b[38;5;241m10\u001b[39m, \u001b[38;5;241m20\u001b[39m, \u001b[38;5;241m30\u001b[39m]\n\u001b[0;32m----> 2\u001b[0m b \u001b[38;5;241m=\u001b[39m \u001b[38;5;28mint\u001b[39m(a)\n",
      "\u001b[0;31mTypeError\u001b[0m: int() argument must be a string, a bytes-like object or a real number, not 'list'"
     ]
    }
   ],
   "source": [
    "a = [10, 20, 30]\n",
    "b = int(a)"
   ]
  },
  {
   "cell_type": "code",
   "execution_count": 345,
   "id": "59f8d462",
   "metadata": {},
   "outputs": [
    {
     "ename": "TypeError",
     "evalue": "unsupported operand type(s) for +: 'int' and 'str'",
     "output_type": "error",
     "traceback": [
      "\u001b[0;31m---------------------------------------------------------------------------\u001b[0m",
      "\u001b[0;31mTypeError\u001b[0m                                 Traceback (most recent call last)",
      "Cell \u001b[0;32mIn[345], line 3\u001b[0m\n\u001b[1;32m      1\u001b[0m a \u001b[38;5;241m=\u001b[39m \u001b[38;5;241m10\u001b[39m\n\u001b[1;32m      2\u001b[0m b \u001b[38;5;241m=\u001b[39m \u001b[38;5;124m\"\u001b[39m\u001b[38;5;124m20\u001b[39m\u001b[38;5;124m\"\u001b[39m\n\u001b[0;32m----> 3\u001b[0m a \u001b[38;5;241m+\u001b[39m b\n",
      "\u001b[0;31mTypeError\u001b[0m: unsupported operand type(s) for +: 'int' and 'str'"
     ]
    }
   ],
   "source": [
    "a = 10\n",
    "b = \"20\"\n",
    "a + b"
   ]
  },
  {
   "cell_type": "code",
   "execution_count": 346,
   "id": "57f7e890",
   "metadata": {},
   "outputs": [
    {
     "ename": "ValueError",
     "evalue": "invalid literal for int() with base 10: 'hello'",
     "output_type": "error",
     "traceback": [
      "\u001b[0;31m---------------------------------------------------------------------------\u001b[0m",
      "\u001b[0;31mValueError\u001b[0m                                Traceback (most recent call last)",
      "Cell \u001b[0;32mIn[346], line 2\u001b[0m\n\u001b[1;32m      1\u001b[0m a \u001b[38;5;241m=\u001b[39m \u001b[38;5;124m\"\u001b[39m\u001b[38;5;124mhello\u001b[39m\u001b[38;5;124m\"\u001b[39m\n\u001b[0;32m----> 2\u001b[0m b \u001b[38;5;241m=\u001b[39m \u001b[38;5;28mint\u001b[39m(a)\n",
      "\u001b[0;31mValueError\u001b[0m: invalid literal for int() with base 10: 'hello'"
     ]
    }
   ],
   "source": [
    "a = \"hello\"\n",
    "b = int(a)"
   ]
  },
  {
   "cell_type": "code",
   "execution_count": null,
   "id": "1a658358",
   "metadata": {},
   "outputs": [],
   "source": [
    "## Weekend exercise:\n",
    "\n",
    "data = [45, \"hello\", 4.5, 56, \"world\", None, 23, 5.6]\n",
    "\n",
    "def organize_store(d):\n",
    "    pass # TODO\n",
    "\n",
    "result = organize_store(data)\n",
    "print(result)\n",
    "# OUT: {\"int\": [45, 56, 23], \"str\": [\"hello\", \"world\"], \"float\": [4.5, 5.6], \"NoneType\": [None]}\n"
   ]
  }
 ],
 "metadata": {
  "kernelspec": {
   "display_name": "base",
   "language": "python",
   "name": "python3"
  },
  "language_info": {
   "codemirror_mode": {
    "name": "ipython",
    "version": 3
   },
   "file_extension": ".py",
   "mimetype": "text/x-python",
   "name": "python",
   "nbconvert_exporter": "python",
   "pygments_lexer": "ipython3",
   "version": "3.12.7"
  }
 },
 "nbformat": 4,
 "nbformat_minor": 5
}
