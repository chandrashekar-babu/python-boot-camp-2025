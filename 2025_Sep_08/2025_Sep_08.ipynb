{
 "cells": [
  {
   "cell_type": "markdown",
   "id": "45cd0cfe",
   "metadata": {},
   "source": [
    "# Python Bootcamp 2025\n",
    "### Day 3: Lists, Tuples and Sets\n",
    "\n",
    "#### Planned Agenda\n",
    " - Tuple: sequence operations and methods\n",
    " - Builtin Iteration helpers: `range()`, `zip()`, `enumerate()`, `reversed()`, `sorted()`\n",
    " - Builtin reduction functions: `min()`, `max()`, `all()`, `any()`, `sum()`\n",
    " - Using `map()`, `filter()` and comprehensions\n",
    " - Using `lambda` expressions with higher-order functions\n",
    " - Lists: operations and methods\n",
    " - Sets: overview, operations and methods\n",
    " - List comprehensions, tuple comprehensions, set comprehensions and generator comprehensions\n",
    " - Using `collections.deque()`\n",
    " - Using `heapq`, `bisect` and `array` modules\n",
    " - An overview on `itertools` module."
   ]
  },
  {
   "cell_type": "code",
   "execution_count": 1,
   "id": "e101355a",
   "metadata": {},
   "outputs": [
    {
     "name": "stdout",
     "output_type": "stream",
     "text": [
      "(10, 20, 30, 40) <class 'tuple'>\n"
     ]
    }
   ],
   "source": [
    "a = (10, 20, 30, 40)\n",
    "print(a, type(a))"
   ]
  },
  {
   "cell_type": "code",
   "execution_count": 2,
   "id": "46425b5b",
   "metadata": {},
   "outputs": [
    {
     "name": "stdout",
     "output_type": "stream",
     "text": [
      "(10, 20, 30, 40) <class 'tuple'>\n"
     ]
    }
   ],
   "source": [
    "a = 10, 20, 30, 40\n",
    "print(a, type(a))"
   ]
  },
  {
   "cell_type": "code",
   "execution_count": 3,
   "id": "543fad1c",
   "metadata": {},
   "outputs": [
    {
     "name": "stdout",
     "output_type": "stream",
     "text": [
      "(10, 20, 90) <class 'tuple'>\n"
     ]
    }
   ],
   "source": [
    "a = 10, 20, 30 * 3\n",
    "print(a, type(a))"
   ]
  },
  {
   "cell_type": "code",
   "execution_count": 4,
   "id": "35398c74",
   "metadata": {},
   "outputs": [
    {
     "name": "stdout",
     "output_type": "stream",
     "text": [
      "(10, 20, 30, 10, 20, 30, 10, 20, 30) <class 'tuple'>\n"
     ]
    }
   ],
   "source": [
    "a = (10, 20, 30) * 3\n",
    "print(a, type(a))"
   ]
  },
  {
   "cell_type": "code",
   "execution_count": 5,
   "id": "b3592343",
   "metadata": {},
   "outputs": [
    {
     "name": "stdout",
     "output_type": "stream",
     "text": [
      "(10, 20) <class 'tuple'>\n"
     ]
    }
   ],
   "source": [
    "a = 10, 20\n",
    "print(a, type(a))"
   ]
  },
  {
   "cell_type": "code",
   "execution_count": 6,
   "id": "8e4a10dc",
   "metadata": {},
   "outputs": [
    {
     "name": "stdout",
     "output_type": "stream",
     "text": [
      "10 <class 'int'>\n"
     ]
    }
   ],
   "source": [
    "a = (10)\n",
    "print(a, type(a))"
   ]
  },
  {
   "cell_type": "code",
   "execution_count": 13,
   "id": "8fad2ff9",
   "metadata": {},
   "outputs": [
    {
     "name": "stdout",
     "output_type": "stream",
     "text": [
      "(10,) <class 'tuple'>\n",
      "() <class 'tuple'>\n"
     ]
    }
   ],
   "source": [
    "a = 10,  # A tuple of one element\n",
    "a = (10,)\n",
    "print(a, type(a))\n",
    "\n",
    "a = () # Empty tuple\n",
    "print(a, type(a))"
   ]
  },
  {
   "cell_type": "code",
   "execution_count": 21,
   "id": "e363b238",
   "metadata": {},
   "outputs": [
    {
     "name": "stdout",
     "output_type": "stream",
     "text": [
      "10\n",
      "10 20 100 90\n",
      "(30, 40, 50)\n",
      "(10, 20, 30, 40, 50)\n",
      "(60, 70, 80, 90, 100)\n",
      "(10, 30, 50, 70, 90)\n",
      "(100, 90, 80, 70, 60, 50, 40, 30, 20, 10)\n"
     ]
    }
   ],
   "source": [
    "a = 10, 20, 30, 40, 50, 60, 70, 80, 90, 100\n",
    "print(len(a))\n",
    "print(a[0], a[1], a[-1], a[-2])\n",
    "print(a[2:5])\n",
    "print(a[:5])\n",
    "print(a[-5:])\n",
    "print(a[::2])\n",
    "print(a[::-1])"
   ]
  },
  {
   "cell_type": "code",
   "execution_count": 25,
   "id": "451054b2",
   "metadata": {},
   "outputs": [
    {
     "name": "stdout",
     "output_type": "stream",
     "text": [
      "<class 'tuple'>\n",
      "10 <class 'int'>\n",
      "2\n"
     ]
    }
   ],
   "source": [
    "a = (10, \"Hello\", 20.5, [1, 2, 3], (4, 5), {6, 7}, {'name': 'Alice', 'age': 30})\n",
    "print(type(a))\n",
    "print(a[0], type(a[0]))\n",
    "print(a[3][1])"
   ]
  },
  {
   "cell_type": "code",
   "execution_count": 26,
   "id": "c1c3184c",
   "metadata": {},
   "outputs": [
    {
     "name": "stdout",
     "output_type": "stream",
     "text": [
      "(10, 20, 30, 40, 50, 60)\n",
      "(10, 20, 30, 10, 20, 30, 10, 20, 30)\n",
      "True\n"
     ]
    }
   ],
   "source": [
    "# Tuple operators\n",
    "a = 10, 20, 30\n",
    "b = 40, 50, 60\n",
    "print(a + b) # Concatenation\n",
    "print(a * 3) # Repetition\n",
    "print(20 in a) # Membership"
   ]
  },
  {
   "cell_type": "code",
   "execution_count": 27,
   "id": "fee873b0",
   "metadata": {},
   "outputs": [
    {
     "name": "stdout",
     "output_type": "stream",
     "text": [
      "3\n",
      "2\n"
     ]
    }
   ],
   "source": [
    "# Tuple methods\n",
    "a = (10, 20, 30, 20, 40, 20)\n",
    "print(a.count(20)) # Count occurrences of 20\n",
    "print(a.index(30)) # Find index of first occurrence of 30\n"
   ]
  },
  {
   "cell_type": "code",
   "execution_count": 29,
   "id": "f57acc7e",
   "metadata": {},
   "outputs": [
    {
     "name": "stdout",
     "output_type": "stream",
     "text": [
      "['__add__', '__class__', '__class_getitem__', '__contains__', '__delattr__', '__dir__', '__doc__', '__eq__', '__format__', '__ge__', '__getattribute__', '__getitem__', '__getnewargs__', '__getstate__', '__gt__', '__hash__', '__init__', '__init_subclass__', '__iter__', '__le__', '__len__', '__lt__', '__mul__', '__ne__', '__new__', '__reduce__', '__reduce_ex__', '__repr__', '__rmul__', '__setattr__', '__sizeof__', '__str__', '__subclasshook__', 'count', 'index']\n"
     ]
    }
   ],
   "source": [
    "print(dir(a))"
   ]
  },
  {
   "cell_type": "code",
   "execution_count": 30,
   "id": "9210ed7d",
   "metadata": {},
   "outputs": [
    {
     "ename": "TypeError",
     "evalue": "'tuple' object does not support item assignment",
     "output_type": "error",
     "traceback": [
      "\u001b[0;31m---------------------------------------------------------------------------\u001b[0m",
      "\u001b[0;31mTypeError\u001b[0m                                 Traceback (most recent call last)",
      "Cell \u001b[0;32mIn[30], line 3\u001b[0m\n\u001b[1;32m      1\u001b[0m \u001b[38;5;66;03m# Tuples are immutable\u001b[39;00m\n\u001b[1;32m      2\u001b[0m a \u001b[38;5;241m=\u001b[39m (\u001b[38;5;241m10\u001b[39m, \u001b[38;5;241m20\u001b[39m, \u001b[38;5;241m30\u001b[39m)\n\u001b[0;32m----> 3\u001b[0m a[\u001b[38;5;241m0\u001b[39m] \u001b[38;5;241m=\u001b[39m \u001b[38;5;241m100\u001b[39m\n",
      "\u001b[0;31mTypeError\u001b[0m: 'tuple' object does not support item assignment"
     ]
    }
   ],
   "source": [
    "# Tuples are immutable\n",
    "a = (10, 20, 30)\n",
    "a[0] = 100  # This will raise a TypeError"
   ]
  },
  {
   "cell_type": "code",
   "execution_count": 33,
   "id": "64267927",
   "metadata": {},
   "outputs": [
    {
     "name": "stdout",
     "output_type": "stream",
     "text": [
      "(10, [200, 30], 40)\n"
     ]
    },
    {
     "ename": "TypeError",
     "evalue": "'tuple' object does not support item assignment",
     "output_type": "error",
     "traceback": [
      "\u001b[0;31m---------------------------------------------------------------------------\u001b[0m",
      "\u001b[0;31mTypeError\u001b[0m                                 Traceback (most recent call last)",
      "Cell \u001b[0;32mIn[33], line 4\u001b[0m\n\u001b[1;32m      2\u001b[0m a[\u001b[38;5;241m1\u001b[39m][\u001b[38;5;241m0\u001b[39m] \u001b[38;5;241m=\u001b[39m \u001b[38;5;241m200\u001b[39m  \u001b[38;5;66;03m# This is allowed\u001b[39;00m\n\u001b[1;32m      3\u001b[0m \u001b[38;5;28mprint\u001b[39m(a)\n\u001b[0;32m----> 4\u001b[0m a[\u001b[38;5;241m1\u001b[39m] \u001b[38;5;241m=\u001b[39m [\u001b[38;5;241m200\u001b[39m, \u001b[38;5;241m30\u001b[39m]\n",
      "\u001b[0;31mTypeError\u001b[0m: 'tuple' object does not support item assignment"
     ]
    }
   ],
   "source": [
    "a = (10, [20, 30], 40)\n",
    "a[1][0] = 200  # This is allowed\n",
    "print(a)\n",
    "a[1] = [200, 30]"
   ]
  },
  {
   "cell_type": "code",
   "execution_count": 35,
   "id": "90fa304b",
   "metadata": {},
   "outputs": [
    {
     "name": "stdout",
     "output_type": "stream",
     "text": [
      "123456\n",
      "2081127873266066758\n"
     ]
    }
   ],
   "source": [
    "# Hashable objects\n",
    "# Objects whose unique checksum (hash value) gets computed during construction \n",
    "# based on the \"value\" of the object are called hashable objects.\n",
    "\n",
    "a = 123456\n",
    "print(hash(a))\n",
    "a = 28394698324798237498327498237498324982374982374982374982374239847\n",
    "print(hash(a))"
   ]
  },
  {
   "cell_type": "code",
   "execution_count": null,
   "id": "3eab4205",
   "metadata": {},
   "outputs": [
    {
     "name": "stdout",
     "output_type": "stream",
     "text": [
      "True\n",
      "4575742704 4575744432\n",
      "6180344228507248392 6180344228507248392\n"
     ]
    }
   ],
   "source": [
    "a = \"Hello world\"\n",
    "b = \"Hello world\"\n",
    "print(a == b) # Strings are compared using their hash values.\n",
    "print(id(a), id(b))\n",
    "print(hash(a), hash(b))"
   ]
  },
  {
   "cell_type": "markdown",
   "id": "8c5caee8",
   "metadata": {},
   "source": [
    "NOTE: In Python, for an object to be \"hashable\", it *must* be immutable.\n",
    "Mutable objects in Python are by definition - not hashable.\n"
   ]
  },
  {
   "cell_type": "code",
   "execution_count": 39,
   "id": "cae20336",
   "metadata": {},
   "outputs": [
    {
     "ename": "TypeError",
     "evalue": "unhashable type: 'list'",
     "output_type": "error",
     "traceback": [
      "\u001b[0;31m---------------------------------------------------------------------------\u001b[0m",
      "\u001b[0;31mTypeError\u001b[0m                                 Traceback (most recent call last)",
      "Cell \u001b[0;32mIn[39], line 2\u001b[0m\n\u001b[1;32m      1\u001b[0m a \u001b[38;5;241m=\u001b[39m [\u001b[38;5;241m10\u001b[39m, \u001b[38;5;241m20\u001b[39m, \u001b[38;5;241m30\u001b[39m]\n\u001b[0;32m----> 2\u001b[0m \u001b[38;5;28mprint\u001b[39m(\u001b[38;5;28mhash\u001b[39m(a))\n",
      "\u001b[0;31mTypeError\u001b[0m: unhashable type: 'list'"
     ]
    }
   ],
   "source": [
    "a = [10, 20, 30]\n",
    "print(hash(a))  # This will raise a TypeError because lists are not hashable."
   ]
  },
  {
   "cell_type": "code",
   "execution_count": 40,
   "id": "a87a2c65",
   "metadata": {},
   "outputs": [
    {
     "name": "stdout",
     "output_type": "stream",
     "text": [
      "3952409569436607343\n"
     ]
    }
   ],
   "source": [
    "a = 10, 20, 30\n",
    "print(hash(a))"
   ]
  },
  {
   "cell_type": "code",
   "execution_count": 42,
   "id": "32ad99d9",
   "metadata": {},
   "outputs": [
    {
     "name": "stdout",
     "output_type": "stream",
     "text": [
      "(10, [20, 30], 40) <class 'tuple'>\n"
     ]
    },
    {
     "ename": "TypeError",
     "evalue": "unhashable type: 'list'",
     "output_type": "error",
     "traceback": [
      "\u001b[0;31m---------------------------------------------------------------------------\u001b[0m",
      "\u001b[0;31mTypeError\u001b[0m                                 Traceback (most recent call last)",
      "Cell \u001b[0;32mIn[42], line 3\u001b[0m\n\u001b[1;32m      1\u001b[0m a \u001b[38;5;241m=\u001b[39m \u001b[38;5;241m10\u001b[39m, [\u001b[38;5;241m20\u001b[39m, \u001b[38;5;241m30\u001b[39m], \u001b[38;5;241m40\u001b[39m\n\u001b[1;32m      2\u001b[0m \u001b[38;5;28mprint\u001b[39m(a, \u001b[38;5;28mtype\u001b[39m(a))\n\u001b[0;32m----> 3\u001b[0m \u001b[38;5;28mprint\u001b[39m(\u001b[38;5;28mhash\u001b[39m(a))\n",
      "\u001b[0;31mTypeError\u001b[0m: unhashable type: 'list'"
     ]
    }
   ],
   "source": [
    "a = 10, [20, 30], 40\n",
    "print(a, type(a))\n",
    "print(hash(a))"
   ]
  },
  {
   "cell_type": "markdown",
   "id": "93e9e7d5",
   "metadata": {},
   "source": [
    "NOTE: For a tuple to be hashable, all the items within that tuple must also be hashable recursively. That is because, the hash of a tuple is computed based on the hash of every item of that tuple during its construction."
   ]
  },
  {
   "cell_type": "code",
   "execution_count": 53,
   "id": "b7f675af",
   "metadata": {},
   "outputs": [
    {
     "name": "stdout",
     "output_type": "stream",
     "text": [
      "(10, 20, 30) <class 'tuple'>\n",
      "('h', 'e', 'l', 'l', 'o') <class 'tuple'>\n",
      "(10, 12, 14, 16, 18) <class 'tuple'>\n",
      "(0, 1, 4, 9, 16, 25, 36, 49, 64, 81) <class 'tuple'>\n",
      "((0, 0), (1, 1), (2, 4), (3, 9), (4, 16), (5, 25), (6, 36), (7, 49), (8, 64), (9, 81)) <class 'tuple'>\n",
      "(5, 25)\n"
     ]
    }
   ],
   "source": [
    "# There are 3 ways to construct a tuple:\n",
    "# 1. Literal notation using parentheses or commas.\n",
    "# 2. Using the tuple() constructor.\n",
    "# 3. Using comprehensions.\n",
    "\n",
    "a = 10, 20, 30  # Literal notation using commas\n",
    "print(a, type(a))\n",
    "\n",
    "b = tuple(\"hello\")  # Using the tuple() constructor\n",
    "print(b, type(b))\n",
    "\n",
    "c = tuple(range(10, 20, 2))\n",
    "print(c, type(c))\n",
    "\n",
    "d = tuple(x*x for x in range(10)) # Using tuple comprehension\n",
    "print(d, type(d))\n",
    "\n",
    "e = tuple((v, v*v) for v in range(10))\n",
    "print(e, type(e))\n",
    "# A tuple/list that has every item as a equal sized tuple is called a \"tuple-set\"\n",
    "# The variable 'e' above is a 2-item tuple-set.\n",
    "print(e[5]) # 5th item of the tuple-set\n"
   ]
  },
  {
   "cell_type": "code",
   "execution_count": 55,
   "id": "4090316c",
   "metadata": {},
   "outputs": [
    {
     "name": "stdout",
     "output_type": "stream",
     "text": [
      "john\n",
      "alice\n",
      "bob\n",
      "dave\n",
      "emily\n",
      "claire\n"
     ]
    }
   ],
   "source": [
    "players = \"john\", \"alice\", \"bob\", \"dave\", \"emily\", \"claire\"\n",
    "for p in players:\n",
    "    print(p)"
   ]
  },
  {
   "cell_type": "code",
   "execution_count": 58,
   "id": "acb7e406",
   "metadata": {},
   "outputs": [
    {
     "name": "stdout",
     "output_type": "stream",
     "text": [
      "claire\n",
      "emily\n",
      "dave\n",
      "bob\n",
      "alice\n",
      "john\n",
      "----------------------------------------\n",
      "claire\n",
      "emily\n",
      "dave\n",
      "bob\n",
      "alice\n",
      "john\n"
     ]
    }
   ],
   "source": [
    "# Reversed iteration.\n",
    "\n",
    "for p in players[::-1]: # NOT EFFICIENT.\n",
    "    print(p)\n",
    "\n",
    "print(\"-\" * 40)\n",
    "for p in reversed(players): # Pythonic approach, efficient.\n",
    "    print(p)"
   ]
  },
  {
   "cell_type": "code",
   "execution_count": 59,
   "id": "78d72c11",
   "metadata": {},
   "outputs": [
    {
     "name": "stdout",
     "output_type": "stream",
     "text": [
      "john\n",
      "alice\n",
      "bob\n",
      "dave\n",
      "emily\n",
      "claire\n",
      "56\n",
      "78\n",
      "45\n",
      "62\n",
      "89\n",
      "37\n"
     ]
    }
   ],
   "source": [
    "players = \"john\", \"alice\", \"bob\", \"dave\", \"emily\", \"claire\"\n",
    "scores = 56, 78, 45, 62, 89, 37\n",
    "for p in players:\n",
    "    print(p)\n",
    "for s in scores:\n",
    "    print(s)"
   ]
  },
  {
   "cell_type": "code",
   "execution_count": 60,
   "id": "c7ea7095",
   "metadata": {},
   "outputs": [
    {
     "name": "stdout",
     "output_type": "stream",
     "text": [
      "John scored 56 points\n",
      "Alice scored 78 points\n",
      "Bob scored 45 points\n",
      "Dave scored 62 points\n",
      "Emily scored 89 points\n",
      "Claire scored 37 points\n"
     ]
    }
   ],
   "source": [
    "# Parallel iteration.\n",
    "players = \"john\", \"alice\", \"bob\", \"dave\", \"emily\", \"claire\"\n",
    "scores = 56, 78, 45, 62, 89, 37\n",
    "\n",
    "output = \"{player} scored {score} points\"\n",
    "for p, s in zip(players, scores):\n",
    "    print(output.format(player=p.title(), score=s))"
   ]
  },
  {
   "cell_type": "code",
   "execution_count": 80,
   "id": "5638f234",
   "metadata": {},
   "outputs": [
    {
     "name": "stdout",
     "output_type": "stream",
     "text": [
      "John scored 56 points\n",
      "Alice scored 78 points\n",
      "Bob scored 45 points\n"
     ]
    }
   ],
   "source": [
    "# Parallel iteration.\n",
    "players = \"john\", \"alice\", \"bob\"\n",
    "scores = 56, 78, 45, 67, 43, 89\n",
    "\n",
    "for player, score in zip(players, scores):\n",
    "    print(f\"{player.title()} scored {score} points\")"
   ]
  },
  {
   "cell_type": "code",
   "execution_count": 75,
   "id": "22fe88de",
   "metadata": {},
   "outputs": [
    {
     "data": {
      "text/plain": [
       "<zip at 0x110be5f40>"
      ]
     },
     "execution_count": 75,
     "metadata": {},
     "output_type": "execute_result"
    }
   ],
   "source": [
    "z = zip(players, scores)\n",
    "z"
   ]
  },
  {
   "cell_type": "code",
   "execution_count": 76,
   "id": "e069ad3f",
   "metadata": {},
   "outputs": [
    {
     "name": "stdout",
     "output_type": "stream",
     "text": [
      "john 56\n",
      "alice 78\n",
      "bob 45\n",
      "dave 62\n",
      "emily 89\n",
      "claire 37\n"
     ]
    }
   ],
   "source": [
    "for x, y in z:\n",
    "    print(x, y)"
   ]
  },
  {
   "cell_type": "code",
   "execution_count": 86,
   "id": "d23d8952",
   "metadata": {},
   "outputs": [
    {
     "name": "stdout",
     "output_type": "stream",
     "text": [
      "John scored 56 points\n",
      "Alice scored 78 points\n",
      "Bob scored 45 points\n",
      "Dave scored 67 points\n",
      "Emily scored 0 points\n",
      "Claire scored 0 points\n",
      "Frank scored 0 points\n",
      "Grace scored 0 points\n"
     ]
    }
   ],
   "source": [
    "# Parallel iteration.\n",
    "players = \"john\", \"alice\", \"bob\", \"dave\", \"emily\", \"claire\", \"frank\", \"grace\"\n",
    "scores = 56, 78, 45, 67\n",
    "\n",
    "from itertools import zip_longest\n",
    "for player, score in zip_longest(players, scores, fillvalue=0):\n",
    "    print(f\"{player.title()} scored {score} points\")"
   ]
  },
  {
   "cell_type": "code",
   "execution_count": 90,
   "id": "6602ff98",
   "metadata": {},
   "outputs": [
    {
     "name": "stdout",
     "output_type": "stream",
     "text": [
      "John scored 56 points\n",
      "Alice scored 78 points\n",
      "Bob scored 45 points\n",
      "Dave scored 67 points\n",
      "Emily scored 0 points\n",
      "Claire scored 0 points\n",
      "Frank scored 0 points\n",
      "Grace scored 0 points\n"
     ]
    }
   ],
   "source": [
    "# Parallel iteration.\n",
    "players = \"john\", \"alice\", \"bob\", \"dave\", \"emily\", \"claire\", \"frank\", \"grace\"\n",
    "scores = 56, 78, 45, 67\n",
    "\n",
    "from itertools import zip_longest\n",
    "for player, score in zip_longest(players, scores):\n",
    "    print(f\"{player.title()} scored {0 if score is None else score} points\")"
   ]
  },
  {
   "cell_type": "code",
   "execution_count": null,
   "id": "16d3450b",
   "metadata": {},
   "outputs": [
    {
     "name": "stdout",
     "output_type": "stream",
     "text": [
      "4\n"
     ]
    }
   ],
   "source": [
    "v = 4\n",
    "r = 0 if v is None else v  # r = (v is None) ? 0 : v\n",
    "print(r)\n",
    "\n",
    "# if v is None:\n",
    "#     r = 0\n",
    "# else:\n",
    "#     r = v\n"
   ]
  },
  {
   "cell_type": "code",
   "execution_count": 96,
   "id": "2e37f807",
   "metadata": {},
   "outputs": [
    {
     "name": "stdout",
     "output_type": "stream",
     "text": [
      "0 john\n",
      "1 alice\n",
      "2 bob\n",
      "3 dave\n",
      "4 emily\n",
      "5 claire\n",
      "0 john\n",
      "1 alice\n",
      "2 bob\n",
      "3 dave\n",
      "4 emily\n",
      "5 claire\n",
      "0 john\n",
      "1 alice\n",
      "2 bob\n",
      "3 dave\n",
      "4 emily\n",
      "5 claire\n"
     ]
    }
   ],
   "source": [
    "# Enumerated iteration\n",
    "\n",
    "players = \"john\", \"alice\", \"bob\", \"dave\", \"emily\", \"claire\"\n",
    "\n",
    "#for p in players:\n",
    "#    print(p)\n",
    "\n",
    "for i in range(len(players)): # Not Pythonic\n",
    "    print(i, players[i])\n",
    "\n",
    "for i, p in zip(range(len(players)), players): # Less Pythonic\n",
    "    print(i, p)\n",
    "\n",
    "for i, p in enumerate(players): # Pythonic\n",
    "    print(i, p)"
   ]
  },
  {
   "cell_type": "code",
   "execution_count": 102,
   "id": "0731afb8",
   "metadata": {},
   "outputs": [
    {
     "name": "stdout",
     "output_type": "stream",
     "text": [
      "[45, 12, 7, 56, 2, 78, 27, 15, 12]\n",
      "['John', 'Alice', 'Bob', 'Dave', 'Emily', 'Claire']\n"
     ]
    }
   ],
   "source": [
    "# enumerate() is primarily used for \"in-place\" transformation of a list.\n",
    "values = [45, 12, -7, 56, -2, 78, -27, 15, 12]\n",
    "\n",
    "for i, v in enumerate(values):\n",
    "    values[i] = abs(v)\n",
    "print(values)\n",
    "\n",
    "players = [\"john\", \"alice\", \"bob\", \"dave\", \"emily\", \"claire\"]\n",
    "for i, p in enumerate(players):\n",
    "    players[i] = p.title()\n",
    "print(players)\n"
   ]
  },
  {
   "cell_type": "code",
   "execution_count": 100,
   "id": "0dfe59b7",
   "metadata": {},
   "outputs": [
    {
     "name": "stdout",
     "output_type": "stream",
     "text": [
      "[45, 12, -7, 56, -2, 78, -27, 15, 12]\n",
      "[45, 12, 7, 56, 2, 78, 27, 15, 12]\n"
     ]
    }
   ],
   "source": [
    "values = [45, 12, -7, 56, -2, 78, -27, 15, 12]\n",
    "print(values)\n",
    "\n",
    "result = [abs(v) for v in values]\n",
    "print(result)"
   ]
  },
  {
   "cell_type": "code",
   "execution_count": 99,
   "id": "e49c429b",
   "metadata": {},
   "outputs": [
    {
     "data": {
      "text/plain": [
       "67"
      ]
     },
     "execution_count": 99,
     "metadata": {},
     "output_type": "execute_result"
    }
   ],
   "source": [
    "a = -67\n",
    "abs(a)"
   ]
  },
  {
   "cell_type": "code",
   "execution_count": 108,
   "id": "a3df10aa",
   "metadata": {},
   "outputs": [
    {
     "name": "stdout",
     "output_type": "stream",
     "text": [
      "10 John\n",
      "11 Alice\n",
      "12 Bob\n",
      "13 Dave\n",
      "14 Emily\n",
      "15 Claire\n"
     ]
    }
   ],
   "source": [
    "players = \"john\", \"alice\", \"bob\", \"dave\", \"emily\", \"claire\"\n",
    "\n",
    "for i, p in enumerate(players, start=10):\n",
    "    print(i, p.title())"
   ]
  },
  {
   "cell_type": "code",
   "execution_count": 110,
   "id": "4607a4d6",
   "metadata": {},
   "outputs": [
    {
     "name": "stdout",
     "output_type": "stream",
     "text": [
      "Alice\n",
      "Bob\n",
      "Claire\n",
      "Dave\n",
      "Emily\n",
      "John\n",
      "['alice', 'bob', 'claire', 'dave', 'emily', 'john']\n"
     ]
    }
   ],
   "source": [
    "players = \"john\", \"alice\", \"bob\", \"dave\", \"emily\", \"claire\"\n",
    "\n",
    "for p in sorted(players):\n",
    "    print(p.title())\n",
    "\n",
    "print(sorted(players))"
   ]
  },
  {
   "cell_type": "code",
   "execution_count": 111,
   "id": "90a7f7e0",
   "metadata": {},
   "outputs": [
    {
     "data": {
      "text/plain": [
       "[12, 21, 23, 34, 45, 67, 89, 90]"
      ]
     },
     "execution_count": 111,
     "metadata": {},
     "output_type": "execute_result"
    }
   ],
   "source": [
    "values = 34, 67, 21, 89, 45, 23, 90, 12\n",
    "v = sorted(values)\n",
    "v"
   ]
  },
  {
   "cell_type": "code",
   "execution_count": 112,
   "id": "d557d7fa",
   "metadata": {},
   "outputs": [
    {
     "ename": "TypeError",
     "evalue": "'<' not supported between instances of 'str' and 'int'",
     "output_type": "error",
     "traceback": [
      "\u001b[0;31m---------------------------------------------------------------------------\u001b[0m",
      "\u001b[0;31mTypeError\u001b[0m                                 Traceback (most recent call last)",
      "Cell \u001b[0;32mIn[112], line 2\u001b[0m\n\u001b[1;32m      1\u001b[0m values \u001b[38;5;241m=\u001b[39m \u001b[38;5;241m34\u001b[39m, \u001b[38;5;241m67\u001b[39m, \u001b[38;5;124m\"\u001b[39m\u001b[38;5;124m21\u001b[39m\u001b[38;5;124m\"\u001b[39m, \u001b[38;5;241m89\u001b[39m, \u001b[38;5;241m45\u001b[39m, \u001b[38;5;241m23\u001b[39m, \u001b[38;5;241m90\u001b[39m, \u001b[38;5;241m12\u001b[39m\n\u001b[0;32m----> 2\u001b[0m v \u001b[38;5;241m=\u001b[39m \u001b[38;5;28msorted\u001b[39m(values)\n\u001b[1;32m      3\u001b[0m v\n",
      "\u001b[0;31mTypeError\u001b[0m: '<' not supported between instances of 'str' and 'int'"
     ]
    }
   ],
   "source": [
    "values = 34, 67, \"21\", 89, 45, 23, 90, 12\n",
    "v = sorted(values)\n",
    "v"
   ]
  },
  {
   "cell_type": "markdown",
   "id": "30d000fa",
   "metadata": {},
   "source": [
    "NOTE: sorted() works on collections that have all their items of the \"same\" type and are comparable (support ==, !=, <, > operations)"
   ]
  },
  {
   "cell_type": "code",
   "execution_count": 119,
   "id": "3ad9d091",
   "metadata": {},
   "outputs": [
    {
     "name": "stdout",
     "output_type": "stream",
     "text": [
      "0 90\n",
      "False True\n",
      "651\n"
     ]
    }
   ],
   "source": [
    "values = 56, 32, 56, 89, 12, 43, 75, 0, 89, 90, 21, 88\n",
    "print(min(values), max(values))\n",
    "\n",
    "print(all(values), any(values))\n",
    "\n",
    "print(sum(values))"
   ]
  },
  {
   "cell_type": "markdown",
   "id": "c3fe802c",
   "metadata": {},
   "source": [
    "#### Using map(), filter() and comprehensions"
   ]
  },
  {
   "cell_type": "code",
   "execution_count": null,
   "id": "1c12be91",
   "metadata": {},
   "outputs": [
    {
     "ename": "TypeError",
     "evalue": "can't multiply sequence by non-int of type 'tuple'",
     "output_type": "error",
     "traceback": [
      "\u001b[0;31m---------------------------------------------------------------------------\u001b[0m",
      "\u001b[0;31mTypeError\u001b[0m                                 Traceback (most recent call last)",
      "Cell \u001b[0;32mIn[121], line 6\u001b[0m\n\u001b[1;32m      3\u001b[0m \u001b[38;5;28;01mdef\u001b[39;00m \u001b[38;5;21msquare\u001b[39m(x):\n\u001b[1;32m      4\u001b[0m     \u001b[38;5;28;01mreturn\u001b[39;00m x\u001b[38;5;241m*\u001b[39mx\n\u001b[0;32m----> 6\u001b[0m square(values)\n",
      "Cell \u001b[0;32mIn[121], line 4\u001b[0m, in \u001b[0;36msquare\u001b[0;34m(x)\u001b[0m\n\u001b[1;32m      3\u001b[0m \u001b[38;5;28;01mdef\u001b[39;00m \u001b[38;5;21msquare\u001b[39m(x):\n\u001b[0;32m----> 4\u001b[0m     \u001b[38;5;28;01mreturn\u001b[39;00m x\u001b[38;5;241m*\u001b[39mx\n",
      "\u001b[0;31mTypeError\u001b[0m: can't multiply sequence by non-int of type 'tuple'"
     ]
    }
   ],
   "source": [
    "values = 10, 20, 30, 40, 50\n",
    "\n",
    "def square(x):   # Example of a Pure function\n",
    "    return x*x\n",
    "\n",
    "square(values)\n",
    "\n",
    "# Pure functions: Functions that do not carry forward any state across calls and\n",
    "# always return the same output for the same input.\n",
    "# Pure functions do not modify or access any state outside their local scope.\n",
    "\n",
    "\n",
    "# Functions with side-effects: Functions that carry forward state across calls\n",
    "# and therefore may not work the same way for the same input across multiple calls.\n",
    "\n"
   ]
  },
  {
   "cell_type": "code",
   "execution_count": null,
   "id": "69917c2a",
   "metadata": {},
   "outputs": [
    {
     "data": {
      "text/plain": [
       "[100, 400, 900, 1600, 2500]"
      ]
     },
     "execution_count": 122,
     "metadata": {},
     "output_type": "execute_result"
    }
   ],
   "source": [
    "# Higher order functions: Functions that take other functions as arguments or return\n",
    "# functions as their result.\n",
    "values = 10, 20, 30, 40, 50\n",
    "\n",
    "def square(x):   # Example of a Pure function\n",
    "    return x*x\n",
    "\n",
    "def apply_to_each(func, collection): # Example of a Higher order function\n",
    "    result = []\n",
    "    for item in collection:\n",
    "        result.append(func(item))\n",
    "    return result\n",
    "\n",
    "apply_to_each(square, values)\n",
    "\n"
   ]
  },
  {
   "cell_type": "code",
   "execution_count": 124,
   "id": "494ead4a",
   "metadata": {},
   "outputs": [
    {
     "name": "stdout",
     "output_type": "stream",
     "text": [
      "<map object at 0x1100769b0> <class 'map'>\n",
      "[100, 400, 900, 1600, 2500]\n"
     ]
    }
   ],
   "source": [
    "# Higher order functions: Functions that take other functions as arguments or return\n",
    "# functions as their result.\n",
    "values = 10, 20, 30, 40, 50\n",
    "\n",
    "def square(x):   # Example of a Pure function\n",
    "    return x*x\n",
    "\n",
    "result = map(square, values) # map() is a built-in higher order function\n",
    "print(result, type(result))\n",
    "\n",
    "result = list(map(square, values))\n",
    "print(result)\n",
    "\n",
    "\n"
   ]
  },
  {
   "cell_type": "code",
   "execution_count": 127,
   "id": "3d1a7e35",
   "metadata": {},
   "outputs": [
    {
     "name": "stdout",
     "output_type": "stream",
     "text": [
      "<function square at 0x110d500e0> <class 'function'>\n",
      "<function <lambda> at 0x110d50180> <class 'function'>\n"
     ]
    },
    {
     "data": {
      "text/plain": [
       "(25, 25)"
      ]
     },
     "execution_count": 127,
     "metadata": {},
     "output_type": "execute_result"
    }
   ],
   "source": [
    "# The `lambda` expression.\n",
    "\n",
    "def square(x):\n",
    "    return x*x\n",
    "\n",
    "sqr = lambda x: x*x\n",
    "\n",
    "print(square, type(square))\n",
    "print(sqr, type(sqr))\n",
    "\n",
    "square(5), sqr(5)\n"
   ]
  },
  {
   "cell_type": "code",
   "execution_count": null,
   "id": "1ccc8cb7",
   "metadata": {},
   "outputs": [
    {
     "name": "stdout",
     "output_type": "stream",
     "text": [
      "[45, 2, 78, 12, 7] [2025, 4, 6084, 144, 49]\n",
      "(2025, 4, 6084, 144, 49) <class 'tuple'>\n"
     ]
    }
   ],
   "source": [
    "values = [45, 2, 78, 12, 7]\n",
    "result = map(lambda x: x*x, values)\n",
    "print(values, list(result))\n",
    "\n",
    "result = tuple(v*v for v in values) # Pythonic replacement for map()\n",
    "print(result, type(result))"
   ]
  },
  {
   "cell_type": "code",
   "execution_count": null,
   "id": "acfef603",
   "metadata": {},
   "outputs": [
    {
     "name": "stdout",
     "output_type": "stream",
     "text": [
      "(45, 78, 21, 33, 27, 18, 12)\n",
      "(45, 78, 21, 33, 27, 18, 12)\n"
     ]
    }
   ],
   "source": [
    "values = 45, 23, 78, 55, 21, 33, 27, 18, 11, 12\n",
    "result = tuple(filter(lambda x: x % 3 == 0, values))\n",
    "print(result)\n",
    "\n",
    "result = tuple(v for v in values if v % 3 == 0) # Pythonic replacement for filter()\n",
    "print(result)"
   ]
  },
  {
   "cell_type": "code",
   "execution_count": 132,
   "id": "2322d4de",
   "metadata": {},
   "outputs": [
    {
     "name": "stdout",
     "output_type": "stream",
     "text": [
      "('john', 'Jones', 'james')\n"
     ]
    }
   ],
   "source": [
    "players = \"john\", \"alice\", \"dave\", \"emily\", \"claire\", \"Jones\", \"bob\", \"james\"\n",
    "result = tuple(filter(lambda name: name[0] in 'Jj', players))\n",
    "print(result)"
   ]
  },
  {
   "cell_type": "code",
   "execution_count": null,
   "id": "40746495",
   "metadata": {},
   "outputs": [
    {
     "name": "stdout",
     "output_type": "stream",
     "text": [
      "(2025, 6084, 441, 1089, 729, 324, 144)\n",
      "(2025, 6084, 441, 1089, 729, 324, 144)\n"
     ]
    }
   ],
   "source": [
    "values = 45, 23, 78, 55, 21, 33, 27, 18, 11, 12\n",
    "result = tuple(map(lambda x: x*x, filter(lambda x: x % 3 == 0, values)))\n",
    "print(result)\n",
    "\n",
    "result = tuple(x*x for x in values if x % 3 == 0) # More Pythonic\n",
    "print(result)"
   ]
  },
  {
   "cell_type": "code",
   "execution_count": 145,
   "id": "4b463f1c",
   "metadata": {},
   "outputs": [],
   "source": [
    "values = (45, 23, 78, 55, 21, 33, 27, 18, 11, 12) * 1000"
   ]
  },
  {
   "cell_type": "code",
   "execution_count": 146,
   "id": "49866e04",
   "metadata": {},
   "outputs": [
    {
     "name": "stdout",
     "output_type": "stream",
     "text": [
      "530 μs ± 1.67 μs per loop (mean ± std. dev. of 7 runs, 1,000 loops each)\n"
     ]
    }
   ],
   "source": [
    "%%timeit\n",
    "result = tuple(map(lambda x: x*x, filter(lambda x: x % 3 == 0, values)))\n"
   ]
  },
  {
   "cell_type": "code",
   "execution_count": 147,
   "id": "895772fc",
   "metadata": {},
   "outputs": [
    {
     "name": "stdout",
     "output_type": "stream",
     "text": [
      "306 μs ± 1.5 μs per loop (mean ± std. dev. of 7 runs, 1,000 loops each)\n"
     ]
    }
   ],
   "source": [
    "%%timeit\n",
    "result = tuple(x*x for x in values if x % 3 == 0) # More Pythonic"
   ]
  },
  {
   "cell_type": "code",
   "execution_count": null,
   "id": "96c425c7",
   "metadata": {},
   "outputs": [
    {
     "name": "stdout",
     "output_type": "stream",
     "text": [
      "120\n"
     ]
    }
   ],
   "source": [
    "# Find factorial of a number:\n",
    "\n",
    "def factorial(n):  # Imperative approach using iteration\n",
    "    fact = 1\n",
    "    for i in (range(1, n+1)):\n",
    "        fact *= i\n",
    "    return fact\n",
    "\n",
    "def factorial(n):  # Functional approach using recursion - AVOID DEEP RECURSION in Python\n",
    "    return 1 if n == 0 else n * factorial(n-1)\n",
    "\n",
    "print(factorial(5))"
   ]
  },
  {
   "cell_type": "code",
   "execution_count": 154,
   "id": "b9b95452",
   "metadata": {},
   "outputs": [
    {
     "name": "stdout",
     "output_type": "stream",
     "text": [
      "(78, 55, 97, 59)\n",
      "(0, 0, 78, 55, 0, 0, 97, 0, 59, 0)\n"
     ]
    }
   ],
   "source": [
    "values = (45, 23, 78, 55, 21, 33, 97, 18, 59, 12)\n",
    "# result = (0, 0, 78, 55, 0, 0, 97, 0, 59, 0) # if value is less than 50, result should have 0 instead.\n",
    "\n",
    "result = tuple(v for v in values if v >= 50)\n",
    "print(result)\n",
    "\n",
    "result = tuple(0 if v < 50 else v for v in values)\n",
    "print(result)"
   ]
  },
  {
   "cell_type": "code",
   "execution_count": 155,
   "id": "4a2771ec",
   "metadata": {},
   "outputs": [
    {
     "data": {
      "text/plain": [
       "(0, 0, 5, 0, 6, 7, 12, 0)"
      ]
     },
     "execution_count": 155,
     "metadata": {},
     "output_type": "execute_result"
    }
   ],
   "source": [
    "values = (-56, -2, 5, -4, 6, 7, 12, -18)\n",
    "# ReLU -> Rectified Linear Unit\n",
    "tuple(0 if v < 0 else v for v in values)"
   ]
  },
  {
   "cell_type": "markdown",
   "id": "0be1b2cb",
   "metadata": {},
   "source": [
    "### List: a mutable equivalent of a tuple\n",
    "#### A mutable sequence of arbitrary items\n",
    "\n",
    "NOTE: In most Python expression, a list can be used to fully replace a tuple."
   ]
  },
  {
   "cell_type": "code",
   "execution_count": 159,
   "id": "358accf7",
   "metadata": {},
   "outputs": [
    {
     "name": "stdout",
     "output_type": "stream",
     "text": [
      "[10, 20, 30, 40] <class 'list'>\n",
      "['h', 'e', 'l', 'l', 'o'] <class 'list'>\n",
      "[10, 12, 14, 16, 18] <class 'list'>\n",
      "[0, 1, 4, 9, 16, 25, 36, 49, 64, 81] <class 'list'>\n"
     ]
    }
   ],
   "source": [
    "# List construction\n",
    "\n",
    "# Literal notation\n",
    "a = [10, 20, 30, 40]\n",
    "print(a, type(a))\n",
    "\n",
    "# Using the list() constructor\n",
    "b = list(\"hello\")\n",
    "print(b, type(b))\n",
    "\n",
    "c = list(range(10, 20, 2))\n",
    "print(c, type(c))\n",
    "\n",
    "# Using the list comprehension\n",
    "d = [x*x for x in range(10)]\n",
    "print(d, type(d))"
   ]
  },
  {
   "cell_type": "code",
   "execution_count": null,
   "id": "d962f141",
   "metadata": {},
   "outputs": [
    {
     "name": "stdout",
     "output_type": "stream",
     "text": [
      "[10, 20, 30, 40, 50] <class 'list'> 4613124864\n",
      "[100, 20, 30, 40, 50] <class 'list'> 4613124864\n"
     ]
    }
   ],
   "source": [
    "a = [10, 20, 30, 40, 50]\n",
    "print(a, type(a), id(a))\n",
    "a[0] = 100 # setitem operation -> List item assignment\n",
    "print(a, type(a), id(a))"
   ]
  },
  {
   "cell_type": "code",
   "execution_count": 163,
   "id": "14f5295d",
   "metadata": {},
   "outputs": [
    {
     "name": "stdout",
     "output_type": "stream",
     "text": [
      "[10, 200, 300, 400, 40, 50]\n"
     ]
    }
   ],
   "source": [
    "a = [10, 20, 30, 40, 50]\n",
    "a[1:3] = [200, 300, 400] # List slice assignment\n",
    "print(a)"
   ]
  },
  {
   "cell_type": "code",
   "execution_count": 164,
   "id": "40201cb3",
   "metadata": {},
   "outputs": [
    {
     "name": "stdout",
     "output_type": "stream",
     "text": [
      "[10, 'h', 'e', 'l', 'l', 'o', 40, 50]\n"
     ]
    }
   ],
   "source": [
    "a = [10, 20, 30, 40, 50]\n",
    "a[1:3] = \"hello\"\n",
    "print(a)"
   ]
  },
  {
   "cell_type": "code",
   "execution_count": null,
   "id": "37e4d24d",
   "metadata": {},
   "outputs": [
    {
     "name": "stdout",
     "output_type": "stream",
     "text": [
      "[10, 100, 125, 150, 175, 40, 50]\n"
     ]
    }
   ],
   "source": [
    "a = [10, 20, 30, 40, 50]\n",
    "a[1:3] = \"hello\"\n",
    "print(a)\n",
    "a[1:3] = range(100, 200, 25)\n",
    "print(a)"
   ]
  },
  {
   "cell_type": "code",
   "execution_count": 170,
   "id": "3329fce2",
   "metadata": {},
   "outputs": [
    {
     "name": "stdout",
     "output_type": "stream",
     "text": [
      "[10, 25, 50]\n"
     ]
    }
   ],
   "source": [
    "a = [10, 20, 30, 40, 50]\n",
    "v = 25\n",
    "\n",
    "a[1:3] = v,   # Assign v as a single item tuple\n",
    "a[1:3] = [v]  # Alternatively, assign v as a single item list\n",
    "print(a)"
   ]
  },
  {
   "cell_type": "code",
   "execution_count": 172,
   "id": "437eb3bb",
   "metadata": {},
   "outputs": [
    {
     "name": "stdout",
     "output_type": "stream",
     "text": [
      "[20, 30, 40, 50, 60, 70]\n",
      "[50, 60, 70]\n"
     ]
    }
   ],
   "source": [
    "a = [10, 20, 30, 40, 50, 60, 70]\n",
    "\n",
    "del a[0]\n",
    "print(a)\n",
    "\n",
    "del a[:3]\n",
    "print(a)"
   ]
  },
  {
   "cell_type": "code",
   "execution_count": 175,
   "id": "2a306b96",
   "metadata": {},
   "outputs": [
    {
     "name": "stdout",
     "output_type": "stream",
     "text": [
      "[10, 20, 30, 40, 50, 60, 70, 80, 90]\n",
      "[20, 40, 60, 80]\n"
     ]
    }
   ],
   "source": [
    "a = list(range(10, 100, 10))\n",
    "print(a)\n",
    "del a[::2]\n",
    "print(a)"
   ]
  },
  {
   "cell_type": "code",
   "execution_count": 179,
   "id": "59c254be",
   "metadata": {},
   "outputs": [
    {
     "name": "stdout",
     "output_type": "stream",
     "text": [
      "[10, 20, 22, 25, 27, 30, 40, 50]\n",
      "[10, 20, 22, 25, 27, 30, 40, 50]\n"
     ]
    }
   ],
   "source": [
    "a = [10, 20, 30, 40, 50]\n",
    "v = [22, 25, 27]\n",
    "# Insert all items of v between 20 and 30 in a\n",
    "result = a[:2] + v + a[2:]\n",
    "print(result) # Create a new list with the inserted items\n",
    "\n",
    "a[2:2] = v  # In-place insertion of items of v into a\n",
    "print(a)"
   ]
  },
  {
   "cell_type": "code",
   "execution_count": null,
   "id": "1868ae30",
   "metadata": {},
   "outputs": [
    {
     "name": "stdout",
     "output_type": "stream",
     "text": [
      "[10, 20, 25, 30, 40, 50]\n"
     ]
    }
   ],
   "source": [
    "a = [10, 20, 30, 40, 50]\n",
    "v = 25\n",
    "a[2:2] = v,   # Insert v as a single item tuple\n",
    "print(a)\n"
   ]
  },
  {
   "cell_type": "code",
   "execution_count": null,
   "id": "ac43f3b5",
   "metadata": {},
   "outputs": [
    {
     "name": "stdout",
     "output_type": "stream",
     "text": [
      "[10, 20, 25, 30, 40, 50]\n"
     ]
    }
   ],
   "source": [
    "a = [10, 20, 30, 40, 50]\n",
    "v = 25\n",
    "a.insert(2, v)  # Insert v at index 2\n",
    "print(a)\n"
   ]
  },
  {
   "cell_type": "code",
   "execution_count": 183,
   "id": "c53d7715",
   "metadata": {},
   "outputs": [
    {
     "name": "stdout",
     "output_type": "stream",
     "text": [
      "[10, 20, 22, 25, 27, 30, 40, 50]\n"
     ]
    }
   ],
   "source": [
    "a = [10, 20, 30, 40, 50]\n",
    "v = [22, 25, 27]\n",
    "\n",
    "#for i, v in enumerate(v):\n",
    "#    a.insert(2 + i, v)\n",
    "#print(a)\n",
    "a[2:2] = v  # Insert all items of v starting at index 2\n",
    "print(a)"
   ]
  },
  {
   "cell_type": "code",
   "execution_count": 186,
   "id": "d4caebbe",
   "metadata": {},
   "outputs": [
    {
     "ename": "IndexError",
     "evalue": "list assignment index out of range",
     "output_type": "error",
     "traceback": [
      "\u001b[0;31m---------------------------------------------------------------------------\u001b[0m",
      "\u001b[0;31mIndexError\u001b[0m                                Traceback (most recent call last)",
      "Cell \u001b[0;32mIn[186], line 2\u001b[0m\n\u001b[1;32m      1\u001b[0m a \u001b[38;5;241m=\u001b[39m [\u001b[38;5;241m10\u001b[39m, \u001b[38;5;241m20\u001b[39m, \u001b[38;5;241m30\u001b[39m, \u001b[38;5;241m40\u001b[39m]\n\u001b[0;32m----> 2\u001b[0m a[\u001b[38;5;241m4\u001b[39m] \u001b[38;5;241m=\u001b[39m \u001b[38;5;241m50\u001b[39m\n",
      "\u001b[0;31mIndexError\u001b[0m: list assignment index out of range"
     ]
    }
   ],
   "source": [
    "a = [10, 20, 30, 40]\n",
    "a[4] = 50  # This will raise an IndexError"
   ]
  },
  {
   "cell_type": "code",
   "execution_count": null,
   "id": "ab0621cf",
   "metadata": {},
   "outputs": [
    {
     "name": "stdout",
     "output_type": "stream",
     "text": [
      "[10, 20, 30, 40, 50]\n"
     ]
    }
   ],
   "source": [
    "a = [10, 20, 30, 40]\n",
    "a[4:] = 50, # Acrobatic way to append an item at the end of a list\n",
    "print(a)"
   ]
  },
  {
   "cell_type": "code",
   "execution_count": 189,
   "id": "3221713d",
   "metadata": {},
   "outputs": [
    {
     "name": "stdout",
     "output_type": "stream",
     "text": [
      "[10, 20, 30, 40, 50]\n"
     ]
    }
   ],
   "source": [
    "a = [10, 20, 30, 40]\n",
    "a.append(50)  # Preferred way to append an item at the end of a list\n",
    "print(a)"
   ]
  },
  {
   "cell_type": "code",
   "execution_count": 193,
   "id": "314a9e2c",
   "metadata": {},
   "outputs": [
    {
     "name": "stdout",
     "output_type": "stream",
     "text": [
      "[10, 20, 30, 40, 50]\n",
      "50\n",
      "[10, 20, 30, 40, 50, 60]\n"
     ]
    }
   ],
   "source": [
    "a = [10, 20, 30, 40]\n",
    "a.insert(8, 50) # Inserting at an index greater than the list size appends at the end\n",
    "print(a)\n",
    "print(a[4])\n",
    "# Appending to a list is similar the code below:\n",
    "a.insert(len(a), 60)\n",
    "print(a)"
   ]
  },
  {
   "cell_type": "code",
   "execution_count": 195,
   "id": "59b392a4",
   "metadata": {},
   "outputs": [
    {
     "name": "stdout",
     "output_type": "stream",
     "text": [
      "5 [10, 20, 30, 40, [44, 45, 47]]\n"
     ]
    }
   ],
   "source": [
    "a = [10, 20, 30, 40]\n",
    "v = [44, 45, 47]\n",
    "a.append(v)\n",
    "print(len(a), a)\n"
   ]
  },
  {
   "cell_type": "code",
   "execution_count": null,
   "id": "e3c711c3",
   "metadata": {},
   "outputs": [
    {
     "name": "stdout",
     "output_type": "stream",
     "text": [
      "7 [10, 20, 30, 40, 44, 45, 47]\n"
     ]
    }
   ],
   "source": [
    "a = [10, 20, 30, 40]\n",
    "v = [44, 45, 47]\n",
    "a.extend(v)\n",
    "print(len(a), a)\n"
   ]
  },
  {
   "cell_type": "code",
   "execution_count": 197,
   "id": "0cd3c75b",
   "metadata": {},
   "outputs": [
    {
     "name": "stdout",
     "output_type": "stream",
     "text": [
      "7 [10, 20, 30, 40, 44, 45, 47]\n"
     ]
    }
   ],
   "source": [
    "a = [10, 20, 30, 40]\n",
    "v = [44, 45, 47]\n",
    "a += v\n",
    "print(len(a), a)\n"
   ]
  },
  {
   "cell_type": "code",
   "execution_count": null,
   "id": "54bc8feb",
   "metadata": {},
   "outputs": [
    {
     "name": "stdout",
     "output_type": "stream",
     "text": [
      "(10, 20, 30, 40) 4576924816\n",
      "(10, 20, 30, 40, 44, 45, 47) 4577644640\n"
     ]
    }
   ],
   "source": [
    "a = 10, 20, 30, 40\n",
    "v = 44, 45, 47\n",
    "print(a, id(a))\n",
    "a += v # a = a + v\n",
    "print(a, id(a))\n"
   ]
  },
  {
   "cell_type": "code",
   "execution_count": null,
   "id": "5c6db8ab",
   "metadata": {},
   "outputs": [
    {
     "name": "stdout",
     "output_type": "stream",
     "text": [
      "[10, 20, 30, 40] 4574776896\n",
      "[10, 20, 30, 40, 44, 45, 47] 4574776896\n"
     ]
    }
   ],
   "source": [
    "a = [10, 20, 30, 40]\n",
    "v = 44, 45, 47\n",
    "print(a, id(a))\n",
    "a += v # a.__iadd__(v) -> same as a.extend(v)\n",
    "print(a, id(a))\n"
   ]
  },
  {
   "cell_type": "code",
   "execution_count": 201,
   "id": "f125dd16",
   "metadata": {},
   "outputs": [
    {
     "name": "stdout",
     "output_type": "stream",
     "text": [
      "['__add__', '__class__', '__class_getitem__', '__contains__', '__delattr__', '__delitem__', '__dir__', '__doc__', '__eq__', '__format__', '__ge__', '__getattribute__', '__getitem__', '__getstate__', '__gt__', '__hash__', '__iadd__', '__imul__', '__init__', '__init_subclass__', '__iter__', '__le__', '__len__', '__lt__', '__mul__', '__ne__', '__new__', '__reduce__', '__reduce_ex__', '__repr__', '__reversed__', '__rmul__', '__setattr__', '__setitem__', '__sizeof__', '__str__', '__subclasshook__', 'append', 'clear', 'copy', 'count', 'extend', 'index', 'insert', 'pop', 'remove', 'reverse', 'sort']\n"
     ]
    }
   ],
   "source": [
    "a = [10, 20, 30]\n",
    "print(dir(a))"
   ]
  },
  {
   "cell_type": "code",
   "execution_count": 204,
   "id": "349511a3",
   "metadata": {},
   "outputs": [
    {
     "name": "stdout",
     "output_type": "stream",
     "text": [
      "[10, 20, 30] 4577005184\n",
      "[10, 20, 30, 10, 20, 30, 10, 20, 30] 4577005184\n"
     ]
    }
   ],
   "source": [
    "a = [10, 20, 30]\n",
    "print(a, id(a))\n",
    "a *= 3 # a.__imul__(3)\n",
    "print(a, id(a))"
   ]
  },
  {
   "cell_type": "code",
   "execution_count": 209,
   "id": "ee3f44d5",
   "metadata": {},
   "outputs": [
    {
     "name": "stdout",
     "output_type": "stream",
     "text": [
      "20 20 20\n",
      "[10, 200, 30]\n"
     ]
    }
   ],
   "source": [
    "a = [10, 20, 30]\n",
    "print(a[1], a.__getitem__(1), list.__getitem__(a, 1))\n",
    "a[1] = 200 \n",
    "a.__setitem__(1, 200) # list.__setitem__(a, 1, 200)\n",
    "print(a)"
   ]
  },
  {
   "cell_type": "code",
   "execution_count": null,
   "id": "fb0d39f3",
   "metadata": {},
   "outputs": [],
   "source": [
    "# List methods:\n",
    "# list.append(), list.insert(), list.extend(), list.index(), list.count()\n",
    "# list.remove(), list.pop(), list.clear(), list.sort(), list.reverse()\n",
    "# list.copy() - Shallow copy of a list."
   ]
  },
  {
   "cell_type": "code",
   "execution_count": null,
   "id": "bb7bc22f",
   "metadata": {},
   "outputs": [
    {
     "name": "stdout",
     "output_type": "stream",
     "text": [
      "[45, 32, 78, 10, 34, 20, 45, 23, 33, 10, 20]\n"
     ]
    }
   ],
   "source": [
    "a = [10, 45, 32, 78, 10, 34, 20, 45, 23, 33, 10, 20]\n",
    "a.remove(10)  # Remove first occurrence of 10\n",
    "# del a[a.index(10)]\n",
    "print(a)"
   ]
  },
  {
   "cell_type": "code",
   "execution_count": 215,
   "id": "e51cce6b",
   "metadata": {},
   "outputs": [
    {
     "name": "stdout",
     "output_type": "stream",
     "text": [
      "[45, 32, 78, 34, 20, 45, 23, 33, 20]\n"
     ]
    }
   ],
   "source": [
    "a = [10, 45, 32, 78, 10, 34, 20, 45, 23, 33, 10, 20]\n",
    "a.remove(10)  # Remove first occurrence of 10\n",
    "# del a[a.index(10)]\n",
    "while 10 in a:\n",
    "    a.remove(10)\n",
    "print(a)"
   ]
  },
  {
   "cell_type": "code",
   "execution_count": null,
   "id": "3cd134e1",
   "metadata": {},
   "outputs": [],
   "source": [
    "a = [10, 45, 32, 78, 10, 34, 20, 45, 23, 33, 10, 20] * 100\n"
   ]
  },
  {
   "cell_type": "code",
   "execution_count": 218,
   "id": "439f8776",
   "metadata": {},
   "outputs": [
    {
     "name": "stdout",
     "output_type": "stream",
     "text": [
      "2.08 μs ± 16.1 ns per loop (mean ± std. dev. of 7 runs, 100,000 loops each)\n"
     ]
    }
   ],
   "source": [
    "%%timeit\n",
    "while 10 in a:\n",
    "    a.remove(10)"
   ]
  },
  {
   "cell_type": "code",
   "execution_count": 220,
   "id": "4cbacc3f",
   "metadata": {},
   "outputs": [],
   "source": [
    "e = enumerate(a)"
   ]
  },
  {
   "cell_type": "code",
   "execution_count": 221,
   "id": "3351a71f",
   "metadata": {},
   "outputs": [
    {
     "name": "stdout",
     "output_type": "stream",
     "text": [
      "8.35 ns ± 0.0505 ns per loop (mean ± std. dev. of 7 runs, 100,000,000 loops each)\n"
     ]
    }
   ],
   "source": [
    "%%timeit\n",
    "for i, v in e:\n",
    "    if v == 10:\n",
    "        del a[i]"
   ]
  },
  {
   "cell_type": "code",
   "execution_count": 222,
   "id": "03816ec0",
   "metadata": {},
   "outputs": [
    {
     "data": {
      "text/plain": [
       "[10, 20, 30, 40]"
      ]
     },
     "execution_count": 222,
     "metadata": {},
     "output_type": "execute_result"
    }
   ],
   "source": [
    "a = [10, 20, 30, 40]\n",
    "a"
   ]
  },
  {
   "cell_type": "code",
   "execution_count": 229,
   "id": "d80448bf",
   "metadata": {},
   "outputs": [
    {
     "ename": "ValueError",
     "evalue": "list.remove(x): x not in list",
     "output_type": "error",
     "traceback": [
      "\u001b[0;31m---------------------------------------------------------------------------\u001b[0m",
      "\u001b[0;31mValueError\u001b[0m                                Traceback (most recent call last)",
      "Cell \u001b[0;32mIn[229], line 2\u001b[0m\n\u001b[1;32m      1\u001b[0m a \u001b[38;5;241m=\u001b[39m [\u001b[38;5;241m10\u001b[39m, \u001b[38;5;241m20\u001b[39m, \u001b[38;5;241m30\u001b[39m]\n\u001b[0;32m----> 2\u001b[0m a\u001b[38;5;241m.\u001b[39mremove(\u001b[38;5;241m40\u001b[39m)\n",
      "\u001b[0;31mValueError\u001b[0m: list.remove(x): x not in list"
     ]
    }
   ],
   "source": [
    "a = [10, 20, 30]\n",
    "a.remove(40)"
   ]
  },
  {
   "cell_type": "code",
   "execution_count": 227,
   "id": "ff5489fc",
   "metadata": {},
   "outputs": [
    {
     "ename": "IndexError",
     "evalue": "pop from empty list",
     "output_type": "error",
     "traceback": [
      "\u001b[0;31m---------------------------------------------------------------------------\u001b[0m",
      "\u001b[0;31mIndexError\u001b[0m                                Traceback (most recent call last)",
      "Cell \u001b[0;32mIn[227], line 1\u001b[0m\n\u001b[0;32m----> 1\u001b[0m v \u001b[38;5;241m=\u001b[39m a\u001b[38;5;241m.\u001b[39mpop()\n\u001b[1;32m      2\u001b[0m \u001b[38;5;28mprint\u001b[39m(\u001b[38;5;124mf\u001b[39m\u001b[38;5;124m\"\u001b[39m\u001b[38;5;132;01m{\u001b[39;00mv\u001b[38;5;132;01m=}\u001b[39;00m\u001b[38;5;124m, \u001b[39m\u001b[38;5;132;01m{\u001b[39;00ma\u001b[38;5;132;01m=}\u001b[39;00m\u001b[38;5;124m\"\u001b[39m)\n",
      "\u001b[0;31mIndexError\u001b[0m: pop from empty list"
     ]
    }
   ],
   "source": [
    "v = a.pop()\n",
    "print(f\"{v=}, {a=}\")"
   ]
  },
  {
   "cell_type": "code",
   "execution_count": 230,
   "id": "9cec4ebe",
   "metadata": {},
   "outputs": [
    {
     "name": "stdout",
     "output_type": "stream",
     "text": [
      "Pushed john onto the stack. Current stack: ['john']\n",
      "Pushed sam onto the stack. Current stack: ['john', 'sam']\n",
      "Pushed claire onto the stack. Current stack: ['john', 'sam', 'claire']\n",
      "Pushed emily onto the stack. Current stack: ['john', 'sam', 'claire', 'emily']\n",
      "Pushed jane onto the stack. Current stack: ['john', 'sam', 'claire', 'emily', 'jane']\n",
      "Pushed james onto the stack. Current stack: ['john', 'sam', 'claire', 'emily', 'jane', 'james']\n",
      "Pushed bourne onto the stack. Current stack: ['john', 'sam', 'claire', 'emily', 'jane', 'james', 'bourne']\n",
      "['john', 'sam', 'claire', 'emily', 'jane', 'james', 'bourne']\n"
     ]
    }
   ],
   "source": [
    "# Stack operations using list\n",
    "a = []\n",
    "\n",
    "# Pushing items onto the stack\n",
    "while (v := input(\"Enter a value (or 'exit' to quit): \")) != 'exit':\n",
    "    a.append(v)\n",
    "    print(f\"Pushed {v} onto the stack. Current stack: {a}\")\n",
    "\n",
    "print(a)"
   ]
  },
  {
   "cell_type": "code",
   "execution_count": null,
   "id": "c46bcd0f",
   "metadata": {},
   "outputs": [
    {
     "name": "stdout",
     "output_type": "stream",
     "text": [
      "Popped bourne from the stack. Current stack: ['john', 'sam', 'claire', 'emily', 'jane', 'james']\n",
      "Popped james from the stack. Current stack: ['john', 'sam', 'claire', 'emily', 'jane']\n",
      "Popped jane from the stack. Current stack: ['john', 'sam', 'claire', 'emily']\n",
      "Popped emily from the stack. Current stack: ['john', 'sam', 'claire']\n",
      "Popped claire from the stack. Current stack: ['john', 'sam']\n",
      "Popped sam from the stack. Current stack: ['john']\n",
      "Popped john from the stack. Current stack: []\n",
      "[]\n"
     ]
    }
   ],
   "source": [
    "# Pop items from the stack\n",
    "while a: # while len(a) > 0:\n",
    "    v = a.pop()\n",
    "    print(f\"Popped {v} from the stack. Current stack: {a}\")\n",
    "\n",
    "print(a)"
   ]
  },
  {
   "cell_type": "code",
   "execution_count": 232,
   "id": "296c7ece",
   "metadata": {},
   "outputs": [
    {
     "name": "stdout",
     "output_type": "stream",
     "text": [
      "Enqueued john. Current queue: ['john']\n",
      "Enqueued alice. Current queue: ['john', 'alice']\n",
      "Enqueued emily. Current queue: ['john', 'alice', 'emily']\n",
      "Enqueued steven. Current queue: ['john', 'alice', 'emily', 'steven']\n",
      "Enqueued claire. Current queue: ['john', 'alice', 'emily', 'steven', 'claire']\n",
      "['john', 'alice', 'emily', 'steven', 'claire']\n"
     ]
    }
   ],
   "source": [
    "# Implementing a queue using list\n",
    "a = []\n",
    "\n",
    "# Enqueue items\n",
    "while (v := input(\"Enter a value (or 'exit' to quit): \")) != 'exit':\n",
    "    a.append(v)\n",
    "    print(f\"Enqueued {v}. Current queue: {a}\")\n",
    "\n",
    "print(a)"
   ]
  },
  {
   "cell_type": "code",
   "execution_count": null,
   "id": "985272a7",
   "metadata": {},
   "outputs": [
    {
     "name": "stdout",
     "output_type": "stream",
     "text": [
      "Dequeued john. Current queue: ['alice', 'emily', 'steven', 'claire']\n",
      "Dequeued alice. Current queue: ['emily', 'steven', 'claire']\n",
      "Dequeued emily. Current queue: ['steven', 'claire']\n",
      "Dequeued steven. Current queue: ['claire']\n",
      "Dequeued claire. Current queue: []\n"
     ]
    }
   ],
   "source": [
    "# Dequeue items from the queue\n",
    "while a:\n",
    "    v = a.pop(0) # Inefficient operation -> O(n) time complexity\n",
    "    print(f\"Dequeued {v}. Current queue: {a}\")"
   ]
  },
  {
   "cell_type": "code",
   "execution_count": null,
   "id": "a0fcba76",
   "metadata": {},
   "outputs": [
    {
     "name": "stdout",
     "output_type": "stream",
     "text": [
      "deque([10, 20, 30, 40]) <class 'collections.deque'>\n",
      "deque([0, 1, 4, 9, 16, 25, 36, 49, 64, 81]) <class 'collections.deque'>\n"
     ]
    },
    {
     "ename": "TypeError",
     "evalue": "sequence index must be integer, not 'slice'",
     "output_type": "error",
     "traceback": [
      "\u001b[0;31m---------------------------------------------------------------------------\u001b[0m",
      "\u001b[0;31mTypeError\u001b[0m                                 Traceback (most recent call last)",
      "Cell \u001b[0;32mIn[239], line 15\u001b[0m\n\u001b[1;32m     12\u001b[0m a \u001b[38;5;241m=\u001b[39m deque(x\u001b[38;5;241m*\u001b[39mx \u001b[38;5;28;01mfor\u001b[39;00m x \u001b[38;5;129;01min\u001b[39;00m \u001b[38;5;28mrange\u001b[39m(\u001b[38;5;241m10\u001b[39m))\n\u001b[1;32m     13\u001b[0m \u001b[38;5;28mprint\u001b[39m(a, \u001b[38;5;28mtype\u001b[39m(a))\n\u001b[0;32m---> 15\u001b[0m a[\u001b[38;5;241m2\u001b[39m:\u001b[38;5;241m3\u001b[39m]\n",
      "\u001b[0;31mTypeError\u001b[0m: sequence index must be integer, not 'slice'"
     ]
    }
   ],
   "source": [
    "from collections import deque # Pronounced \"deck\"\n",
    "# In Python, a deque (double-ended queue) is an implementation of circular doubly linked list.\n",
    "# In Python, a deque is also a proper \"sequence\" collection.\n",
    "\n",
    "# Two standard ways to construct a deque:\n",
    "# 1. Using the deque() constructor.\n",
    "# 2. Using a comprehension.\n",
    "\n",
    "from collections import deque\n",
    "a = deque([10, 20, 30, 40])\n",
    "print(a, type(a))\n",
    "a = deque(x*x for x in range(10))\n",
    "print(a, type(a))\n",
    "\n",
    "a[2:3] # Deque supports indexing but not slicing.\n",
    "a[2] # Indexing is supported.\n"
   ]
  },
  {
   "cell_type": "code",
   "execution_count": 240,
   "id": "c12941e3",
   "metadata": {},
   "outputs": [
    {
     "name": "stdout",
     "output_type": "stream",
     "text": [
      "Enqueued john. Current queue: deque(['john'])\n",
      "Enqueued steven. Current queue: deque(['john', 'steven'])\n",
      "Enqueued alice. Current queue: deque(['john', 'steven', 'alice'])\n",
      "Enqueued bourne. Current queue: deque(['john', 'steven', 'alice', 'bourne'])\n",
      "Enqueued claire. Current queue: deque(['john', 'steven', 'alice', 'bourne', 'claire'])\n",
      "deque(['john', 'steven', 'alice', 'bourne', 'claire'])\n"
     ]
    }
   ],
   "source": [
    "# A deque is suitable for implementing both stacks and queues efficiently.\n",
    "\n",
    "# Implementing a queue using deque\n",
    "a = deque()\n",
    "\n",
    "# Enqueue items\n",
    "while (v := input(\"Enter a value (or 'exit' to quit): \")) != 'exit':\n",
    "    a.append(v)\n",
    "    print(f\"Enqueued {v}. Current queue: {a}\")\n",
    "\n",
    "print(a)"
   ]
  },
  {
   "cell_type": "code",
   "execution_count": null,
   "id": "81d51eab",
   "metadata": {},
   "outputs": [],
   "source": [
    "# Dequeue items from the queue\n",
    "while a:\n",
    "    v = a.popleft() # O(1) time complexity\n",
    "    print(f\"Dequeued {v}. Current queue: {a}\")"
   ]
  },
  {
   "cell_type": "code",
   "execution_count": 245,
   "id": "b60947b6",
   "metadata": {},
   "outputs": [
    {
     "name": "stdout",
     "output_type": "stream",
     "text": [
      "9.11 ms ± 41.5 μs per loop (mean ± std. dev. of 7 runs, 100 loops each)\n"
     ]
    }
   ],
   "source": [
    "%%timeit\n",
    "a = list(range(1_000_000))\n",
    "a.pop(0)\n"
   ]
  },
  {
   "cell_type": "code",
   "execution_count": 247,
   "id": "2770ef72",
   "metadata": {},
   "outputs": [
    {
     "name": "stdout",
     "output_type": "stream",
     "text": [
      "10.5 ms ± 175 μs per loop (mean ± std. dev. of 7 runs, 100 loops each)\n"
     ]
    }
   ],
   "source": [
    "%%timeit\n",
    "a = deque(range(1_000_000))\n",
    "a.popleft()"
   ]
  },
  {
   "cell_type": "code",
   "execution_count": 267,
   "id": "fa00496e",
   "metadata": {},
   "outputs": [
    {
     "name": "stdout",
     "output_type": "stream",
     "text": [
      "1.62 μs ± 0 ns per loop (mean ± std. dev. of 1 run, 1 loop each)\n",
      "1.21 μs ± 0 ns per loop (mean ± std. dev. of 1 run, 1 loop each)\n"
     ]
    }
   ],
   "source": [
    "a = list(range(100))\n",
    "b = deque(range(100))\n",
    "\n",
    "%timeit -n1 -r1 a.pop(0)\n",
    "%timeit -n1 -r1 b.popleft()"
   ]
  },
  {
   "cell_type": "code",
   "execution_count": 248,
   "id": "131b8a25",
   "metadata": {},
   "outputs": [
    {
     "name": "stdout",
     "output_type": "stream",
     "text": [
      "\u001b[0;31mDocstring:\u001b[0m\n",
      "Time execution of a Python statement or expression\n",
      "\n",
      "Usage, in line mode:\n",
      "  %timeit [-n<N> -r<R> [-t|-c] -q -p<P> -o] statement\n",
      "or in cell mode:\n",
      "  %%timeit [-n<N> -r<R> [-t|-c] -q -p<P> -o] setup_code\n",
      "  code\n",
      "  code...\n",
      "\n",
      "Time execution of a Python statement or expression using the timeit\n",
      "module.  This function can be used both as a line and cell magic:\n",
      "\n",
      "- In line mode you can time a single-line statement (though multiple\n",
      "  ones can be chained with using semicolons).\n",
      "\n",
      "- In cell mode, the statement in the first line is used as setup code\n",
      "  (executed but not timed) and the body of the cell is timed.  The cell\n",
      "  body has access to any variables created in the setup code.\n",
      "\n",
      "Options:\n",
      "-n<N>: execute the given statement <N> times in a loop. If <N> is not\n",
      "provided, <N> is determined so as to get sufficient accuracy.\n",
      "\n",
      "-r<R>: number of repeats <R>, each consisting of <N> loops, and take the\n",
      "average result.\n",
      "Default: 7\n",
      "\n",
      "-t: use time.time to measure the time, which is the default on Unix.\n",
      "This function measures wall time.\n",
      "\n",
      "-c: use time.clock to measure the time, which is the default on\n",
      "Windows and measures wall time. On Unix, resource.getrusage is used\n",
      "instead and returns the CPU user time.\n",
      "\n",
      "-p<P>: use a precision of <P> digits to display the timing result.\n",
      "Default: 3\n",
      "\n",
      "-q: Quiet, do not print result.\n",
      "\n",
      "-o: return a TimeitResult that can be stored in a variable to inspect\n",
      "    the result in more details.\n",
      "\n",
      ".. versionchanged:: 7.3\n",
      "    User variables are no longer expanded,\n",
      "    the magic line is always left unmodified.\n",
      "\n",
      "Examples\n",
      "--------\n",
      "::\n",
      "\n",
      "  In [1]: %timeit pass\n",
      "  8.26 ns ± 0.12 ns per loop (mean ± std. dev. of 7 runs, 100000000 loops each)\n",
      "\n",
      "  In [2]: u = None\n",
      "\n",
      "  In [3]: %timeit u is None\n",
      "  29.9 ns ± 0.643 ns per loop (mean ± std. dev. of 7 runs, 10000000 loops each)\n",
      "\n",
      "  In [4]: %timeit -r 4 u == None\n",
      "\n",
      "  In [5]: import time\n",
      "\n",
      "  In [6]: %timeit -n1 time.sleep(2)\n",
      "\n",
      "The times reported by %timeit will be slightly higher than those\n",
      "reported by the timeit.py script when variables are accessed. This is\n",
      "due to the fact that %timeit executes the statement in the namespace\n",
      "of the shell, compared with timeit.py, which uses a single setup\n",
      "statement to import function or create variables. Generally, the bias\n",
      "does not matter as long as results from timeit.py are not mixed with\n",
      "those from %timeit.\n",
      "\u001b[0;31mFile:\u001b[0m      /opt/anaconda3/lib/python3.12/site-packages/IPython/core/magics/execution.py"
     ]
    }
   ],
   "source": [
    "%timeit?"
   ]
  },
  {
   "cell_type": "markdown",
   "id": "405f7a6e",
   "metadata": {},
   "source": [
    "NOTE: Use collections.deque to implement queues *only* if the number of items in a queue exceed 1000+\n",
    "Smaller sized queues implemented using a deque does not provide any performance benefits in comparison to a list. Infact, creating a deque is slower than a list, and deque take up significant memory than a list.\n",
    "\n",
    "Also note: deque is optimized only \"sequential\" traversal and access. Random Access (accessing items by their index) can be very slow in a deque"
   ]
  },
  {
   "cell_type": "code",
   "execution_count": null,
   "id": "d811f820",
   "metadata": {},
   "outputs": [
    {
     "name": "stdout",
     "output_type": "stream",
     "text": [
      "7.13 ns ± 0.0296 ns per loop (mean ± std. dev. of 7 runs, 100,000,000 loops each)\n",
      "53.5 μs ± 670 ns per loop (mean ± std. dev. of 7 runs, 10,000 loops each)\n"
     ]
    }
   ],
   "source": [
    "a = list(range(10_000_000))\n",
    "d = deque(range(10_000_000))\n",
    "\n",
    "%timeit a[5_000_000]\n",
    "%timeit d[5_000_000]"
   ]
  },
  {
   "cell_type": "code",
   "execution_count": 269,
   "id": "b1987c89",
   "metadata": {},
   "outputs": [
    {
     "name": "stdout",
     "output_type": "stream",
     "text": [
      "7.13 ns ± 0.0238 ns per loop (mean ± std. dev. of 7 runs, 100,000,000 loops each)\n",
      "50 ms ± 140 μs per loop (mean ± std. dev. of 7 runs, 10 loops each)\n"
     ]
    }
   ],
   "source": [
    "a = list(range(100_000_000))\n",
    "d = deque(range(100_000_000))\n",
    "\n",
    "%timeit a[50_000_000]\n",
    "%timeit d[50_000_000]"
   ]
  },
  {
   "cell_type": "code",
   "execution_count": 270,
   "id": "bdffdc9f",
   "metadata": {},
   "outputs": [
    {
     "name": "stdout",
     "output_type": "stream",
     "text": [
      "a=[11, 22, 32, 56, 77, 88], b=[11, 22, 32, 56, 77, 88], id(a)=4647587264, id(b)=4647587264\n",
      "a=[], b=[11, 22, 32, 56, 77, 88], id(a)=4647585920, id(b)=4647587264\n"
     ]
    }
   ],
   "source": [
    "a = [11, 22, 32, 56, 77, 88]\n",
    "b = a\n",
    "print(f\"{a=}, {b=}, {id(a)=}, {id(b)=}\")\n",
    "a = [] # This does not empty an existing list.\n",
    "print(f\"{a=}, {b=}, {id(a)=}, {id(b)=}\")\n"
   ]
  },
  {
   "cell_type": "code",
   "execution_count": 271,
   "id": "33a1379e",
   "metadata": {},
   "outputs": [
    {
     "name": "stdout",
     "output_type": "stream",
     "text": [
      "a=[11, 22, 32, 56, 77, 88], b=[11, 22, 32, 56, 77, 88], id(a)=4575421568, id(b)=4575421568\n",
      "a=[], b=[], id(a)=4575421568, id(b)=4575421568\n"
     ]
    }
   ],
   "source": [
    "a = [11, 22, 32, 56, 77, 88]\n",
    "b = a\n",
    "print(f\"{a=}, {b=}, {id(a)=}, {id(b)=}\")\n",
    "del a[:] # This empties the existing list (traditional approach).\n",
    "print(f\"{a=}, {b=}, {id(a)=}, {id(b)=}\")\n"
   ]
  },
  {
   "cell_type": "code",
   "execution_count": 272,
   "id": "11305c8f",
   "metadata": {},
   "outputs": [
    {
     "name": "stdout",
     "output_type": "stream",
     "text": [
      "a=[11, 22, 32, 56, 77, 88], b=[11, 22, 32, 56, 77, 88], id(a)=4647587264, id(b)=4647587264\n",
      "a=[], b=[], id(a)=4647587264, id(b)=4647587264\n"
     ]
    }
   ],
   "source": [
    "a = [11, 22, 32, 56, 77, 88]\n",
    "b = a\n",
    "print(f\"{a=}, {b=}, {id(a)=}, {id(b)=}\")\n",
    "a.clear() # This empties the existing list (modern Python 3+ approach).\n",
    "print(f\"{a=}, {b=}, {id(a)=}, {id(b)=}\")\n"
   ]
  },
  {
   "cell_type": "code",
   "execution_count": 274,
   "id": "64d30a3e",
   "metadata": {},
   "outputs": [
    {
     "name": "stdout",
     "output_type": "stream",
     "text": [
      "True\n",
      "[100, 20, 30, 40] [100, 20, 30, 40]\n"
     ]
    }
   ],
   "source": [
    "a = [10, 20, 30, 40]\n",
    "b = a\n",
    "print(a is b) # True\n",
    "a[0] = 100\n",
    "print(a, b)"
   ]
  },
  {
   "cell_type": "code",
   "execution_count": null,
   "id": "fbc3cdc3",
   "metadata": {},
   "outputs": [
    {
     "name": "stdout",
     "output_type": "stream",
     "text": [
      "False\n",
      "[100, 20, 30, 40] [10, 20, 30, 40]\n"
     ]
    }
   ],
   "source": [
    "a = [10, 20, 30, 40]\n",
    "b = a[:] # This creates a shallow copy of the list (traditional approach).\n",
    "b = a.copy() # This creates a shallow copy of the list (modern approach).\n",
    "\n",
    "print(a is b) # False\n",
    "a[0] = 100\n",
    "print(a, b)"
   ]
  },
  {
   "cell_type": "markdown",
   "id": "5b6b401e",
   "metadata": {},
   "source": [
    "NOTE: the .clear() and .copy() methods exist on most \"mutable\" collections."
   ]
  },
  {
   "cell_type": "code",
   "execution_count": 277,
   "id": "fc911644",
   "metadata": {},
   "outputs": [
    {
     "name": "stdout",
     "output_type": "stream",
     "text": [
      "False\n",
      "[100, 20, [30, 40], 50] [10, 20, [30, 40], 50]\n",
      "[100, 20, [300, 40], 50] [10, 20, [300, 40], 50]\n"
     ]
    }
   ],
   "source": [
    "a = [10, 20, [30, 40], 50]\n",
    "b = a.copy()\n",
    "print(a is b) # False\n",
    "a[0] = 100\n",
    "print(a, b)\n",
    "a[2][0] = 300\n",
    "print(a, b)"
   ]
  },
  {
   "cell_type": "code",
   "execution_count": null,
   "id": "90c51fdb",
   "metadata": {},
   "outputs": [
    {
     "name": "stdout",
     "output_type": "stream",
     "text": [
      "False\n",
      "[100, 20, [30, 40], 50] [10, 20, [30, 40], 50]\n",
      "[100, 20, [300, 40], 50] [10, 20, [30, 40], 50]\n"
     ]
    }
   ],
   "source": [
    "# In order to deep-copy a list or any other python collections / data-structures,\n",
    "# we can use the deepcopy() function from the copy module.\n",
    "\n",
    "# The deepcopy() function replicates every item recursively \n",
    "# to create a fully independent copy of the original object.\n",
    "# NOTE: only items that are non-hashable (mutable) are deep-copied.\n",
    "\n",
    "from copy import deepcopy\n",
    "a = [10, 20, [30, 40], 50]\n",
    "b = deepcopy(a)\n",
    "print(a is b) # False\n",
    "a[0] = 100\n",
    "print(a, b)\n",
    "a[2][0] = 300\n",
    "print(a, b)"
   ]
  },
  {
   "cell_type": "code",
   "execution_count": null,
   "id": "d38d55fb",
   "metadata": {},
   "outputs": [
    {
     "name": "stdout",
     "output_type": "stream",
     "text": [
      "23\n",
      "56\n",
      "76\n",
      "88\n",
      "99\n",
      "----------------------------------------\n",
      "99\n",
      "88\n",
      "76\n",
      "56\n",
      "23\n",
      "[99, 88, 76, 56, 23]\n",
      "[23, 56, 76, 88, 99]\n",
      "[99, 88, 76, 56, 23]\n"
     ]
    }
   ],
   "source": [
    "a = [23, 56, 76, 88, 99]\n",
    "\n",
    "for v in a:\n",
    "    print(v)\n",
    "print(\"-\" * 40)\n",
    "for v in reversed(a): # Reversed iteration - pythonic way\n",
    "    print(v)\n",
    "\n",
    "b = a[::-1] # This creates a reversed shallow copy of the list\n",
    "print(b)\n",
    "print(a)\n",
    "a.reverse() # This reverses the list in-place\n",
    "print(a)"
   ]
  },
  {
   "cell_type": "code",
   "execution_count": null,
   "id": "d9cba66b",
   "metadata": {},
   "outputs": [
    {
     "name": "stdout",
     "output_type": "stream",
     "text": [
      "None\n"
     ]
    }
   ],
   "source": [
    "b = a.reverse() # Common mistake - reverse() returns None\n",
    "print(b)"
   ]
  },
  {
   "cell_type": "code",
   "execution_count": 287,
   "id": "3a256a89",
   "metadata": {},
   "outputs": [
    {
     "ename": "TypeError",
     "evalue": "'NoneType' object is not iterable",
     "output_type": "error",
     "traceback": [
      "\u001b[0;31m---------------------------------------------------------------------------\u001b[0m",
      "\u001b[0;31mTypeError\u001b[0m                                 Traceback (most recent call last)",
      "Cell \u001b[0;32mIn[287], line 1\u001b[0m\n\u001b[0;32m----> 1\u001b[0m \u001b[38;5;28;01mfor\u001b[39;00m v \u001b[38;5;129;01min\u001b[39;00m a\u001b[38;5;241m.\u001b[39mreverse(): \u001b[38;5;66;03m# Common mistake - reverse() returns None\u001b[39;00m\n\u001b[1;32m      2\u001b[0m     \u001b[38;5;28mprint\u001b[39m(v)\n",
      "\u001b[0;31mTypeError\u001b[0m: 'NoneType' object is not iterable"
     ]
    }
   ],
   "source": [
    "for v in a.reverse(): # Common mistake - reverse() returns None\n",
    "    print(v)"
   ]
  },
  {
   "cell_type": "code",
   "execution_count": 289,
   "id": "ef7c07cc",
   "metadata": {},
   "outputs": [
    {
     "name": "stdout",
     "output_type": "stream",
     "text": [
      "[56, 32, 78, 12, 43, 75, 0, 89, 90, 21, 88] [0, 12, 21, 32, 43, 56, 75, 78, 88, 89, 90]\n",
      "[0, 12, 21, 32, 43, 56, 75, 78, 88, 89, 90]\n"
     ]
    }
   ],
   "source": [
    "a = [56, 32, 78, 12, 43, 75, 0, 89, 90, 21, 88]\n",
    "b = sorted(a) # This creates a sorted shallow copy of the list\n",
    "print(a, b)\n",
    "a.sort() # This sorts the list in-place\n",
    "print(a)"
   ]
  },
  {
   "cell_type": "code",
   "execution_count": 290,
   "id": "5853d45e",
   "metadata": {},
   "outputs": [
    {
     "name": "stdout",
     "output_type": "stream",
     "text": [
      "deque([0], maxlen=5)\n",
      "deque([0, 1], maxlen=5)\n",
      "deque([0, 1, 2], maxlen=5)\n",
      "deque([0, 1, 2, 3], maxlen=5)\n",
      "deque([0, 1, 2, 3, 4], maxlen=5)\n",
      "deque([1, 2, 3, 4, 5], maxlen=5)\n",
      "deque([2, 3, 4, 5, 6], maxlen=5)\n",
      "deque([3, 4, 5, 6, 7], maxlen=5)\n",
      "deque([4, 5, 6, 7, 8], maxlen=5)\n",
      "deque([5, 6, 7, 8, 9], maxlen=5)\n"
     ]
    }
   ],
   "source": [
    "# Implementing a ring buffer using deque\n",
    "from collections import deque\n",
    "a = deque(maxlen=5) # Create a deque with a maximum length of 5\n",
    "for i in range(10):\n",
    "    a.append(i)\n",
    "    print(a)"
   ]
  },
  {
   "cell_type": "code",
   "execution_count": 291,
   "id": "96eff242",
   "metadata": {},
   "outputs": [
    {
     "name": "stdout",
     "output_type": "stream",
     "text": [
      "deque([95, 96, 97, 98, 99], maxlen=5)\n"
     ]
    }
   ],
   "source": [
    "a = list(range(100))\n",
    "d = deque(a, maxlen=5)\n",
    "print(d)"
   ]
  },
  {
   "cell_type": "code",
   "execution_count": null,
   "id": "316e850e",
   "metadata": {},
   "outputs": [
    {
     "name": "stdout",
     "output_type": "stream",
     "text": [
      "a=[10, 20, 24, 30, 40, 50]\n",
      "a=[10, 20, 24, 30, 33, 40, 50]\n",
      "a=[10, 15, 20, 24, 30, 33, 40, 50]\n",
      "a=[10, 15, 20, 24, 30, 33, 40, 50, 60]\n"
     ]
    }
   ],
   "source": [
    "a = [10, 20, 30, 40, 50]\n",
    "\n",
    "while (v := int(input(\"Enter a value (or 0 to quit): \"))):\n",
    "    a.append(v)\n",
    "    a.sort() # Inefficient.\n",
    "    print(f\"{a=}\")"
   ]
  },
  {
   "cell_type": "code",
   "execution_count": 293,
   "id": "96299576",
   "metadata": {},
   "outputs": [
    {
     "name": "stdout",
     "output_type": "stream",
     "text": [
      "a=[10, 20, 30, 34, 40, 50]\n",
      "a=[10, 20, 22, 30, 34, 40, 50]\n",
      "a=[10, 20, 22, 30, 34, 40, 50, 67]\n",
      "a=[10, 20, 22, 30, 33, 34, 40, 50, 67]\n",
      "a=[10, 12, 20, 22, 30, 33, 34, 40, 50, 67]\n",
      "a=[10, 12, 15, 20, 22, 30, 33, 34, 40, 50, 67]\n",
      "a=[10, 12, 14, 15, 20, 22, 30, 33, 34, 40, 50, 67]\n",
      "a=[10, 12, 14, 15, 20, 22, 30, 33, 34, 40, 45, 50, 67]\n"
     ]
    }
   ],
   "source": [
    "from bisect import insort\n",
    "\n",
    "a = [10, 20, 30, 40, 50]\n",
    "\n",
    "while (v := int(input(\"Enter a value (or 0 to quit): \"))):\n",
    "    insort(a, v)\n",
    "    print(f\"{a=}\")"
   ]
  },
  {
   "cell_type": "code",
   "execution_count": 294,
   "id": "feed6c53",
   "metadata": {},
   "outputs": [
    {
     "name": "stdout",
     "output_type": "stream",
     "text": [
      "Pushed v=23, a=[23]\n",
      "Pushed v=78, a=[23, 78]\n",
      "Pushed v=45, a=[23, 78, 45]\n",
      "Pushed v=12, a=[23, 78, 45, 12]\n",
      "Pushed v=145, a=[23, 78, 45, 12, 145]\n"
     ]
    }
   ],
   "source": [
    "a = []\n",
    "while (v := int(input(\"Enter a value (or 0 to quit): \"))):\n",
    "    a.append(v)\n",
    "    print(f\"Pushed {v=}, {a=}\")"
   ]
  },
  {
   "cell_type": "code",
   "execution_count": 295,
   "id": "47de78b6",
   "metadata": {},
   "outputs": [
    {
     "name": "stdout",
     "output_type": "stream",
     "text": [
      "Pushed v=45, a=[45]\n",
      "Pushed v=12, a=[12, 45]\n",
      "Pushed v=78, a=[12, 45, 78]\n",
      "Pushed v=15, a=[12, 15, 78, 45]\n",
      "Pushed v=33, a=[12, 15, 78, 45, 33]\n",
      "Pushed v=42, a=[12, 15, 42, 45, 33, 78]\n",
      "Pushed v=67, a=[12, 15, 42, 45, 33, 78, 67]\n",
      "Pushed v=17, a=[12, 15, 42, 17, 33, 78, 67, 45]\n",
      "Pushed v=84, a=[12, 15, 42, 17, 33, 78, 67, 45, 84]\n",
      "----------------------------------------\n",
      "Popped v=12, a=[15, 17, 42, 45, 33, 78, 67, 84]\n",
      "Popped v=15, a=[17, 33, 42, 45, 84, 78, 67]\n",
      "Popped v=17, a=[33, 45, 42, 67, 84, 78]\n",
      "Popped v=33, a=[42, 45, 78, 67, 84]\n",
      "Popped v=42, a=[45, 67, 78, 84]\n",
      "Popped v=45, a=[67, 84, 78]\n",
      "Popped v=67, a=[78, 84]\n",
      "Popped v=78, a=[84]\n",
      "Popped v=84, a=[]\n"
     ]
    }
   ],
   "source": [
    "from heapq import heappush, heappop\n",
    "\n",
    "a = []\n",
    "while (v := int(input(\"Enter a value (or 0 to quit): \"))):\n",
    "    heappush(a, v)\n",
    "    print(f\"Pushed {v=}, {a=}\")\n",
    "\n",
    "print(\"-\" * 40)\n",
    "\n",
    "while a:\n",
    "    v = heappop(a)\n",
    "    print(f\"Popped {v=}, {a=}\") "
   ]
  },
  {
   "cell_type": "code",
   "execution_count": 298,
   "id": "c5e0f112",
   "metadata": {},
   "outputs": [
    {
     "name": "stdout",
     "output_type": "stream",
     "text": [
      "{70, 40, 10, 80, 50, 20, 60, 30} <class 'set'>\n",
      "{' ', 'l', 'w', 'e', 'r', 'd', 'h', 'o'} <class 'set'>\n",
      "{0, 1, 64, 4, 36, 9, 16, 49, 81, 25} <class 'set'>\n"
     ]
    }
   ],
   "source": [
    "# Sets are unordered collections of unique hashable items.\n",
    "# Sets in Python are implemented using hash-tables (hash-sets) and are mutable.\n",
    "\n",
    "# Three ways to construct a set:\n",
    "# 1. Using the literal notation using curly braces.\n",
    "a = {10, 20, 30, 40, 50, 60, 70, 80}\n",
    "print(a, type(a)) # The order of items in a set is unpredictable - but not random.\n",
    "\n",
    "# 2. Using the set() constructor.\n",
    "b = set(\"hello world\") # Set of characters in the string\n",
    "print(b, type(b))\n",
    "\n",
    "# 3. Using a comprehension.\n",
    "c = {x*x for x in range(10)} # Set of squares of numbers from 0 to 9\n",
    "print(c, type(c))\n",
    "\n"
   ]
  },
  {
   "cell_type": "code",
   "execution_count": 301,
   "id": "7c8d71ca",
   "metadata": {},
   "outputs": [
    {
     "name": "stdout",
     "output_type": "stream",
     "text": [
      "{70, 40, 10, 80, 50, 20, 60, 30}\n",
      "{65, 33, 67, 11, 44, 78, 22, 56, 88}\n",
      "[65, 33, 67, 11, 44, 78, 22, 56, 88]\n"
     ]
    }
   ],
   "source": [
    "# Items of a set are unique.\n",
    "a = {10, 20, 50, 30, 40, 50, 10, 60, 20, 20, 70, 50, 80, 10, 20, 30}\n",
    "print(a)\n",
    "\n",
    "a = [11, 65, 11, 78, 22, 56, 11, 78, 33, 22, 11, 67, 44, 22, 88]\n",
    "b = set(a) # Remove duplicates from a list\n",
    "print(b)\n",
    "\n",
    "c = list(set(a))\n",
    "print(c)"
   ]
  },
  {
   "cell_type": "code",
   "execution_count": 304,
   "id": "d36f86f2",
   "metadata": {},
   "outputs": [
    {
     "name": "stdout",
     "output_type": "stream",
     "text": [
      "{50, 20, 40, 10, 30}\n",
      "{None, True, (1, 2), 20.5, 10, 'hello'}\n"
     ]
    },
    {
     "ename": "TypeError",
     "evalue": "unhashable type: 'list'",
     "output_type": "error",
     "traceback": [
      "\u001b[0;31m---------------------------------------------------------------------------\u001b[0m",
      "\u001b[0;31mTypeError\u001b[0m                                 Traceback (most recent call last)",
      "Cell \u001b[0;32mIn[304], line 8\u001b[0m\n\u001b[1;32m      5\u001b[0m a \u001b[38;5;241m=\u001b[39m {\u001b[38;5;241m10\u001b[39m, \u001b[38;5;124m\"\u001b[39m\u001b[38;5;124mhello\u001b[39m\u001b[38;5;124m\"\u001b[39m, \u001b[38;5;241m20.5\u001b[39m, (\u001b[38;5;241m1\u001b[39m, \u001b[38;5;241m2\u001b[39m), \u001b[38;5;28;01mNone\u001b[39;00m, \u001b[38;5;28;01mTrue\u001b[39;00m}\n\u001b[1;32m      6\u001b[0m \u001b[38;5;28mprint\u001b[39m(a)\n\u001b[0;32m----> 8\u001b[0m a \u001b[38;5;241m=\u001b[39m {\u001b[38;5;241m10\u001b[39m, \u001b[38;5;241m20\u001b[39m, [\u001b[38;5;241m30\u001b[39m, \u001b[38;5;241m40\u001b[39m], \u001b[38;5;241m50\u001b[39m} \u001b[38;5;66;03m# Invalid - list is not hashable\u001b[39;00m\n\u001b[1;32m      9\u001b[0m \u001b[38;5;28mprint\u001b[39m(a)\n",
      "\u001b[0;31mTypeError\u001b[0m: unhashable type: 'list'"
     ]
    }
   ],
   "source": [
    "# 2. Items of a set must be hashable.\n",
    "a = {10, 20, 30, 40, 50} # Valid\n",
    "print(a)\n",
    "\n",
    "a = {10, \"hello\", 20.5, (1, 2), None, True}\n",
    "print(a)\n",
    "\n",
    "a = {10, 20, [30, 40], 50} # Invalid - list is not hashable\n",
    "print(a)"
   ]
  },
  {
   "cell_type": "code",
   "execution_count": 305,
   "id": "ea1c841c",
   "metadata": {},
   "outputs": [
    {
     "ename": "TypeError",
     "evalue": "unhashable type: 'set'",
     "output_type": "error",
     "traceback": [
      "\u001b[0;31m---------------------------------------------------------------------------\u001b[0m",
      "\u001b[0;31mTypeError\u001b[0m                                 Traceback (most recent call last)",
      "Cell \u001b[0;32mIn[305], line 1\u001b[0m\n\u001b[0;32m----> 1\u001b[0m a \u001b[38;5;241m=\u001b[39m {\u001b[38;5;241m10\u001b[39m, \u001b[38;5;241m20\u001b[39m, {\u001b[38;5;241m30\u001b[39m, \u001b[38;5;241m40\u001b[39m}, \u001b[38;5;241m50\u001b[39m}\n",
      "\u001b[0;31mTypeError\u001b[0m: unhashable type: 'set'"
     ]
    }
   ],
   "source": [
    "a = {10, 20, {30, 40}, 50} # Invalid - set is not hashable"
   ]
  },
  {
   "cell_type": "code",
   "execution_count": 306,
   "id": "84bf2fcd",
   "metadata": {},
   "outputs": [
    {
     "name": "stdout",
     "output_type": "stream",
     "text": [
      "{frozenset({40, 30}), 10, 20, 50}\n"
     ]
    }
   ],
   "source": [
    "f = frozenset([30, 40]) # frozenset is an immutable version of set\n",
    "a = {10, 20, f, 50} # Valid - frozenset is hashable\n",
    "print(a)"
   ]
  },
  {
   "cell_type": "code",
   "execution_count": 309,
   "id": "1cee744c",
   "metadata": {},
   "outputs": [
    {
     "name": "stdout",
     "output_type": "stream",
     "text": [
      "100 70 40 10 80 50 20 90 60 30 \n",
      "10\n",
      "True\n",
      "False\n"
     ]
    }
   ],
   "source": [
    "a = {10, 20, 30, 40, 50, 60, 70, 80, 90, 100}\n",
    "for v in a: # Iterable\n",
    "    print(v, end=' ')\n",
    "print()\n",
    "print(len(a)) # Length\n",
    "print(50 in a) # Membership\n",
    "print(500 in a) # Membership"
   ]
  },
  {
   "cell_type": "code",
   "execution_count": 310,
   "id": "0e2ad7a1",
   "metadata": {},
   "outputs": [
    {
     "ename": "TypeError",
     "evalue": "'set' object is not subscriptable",
     "output_type": "error",
     "traceback": [
      "\u001b[0;31m---------------------------------------------------------------------------\u001b[0m",
      "\u001b[0;31mTypeError\u001b[0m                                 Traceback (most recent call last)",
      "Cell \u001b[0;32mIn[310], line 1\u001b[0m\n\u001b[0;32m----> 1\u001b[0m a[\u001b[38;5;241m0\u001b[39m]\n",
      "\u001b[0;31mTypeError\u001b[0m: 'set' object is not subscriptable"
     ]
    }
   ],
   "source": [
    "a[0]"
   ]
  },
  {
   "cell_type": "code",
   "execution_count": 311,
   "id": "737a834e",
   "metadata": {},
   "outputs": [
    {
     "name": "stdout",
     "output_type": "stream",
     "text": [
      "[22, 78, 12, 28]\n"
     ]
    }
   ],
   "source": [
    "a = [22, 45, 78, 12, 73, 28]\n",
    "b = [56, 45, 34, 73, 89, 62]\n",
    "\n",
    "c = []\n",
    "for v in a:\n",
    "    if v not in b:\n",
    "        c.append(v)\n",
    "print(c)"
   ]
  },
  {
   "cell_type": "markdown",
   "id": "d5aa5f52",
   "metadata": {},
   "source": [
    "NOTE: Sets are the preferred collection for item-wise comparisons."
   ]
  },
  {
   "cell_type": "code",
   "execution_count": null,
   "id": "25706767",
   "metadata": {},
   "outputs": [
    {
     "name": "stdout",
     "output_type": "stream",
     "text": [
      "{78, 28, 12, 22}\n",
      "{56, 89, 34, 62}\n",
      "{73, 45}\n",
      "{34, 73, 12, 45, 78, 22, 56, 89, 28, 62}\n",
      "{12, 78, 22, 89, 28, 34, 56, 62}\n"
     ]
    }
   ],
   "source": [
    "a = {22, 45, 78, 12, 73, 28}\n",
    "b = {56, 45, 34, 73, 89, 62}\n",
    "\n",
    "c = a - b # Set difference\n",
    "print(c)\n",
    "print(b - a) # Set difference\n",
    "print(a & b) # Set intersection\n",
    "print(a | b) # Set union\n",
    "print(a ^ b) # Set symmetric difference\n",
    "\n",
    "# NOTE: sets do not support concatenation or repetition operations.\n",
    "# Instead, a + b, you'd rather use a | b (set union).\n",
    "# Repetition is pointless for sets - as items are unique."
   ]
  },
  {
   "cell_type": "code",
   "execution_count": 316,
   "id": "1cdf4f1b",
   "metadata": {},
   "outputs": [
    {
     "name": "stdout",
     "output_type": "stream",
     "text": [
      "True\n",
      "True\n"
     ]
    }
   ],
   "source": [
    "a = [22, 65, 23, 88, 76, 45, 2, 89]\n",
    "b = [ 23, 2, 22, 45]\n",
    "\n",
    "print(set(a) > set(b)) # a is a superset of b\n",
    "print(set(b) < set(a)) # b is a subset of a"
   ]
  },
  {
   "cell_type": "code",
   "execution_count": null,
   "id": "ad30999a",
   "metadata": {},
   "outputs": [
    {
     "name": "stdout",
     "output_type": "stream",
     "text": [
      "25.5 μs ± 196 ns per loop (mean ± std. dev. of 7 runs, 10,000 loops each)\n",
      "12.2 ns ± 0.133 ns per loop (mean ± std. dev. of 7 runs, 100,000,000 loops each)\n"
     ]
    }
   ],
   "source": [
    "a = list(range(10_000))\n",
    "b = set(range(10_000))\n",
    "\n",
    "%timeit 9999 in a # O(n) time complexity\n",
    "%timeit 9999 in b # O(1) time complexity"
   ]
  },
  {
   "cell_type": "code",
   "execution_count": 318,
   "id": "8e2dab27",
   "metadata": {},
   "outputs": [
    {
     "name": "stdout",
     "output_type": "stream",
     "text": [
      "255 μs ± 1.89 μs per loop (mean ± std. dev. of 7 runs, 1,000 loops each)\n",
      "12.2 ns ± 0.0564 ns per loop (mean ± std. dev. of 7 runs, 100,000,000 loops each)\n"
     ]
    }
   ],
   "source": [
    "a = list(range(100_000))\n",
    "b = set(range(100_000))\n",
    "\n",
    "%timeit 99999 in a # O(n) time complexity\n",
    "%timeit 99999 in b # O(1) time complexity"
   ]
  },
  {
   "cell_type": "code",
   "execution_count": null,
   "id": "6d290714",
   "metadata": {},
   "outputs": [
    {
     "data": {
      "text/plain": [
       "({22, 66, 77}, {22, 66, 77})"
      ]
     },
     "execution_count": 320,
     "metadata": {},
     "output_type": "execute_result"
    }
   ],
   "source": [
    "a = {33, 44, 55, 66, 22, 33, 77}\n",
    "b = {55, 33, 44, 55, 89, 21, 16}\n",
    "a.difference(b), a - b\n",
    "\n",
    "# Likewise, the following set methods are also available:\n",
    "# a.intersection(b)  -> a & b\n",
    "# a.union(b)         -> a | b\n",
    "# a.symmetric_difference(b) -> a ^ b\n",
    "# a.issubset(b)      -> a < b\n",
    "# a.issuperset(b)    -> a > b\n",
    "# a.isdisjoint(b)    -> not a & b"
   ]
  },
  {
   "cell_type": "code",
   "execution_count": 324,
   "id": "02846c84",
   "metadata": {},
   "outputs": [
    {
     "name": "stdout",
     "output_type": "stream",
     "text": [
      "{50, 20, 40, 10, 60, 30}\n",
      "{50, 20, 40, 10, 27, 60, 30}\n",
      "{50, 20, 40, 10, 27, 60, 30}\n"
     ]
    }
   ],
   "source": [
    "a = {10, 20, 30, 40, 50}\n",
    "a.add(60) # Add a single item\n",
    "print(a)\n",
    "a.add(27)\n",
    "print(a)\n",
    "a.add(27)\n",
    "print(a)"
   ]
  },
  {
   "cell_type": "code",
   "execution_count": 326,
   "id": "e8262f46",
   "metadata": {},
   "outputs": [
    {
     "ename": "KeyError",
     "evalue": "30",
     "output_type": "error",
     "traceback": [
      "\u001b[0;31m---------------------------------------------------------------------------\u001b[0m",
      "\u001b[0;31mKeyError\u001b[0m                                  Traceback (most recent call last)",
      "Cell \u001b[0;32mIn[326], line 1\u001b[0m\n\u001b[0;32m----> 1\u001b[0m a\u001b[38;5;241m.\u001b[39mremove(\u001b[38;5;241m30\u001b[39m) \u001b[38;5;66;03m# Remove a single item - raises KeyError if item not found\u001b[39;00m\n\u001b[1;32m      2\u001b[0m \u001b[38;5;28mprint\u001b[39m(a)\n\u001b[1;32m      3\u001b[0m a\u001b[38;5;241m.\u001b[39mremove(\u001b[38;5;241m100\u001b[39m)\n",
      "\u001b[0;31mKeyError\u001b[0m: 30"
     ]
    }
   ],
   "source": [
    "a.remove(30) # Remove a single item - raises KeyError if item not found\n",
    "print(a)\n",
    "a.remove(100) # Raises KeyError if item not found"
   ]
  },
  {
   "cell_type": "code",
   "execution_count": 328,
   "id": "b76374d6",
   "metadata": {},
   "outputs": [
    {
     "name": "stdout",
     "output_type": "stream",
     "text": [
      "{50, 20, 40, 10, 27, 60} <class 'set'>\n",
      "set() {50, 20, 40, 10, 27, 60}\n"
     ]
    }
   ],
   "source": [
    "b = a.copy() # Shallow copy of a set\n",
    "print(b, type(b))\n",
    "a.clear()\n",
    "print(a, b)"
   ]
  },
  {
   "cell_type": "code",
   "execution_count": 330,
   "id": "549f853d",
   "metadata": {},
   "outputs": [
    {
     "name": "stdout",
     "output_type": "stream",
     "text": [
      "{} <class 'dict'>\n",
      "set() <class 'set'>\n"
     ]
    }
   ],
   "source": [
    "a = {10, 20, 30}\n",
    "a = {} # This creates an empty dictionary, NOT an empty set.\n",
    "print(a, type(a))\n",
    "a = set() # This creates an empty set.\n",
    "print(a, type(a))"
   ]
  },
  {
   "cell_type": "code",
   "execution_count": 332,
   "id": "fd6ae250",
   "metadata": {},
   "outputs": [
    {
     "name": "stdout",
     "output_type": "stream",
     "text": [
      "v=50, a={20, 40, 10, 30}\n",
      "v=20, a={40, 10, 30}\n",
      "v=40, a={10, 30}\n",
      "v=10, a={30}\n",
      "v=30, a=set()\n"
     ]
    }
   ],
   "source": [
    "a = {10, 20, 30, 40, 50}\n",
    "\n",
    "while a:\n",
    "    v = a.pop()\n",
    "    print(f\"{v=}, {a=}\")\n",
    "\n"
   ]
  },
  {
   "cell_type": "code",
   "execution_count": null,
   "id": "430e6459",
   "metadata": {},
   "outputs": [
    {
     "name": "stdout",
     "output_type": "stream",
     "text": [
      "{33, 40, 10, 44, 77, 50, 20, 22, 60, 30}\n"
     ]
    }
   ],
   "source": [
    "a = {10, 20, 30, 40, 50, 60}\n",
    "b = {44, 33, 22, 77}\n",
    "a.update(b) # Add all items of b to a\n",
    "print(a)\n",
    "\n",
    "# Correlation between list and set:\n",
    "# You append to a list, but add to a set.\n",
    "# You extend a list, but update a set.\n",
    "# You can however:\n",
    "# copy a list or a set\n",
    "# clear a list or a set\n",
    "# remove an item from a list or a set\n",
    "# pop an item from a list or a set"
   ]
  },
  {
   "cell_type": "code",
   "execution_count": 334,
   "id": "9f32b6f9",
   "metadata": {},
   "outputs": [
    {
     "name": "stdout",
     "output_type": "stream",
     "text": [
      "['__and__', '__class__', '__class_getitem__', '__contains__', '__delattr__', '__dir__', '__doc__', '__eq__', '__format__', '__ge__', '__getattribute__', '__getstate__', '__gt__', '__hash__', '__iand__', '__init__', '__init_subclass__', '__ior__', '__isub__', '__iter__', '__ixor__', '__le__', '__len__', '__lt__', '__ne__', '__new__', '__or__', '__rand__', '__reduce__', '__reduce_ex__', '__repr__', '__ror__', '__rsub__', '__rxor__', '__setattr__', '__sizeof__', '__str__', '__sub__', '__subclasshook__', '__xor__', 'add', 'clear', 'copy', 'difference', 'difference_update', 'discard', 'intersection', 'intersection_update', 'isdisjoint', 'issubset', 'issuperset', 'pop', 'remove', 'symmetric_difference', 'symmetric_difference_update', 'union', 'update']\n"
     ]
    }
   ],
   "source": [
    "print(dir(a))"
   ]
  }
 ],
 "metadata": {
  "kernelspec": {
   "display_name": "base",
   "language": "python",
   "name": "python3"
  },
  "language_info": {
   "codemirror_mode": {
    "name": "ipython",
    "version": 3
   },
   "file_extension": ".py",
   "mimetype": "text/x-python",
   "name": "python",
   "nbconvert_exporter": "python",
   "pygments_lexer": "ipython3",
   "version": "3.12.7"
  }
 },
 "nbformat": 4,
 "nbformat_minor": 5
}
