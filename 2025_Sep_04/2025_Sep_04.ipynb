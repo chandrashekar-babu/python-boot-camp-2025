{
 "cells": [
  {
   "cell_type": "markdown",
   "id": "fed94f5a",
   "metadata": {},
   "source": [
    "# Python Bootcamp - 2025"
   ]
  },
  {
   "cell_type": "markdown",
   "id": "3fe820f8",
   "metadata": {},
   "source": [
    "### Planned Agenda for today\n",
    " - Introduction to Python\n",
    " - Getting started with Python\n",
    " - Data Types and Flow Control"
   ]
  },
  {
   "cell_type": "markdown",
   "id": "cf023c23",
   "metadata": {},
   "source": []
  }
 ],
 "metadata": {
  "kernelspec": {
   "display_name": "base",
   "language": "python",
   "name": "python3"
  },
  "language_info": {
   "codemirror_mode": {
    "name": "ipython",
    "version": 3
   },
   "file_extension": ".py",
   "mimetype": "text/x-python",
   "name": "python",
   "nbconvert_exporter": "python",
   "pygments_lexer": "ipython3",
   "version": "3.12.7"
  }
 },
 "nbformat": 4,
 "nbformat_minor": 5
}
