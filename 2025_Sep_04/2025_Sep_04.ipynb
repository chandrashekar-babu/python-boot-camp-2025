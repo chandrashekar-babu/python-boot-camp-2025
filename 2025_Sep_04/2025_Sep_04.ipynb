{
 "cells": [
  {
   "cell_type": "markdown",
   "id": "fed94f5a",
   "metadata": {},
   "source": [
    "# Python Bootcamp - 2025"
   ]
  },
  {
   "cell_type": "markdown",
   "id": "3fe820f8",
   "metadata": {},
   "source": [
    "### Planned Agenda for today\n",
    " - Introduction to Python\n",
    " - Getting started with Python\n",
    " - Data Types and Flow Control"
   ]
  },
  {
   "cell_type": "markdown",
   "id": "cf023c23",
   "metadata": {},
   "source": [
    "##### Python Language Design Traits\n",
    " 1. `modules` are the building blocks of a Python program\n",
    " 2. Modules in python serve as namespaces for global definitions\n",
    "    - A global variable / function defined in a module becomes the attribute of that module.\n",
    "\n",
    " 3. Python is a \"pure\" Object-Oriented Programming Language by design\n",
    "     - i.e., everything in python is an object.\n",
    "     "
   ]
  },
  {
   "cell_type": "code",
   "execution_count": 1,
   "id": "63277ad7",
   "metadata": {},
   "outputs": [
    {
     "data": {
      "text/plain": [
       "'__main__'"
      ]
     },
     "execution_count": 1,
     "metadata": {},
     "output_type": "execute_result"
    }
   ],
   "source": [
    "__name__"
   ]
  },
  {
   "cell_type": "markdown",
   "id": "a58d5a72",
   "metadata": {},
   "source": [
    "#### Python statements and expressions\n",
    "  - Simple statements\n",
    "     - Generally end with a newline\n",
    "  - Compound statements\n",
    "     - Represent flow control, or function / class definitions\n",
    "     - They start with a prologue keyword and the prologue ends with a :\n",
    "       followed by a body of indented statements."
   ]
  },
  {
   "cell_type": "markdown",
   "id": "bc7ce8ad",
   "metadata": {},
   "source": [
    "#### Simple statements\n",
    "  1. Expressions\n",
    "  2. Assignments\n",
    "  3. The `del` statement\n",
    "  4. Import statements\n",
    "  5. The `assert` statement\n",
    "  6. The `raise` statement\n",
    "  7. Flow control related statements\n",
    "     - `break`\n",
    "     - `continue`\n",
    "  8. Function related statements (valid only within functions)\n",
    "     - `global`\n",
    "     - `nonlocal`\n",
    "     - `return`\n",
    "     - `yield`\n",
    "     - `await`\n",
    "  9. The `pass` statement\n",
    "  \n"
   ]
  },
  {
   "cell_type": "markdown",
   "id": "eb01a12b",
   "metadata": {},
   "source": [
    "#### Compound statements\n",
    "##### Flow control\n",
    "  1. The `if` statement\n",
    "  2. The `match` statement (Python 3.10+)\n",
    "  3. The `while` loop\n",
    "  4. The `for` loop\n",
    "  5. The `try` ... `except` statement\n",
    "\n",
    "##### Context Manager\n",
    "  1. The `with` statement\n",
    "\n",
    "##### Definitions\n",
    "  1. The `def` statement - define functions\n",
    "  2. The `async def` statement - define coroutines (Python 3.6+)\n",
    "  3. The `class` statement - define a class\n",
    "  "
   ]
  },
  {
   "cell_type": "code",
   "execution_count": 7,
   "id": "7fb17592",
   "metadata": {},
   "outputs": [
    {
     "name": "stdout",
     "output_type": "stream",
     "text": [
      "Hello world\n"
     ]
    },
    {
     "data": {
      "text/plain": [
       "(6, 7, 8)"
      ]
     },
     "execution_count": 7,
     "metadata": {},
     "output_type": "execute_result"
    }
   ],
   "source": [
    "# Examples of expressions\n",
    "\n",
    "4 + 5                # Arithmetic expression\n",
    "\"Hello\" + \"World\"    # String concatenation\n",
    "\n",
    "print(\"Hello world\") # Function call\n",
    "\n",
    "a = [44, 55, 66]\n",
    "a[0]                # A getitem expression \n",
    "\n",
    "# Literal notations to represent data\n",
    "\n",
    "56  # Literal notation of an integer\n",
    "\"Test data\" # Literal notation of a string\n",
    "[11, 22, 33, 44] # Literal notation of a list\n",
    "6, 7, 8  # Literal notation of a tuple\n",
    "\n"
   ]
  },
  {
   "cell_type": "markdown",
   "id": "62e98266",
   "metadata": {},
   "source": [
    "#### Assignment statements\n",
    " 1. Simple assignments\n",
    " 2. Assignments by Tuple packing\n",
    " 3. Assignments by Tuple unpacking\n",
    " 4. Parallel assignments\n",
    " 5. Augmented assignments\n",
    " 6. Assignment by chainloading\n",
    " 7. Walrus assignment"
   ]
  },
  {
   "cell_type": "code",
   "execution_count": null,
   "id": "b78c4166",
   "metadata": {},
   "outputs": [
    {
     "name": "stdout",
     "output_type": "stream",
     "text": [
      "101 100\n"
     ]
    }
   ],
   "source": [
    "a = 100  # simple assignment\n",
    "b = a    # Assign b to a\n",
    "a += 1 # a = a + 1\n",
    "print(a, b)"
   ]
  },
  {
   "cell_type": "markdown",
   "id": "da9d838f",
   "metadata": {},
   "source": [
    "### NOTE: All assignments in Python \"copy\" references, not actual objects / values"
   ]
  },
  {
   "cell_type": "markdown",
   "id": "c1794de6",
   "metadata": {},
   "source": [
    "#### Immutable vs Mutable objects\n",
    " - In Python, all numbers, strings (str, bytes) and tuple are immutable.\n",
    "\n",
    "Immutable objects are objects whose notion of value cannot be altered after their creation.\n",
    "\n",
    "Mutable objects are objects whose notion of value can be altered in their lifetime.\n",
    "\n",
    "Any object that have a notion of value in them are instances of \"datatypes\"\n",
    "\n",
    " "
   ]
  },
  {
   "cell_type": "markdown",
   "id": "e4c67b9e",
   "metadata": {},
   "source": [
    "Constants vs Immutables\n",
    "\n",
    "Constants are terms associated with 'identifiers'\n",
    "Immutables are associated with actual objects.\n",
    "\n",
    "PI = 3.14\n",
    "PI = 4.56 # If PI was a 'constant', reassignment would fail.\n",
    "\n"
   ]
  },
  {
   "cell_type": "code",
   "execution_count": 11,
   "id": "d1acda6a",
   "metadata": {},
   "outputs": [
    {
     "name": "stdout",
     "output_type": "stream",
     "text": [
      "456\n"
     ]
    }
   ],
   "source": [
    "a = \"Hello world\"\n",
    "a = 456\n",
    "print(a)"
   ]
  },
  {
   "cell_type": "markdown",
   "id": "7280c3ec",
   "metadata": {},
   "source": [
    "#### In python, objects with NO REFERENCES become candidates of \"Garbage Collection\". That is, they are freed from memory eventually.\n",
    "\n",
    "In Python, \"every\" identifier \"acts\" as a variable. There is NO official support for defining constants in Python."
   ]
  },
  {
   "cell_type": "markdown",
   "id": "caf0eb5d",
   "metadata": {},
   "source": [
    "Every object in Python has the following traits:\n",
    "  1. They belong to a \"type\" / \"class\" (class or types are the same in Python 3)\n",
    "  2. They also have a unique identity as a number. In CPython, this would be the memory address where the object resides.\n",
    "  3. They have a \"string\" representation.\n",
    "  "
   ]
  },
  {
   "cell_type": "code",
   "execution_count": null,
   "id": "5007cad3",
   "metadata": {},
   "outputs": [
    {
     "name": "stdout",
     "output_type": "stream",
     "text": [
      "<class 'int'>\n",
      "4303580752\n",
      "123\n"
     ]
    }
   ],
   "source": [
    "a = 123\n",
    "print(type(a))      # Returns the type / class of the object\n",
    "print(id(a))        # Returns the identity of the object\n",
    "print(str(a))       # Returns the string representation of the object"
   ]
  },
  {
   "cell_type": "code",
   "execution_count": 16,
   "id": "fe0f5926",
   "metadata": {},
   "outputs": [
    {
     "data": {
      "text/plain": [
       "123"
      ]
     },
     "execution_count": 16,
     "metadata": {},
     "output_type": "execute_result"
    }
   ],
   "source": [
    "a  # repr(a)"
   ]
  },
  {
   "cell_type": "code",
   "execution_count": null,
   "id": "53967d62",
   "metadata": {},
   "outputs": [
    {
     "data": {
      "text/plain": [
       "'[11, 22, 33, 44]'"
      ]
     },
     "execution_count": 19,
     "metadata": {},
     "output_type": "execute_result"
    }
   ],
   "source": [
    "nums = [11, 22, 33, 44]\n",
    "str(nums)  # \"Informal string representation\" of the object\n",
    "repr(nums) # \"Official string representation\" of the object"
   ]
  },
  {
   "cell_type": "code",
   "execution_count": 21,
   "id": "2b50b74f",
   "metadata": {},
   "outputs": [
    {
     "name": "stdout",
     "output_type": "stream",
     "text": [
      "<function square at 0x1052d3880>\n",
      "<function square at 0x1052d3880>\n"
     ]
    }
   ],
   "source": [
    "def square(x): return x * x\n",
    "\n",
    "print(square)\n",
    "print(repr(square))"
   ]
  },
  {
   "cell_type": "code",
   "execution_count": 24,
   "id": "7208e9d0",
   "metadata": {},
   "outputs": [
    {
     "name": "stdout",
     "output_type": "stream",
     "text": [
      "1234 4381996272\n",
      "1234 4381997072\n",
      "1234 4381996272\n"
     ]
    }
   ],
   "source": [
    "a = 1234\n",
    "b = 1234\n",
    "c = a\n",
    "print(a, id(a))\n",
    "print(b, id(b))\n",
    "print(c, id(c))"
   ]
  },
  {
   "cell_type": "code",
   "execution_count": 25,
   "id": "1e131c55",
   "metadata": {},
   "outputs": [
    {
     "name": "stdout",
     "output_type": "stream",
     "text": [
      "123 4303580752\n",
      "123 4303580752\n",
      "123 4303580752\n"
     ]
    }
   ],
   "source": [
    "a = 123\n",
    "b = 123\n",
    "c = a\n",
    "print(a, id(a))\n",
    "print(b, id(b))\n",
    "print(c, id(c))"
   ]
  },
  {
   "cell_type": "markdown",
   "id": "7b31ad04",
   "metadata": {},
   "source": [
    "Python applies practical optimization for builtin datatypes - numbers and strings.\n",
    "\n",
    "Numbers between -5 to +256 are preallocated and are \"interned\" / \"cached\".\n",
    "This is \"small integer optimization\".\n"
   ]
  },
  {
   "cell_type": "code",
   "execution_count": 29,
   "id": "0cbffe61",
   "metadata": {},
   "outputs": [
    {
     "name": "stdout",
     "output_type": "stream",
     "text": [
      "4381996592 4381995664\n"
     ]
    }
   ],
   "source": [
    "a = 257\n",
    "b = 257\n",
    "print(id(a), id(b))"
   ]
  },
  {
   "cell_type": "code",
   "execution_count": 34,
   "id": "36fcabb5",
   "metadata": {},
   "outputs": [
    {
     "name": "stdout",
     "output_type": "stream",
     "text": [
      "True\n",
      "True\n"
     ]
    }
   ],
   "source": [
    "a = 200\n",
    "b = 200\n",
    "print(a == b) # Value equality\n",
    "print(a is b) # Identity equality"
   ]
  },
  {
   "cell_type": "code",
   "execution_count": null,
   "id": "f3f68f85",
   "metadata": {},
   "outputs": [
    {
     "name": "stdout",
     "output_type": "stream",
     "text": [
      "True\n",
      "False\n"
     ]
    }
   ],
   "source": [
    "a = 300\n",
    "b = 300\n",
    "print(a == b) # Value equality\n",
    "print(a is b) # Identity equality"
   ]
  },
  {
   "cell_type": "code",
   "execution_count": 35,
   "id": "8df8eade",
   "metadata": {},
   "outputs": [
    {
     "data": {
      "text/plain": [
       "'3.12.7 | packaged by Anaconda, Inc. | (main, Oct  4 2024, 08:22:19) [Clang 14.0.6 ]'"
      ]
     },
     "execution_count": 35,
     "metadata": {},
     "output_type": "execute_result"
    }
   ],
   "source": [
    "import sys\n",
    "sys.version"
   ]
  },
  {
   "cell_type": "code",
   "execution_count": 37,
   "id": "f8a0e963",
   "metadata": {},
   "outputs": [
    {
     "name": "stdout",
     "output_type": "stream",
     "text": [
      "False\n",
      "True\n"
     ]
    }
   ],
   "source": [
    "a = \"hello world\"\n",
    "b = \"hello world\"\n",
    "print(a is b)\n",
    "print(a == b)"
   ]
  },
  {
   "cell_type": "code",
   "execution_count": 40,
   "id": "9087174d",
   "metadata": {},
   "outputs": [
    {
     "name": "stdout",
     "output_type": "stream",
     "text": [
      "True\n",
      "True\n"
     ]
    }
   ],
   "source": [
    "a = \"hello_world\"\n",
    "b = \"hello_world\"\n",
    "print(a is b)\n",
    "print(a == b)"
   ]
  },
  {
   "cell_type": "markdown",
   "id": "053279b3",
   "metadata": {},
   "source": [
    "In python, string undergo \"word-string\" interning optimization\n",
    "\"word-strings\" are strings that start with either an alphabet or underscore and would only contain, alphabets, digits or underscore in them.\n"
   ]
  },
  {
   "cell_type": "code",
   "execution_count": null,
   "id": "a685d655",
   "metadata": {},
   "outputs": [
    {
     "name": "stdout",
     "output_type": "stream",
     "text": [
      "<module 'sys' (built-in)>\n"
     ]
    }
   ],
   "source": [
    "import sys  # This is a builtin module\n",
    "# Provides access to some variables used or maintained \n",
    "# by the interpreter and to functions that interact \n",
    "# strongly with the interpreter.\n",
    "print(sys)"
   ]
  },
  {
   "cell_type": "code",
   "execution_count": 42,
   "id": "7d3c3941",
   "metadata": {},
   "outputs": [
    {
     "name": "stdout",
     "output_type": "stream",
     "text": [
      "3\n"
     ]
    }
   ],
   "source": [
    "a = 12345\n",
    "print(sys.getrefcount(a))  # Reference count of the object"
   ]
  },
  {
   "cell_type": "markdown",
   "id": "7b9f3180",
   "metadata": {},
   "source": [
    "#### NOTE: In Python, statements cannot be treated as expressions!"
   ]
  },
  {
   "cell_type": "code",
   "execution_count": 44,
   "id": "d1d03ab0",
   "metadata": {},
   "outputs": [
    {
     "ename": "SyntaxError",
     "evalue": "invalid syntax. Maybe you meant '==' or ':=' instead of '='? (3848245935.py, line 1)",
     "output_type": "error",
     "traceback": [
      "\u001b[0;36m  Cell \u001b[0;32mIn[44], line 1\u001b[0;36m\u001b[0m\n\u001b[0;31m    while (command = input(\"Enter command:\")) != \"exit\":\u001b[0m\n\u001b[0m           ^\u001b[0m\n\u001b[0;31mSyntaxError\u001b[0m\u001b[0;31m:\u001b[0m invalid syntax. Maybe you meant '==' or ':=' instead of '='?\n"
     ]
    }
   ],
   "source": [
    "while (command = input(\"Enter command:\")) != \"exit\":\n",
    "    print(\"You entered:\", command)\n"
   ]
  },
  {
   "cell_type": "code",
   "execution_count": 45,
   "id": "ad4c71fe",
   "metadata": {},
   "outputs": [
    {
     "name": "stdout",
     "output_type": "stream",
     "text": [
      "You entered: dfsdfsdf\n",
      "You entered: werwer\n",
      "You entered: sdfsdf\n"
     ]
    }
   ],
   "source": [
    "while True:\n",
    "    command = input(\"Enter command:\")\n",
    "    if command == \"exit\":\n",
    "        break\n",
    "    print(\"You entered:\", command)\n"
   ]
  },
  {
   "cell_type": "code",
   "execution_count": 46,
   "id": "5d727986",
   "metadata": {},
   "outputs": [
    {
     "name": "stdout",
     "output_type": "stream",
     "text": [
      "You entered: sdfdsf\n",
      "You entered: werewr\n",
      "You entered: dgdfgfd\n"
     ]
    }
   ],
   "source": [
    "# Walrus operator :=\n",
    "# A new assignment expression operator introduced in Python 3.8\n",
    "#### NOTE: In Python, statements cannot be treated as expressions!\n",
    "\n",
    "while (command := input(\"Enter command:\")) != \"exit\":\n",
    "    print(\"You entered:\", command)"
   ]
  },
  {
   "cell_type": "code",
   "execution_count": 49,
   "id": "56611efa",
   "metadata": {},
   "outputs": [
    {
     "name": "stdout",
     "output_type": "stream",
     "text": [
      "(10, 20, 30) <class 'tuple'> 3 10\n"
     ]
    }
   ],
   "source": [
    "a = 100 # Simple assignment\n",
    "a = 10, 20, 30  # Tuple packing\n",
    "print(a, type(a), len(a), a[0])"
   ]
  },
  {
   "cell_type": "code",
   "execution_count": 51,
   "id": "a356a104",
   "metadata": {},
   "outputs": [
    {
     "name": "stdout",
     "output_type": "stream",
     "text": [
      "(10, 20, 90)\n"
     ]
    }
   ],
   "source": [
    "a = 10, 20, 30 * 3\n",
    "print(a)"
   ]
  },
  {
   "cell_type": "code",
   "execution_count": 52,
   "id": "c7e711da",
   "metadata": {},
   "outputs": [
    {
     "name": "stdout",
     "output_type": "stream",
     "text": [
      "(10, 20, 30, 10, 20, 30, 10, 20, 30)\n"
     ]
    }
   ],
   "source": [
    "a = (10, 20, 30) * 3\n",
    "print(a)"
   ]
  },
  {
   "cell_type": "code",
   "execution_count": 54,
   "id": "4f310d04",
   "metadata": {},
   "outputs": [
    {
     "name": "stdout",
     "output_type": "stream",
     "text": [
      "(10, 20, 30)\n",
      "10 20 30\n"
     ]
    }
   ],
   "source": [
    "a = 10, 20, 30\n",
    "print(a)\n",
    "b, c, d = a # Tuple unpacking\n",
    "print(b, c, d)"
   ]
  },
  {
   "cell_type": "code",
   "execution_count": 55,
   "id": "08d7b3d7",
   "metadata": {},
   "outputs": [
    {
     "name": "stdout",
     "output_type": "stream",
     "text": [
      "(10, 20, 30, 40)\n"
     ]
    },
    {
     "ename": "ValueError",
     "evalue": "too many values to unpack (expected 3)",
     "output_type": "error",
     "traceback": [
      "\u001b[0;31m---------------------------------------------------------------------------\u001b[0m",
      "\u001b[0;31mValueError\u001b[0m                                Traceback (most recent call last)",
      "Cell \u001b[0;32mIn[55], line 3\u001b[0m\n\u001b[1;32m      1\u001b[0m a \u001b[38;5;241m=\u001b[39m \u001b[38;5;241m10\u001b[39m, \u001b[38;5;241m20\u001b[39m, \u001b[38;5;241m30\u001b[39m, \u001b[38;5;241m40\u001b[39m\n\u001b[1;32m      2\u001b[0m \u001b[38;5;28mprint\u001b[39m(a)\n\u001b[0;32m----> 3\u001b[0m b, c, d \u001b[38;5;241m=\u001b[39m a \u001b[38;5;66;03m# Tuple unpacking\u001b[39;00m\n\u001b[1;32m      4\u001b[0m \u001b[38;5;28mprint\u001b[39m(b, c, d)\n",
      "\u001b[0;31mValueError\u001b[0m: too many values to unpack (expected 3)"
     ]
    }
   ],
   "source": [
    "a = 10, 20, 30, 40\n",
    "print(a)\n",
    "b, c, d = a # Tuple unpacking\n",
    "print(b, c, d)"
   ]
  },
  {
   "cell_type": "code",
   "execution_count": 56,
   "id": "77cd5dbf",
   "metadata": {},
   "outputs": [
    {
     "name": "stdout",
     "output_type": "stream",
     "text": [
      "(10, 20)\n"
     ]
    },
    {
     "ename": "ValueError",
     "evalue": "not enough values to unpack (expected 3, got 2)",
     "output_type": "error",
     "traceback": [
      "\u001b[0;31m---------------------------------------------------------------------------\u001b[0m",
      "\u001b[0;31mValueError\u001b[0m                                Traceback (most recent call last)",
      "Cell \u001b[0;32mIn[56], line 3\u001b[0m\n\u001b[1;32m      1\u001b[0m a \u001b[38;5;241m=\u001b[39m \u001b[38;5;241m10\u001b[39m, \u001b[38;5;241m20\u001b[39m\n\u001b[1;32m      2\u001b[0m \u001b[38;5;28mprint\u001b[39m(a)\n\u001b[0;32m----> 3\u001b[0m b, c, d \u001b[38;5;241m=\u001b[39m a \u001b[38;5;66;03m# Tuple unpacking\u001b[39;00m\n\u001b[1;32m      4\u001b[0m \u001b[38;5;28mprint\u001b[39m(b, c, d)\n",
      "\u001b[0;31mValueError\u001b[0m: not enough values to unpack (expected 3, got 2)"
     ]
    }
   ],
   "source": [
    "a = 10, 20\n",
    "print(a)\n",
    "b, c, d = a # Tuple unpacking\n",
    "print(b, c, d)"
   ]
  },
  {
   "cell_type": "code",
   "execution_count": 67,
   "id": "b5274372",
   "metadata": {},
   "outputs": [
    {
     "name": "stdout",
     "output_type": "stream",
     "text": [
      "10 20 [30, 40, 50]\n"
     ]
    }
   ],
   "source": [
    "a = 10, 20, 30, 40, 50\n",
    "\n",
    "b, c, *_ = a\n",
    "print(b, c, _)"
   ]
  },
  {
   "cell_type": "code",
   "execution_count": 65,
   "id": "3acd9f14",
   "metadata": {},
   "outputs": [
    {
     "name": "stdout",
     "output_type": "stream",
     "text": [
      "10 20 [30, 40, 50]\n"
     ]
    }
   ],
   "source": [
    "a = 10, 20, 30, 40, 50\n",
    "\n",
    "b, c, *d = a\n",
    "print(b, c, d)"
   ]
  },
  {
   "cell_type": "code",
   "execution_count": 66,
   "id": "26aa3f11",
   "metadata": {},
   "outputs": [
    {
     "name": "stdout",
     "output_type": "stream",
     "text": [
      "10 20 (30, 40, 50)\n"
     ]
    }
   ],
   "source": [
    "a = 10, 20, 30, 40, 50\n",
    "\n",
    "b, c, d = a[0], a[1], a[2:]\n",
    "print(b, c, d)"
   ]
  },
  {
   "cell_type": "code",
   "execution_count": 69,
   "id": "faac4ff4",
   "metadata": {},
   "outputs": [
    {
     "name": "stdout",
     "output_type": "stream",
     "text": [
      "10 20\n",
      "20 10\n"
     ]
    }
   ],
   "source": [
    "# Parallel assignment\n",
    "x, y = 10, 20\n",
    "print(x, y)\n",
    "x, y = y, x\n",
    "print(x, y)"
   ]
  },
  {
   "cell_type": "code",
   "execution_count": null,
   "id": "6fddec7f",
   "metadata": {},
   "outputs": [
    {
     "name": "stdout",
     "output_type": "stream",
     "text": [
      "15\n",
      "13\n",
      "39\n",
      "9.75\n"
     ]
    }
   ],
   "source": [
    "# Augmented assignment operators\n",
    "a = 10\n",
    "a += 5\n",
    "print(a)\n",
    "a -= 2\n",
    "print(a)\n",
    "a *= 3\n",
    "print(a)\n",
    "a /= 4\n",
    "print(a)"
   ]
  },
  {
   "cell_type": "code",
   "execution_count": null,
   "id": "84546f61",
   "metadata": {},
   "outputs": [
    {
     "ename": "SyntaxError",
     "evalue": "invalid syntax (3912059214.py, line 2)",
     "output_type": "error",
     "traceback": [
      "\u001b[0;36m  Cell \u001b[0;32mIn[71], line 2\u001b[0;36m\u001b[0m\n\u001b[0;31m    b = a += 1\u001b[0m\n\u001b[0m          ^\u001b[0m\n\u001b[0;31mSyntaxError\u001b[0m\u001b[0;31m:\u001b[0m invalid syntax\n"
     ]
    }
   ],
   "source": [
    "a = 10\n",
    "b = a += 1 # SyntaxError: statements are not expressions\n",
    "print(a, b)"
   ]
  },
  {
   "cell_type": "code",
   "execution_count": 74,
   "id": "d829ee6a",
   "metadata": {},
   "outputs": [
    {
     "name": "stdout",
     "output_type": "stream",
     "text": [
      "1006755 1006755 1006755\n",
      "4424965872 4424965872 4424965872\n"
     ]
    }
   ],
   "source": [
    "a = b = c = 1006755 # Assignment chaining\n",
    "print(a, b, c)\n",
    "print(id(a), id(b), id(c))"
   ]
  },
  {
   "cell_type": "code",
   "execution_count": null,
   "id": "5fffdf03",
   "metadata": {},
   "outputs": [
    {
     "name": "stdout",
     "output_type": "stream",
     "text": [
      "5 9\n"
     ]
    }
   ],
   "source": [
    "b = 4 + (a := 5)  # Avoid bare statements like these. Not pythonic.\n",
    "print(a, b)"
   ]
  },
  {
   "cell_type": "code",
   "execution_count": null,
   "id": "896e114d",
   "metadata": {},
   "outputs": [
    {
     "name": "stdout",
     "output_type": "stream",
     "text": [
      "1000\n"
     ]
    },
    {
     "ename": "NameError",
     "evalue": "name 'r' is not defined",
     "output_type": "error",
     "traceback": [
      "\u001b[0;31m---------------------------------------------------------------------------\u001b[0m",
      "\u001b[0;31mNameError\u001b[0m                                 Traceback (most recent call last)",
      "Cell \u001b[0;32mIn[78], line 5\u001b[0m\n\u001b[1;32m      3\u001b[0m a \u001b[38;5;241m=\u001b[39m \u001b[38;5;241m1000\u001b[39m\n\u001b[1;32m      4\u001b[0m \u001b[38;5;28mprint\u001b[39m(a)\n\u001b[0;32m----> 5\u001b[0m \u001b[38;5;28mprint\u001b[39m(r)\n",
      "\u001b[0;31mNameError\u001b[0m: name 'r' is not defined"
     ]
    }
   ],
   "source": [
    "# References\n",
    "# Objects in Python are accessed through references.\n",
    "# References can be names, items of a collection, attributes of an object.\n",
    "a = 1000\n",
    "print(a)\n",
    "print(r)"
   ]
  },
  {
   "cell_type": "code",
   "execution_count": 83,
   "id": "63903945",
   "metadata": {},
   "outputs": [
    {
     "name": "stdout",
     "output_type": "stream",
     "text": [
      "[123, 20, 30]\n",
      "{} <class 'dict'>\n",
      "{'name': 'Alice'}\n",
      "100\n"
     ]
    }
   ],
   "source": [
    "a = [10, 20, 30]  # Variable assignment / Name assignment\n",
    "a[0] = 123  # Item assignment (setitem operation)\n",
    "print(a)\n",
    "\n",
    "d = {} # Empty dictionary creation\n",
    "print(d, type(d))\n",
    "d[\"name\"] = \"Alice\" # Item assignment (setitem operation)\n",
    "print(d)\n",
    "\n",
    "import sys\n",
    "sys.testdata = 100 # Attribute assignment\n",
    "print(sys.testdata)"
   ]
  },
  {
   "cell_type": "code",
   "execution_count": 86,
   "id": "ff1aa408",
   "metadata": {},
   "outputs": [
    {
     "ename": "IndexError",
     "evalue": "list index out of range",
     "output_type": "error",
     "traceback": [
      "\u001b[0;31m---------------------------------------------------------------------------\u001b[0m",
      "\u001b[0;31mIndexError\u001b[0m                                Traceback (most recent call last)",
      "Cell \u001b[0;32mIn[86], line 1\u001b[0m\n\u001b[0;32m----> 1\u001b[0m a[\u001b[38;5;241m7\u001b[39m]\n",
      "\u001b[0;31mIndexError\u001b[0m: list index out of range"
     ]
    }
   ],
   "source": [
    "a[7]"
   ]
  },
  {
   "cell_type": "code",
   "execution_count": 88,
   "id": "50bd05c4",
   "metadata": {},
   "outputs": [
    {
     "ename": "KeyError",
     "evalue": "'age'",
     "output_type": "error",
     "traceback": [
      "\u001b[0;31m---------------------------------------------------------------------------\u001b[0m",
      "\u001b[0;31mKeyError\u001b[0m                                  Traceback (most recent call last)",
      "Cell \u001b[0;32mIn[88], line 1\u001b[0m\n\u001b[0;32m----> 1\u001b[0m d[\u001b[38;5;124m\"\u001b[39m\u001b[38;5;124mage\u001b[39m\u001b[38;5;124m\"\u001b[39m]\n",
      "\u001b[0;31mKeyError\u001b[0m: 'age'"
     ]
    }
   ],
   "source": [
    "d[\"age\"]"
   ]
  },
  {
   "cell_type": "code",
   "execution_count": 89,
   "id": "4fe9a7c2",
   "metadata": {},
   "outputs": [
    {
     "ename": "AttributeError",
     "evalue": "module 'sys' has no attribute 'name'",
     "output_type": "error",
     "traceback": [
      "\u001b[0;31m---------------------------------------------------------------------------\u001b[0m",
      "\u001b[0;31mAttributeError\u001b[0m                            Traceback (most recent call last)",
      "Cell \u001b[0;32mIn[89], line 1\u001b[0m\n\u001b[0;32m----> 1\u001b[0m sys\u001b[38;5;241m.\u001b[39mname\n",
      "\u001b[0;31mAttributeError\u001b[0m: module 'sys' has no attribute 'name'"
     ]
    }
   ],
   "source": [
    "sys.name"
   ]
  },
  {
   "cell_type": "code",
   "execution_count": 90,
   "id": "dbc41aa4",
   "metadata": {},
   "outputs": [
    {
     "ename": "NameError",
     "evalue": "name 'a' is not defined",
     "output_type": "error",
     "traceback": [
      "\u001b[0;31m---------------------------------------------------------------------------\u001b[0m",
      "\u001b[0;31mNameError\u001b[0m                                 Traceback (most recent call last)",
      "Cell \u001b[0;32mIn[90], line 2\u001b[0m\n\u001b[1;32m      1\u001b[0m \u001b[38;5;28;01mdel\u001b[39;00m a\n\u001b[0;32m----> 2\u001b[0m \u001b[38;5;28mprint\u001b[39m(a)\n",
      "\u001b[0;31mNameError\u001b[0m: name 'a' is not defined"
     ]
    }
   ],
   "source": [
    "del a\n",
    "print(a)"
   ]
  },
  {
   "cell_type": "code",
   "execution_count": null,
   "id": "8d4ee329",
   "metadata": {},
   "outputs": [
    {
     "name": "stdout",
     "output_type": "stream",
     "text": [
      "[10, 30, 40]\n",
      "{}\n"
     ]
    },
    {
     "ename": "KeyError",
     "evalue": "'name'",
     "output_type": "error",
     "traceback": [
      "\u001b[0;31m---------------------------------------------------------------------------\u001b[0m",
      "\u001b[0;31mKeyError\u001b[0m                                  Traceback (most recent call last)",
      "Cell \u001b[0;32mIn[94], line 7\u001b[0m\n\u001b[1;32m      4\u001b[0m \u001b[38;5;28mprint\u001b[39m(a)\n\u001b[1;32m      6\u001b[0m \u001b[38;5;28mprint\u001b[39m(d)\n\u001b[0;32m----> 7\u001b[0m \u001b[38;5;28;01mdel\u001b[39;00m d[\u001b[38;5;124m\"\u001b[39m\u001b[38;5;124mname\u001b[39m\u001b[38;5;124m\"\u001b[39m] \u001b[38;5;66;03m# delitem operation\u001b[39;00m\n\u001b[1;32m      8\u001b[0m \u001b[38;5;28mprint\u001b[39m(d)\n\u001b[1;32m     10\u001b[0m \u001b[38;5;28;01mdel\u001b[39;00m sys\u001b[38;5;241m.\u001b[39mtestdata \u001b[38;5;66;03m# delattr operation\u001b[39;00m\n",
      "\u001b[0;31mKeyError\u001b[0m: 'name'"
     ]
    }
   ],
   "source": [
    "a = [10, 20, 30, 40]\n",
    "\n",
    "del a[1] # delitem operation\n",
    "print(a)\n",
    "\n",
    "print(d)\n",
    "del d[\"name\"] # delitem operation\n",
    "print(d)\n"
   ]
  },
  {
   "cell_type": "code",
   "execution_count": 95,
   "id": "bb7ebd94",
   "metadata": {},
   "outputs": [
    {
     "ename": "AttributeError",
     "evalue": "module 'sys' has no attribute 'testdata'",
     "output_type": "error",
     "traceback": [
      "\u001b[0;31m---------------------------------------------------------------------------\u001b[0m",
      "\u001b[0;31mAttributeError\u001b[0m                            Traceback (most recent call last)",
      "Cell \u001b[0;32mIn[95], line 2\u001b[0m\n\u001b[1;32m      1\u001b[0m \u001b[38;5;28;01mdel\u001b[39;00m sys\u001b[38;5;241m.\u001b[39mtestdata \u001b[38;5;66;03m# delattr operation\u001b[39;00m\n\u001b[0;32m----> 2\u001b[0m \u001b[38;5;28mprint\u001b[39m(sys\u001b[38;5;241m.\u001b[39mtestdata)\n",
      "\u001b[0;31mAttributeError\u001b[0m: module 'sys' has no attribute 'testdata'"
     ]
    }
   ],
   "source": [
    "\n",
    "del sys.testdata # delattr operation\n",
    "print(sys.testdata)"
   ]
  },
  {
   "cell_type": "code",
   "execution_count": 96,
   "id": "c7cea9bf",
   "metadata": {},
   "outputs": [
    {
     "data": {
      "text/plain": [
       "'3.12.7 | packaged by Anaconda, Inc. | (main, Oct  4 2024, 08:22:19) [Clang 14.0.6 ]'"
      ]
     },
     "execution_count": 96,
     "metadata": {},
     "output_type": "execute_result"
    }
   ],
   "source": [
    "sys.version"
   ]
  },
  {
   "cell_type": "code",
   "execution_count": 97,
   "id": "56889583",
   "metadata": {},
   "outputs": [
    {
     "ename": "AttributeError",
     "evalue": "module 'sys' has no attribute 'version'",
     "output_type": "error",
     "traceback": [
      "\u001b[0;31m---------------------------------------------------------------------------\u001b[0m",
      "\u001b[0;31mAttributeError\u001b[0m                            Traceback (most recent call last)",
      "Cell \u001b[0;32mIn[97], line 2\u001b[0m\n\u001b[1;32m      1\u001b[0m \u001b[38;5;28;01mdel\u001b[39;00m sys\u001b[38;5;241m.\u001b[39mversion\n\u001b[0;32m----> 2\u001b[0m \u001b[38;5;28mprint\u001b[39m(sys\u001b[38;5;241m.\u001b[39mversion)\n",
      "\u001b[0;31mAttributeError\u001b[0m: module 'sys' has no attribute 'version'"
     ]
    }
   ],
   "source": [
    "del sys.version\n",
    "print(sys.version)"
   ]
  },
  {
   "cell_type": "code",
   "execution_count": 98,
   "id": "08a2266b",
   "metadata": {},
   "outputs": [],
   "source": [
    "sys.version = \"2.7.11\""
   ]
  },
  {
   "cell_type": "code",
   "execution_count": 99,
   "id": "61ddf7db",
   "metadata": {},
   "outputs": [
    {
     "data": {
      "text/plain": [
       "'2.7.11'"
      ]
     },
     "execution_count": 99,
     "metadata": {},
     "output_type": "execute_result"
    }
   ],
   "source": [
    "import sys\n",
    "sys.version"
   ]
  },
  {
   "cell_type": "code",
   "execution_count": 100,
   "id": "aa6c81db",
   "metadata": {},
   "outputs": [],
   "source": [
    "del sys"
   ]
  },
  {
   "cell_type": "code",
   "execution_count": 101,
   "id": "f433ea65",
   "metadata": {},
   "outputs": [
    {
     "ename": "NameError",
     "evalue": "name 'sys' is not defined",
     "output_type": "error",
     "traceback": [
      "\u001b[0;31m---------------------------------------------------------------------------\u001b[0m",
      "\u001b[0;31mNameError\u001b[0m                                 Traceback (most recent call last)",
      "Cell \u001b[0;32mIn[101], line 1\u001b[0m\n\u001b[0;32m----> 1\u001b[0m sys\u001b[38;5;241m.\u001b[39mversion\n",
      "\u001b[0;31mNameError\u001b[0m: name 'sys' is not defined"
     ]
    }
   ],
   "source": [
    "sys.version"
   ]
  },
  {
   "cell_type": "code",
   "execution_count": null,
   "id": "419e3bec",
   "metadata": {},
   "outputs": [],
   "source": [
    "In Python, modules are singletons.\n"
   ]
  },
  {
   "cell_type": "code",
   "execution_count": 1,
   "id": "4bbc7515",
   "metadata": {},
   "outputs": [
    {
     "data": {
      "text/plain": [
       "'3.12.7 | packaged by Anaconda, Inc. | (main, Oct  4 2024, 08:22:19) [Clang 14.0.6 ]'"
      ]
     },
     "execution_count": 1,
     "metadata": {},
     "output_type": "execute_result"
    }
   ],
   "source": [
    "import sys\n",
    "sys.version"
   ]
  },
  {
   "cell_type": "code",
   "execution_count": 9,
   "id": "bb8ebd78",
   "metadata": {},
   "outputs": [],
   "source": [
    "import testmodule\n",
    "# Loads a module by name \"testmodule\" if not already loaded\n",
    "# And defines a variable named testmodule to refer to this module.\n"
   ]
  },
  {
   "cell_type": "code",
   "execution_count": 10,
   "id": "c377923e",
   "metadata": {},
   "outputs": [
    {
     "data": {
      "text/plain": [
       "100"
      ]
     },
     "execution_count": 10,
     "metadata": {},
     "output_type": "execute_result"
    }
   ],
   "source": [
    "testmodule.a"
   ]
  },
  {
   "cell_type": "code",
   "execution_count": 14,
   "id": "75a0831a",
   "metadata": {},
   "outputs": [
    {
     "name": "stdout",
     "output_type": "stream",
     "text": [
      "Module initialized at Thu Sep  4 16:40:25 2025\n"
     ]
    },
    {
     "data": {
      "text/plain": [
       "<module 'testmodule' from '/Users/chandra/Training/Python_Boot_Camp/python-boot-camp-2025/2025_Sep_04/testmodule.py'>"
      ]
     },
     "execution_count": 14,
     "metadata": {},
     "output_type": "execute_result"
    }
   ],
   "source": [
    "import importlib\n",
    "importlib.reload(testmodule) # Avoid this on production code."
   ]
  },
  {
   "cell_type": "code",
   "execution_count": 15,
   "id": "8e73f12f",
   "metadata": {},
   "outputs": [
    {
     "data": {
      "text/plain": [
       "456"
      ]
     },
     "execution_count": 15,
     "metadata": {},
     "output_type": "execute_result"
    }
   ],
   "source": [
    "testmodule.a\n"
   ]
  },
  {
   "cell_type": "code",
   "execution_count": 16,
   "id": "ba61a3cb",
   "metadata": {},
   "outputs": [
    {
     "data": {
      "text/plain": [
       "4"
      ]
     },
     "execution_count": 16,
     "metadata": {},
     "output_type": "execute_result"
    }
   ],
   "source": [
    "testmodule.square(2)"
   ]
  },
  {
   "cell_type": "code",
   "execution_count": 20,
   "id": "03018203",
   "metadata": {},
   "outputs": [
    {
     "data": {
      "text/plain": [
       "'Thu Sep  4 16:41:56 2025'"
      ]
     },
     "execution_count": 20,
     "metadata": {},
     "output_type": "execute_result"
    }
   ],
   "source": [
    "testmodule.time.ctime()"
   ]
  },
  {
   "cell_type": "code",
   "execution_count": 1,
   "id": "c2018418",
   "metadata": {},
   "outputs": [
    {
     "ename": "NameError",
     "evalue": "name 'testmodule' is not defined",
     "output_type": "error",
     "traceback": [
      "\u001b[0;31m---------------------------------------------------------------------------\u001b[0m",
      "\u001b[0;31mNameError\u001b[0m                                 Traceback (most recent call last)",
      "Cell \u001b[0;32mIn[1], line 1\u001b[0m\n\u001b[0;32m----> 1\u001b[0m testmodule\n",
      "\u001b[0;31mNameError\u001b[0m: name 'testmodule' is not defined"
     ]
    }
   ],
   "source": [
    "testmodule"
   ]
  },
  {
   "cell_type": "code",
   "execution_count": null,
   "id": "c643f87f",
   "metadata": {},
   "outputs": [
    {
     "name": "stdout",
     "output_type": "stream",
     "text": [
      "Module initialized at Thu Sep  4 16:44:37 2025\n"
     ]
    },
    {
     "data": {
      "text/plain": [
       "9"
      ]
     },
     "execution_count": 2,
     "metadata": {},
     "output_type": "execute_result"
    }
   ],
   "source": [
    "import testmodule as tm\n",
    "# Synonymous to the following:\n",
    "# import testmodule\n",
    "# tm = testmodule\n",
    "# del testmodule\n",
    "\n",
    "tm.square(3)"
   ]
  },
  {
   "cell_type": "code",
   "execution_count": 1,
   "id": "83aec628",
   "metadata": {},
   "outputs": [
    {
     "ename": "NameError",
     "evalue": "name 'testmodule' is not defined",
     "output_type": "error",
     "traceback": [
      "\u001b[0;31m---------------------------------------------------------------------------\u001b[0m",
      "\u001b[0;31mNameError\u001b[0m                                 Traceback (most recent call last)",
      "Cell \u001b[0;32mIn[1], line 1\u001b[0m\n\u001b[0;32m----> 1\u001b[0m testmodule\u001b[38;5;241m.\u001b[39msquare(\u001b[38;5;241m5\u001b[39m)\n",
      "\u001b[0;31mNameError\u001b[0m: name 'testmodule' is not defined"
     ]
    }
   ],
   "source": [
    "testmodule.square(5)"
   ]
  },
  {
   "cell_type": "code",
   "execution_count": 2,
   "id": "d1351b32",
   "metadata": {},
   "outputs": [
    {
     "name": "stdout",
     "output_type": "stream",
     "text": [
      "Module initialized at Thu Sep  4 16:48:37 2025\n"
     ]
    },
    {
     "data": {
      "text/plain": [
       "16"
      ]
     },
     "execution_count": 2,
     "metadata": {},
     "output_type": "execute_result"
    }
   ],
   "source": [
    "from testmodule import square\n",
    "# Synonymous to the following:\n",
    "# import testmodule\n",
    "# square = testmodule.square\n",
    "# del testmodule\n",
    "\n",
    "square(4)"
   ]
  },
  {
   "cell_type": "code",
   "execution_count": 3,
   "id": "4317db90",
   "metadata": {},
   "outputs": [
    {
     "ename": "ValueError",
     "evalue": "Invalid value",
     "output_type": "error",
     "traceback": [
      "\u001b[0;31m---------------------------------------------------------------------------\u001b[0m",
      "\u001b[0;31mValueError\u001b[0m                                Traceback (most recent call last)",
      "Cell \u001b[0;32mIn[3], line 1\u001b[0m\n\u001b[0;32m----> 1\u001b[0m \u001b[38;5;28;01mraise\u001b[39;00m \u001b[38;5;167;01mValueError\u001b[39;00m(\u001b[38;5;124m\"\u001b[39m\u001b[38;5;124mInvalid value\u001b[39m\u001b[38;5;124m\"\u001b[39m)\n",
      "\u001b[0;31mValueError\u001b[0m: Invalid value"
     ]
    }
   ],
   "source": [
    "raise ValueError(\"Invalid value\")"
   ]
  },
  {
   "cell_type": "code",
   "execution_count": 7,
   "id": "2d5790c5",
   "metadata": {},
   "outputs": [],
   "source": [
    "a = 5"
   ]
  },
  {
   "cell_type": "code",
   "execution_count": 8,
   "id": "739ad84e",
   "metadata": {},
   "outputs": [
    {
     "ename": "AssertionError",
     "evalue": "a should be greater than 10",
     "output_type": "error",
     "traceback": [
      "\u001b[0;31m---------------------------------------------------------------------------\u001b[0m",
      "\u001b[0;31mAssertionError\u001b[0m                            Traceback (most recent call last)",
      "Cell \u001b[0;32mIn[8], line 1\u001b[0m\n\u001b[0;32m----> 1\u001b[0m \u001b[38;5;28;01massert\u001b[39;00m a \u001b[38;5;241m>\u001b[39m \u001b[38;5;241m10\u001b[39m, \u001b[38;5;124m\"\u001b[39m\u001b[38;5;124ma should be greater than 10\u001b[39m\u001b[38;5;124m\"\u001b[39m\n",
      "\u001b[0;31mAssertionError\u001b[0m: a should be greater than 10"
     ]
    }
   ],
   "source": [
    "assert a > 10, \"a should be greater than 10\""
   ]
  },
  {
   "cell_type": "code",
   "execution_count": null,
   "id": "7c994fe6",
   "metadata": {},
   "outputs": [
    {
     "name": "stdout",
     "output_type": "stream",
     "text": [
      "0\n",
      "1\n",
      "2\n",
      "3\n",
      "4\n",
      "5\n",
      "6\n",
      "7\n",
      "8\n",
      "9\n"
     ]
    }
   ],
   "source": [
    "for i in range(10):\n",
    "    pass\n",
    "    \n"
   ]
  },
  {
   "cell_type": "markdown",
   "id": "5653b664",
   "metadata": {},
   "source": [
    "#### Conditions in Python\n"
   ]
  },
  {
   "cell_type": "code",
   "execution_count": 17,
   "id": "00e7ab54",
   "metadata": {},
   "outputs": [
    {
     "data": {
      "text/plain": [
       "True"
      ]
     },
     "execution_count": 17,
     "metadata": {},
     "output_type": "execute_result"
    }
   ],
   "source": [
    "a = 10\n",
    "a >= 5"
   ]
  },
  {
   "cell_type": "markdown",
   "id": "ccd77ac4",
   "metadata": {},
   "source": [
    "Boolean operators and expressions:\n",
    " == \n",
    " !=\n",
    " <\n",
    " >\n",
    " <=\n",
    " >=\n",
    "\n",
    " is\n",
    " is not\n",
    " in\n",
    " not in"
   ]
  },
  {
   "cell_type": "code",
   "execution_count": 18,
   "id": "d33b8c14",
   "metadata": {},
   "outputs": [
    {
     "name": "stdout",
     "output_type": "stream",
     "text": [
      "a and b are different\n"
     ]
    }
   ],
   "source": [
    "a = 100\n",
    "b = 150\n",
    "if a is not b:\n",
    "    print(\"a and b are different\")"
   ]
  },
  {
   "cell_type": "code",
   "execution_count": 20,
   "id": "f7c1ae9b",
   "metadata": {},
   "outputs": [
    {
     "data": {
      "text/plain": [
       "(True, True)"
      ]
     },
     "execution_count": 20,
     "metadata": {},
     "output_type": "execute_result"
    }
   ],
   "source": [
    "a = [55, 44, 55, 66, 23, 78, 21, 89]\n",
    "23 in a, 56 not in a"
   ]
  },
  {
   "cell_type": "markdown",
   "id": "b43b01d0",
   "metadata": {},
   "source": [
    "Logical operators:\n",
    "   not, and, or"
   ]
  },
  {
   "cell_type": "code",
   "execution_count": 21,
   "id": "0d5527e1",
   "metadata": {},
   "outputs": [
    {
     "data": {
      "text/plain": [
       "True"
      ]
     },
     "execution_count": 21,
     "metadata": {},
     "output_type": "execute_result"
    }
   ],
   "source": [
    "a = 100\n",
    "\n",
    "a > 10 and a < 1000"
   ]
  },
  {
   "cell_type": "markdown",
   "id": "e8afb92d",
   "metadata": {},
   "source": [
    "Boolean truthiness:\n",
    "  \n",
    "  Numbers: 0, 0.0, 0+0j evaluate to False\n",
    "  Collections: \"\", (), [], {}, set() evaluate to False\n",
    "  Special identifiers: None, False -> evaluate to False\n",
    "  "
   ]
  },
  {
   "cell_type": "code",
   "execution_count": 31,
   "id": "4afdaffb",
   "metadata": {},
   "outputs": [
    {
     "name": "stdout",
     "output_type": "stream",
     "text": [
      "a is evaluated to False\n"
     ]
    }
   ],
   "source": [
    "a = \"\"\n",
    "if a:\n",
    "    print(\"a is evaluated to True\")\n",
    "else:\n",
    "    print(\"a is evaluated to False\")\n"
   ]
  },
  {
   "cell_type": "code",
   "execution_count": null,
   "id": "573ba3b4",
   "metadata": {},
   "outputs": [
    {
     "name": "stdout",
     "output_type": "stream",
     "text": [
      "a is not empty\n"
     ]
    }
   ],
   "source": [
    "a = 11, 22, 33, 44\n",
    "\n",
    "if len(a) > 0:  # NOT PYTHONIC\n",
    "    print(\"a is not empty\")\n",
    "else:\n",
    "    print(\"a is empty\")"
   ]
  },
  {
   "cell_type": "code",
   "execution_count": 33,
   "id": "40a76368",
   "metadata": {},
   "outputs": [
    {
     "name": "stdout",
     "output_type": "stream",
     "text": [
      "a is not empty\n"
     ]
    }
   ],
   "source": [
    "a = 11, 22, 33, 44\n",
    "\n",
    "if not a:  # PYTHONIC\n",
    "    print(\"a is empty\")\n",
    "else:\n",
    "    print(\"a is not empty\")"
   ]
  },
  {
   "cell_type": "markdown",
   "id": "e0eaf80b",
   "metadata": {},
   "source": [
    "\n",
    "                  Hands-On exercises \n",
    "\n",
    "************************************************************\n",
    "Exercise 1: \n",
    "   Download the exercise file from the following URL:\n",
    "       http://www.tinyurl.com/hcf-ex\n",
    "\n",
    "   Implement the hcf() function that should return \n",
    "   the highest common factor (or greatest common divisor) \n",
    "   of two integers passed as arguments\n",
    "\n",
    "************************************************************\n",
    "Exercise 2: \n",
    "   Download the exercise file from the following URL:\n",
    "       http://www.tinyurl.com/primes-ex\n",
    "\n",
    "   Implement the function is_prime() - which should\n",
    "   return True if a number passed as its argument is a \n",
    "   prime number, else False. \n",
    "\n",
    "   Also implement the function print_primes() which should\n",
    "   print the first 'n' prime numbers where 'n' is an integer\n",
    "   passed as its argument.\n",
    "*************************************************************\n",
    "Kindly avoid google search / stack overflow or any form of\n",
    "ready-made solutions from the Internet!\n",
    "\n",
    "\n"
   ]
  }
 ],
 "metadata": {
  "kernelspec": {
   "display_name": "base",
   "language": "python",
   "name": "python3"
  },
  "language_info": {
   "codemirror_mode": {
    "name": "ipython",
    "version": 3
   },
   "file_extension": ".py",
   "mimetype": "text/x-python",
   "name": "python",
   "nbconvert_exporter": "python",
   "pygments_lexer": "ipython3",
   "version": "3.12.7"
  }
 },
 "nbformat": 4,
 "nbformat_minor": 5
}
