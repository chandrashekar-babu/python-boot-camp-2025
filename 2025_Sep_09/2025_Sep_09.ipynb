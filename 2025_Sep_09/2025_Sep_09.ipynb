{
 "cells": [
  {
   "cell_type": "markdown",
   "id": "08221526",
   "metadata": {},
   "source": [
    "# Python Bootcamp 2025\n",
    "### Day 4: Dictionaries and Functions\n",
    "\n",
    "#### Planned Agenda\n",
    "##### Working with Dictionaries\n",
    " - Introduction to Dictionaries\n",
    " - Creating, assigning, updating dictionaries\n",
    " - Dictionary operations and builtin methods\n",
    " - `collections.ChainMap`, `collections.defaultdict` and `collections.Counter`\n",
    "\n",
    "##### Functions\n",
    " - Creating user-defined functions\n",
    " - Functions as first-class *callable* objects\n",
    " - Default arguments and keyword arguments\n",
    " - Arbitrary argument-lists and arbitrary keyword-arguments\n",
    " - Variable scope and use of `global` declarative\n",
    " - Nested (inner) functions and external scope of variables\n",
    " - Function docstrings and interesting function object attributes\n",
    "\n",
    "##### Misc\n",
    " - An overview on `itertools` module\n",
    " - An overview on `functools` module"
   ]
  },
  {
   "cell_type": "markdown",
   "id": "4a008821",
   "metadata": {},
   "source": [
    "### Dictionary: A collection of unique key:value pairs (where keys are unique and hashable)\n",
    "\n",
    "Since Python 3.6+, dictionaries are \"ordered\"."
   ]
  },
  {
   "cell_type": "code",
   "execution_count": null,
   "id": "bbc94846",
   "metadata": {},
   "outputs": [
    {
     "name": "stdout",
     "output_type": "stream",
     "text": [
      "{'name': 'Alice', 'age': 30, 'place': 'Wonderland', 100: 200, (1, 2): 3}\n",
      "{'name': 'Alice', 'age': 30, 'place': 'Wonderland'}\n"
     ]
    }
   ],
   "source": [
    "# Constructing a dictionary:\n",
    "# 1. Literal syntax:\n",
    "d = {\"name\": \"Alice\", \"age\": 30, \"place\": \"Wonderland\", 100: 200, (1, 2): 3}\n",
    "print(d)\n",
    "\n",
    "# Using the dict() constructor:\n",
    "d = dict(name=\"Alice\", age=30, place=\"Wonderland\")\n",
    "print(d)"
   ]
  },
  {
   "cell_type": "code",
   "execution_count": 15,
   "id": "bb96a443",
   "metadata": {},
   "outputs": [
    {
     "name": "stdout",
     "output_type": "stream",
     "text": [
      "{'first name': 'John', 'last name': 'Doe'}\n"
     ]
    },
    {
     "data": {
      "text/plain": [
       "{'first_name': 'John', 'last_name': 'Doe', 'a1': 200}"
      ]
     },
     "execution_count": 15,
     "metadata": {},
     "output_type": "execute_result"
    }
   ],
   "source": [
    "d = {\"first name\": \"John\", \"last name\": \"Doe\"}\n",
    "print(d)\n",
    "\n",
    "dict(first_name=\"John\", last_name=\"Doe\", a1=200)"
   ]
  },
  {
   "cell_type": "code",
   "execution_count": 17,
   "id": "b7aa5161",
   "metadata": {},
   "outputs": [
    {
     "name": "stdout",
     "output_type": "stream",
     "text": [
      "{'name': 'Smith', 'age': 30}\n"
     ]
    },
    {
     "ename": "SyntaxError",
     "evalue": "keyword argument repeated: name (2097983184.py, line 4)",
     "output_type": "error",
     "traceback": [
      "\u001b[0;36m  Cell \u001b[0;32mIn[17], line 4\u001b[0;36m\u001b[0m\n\u001b[0;31m    d = dict(name=\"John\", age=30, name=\"Smith\")\u001b[0m\n\u001b[0m                                  ^\u001b[0m\n\u001b[0;31mSyntaxError\u001b[0m\u001b[0;31m:\u001b[0m keyword argument repeated: name\n"
     ]
    }
   ],
   "source": [
    "d = {\"name\": \"John\", \"age\": 30, \"name\": \"Smith\"}\n",
    "print(d)  # Output: {'name': 'Smith', 'age': 30}\n",
    "\n",
    "d = dict(name=\"John\", age=30, name=\"Smith\")"
   ]
  },
  {
   "cell_type": "code",
   "execution_count": 19,
   "id": "da9cb8bf",
   "metadata": {},
   "outputs": [
    {
     "name": "stdout",
     "output_type": "stream",
     "text": [
      "{'name': 'Alice', 'age': 30, 'place': 'Wonderland'}\n"
     ]
    },
    {
     "data": {
      "text/plain": [
       "{'name': 'Alice', 'age': 30, 'place': 'Wonderland'}"
      ]
     },
     "execution_count": 19,
     "metadata": {},
     "output_type": "execute_result"
    }
   ],
   "source": [
    "# 3. Creating dictionaries using sequences of key-value pairs\n",
    "pairs = [(\"name\", \"Alice\"), (\"age\", 30), (\"place\", \"Wonderland\")]\n",
    "d = dict(pairs)\n",
    "print(d)\n",
    "\n",
    "keys = [\"name\", \"age\", \"place\"]\n",
    "values = [\"Alice\", 30, \"Wonderland\"]\n",
    "dict(zip(keys, values))"
   ]
  },
  {
   "cell_type": "code",
   "execution_count": 20,
   "id": "c3ba423d",
   "metadata": {},
   "outputs": [
    {
     "name": "stdout",
     "output_type": "stream",
     "text": [
      "{0: 0, 1: 1, 2: 4, 3: 9, 4: 16}\n"
     ]
    }
   ],
   "source": [
    "# 4. Using dictionary comprehensions\n",
    "squares = {x: x * x for x in range(5)}\n",
    "print(squares)"
   ]
  },
  {
   "cell_type": "code",
   "execution_count": 27,
   "id": "466bfaa5",
   "metadata": {},
   "outputs": [
    {
     "name": "stdout",
     "output_type": "stream",
     "text": [
      "{'name': 'Alice', 'age': 30, 'place': 'Wonderland', 100: 200, (1, 2): 3}\n",
      "Alice\n",
      "3\n",
      "200\n",
      "3\n",
      "200\n"
     ]
    },
    {
     "ename": "KeyError",
     "evalue": "'city'",
     "output_type": "error",
     "traceback": [
      "\u001b[0;31m---------------------------------------------------------------------------\u001b[0m",
      "\u001b[0;31mKeyError\u001b[0m                                  Traceback (most recent call last)",
      "Cell \u001b[0;32mIn[27], line 13\u001b[0m\n\u001b[1;32m     10\u001b[0m key \u001b[38;5;241m=\u001b[39m \u001b[38;5;241m100\u001b[39m\n\u001b[1;32m     11\u001b[0m \u001b[38;5;28mprint\u001b[39m(d[key])\n\u001b[0;32m---> 13\u001b[0m \u001b[38;5;28mprint\u001b[39m(d[\u001b[38;5;124m\"\u001b[39m\u001b[38;5;124mcity\u001b[39m\u001b[38;5;124m\"\u001b[39m])\n",
      "\u001b[0;31mKeyError\u001b[0m: 'city'"
     ]
    }
   ],
   "source": [
    "d = {\"name\": \"Alice\", \"age\": 30, \"place\": \"Wonderland\", 100: 200, (1, 2): 3}\n",
    "print(d)\n",
    "print(d[\"name\"])\n",
    "print(d[(1, 2)])\n",
    "print(d[100])\n",
    "\n",
    "key = 1, 2\n",
    "print(d[key])\n",
    "\n",
    "key = 100\n",
    "print(d[key])\n",
    "\n",
    "print(d[\"city\"])"
   ]
  },
  {
   "cell_type": "code",
   "execution_count": null,
   "id": "e6aed4c1",
   "metadata": {},
   "outputs": [
    {
     "name": "stdout",
     "output_type": "stream",
     "text": [
      "{'name': 'Alice', 'age': 30, 'place': 'Wonderland', 100: 200, (1, 2): 3}\n",
      "True\n",
      "False\n",
      "Not Found\n",
      "None\n"
     ]
    }
   ],
   "source": [
    "d = {\"name\": \"Alice\", \"age\": 30, \"place\": \"Wonderland\", 100: 200, (1, 2): 3}\n",
    "print(d)\n",
    "\n",
    "print(\"place\" in d) # The 'in' operator checks for key existence\n",
    "print(\"city\" in d)\n",
    "\n",
    "key = \"city\"\n",
    "#value = d[key] if key in d else \"Not Found\"\n",
    "value = d.get(key, \"Not Found\") # returns \"Not Found\" if key not found\n",
    "print(value)\n",
    "\n",
    "key = \"dept\"\n",
    "value = d.get(key) # returns None if key not found\n",
    "print(value)"
   ]
  },
  {
   "cell_type": "code",
   "execution_count": 40,
   "id": "8bcfe979",
   "metadata": {},
   "outputs": [
    {
     "name": "stdout",
     "output_type": "stream",
     "text": [
      "{'name': 'Alice', 'age': 30, 'place': 'Wonderland', 100: 200, (1, 2): 3}\n",
      "{'name': 'Alice', 'age': 31, 'place': 'Wonderland', 100: 200, (1, 2): 3}\n",
      "{'name': 'Alice', 'age': 31, 'place': 'Wonderland', 100: 200, (1, 2): 3, 'city': 'SomewhereLand'}\n"
     ]
    }
   ],
   "source": [
    "d = {\"name\": \"Alice\", \"age\": 30, \"place\": \"Wonderland\", 100: 200, (1, 2): 3}\n",
    "print(d)\n",
    "d[\"age\"] = 31  # Update existing key\n",
    "print(d)\n",
    "d[\"city\"] = \"SomewhereLand\"  # Add new key-value pair\n",
    "print(d)"
   ]
  },
  {
   "cell_type": "code",
   "execution_count": 42,
   "id": "4d6adb79",
   "metadata": {},
   "outputs": [
    {
     "name": "stdout",
     "output_type": "stream",
     "text": [
      "{'name': 'Alice', 'age': 31, 'place': 'Wonderland', 100: 200, (1, 2): 3, 'city': 'SomewhereLand'}\n",
      "{'name': 'Alice', 'age': 31, 'place': 'Wonderland', 100: 200, (1, 2): 3}\n"
     ]
    }
   ],
   "source": [
    "print(d)\n",
    "del d[\"city\"]  # Remove key-value pair\n",
    "print(d)"
   ]
  },
  {
   "cell_type": "code",
   "execution_count": null,
   "id": "b11c5bed",
   "metadata": {},
   "outputs": [
    {
     "name": "stdout",
     "output_type": "stream",
     "text": [
      "{'x': 100, 'y': 200}\n",
      "{'y': 300, 'z': 400}\n",
      "{'x': 100, 'y': 300, 'z': 400}\n"
     ]
    }
   ],
   "source": [
    "a = {\"x\": 100, \"y\": 200}\n",
    "b = {\"y\": 300, \"z\": 400}\n",
    "c = a | b # Merges a and b, with b's values taking precedence for duplicate keys\n",
    "# The above feature is available in Python 3.9 and later\n",
    "\n",
    "c = {**a, **b} # Merges a and b, with b's values taking precedence for duplicate keys\n",
    "# The above feature is supported in Python 3.5 and later (though not recommended)\n",
    "\n",
    "print(a, b, c, sep=\"\\n\")"
   ]
  },
  {
   "cell_type": "code",
   "execution_count": 48,
   "id": "a4393beb",
   "metadata": {},
   "outputs": [
    {
     "name": "stdout",
     "output_type": "stream",
     "text": [
      "{'name': 'Alice', 'age': 30, 'place': 'Wonderland'}\n",
      "dict_keys(['name', 'age', 'place'])\n",
      "dict_values(['Alice', 30, 'Wonderland'])\n",
      "dict_items([('name', 'Alice'), ('age', 30), ('place', 'Wonderland')])\n"
     ]
    }
   ],
   "source": [
    "# Dictionary methods\n",
    "d = {\"name\": \"Alice\", \"age\": 30, \"place\": \"Wonderland\"}\n",
    "print(d)\n",
    "print(d.keys())   # dict_keys(['name', 'age', 'place'])\n",
    "print(d.values()) # dict_values(['Alice', 30, 'Wonderland'])\n",
    "print(d.items())  # dict_items([('name', 'Alice'), ('age', 30), ('place', 'Wonderland')])"
   ]
  },
  {
   "cell_type": "code",
   "execution_count": 52,
   "id": "3b8a9ea6",
   "metadata": {},
   "outputs": [
    {
     "name": "stdout",
     "output_type": "stream",
     "text": [
      "dict_keys(['name', 'age', 'place']) <class 'dict_keys'>\n",
      "dict_keys(['name', 'age', 'place', 'city']) <class 'dict_keys'>\n",
      "dict_keys(['name', 'place', 'city']) <class 'dict_keys'>\n"
     ]
    }
   ],
   "source": [
    "d = {\"name\": \"Alice\", \"age\": 30, \"place\": \"Wonderland\"}\n",
    "keys = d.keys()\n",
    "\n",
    "print(keys, type(keys))\n",
    "\n",
    "d[\"city\"] = \"SomewhereLand\"\n",
    "print(keys, type(keys))\n",
    "del d[\"age\"]\n",
    "print(keys, type(keys))"
   ]
  },
  {
   "cell_type": "code",
   "execution_count": 54,
   "id": "d2eaceca",
   "metadata": {},
   "outputs": [
    {
     "name": "stdout",
     "output_type": "stream",
     "text": [
      "dict_values(['Alice', 30, 'Wonderland']) <class 'dict_values'>\n",
      "dict_values(['Alice', 12, 'Wonderland']) <class 'dict_values'>\n"
     ]
    }
   ],
   "source": [
    "d = {\"name\": \"Alice\", \"age\": 30, \"place\": \"Wonderland\"}\n",
    "values = d.values()\n",
    "\n",
    "print(values, type(values))\n",
    "\n",
    "d[\"age\"] = 12\n",
    "print(values, type(values))"
   ]
  },
  {
   "cell_type": "code",
   "execution_count": 56,
   "id": "64d876f6",
   "metadata": {},
   "outputs": [
    {
     "name": "stdout",
     "output_type": "stream",
     "text": [
      "name\n",
      "age\n",
      "place\n"
     ]
    }
   ],
   "source": [
    "for k in d.keys(): # This is REDUNDANT, prefer 'for k in d:'\n",
    "    print(k)"
   ]
  },
  {
   "cell_type": "code",
   "execution_count": null,
   "id": "687a3ba0",
   "metadata": {},
   "outputs": [
    {
     "name": "stdout",
     "output_type": "stream",
     "text": [
      "name\n",
      "age\n",
      "place\n"
     ]
    }
   ],
   "source": [
    "for k in d:  # Iterates over keys by default\n",
    "    print(k)"
   ]
  },
  {
   "cell_type": "code",
   "execution_count": null,
   "id": "6fab22cf",
   "metadata": {},
   "outputs": [
    {
     "name": "stdout",
     "output_type": "stream",
     "text": [
      "Alice\n",
      "12\n",
      "Wonderland\n"
     ]
    }
   ],
   "source": [
    "for v in d.values():   # Iterates over values\n",
    "    print(v)"
   ]
  },
  {
   "cell_type": "code",
   "execution_count": 62,
   "id": "2813ce09",
   "metadata": {},
   "outputs": [
    {
     "name": "stdout",
     "output_type": "stream",
     "text": [
      "name Alice\n",
      "age 12\n",
      "place Wonderland\n"
     ]
    }
   ],
   "source": [
    "for k, v in d.items(): # Iterates over key-value pairs\n",
    "    print(k, v)"
   ]
  },
  {
   "cell_type": "code",
   "execution_count": null,
   "id": "68a18bf8",
   "metadata": {},
   "outputs": [
    {
     "name": "stdout",
     "output_type": "stream",
     "text": [
      "name Alice\n",
      "age 12\n",
      "place Wonderland\n"
     ]
    }
   ],
   "source": [
    "for k in d:  # Another technique to iterate over keys and access values\n",
    "    print(k, d[k])"
   ]
  },
  {
   "cell_type": "code",
   "execution_count": 64,
   "id": "e76b833f",
   "metadata": {},
   "outputs": [
    {
     "name": "stdout",
     "output_type": "stream",
     "text": [
      "Alice\n",
      "12\n",
      "Wonderland\n"
     ]
    }
   ],
   "source": [
    "for k in d:  # Another technique to iterate over keys and access values\n",
    "    print(d[k])"
   ]
  },
  {
   "cell_type": "code",
   "execution_count": 66,
   "id": "784f9bdd",
   "metadata": {},
   "outputs": [
    {
     "name": "stdout",
     "output_type": "stream",
     "text": [
      "d={'name': 'Alice', 'age': 30, 'place': 'Wonderland'}, v='SomewhereLand'\n"
     ]
    }
   ],
   "source": [
    "d = {\"name\": \"Alice\", \"age\": 30, \"place\": \"Wonderland\"}\n",
    "\n",
    "v = d.get(\"city\", \"SomewhereLand\")\n",
    "print(f\"{d=}, {v=}\")"
   ]
  },
  {
   "cell_type": "code",
   "execution_count": 68,
   "id": "640e6116",
   "metadata": {},
   "outputs": [
    {
     "name": "stdout",
     "output_type": "stream",
     "text": [
      "d={'name': 'Alice', 'age': 30, 'place': 'Wonderland', 'city': 'SomewhereLand'}, v='SomewhereLand'\n",
      "d={'name': 'Alice', 'age': 30, 'place': 'Wonderland', 'city': 'SomewhereLand'}, v='SomewhereLand'\n"
     ]
    }
   ],
   "source": [
    "d = {\"name\": \"Alice\", \"age\": 30, \"place\": \"Wonderland\"}\n",
    "\n",
    "v = d.setdefault(\"city\", \"SomewhereLand\")\n",
    "print(f\"{d=}, {v=}\")\n",
    "\n",
    "v = d.setdefault(\"city\", \"NewPlace\")\n",
    "print(f\"{d=}, {v=}\")"
   ]
  },
  {
   "cell_type": "code",
   "execution_count": 70,
   "id": "5a0f60a1",
   "metadata": {},
   "outputs": [
    {
     "data": {
      "text/plain": [
       "{'temperature': 0, 'humidity': 0, 'windspeed': 0}"
      ]
     },
     "execution_count": 70,
     "metadata": {},
     "output_type": "execute_result"
    }
   ],
   "source": [
    "# Another way to create a dictionary.\n",
    "weather = dict().fromkeys([\"temperature\", \"humidity\", \"windspeed\"], 0)\n",
    "weather"
   ]
  },
  {
   "cell_type": "code",
   "execution_count": 72,
   "id": "cdb44a2d",
   "metadata": {},
   "outputs": [
    {
     "name": "stdout",
     "output_type": "stream",
     "text": [
      "{'name': 'Alice', 'age': 30, 'place': 'Wonderland'} 4506506944 {'name': 'Alice', 'age': 30, 'place': 'Wonderland'} 4445201984\n",
      "{} 4506506944 {'name': 'Alice', 'age': 30, 'place': 'Wonderland'} 4445201984\n"
     ]
    }
   ],
   "source": [
    "d = {\"name\": \"Alice\", \"age\": 30, \"place\": \"Wonderland\"}\n",
    "e = d.copy() # Creates a shallow copy of d\n",
    "print(d, id(d), e, id(e))\n",
    "d.clear()\n",
    "print(d, id(d), e, id(e))"
   ]
  },
  {
   "cell_type": "code",
   "execution_count": 75,
   "id": "0c87bd34",
   "metadata": {},
   "outputs": [
    {
     "ename": "SyntaxError",
     "evalue": "invalid syntax (420306428.py, line 2)",
     "output_type": "error",
     "traceback": [
      "\u001b[0;36m  Cell \u001b[0;32mIn[75], line 2\u001b[0;36m\u001b[0m\n\u001b[0;31m    v = del d[\"name\"]\u001b[0m\n\u001b[0m        ^\u001b[0m\n\u001b[0;31mSyntaxError\u001b[0m\u001b[0;31m:\u001b[0m invalid syntax\n"
     ]
    }
   ],
   "source": [
    "d = {\"name\": \"Alice\", \"age\": 30, \"place\": \"Wonderland\"}\n",
    "v = del d[\"name\"]\n",
    "v"
   ]
  },
  {
   "cell_type": "code",
   "execution_count": null,
   "id": "208dd600",
   "metadata": {},
   "outputs": [
    {
     "name": "stdout",
     "output_type": "stream",
     "text": [
      "{'age': 30, 'place': 'Wonderland'}\n",
      "Alice\n"
     ]
    }
   ],
   "source": [
    "d = {\"name\": \"Alice\", \"age\": 30, \"place\": \"Wonderland\"}\n",
    "v = d.pop(\"name\") # Removes the key and returns its value\n",
    "print(d)\n",
    "print(v)"
   ]
  },
  {
   "cell_type": "code",
   "execution_count": 77,
   "id": "321c96bd",
   "metadata": {},
   "outputs": [
    {
     "name": "stdout",
     "output_type": "stream",
     "text": [
      "{'age': 30, 'place': 'Wonderland'}\n",
      "Alice\n"
     ]
    },
    {
     "ename": "TypeError",
     "evalue": "pop expected at least 1 argument, got 0",
     "output_type": "error",
     "traceback": [
      "\u001b[0;31m---------------------------------------------------------------------------\u001b[0m",
      "\u001b[0;31mTypeError\u001b[0m                                 Traceback (most recent call last)",
      "Cell \u001b[0;32mIn[77], line 6\u001b[0m\n\u001b[1;32m      3\u001b[0m \u001b[38;5;28mprint\u001b[39m(d)\n\u001b[1;32m      4\u001b[0m \u001b[38;5;28mprint\u001b[39m(v)\n\u001b[0;32m----> 6\u001b[0m d\u001b[38;5;241m.\u001b[39mpop()\n",
      "\u001b[0;31mTypeError\u001b[0m: pop expected at least 1 argument, got 0"
     ]
    }
   ],
   "source": [
    "d = {\"name\": \"Alice\", \"age\": 30, \"place\": \"Wonderland\"}\n",
    "v = d.pop(\"name\") # Removes the key and returns its value\n",
    "print(d)\n",
    "print(v)\n",
    "\n",
    "d.pop()"
   ]
  },
  {
   "cell_type": "code",
   "execution_count": 78,
   "id": "89524d86",
   "metadata": {},
   "outputs": [
    {
     "name": "stdout",
     "output_type": "stream",
     "text": [
      "{'name': 'Alice', 'age': 30}\n",
      "place Wonderland\n"
     ]
    }
   ],
   "source": [
    "d = {\"name\": \"Alice\", \"age\": 30, \"place\": \"Wonderland\"}\n",
    "k, v = d.popitem() # Removes and returns an arbitrary (key, value) pair\n",
    "print(d)\n",
    "print(k, v)"
   ]
  },
  {
   "cell_type": "code",
   "execution_count": 79,
   "id": "661b63db",
   "metadata": {},
   "outputs": [
    {
     "name": "stdout",
     "output_type": "stream",
     "text": [
      "{'name': 'John'}\n",
      "{'name': 'John', 'role': 'Developer'}\n",
      "{'name': 'John', 'role': 'Developer', 'company': 'Adobe'}\n",
      "{'name': 'John', 'role': 'Developer', 'company': 'Adobe', 'place': 'Noida'}\n"
     ]
    }
   ],
   "source": [
    "d = {}\n",
    "while True:\n",
    "    k = input(\"Enter key (or 'exit' to quit): \")\n",
    "    if k.lower() == 'exit':\n",
    "        break\n",
    "    v = input(\"Enter value: \")\n",
    "    d[k] = v\n",
    "    print(d)"
   ]
  },
  {
   "cell_type": "code",
   "execution_count": 80,
   "id": "ddf23a26",
   "metadata": {},
   "outputs": [
    {
     "name": "stdout",
     "output_type": "stream",
     "text": [
      "Removed (place: Noida), Remaining: {'name': 'John', 'role': 'Developer', 'company': 'Adobe'}\n",
      "Removed (company: Adobe), Remaining: {'name': 'John', 'role': 'Developer'}\n",
      "Removed (role: Developer), Remaining: {'name': 'John'}\n",
      "Removed (name: John), Remaining: {}\n"
     ]
    }
   ],
   "source": [
    "while d:\n",
    "    k, v = d.popitem()\n",
    "    print(f\"Removed ({k}: {v}), Remaining: {d}\")"
   ]
  },
  {
   "cell_type": "code",
   "execution_count": 81,
   "id": "38ad1aec",
   "metadata": {},
   "outputs": [
    {
     "name": "stdout",
     "output_type": "stream",
     "text": [
      "{'name': 'Alice', 'age': 12, 'place': 'Wonderland', 'city': 'SomewhereLand', 'friend': 'Hatter'}\n"
     ]
    }
   ],
   "source": [
    "d = {\"name\": \"Alice\", \"age\": 30, \"place\": \"Wonderland\"}\n",
    "e = {\"city\": \"SomewhereLand\", \"age\": 12, \"friend\": \"Hatter\"}\n",
    "d.update(e) # Merges e into d, with e's values taking precedence for duplicate keys\n",
    "print(d)"
   ]
  },
  {
   "cell_type": "code",
   "execution_count": null,
   "id": "26efc969",
   "metadata": {},
   "outputs": [],
   "source": [
    "# %load https://files.chandrashekar.info/count_words_ex.py\n",
    "\"\"\"\n",
    "Write a program to count the number of occurrence of each word in a string\n",
    "delimited by white-spaces.\n",
    "\n",
    "Example usage:\n",
    "--------------\n",
    "   >>> quote = '''\n",
    "   ... When I see a bird\n",
    "   ... that walks like a duck\n",
    "   ... and swims like a duck\n",
    "   ... and quacks like a duck,\n",
    "   ... I call that bird a duck\n",
    "   ... '''\n",
    "\n",
    "   >>> count_words(quote)\n",
    "   'When' occurs 1 times\n",
    "   'I' occurs 2 times\n",
    "   'see' occurs 1 times\n",
    "   'a' occurs 5 times\n",
    "   'bird' occurs 2 times\n",
    "   'that' occurs 2 times\n",
    "   'walks' occurs 1 times\n",
    "   'like' occurs 3 times\n",
    "   'duck' occurs 3 times\n",
    "   'and' occurs 2 times\n",
    "   'swims' occurs 1 times\n",
    "   'quacks' occurs 1 times\n",
    "   'duck,' occurs 1 times\n",
    "   'call' occurs 1 times\n",
    "\n",
    "   >>>\n",
    "\n",
    "\"\"\"\n",
    "def count_words(line):\n",
    "    freq = {}\n",
    "    for word in line.split():\n",
    "        if word in freq:\n",
    "            freq[word] += 1\n",
    "        else:\n",
    "            freq[word] = 1\n",
    "\n",
    "if __name__ == '__main__':\n",
    "    import doctest\n",
    "    doctest.testmod()\n",
    "\n",
    "\n"
   ]
  },
  {
   "cell_type": "code",
   "execution_count": 92,
   "id": "8e567a14",
   "metadata": {},
   "outputs": [
    {
     "name": "stdout",
     "output_type": "stream",
     "text": [
      "{'this': 1, 'is': 3, 'a': 3, 'test': 5, 'string': 1, 'with': 1, 'repeated': 1, 'number': 1, 'of': 1, 'times': 1}\n"
     ]
    }
   ],
   "source": [
    "s = \"this is a test is a test is a test string with test repeated test number of times\"\n",
    "\n",
    "def count_words(line):\n",
    "    freq = {}\n",
    "    for word in line.split():\n",
    "        if word not in freq:\n",
    "            freq[word] = 1\n",
    "        else:\n",
    "            freq[word] += 1\n",
    "    print(freq)\n",
    "\n",
    "\n",
    "count_words(s)"
   ]
  },
  {
   "cell_type": "code",
   "execution_count": 94,
   "id": "4a7a2586",
   "metadata": {},
   "outputs": [
    {
     "name": "stdout",
     "output_type": "stream",
     "text": [
      "'this' occurs 1 times\n",
      "'is' occurs 3 times\n",
      "'a' occurs 3 times\n",
      "'test' occurs 5 times\n",
      "'string' occurs 1 times\n",
      "'with' occurs 1 times\n",
      "'repeated' occurs 1 times\n",
      "'number' occurs 1 times\n",
      "'of' occurs 1 times\n",
      "'times' occurs 1 times\n"
     ]
    }
   ],
   "source": [
    "s = \"this is a test is a test is a test string with test repeated test number of times\"\n",
    "\n",
    "def count_words(line):\n",
    "    freq = {}\n",
    "    for word in line.split():\n",
    "        freq[word] = freq.get(word, 0) + 1\n",
    "    for w, c in freq.items():\n",
    "        print(f\"'{w}' occurs {c} times\")\n",
    "\n",
    "\n",
    "count_words(s)"
   ]
  },
  {
   "cell_type": "code",
   "execution_count": null,
   "id": "273143d9",
   "metadata": {},
   "outputs": [
    {
     "name": "stdout",
     "output_type": "stream",
     "text": [
      "'this' occurs 1 times\n",
      "'is' occurs 3 times\n",
      "'a' occurs 3 times\n",
      "'test' occurs 5 times\n",
      "'string' occurs 1 times\n",
      "'with' occurs 1 times\n",
      "'repeated' occurs 1 times\n",
      "'number' occurs 1 times\n",
      "'of' occurs 1 times\n",
      "'times' occurs 1 times\n"
     ]
    }
   ],
   "source": [
    "s = \"this is a test is a test is a test string with test repeated test number of times\"\n",
    "\n",
    "def count_words(line):\n",
    "    from collections import defaultdict\n",
    "    freq = defaultdict(int)\n",
    "    for word in line.split():\n",
    "        freq[word] += 1 # freq[word] = freq[word] + 1\n",
    "    for w, c in freq.items():\n",
    "        print(f\"'{w}' occurs {c} times\")\n",
    "\n",
    "\n",
    "count_words(s)"
   ]
  },
  {
   "cell_type": "code",
   "execution_count": 101,
   "id": "bbff78f8",
   "metadata": {},
   "outputs": [
    {
     "name": "stdout",
     "output_type": "stream",
     "text": [
      "defaultdict(<class 'int'>, {})\n",
      "0 defaultdict(<class 'int'>, {'name': 0})\n"
     ]
    },
    {
     "data": {
      "text/plain": [
       "0"
      ]
     },
     "execution_count": 101,
     "metadata": {},
     "output_type": "execute_result"
    }
   ],
   "source": [
    "from collections import defaultdict\n",
    "\n",
    "d = defaultdict(int)\n",
    "print(d)\n",
    "\n",
    "print(d[\"name\"], d)\n",
    "int()"
   ]
  },
  {
   "cell_type": "code",
   "execution_count": 102,
   "id": "47f7d790",
   "metadata": {},
   "outputs": [
    {
     "name": "stdout",
     "output_type": "stream",
     "text": [
      "defaultdict(<function <lambda> at 0x10e7774c0>, {})\n",
      "default defaultdict(<function <lambda> at 0x10e7774c0>, {'name': 'default'})\n"
     ]
    },
    {
     "data": {
      "text/plain": [
       "0"
      ]
     },
     "execution_count": 102,
     "metadata": {},
     "output_type": "execute_result"
    }
   ],
   "source": [
    "from collections import defaultdict\n",
    "\n",
    "d = defaultdict(lambda: \"default\")\n",
    "print(d)\n",
    "\n",
    "print(d[\"name\"], d)\n",
    "int()"
   ]
  },
  {
   "cell_type": "code",
   "execution_count": 110,
   "id": "94aad908",
   "metadata": {},
   "outputs": [
    {
     "name": "stdout",
     "output_type": "stream",
     "text": [
      "defaultdict(<function default_value at 0x10e7a4900>, {})\n",
      "defaultdict(<function default_value at 0x10e7a4900>, {'name': 'John'})\n",
      "John\n",
      "Not set\n",
      "defaultdict(<function default_value at 0x10e7a4900>, {'name': 'John', 'age': 'Not set'})\n"
     ]
    }
   ],
   "source": [
    "from collections import defaultdict\n",
    "\n",
    "\n",
    "def default_value(): return \"Not set\"\n",
    "\n",
    "d = defaultdict(default_value)\n",
    "print(d)\n",
    "\n",
    "d[\"name\"] = \"John\"\n",
    "print(d)\n",
    "print(d[\"name\"])\n",
    "print(d[\"age\"])\n",
    "print(d)"
   ]
  },
  {
   "cell_type": "code",
   "execution_count": 112,
   "id": "0c43b843",
   "metadata": {},
   "outputs": [
    {
     "name": "stdout",
     "output_type": "stream",
     "text": [
      "'this' occurs 1 times\n",
      "'is' occurs 3 times\n",
      "'a' occurs 3 times\n",
      "'test' occurs 5 times\n",
      "'string' occurs 1 times\n",
      "'with' occurs 1 times\n",
      "'repeated' occurs 1 times\n",
      "'number' occurs 1 times\n",
      "'of' occurs 1 times\n",
      "'times' occurs 1 times\n"
     ]
    }
   ],
   "source": [
    "s = \"this is a test is a test is a test string with test repeated test number of times\"\n",
    "\n",
    "def count_words(line):\n",
    "    from collections import Counter\n",
    "    freq = Counter(line.split())\n",
    "  \n",
    "    for w, c in freq.items():\n",
    "        print(f\"'{w}' occurs {c} times\")\n",
    "\n",
    "count_words(s)"
   ]
  },
  {
   "cell_type": "code",
   "execution_count": 113,
   "id": "96da1c0d",
   "metadata": {},
   "outputs": [
    {
     "name": "stdout",
     "output_type": "stream",
     "text": [
      "Counter({22: 4, 11: 3, 66: 2, 33: 2, 55: 1, 44: 1, 121: 1})\n"
     ]
    }
   ],
   "source": [
    "from collections import Counter\n",
    "\n",
    "c = Counter([11, 22, 11, 55, 11, 66, 22, 33, 44, 121, 22, 66, 33, 22])\n",
    "print(c)"
   ]
  },
  {
   "cell_type": "code",
   "execution_count": 116,
   "id": "77b45e0d",
   "metadata": {},
   "outputs": [
    {
     "data": {
      "text/plain": [
       "Counter({'t': 18,\n",
       "         ' ': 17,\n",
       "         's': 14,\n",
       "         'e': 11,\n",
       "         'i': 8,\n",
       "         'a': 4,\n",
       "         'r': 3,\n",
       "         'n': 2,\n",
       "         'g': 2,\n",
       "         'm': 2,\n",
       "         'h': 1,\n",
       "         'p': 1,\n",
       "         'd': 1})"
      ]
     },
     "execution_count": 116,
     "metadata": {},
     "output_type": "execute_result"
    }
   ],
   "source": [
    "s = \"this is a test is a test is a test string test times test string repeated test times\"\n",
    "Counter(s)"
   ]
  },
  {
   "cell_type": "code",
   "execution_count": 121,
   "id": "48d9354a",
   "metadata": {},
   "outputs": [
    {
     "data": {
      "text/plain": [
       "[('test', 6), ('is', 3), ('a', 3)]"
      ]
     },
     "execution_count": 121,
     "metadata": {},
     "output_type": "execute_result"
    }
   ],
   "source": [
    "s = \"this is a test is a test is a test string test times test string repeated test times\"\n",
    "Counter(s.split()).most_common(3)"
   ]
  },
  {
   "cell_type": "code",
   "execution_count": 122,
   "id": "be7bd7d9",
   "metadata": {},
   "outputs": [
    {
     "data": {
      "text/plain": [
       "[('this', 1), ('repeated', 1)]"
      ]
     },
     "execution_count": 122,
     "metadata": {},
     "output_type": "execute_result"
    }
   ],
   "source": [
    "s = \"this is a test is a test is a test string test times test string repeated test times\"\n",
    "Counter(s.split()).most_common()[-2:]"
   ]
  },
  {
   "cell_type": "code",
   "execution_count": 128,
   "id": "ada738cd",
   "metadata": {},
   "outputs": [
    {
     "name": "stdout",
     "output_type": "stream",
     "text": [
      "Counter({'humidity': 50, 'temperature': 30})\n"
     ]
    },
    {
     "data": {
      "text/plain": [
       "Counter({'humidity': 44, 'temperature': 35})"
      ]
     },
     "execution_count": 128,
     "metadata": {},
     "output_type": "execute_result"
    }
   ],
   "source": [
    "stats = {\"temperature\": 30, \"humidity\": 50}\n",
    "\n",
    "c = Counter(stats)\n",
    "print(c)\n",
    "\n",
    "n = {\"temperature\": +5, \"humidity\": -6}\n",
    "c + Counter(n)"
   ]
  },
  {
   "cell_type": "code",
   "execution_count": 130,
   "id": "6960a41f",
   "metadata": {},
   "outputs": [],
   "source": [
    "from collections import OrderedDict"
   ]
  },
  {
   "cell_type": "code",
   "execution_count": 131,
   "id": "16787d11",
   "metadata": {},
   "outputs": [
    {
     "name": "stdout",
     "output_type": "stream",
     "text": [
      "\u001b[0;31mInit signature:\u001b[0m \u001b[0mOrderedDict\u001b[0m\u001b[0;34m(\u001b[0m\u001b[0mself\u001b[0m\u001b[0;34m,\u001b[0m \u001b[0;34m/\u001b[0m\u001b[0;34m,\u001b[0m \u001b[0;34m*\u001b[0m\u001b[0margs\u001b[0m\u001b[0;34m,\u001b[0m \u001b[0;34m**\u001b[0m\u001b[0mkwargs\u001b[0m\u001b[0;34m)\u001b[0m\u001b[0;34m\u001b[0m\u001b[0;34m\u001b[0m\u001b[0m\n",
      "\u001b[0;31mDocstring:\u001b[0m      Dictionary that remembers insertion order\n",
      "\u001b[0;31mFile:\u001b[0m           /opt/anaconda3/lib/python3.12/collections/__init__.py\n",
      "\u001b[0;31mType:\u001b[0m           type\n",
      "\u001b[0;31mSubclasses:\u001b[0m     "
     ]
    }
   ],
   "source": [
    "OrderedDict?"
   ]
  },
  {
   "cell_type": "code",
   "execution_count": 134,
   "id": "cc25ad8f",
   "metadata": {},
   "outputs": [
    {
     "name": "stdout",
     "output_type": "stream",
     "text": [
      "int\n"
     ]
    }
   ],
   "source": [
    "a = 10\n",
    "v = type(a).__name__\n",
    "print(v)"
   ]
  },
  {
   "cell_type": "code",
   "execution_count": 135,
   "id": "33991e0a",
   "metadata": {},
   "outputs": [
    {
     "name": "stdout",
     "output_type": "stream",
     "text": [
      "{'int': [45, 56, 23], 'str': ['hello', 'world'], 'float': [4.5, 5.6], 'NoneType': [None]}\n"
     ]
    }
   ],
   "source": [
    "data = [45, \"hello\", 4.5, 56, \"world\", None, 23, 5.6]\n",
    "\n",
    "def organize_store(d):\n",
    "    result = {}\n",
    "    for item in d:\n",
    "        key = type(item).__name__\n",
    "        if key not in result:\n",
    "            result[key] = [item]\n",
    "        else:\n",
    "            result[key].append(item)\n",
    "    return result\n",
    "\n",
    "result = organize_store(data)\n",
    "print(result)\n",
    "# OUT: {\"int\": [45, 56, 23], \"str\": [\"hello\", \"world\"], \"float\": [4.5, 5.6], \"NoneType\": [None]}\n"
   ]
  },
  {
   "cell_type": "code",
   "execution_count": null,
   "id": "f4351b1c",
   "metadata": {},
   "outputs": [
    {
     "name": "stdout",
     "output_type": "stream",
     "text": [
      "{'int': [45, 56, 23], 'str': ['hello', 'world'], 'float': [4.5, 5.6], 'NoneType': [None]}\n"
     ]
    }
   ],
   "source": [
    "data = [45, \"hello\", 4.5, 56, \"world\", None, 23, 5.6]\n",
    "\n",
    "def organize_store(d):\n",
    "    result = {}\n",
    "    for item in d:\n",
    "        key = type(item).__name__\n",
    "        result.setdefault(key, []).append(item)\n",
    "    return result\n",
    "\n",
    "result = organize_store(data)\n",
    "print(result)\n",
    "# OUT: {\"int\": [45, 56, 23], \"str\": [\"hello\", \"world\"], \"float\": [4.5, 5.6], \"NoneType\": [None]}\n"
   ]
  },
  {
   "cell_type": "code",
   "execution_count": 137,
   "id": "a71947d1",
   "metadata": {},
   "outputs": [
    {
     "name": "stdout",
     "output_type": "stream",
     "text": [
      "{'int': [45, 56, 23], 'str': ['hello', 'world'], 'float': [4.5, 5.6], 'NoneType': [None]}\n"
     ]
    }
   ],
   "source": [
    "data = [45, \"hello\", 4.5, 56, \"world\", None, 23, 5.6]\n",
    "\n",
    "def organize_store(d):\n",
    "    from collections import defaultdict\n",
    "    result = defaultdict(list)\n",
    "    for item in d:\n",
    "        key = type(item).__name__\n",
    "        result[key].append(item)\n",
    "    return dict(result)\n",
    "\n",
    "result = organize_store(data)\n",
    "print(result)\n",
    "# OUT: {\"int\": [45, 56, 23], \"str\": [\"hello\", \"world\"], \"float\": [4.5, 5.6], \"NoneType\": [None]}\n"
   ]
  },
  {
   "cell_type": "markdown",
   "id": "f21d6269",
   "metadata": {},
   "source": [
    "#### An overview on `itertools`\n",
    "The `itertools` module provide efficient iteration algorithms for use in Python code."
   ]
  },
  {
   "cell_type": "code",
   "execution_count": 139,
   "id": "a7211656",
   "metadata": {},
   "outputs": [
    {
     "name": "stdout",
     "output_type": "stream",
     "text": [
      "Counting 0\n",
      "Counting 1\n",
      "Counting 2\n",
      "Counting 3\n",
      "Counting 4\n",
      "Counting 5\n",
      "Counting 6\n",
      "Counting 7\n",
      "Counting 8\n",
      "Counting 9\n",
      "Counting 10\n",
      "Counting 11\n",
      "Counting 12\n",
      "Counting 13\n",
      "Counting 14\n",
      "Counting 15\n"
     ]
    }
   ],
   "source": [
    "import itertools\n",
    "\n",
    "# Infinity counter\n",
    "for i in itertools.count():\n",
    "    if i > 15:\n",
    "        break\n",
    "    print(\"Counting\", i)"
   ]
  },
  {
   "cell_type": "code",
   "execution_count": 141,
   "id": "7a089b19",
   "metadata": {},
   "outputs": [
    {
     "data": {
      "text/plain": [
       "<enumerate at 0x10cc5fb00>"
      ]
     },
     "execution_count": 141,
     "metadata": {},
     "output_type": "execute_result"
    }
   ],
   "source": [
    "players = \"John\", \"Sam\", \"Jones\", \"Claire\"\n",
    "\n",
    "list(zip(itertools.count(), players))\n",
    "enumerate(players)"
   ]
  },
  {
   "cell_type": "code",
   "execution_count": 142,
   "id": "51412b95",
   "metadata": {},
   "outputs": [
    {
     "name": "stdout",
     "output_type": "stream",
     "text": [
      "Counting 10\n",
      "Counting 11\n",
      "Counting 12\n",
      "Counting 13\n",
      "Counting 14\n",
      "Counting 15\n"
     ]
    }
   ],
   "source": [
    "import itertools\n",
    "\n",
    "# Infinity counter\n",
    "for i in itertools.count(10):\n",
    "    if i > 15:\n",
    "        break\n",
    "    print(\"Counting\", i)"
   ]
  },
  {
   "cell_type": "code",
   "execution_count": 143,
   "id": "579e5ae5",
   "metadata": {},
   "outputs": [
    {
     "name": "stdout",
     "output_type": "stream",
     "text": [
      "Counting 10\n",
      "Counting 12\n",
      "Counting 14\n"
     ]
    }
   ],
   "source": [
    "import itertools\n",
    "\n",
    "# Infinity counter\n",
    "for i in itertools.count(10, 2):\n",
    "    if i > 15:\n",
    "        break\n",
    "    print(\"Counting\", i)"
   ]
  },
  {
   "cell_type": "code",
   "execution_count": 146,
   "id": "f4d9ead5",
   "metadata": {},
   "outputs": [
    {
     "name": "stdout",
     "output_type": "stream",
     "text": [
      "10 40\n",
      "10 50\n",
      "10 60\n",
      "20 40\n",
      "20 50\n",
      "20 60\n",
      "30 40\n",
      "30 50\n",
      "30 60\n"
     ]
    }
   ],
   "source": [
    "a = [10, 20, 30]\n",
    "b = [40, 50, 60]\n",
    "\n",
    "for x, y in itertools.product(a, b):\n",
    "    print(x, y)"
   ]
  },
  {
   "cell_type": "code",
   "execution_count": 151,
   "id": "b1f25fdb",
   "metadata": {},
   "outputs": [
    {
     "name": "stdout",
     "output_type": "stream",
     "text": [
      "10 20 30\n",
      "10 30 20\n",
      "20 10 30\n",
      "20 30 10\n",
      "30 10 20\n",
      "30 20 10\n"
     ]
    }
   ],
   "source": [
    "a = [10, 20, 30]\n",
    "\n",
    "for x, y, z in itertools.permutations(a, 3):\n",
    "    print(x, y, z)"
   ]
  },
  {
   "cell_type": "code",
   "execution_count": 154,
   "id": "7e1baa7e",
   "metadata": {},
   "outputs": [
    {
     "data": {
      "text/plain": [
       "('abcdefghijklmnopqrstuvwxyzABCDEFGHIJKLMNOPQRSTUVWXYZ',\n",
       " '0123456789',\n",
       " '0123456789abcdefghijklmnopqrstuvwxyzABCDEFGHIJKLMNOPQRSTUVWXYZ!\"#$%&\\'()*+,-./:;<=>?@[\\\\]^_`{|}~ \\t\\n\\r\\x0b\\x0c')"
      ]
     },
     "execution_count": 154,
     "metadata": {},
     "output_type": "execute_result"
    }
   ],
   "source": [
    "import string\n",
    "string.ascii_letters, string.digits, string.printable"
   ]
  },
  {
   "cell_type": "code",
   "execution_count": 162,
   "id": "a649dd43",
   "metadata": {},
   "outputs": [
    {
     "data": {
      "text/plain": [
       "20"
      ]
     },
     "execution_count": 162,
     "metadata": {},
     "output_type": "execute_result"
    }
   ],
   "source": [
    "import random\n",
    "random.randint(10, 20)"
   ]
  },
  {
   "cell_type": "code",
   "execution_count": 170,
   "id": "49946190",
   "metadata": {},
   "outputs": [
    {
     "data": {
      "text/plain": [
       "['x', 'q', 'Q', 'f', 'c', 'T']"
      ]
     },
     "execution_count": 170,
     "metadata": {},
     "output_type": "execute_result"
    }
   ],
   "source": [
    "random.sample(string.ascii_letters, 6)"
   ]
  },
  {
   "cell_type": "code",
   "execution_count": 188,
   "id": "82caf7ee",
   "metadata": {},
   "outputs": [
    {
     "data": {
      "text/plain": [
       "'iXo-l7\\\\6'"
      ]
     },
     "execution_count": 188,
     "metadata": {},
     "output_type": "execute_result"
    }
   ],
   "source": [
    "\"\".join(random.sample(string.printable[:-5], 8))"
   ]
  },
  {
   "cell_type": "code",
   "execution_count": 196,
   "id": "0e3fcf87",
   "metadata": {},
   "outputs": [
    {
     "data": {
      "text/plain": [
       "'P7b1dfm8'"
      ]
     },
     "execution_count": 196,
     "metadata": {},
     "output_type": "execute_result"
    }
   ],
   "source": [
    "\"\".join(random.sample(string.ascii_letters + string.digits, 8))"
   ]
  },
  {
   "cell_type": "code",
   "execution_count": 197,
   "id": "7ac993c2",
   "metadata": {},
   "outputs": [
    {
     "name": "stdout",
     "output_type": "stream",
     "text": [
      "abcdefgh\n",
      "abcdefgi\n",
      "abcdefgj\n",
      "abcdefgk\n",
      "abcdefgl\n",
      "abcdefgm\n",
      "abcdefgn\n",
      "abcdefgo\n",
      "abcdefgp\n",
      "abcdefgq\n",
      "abcdefgr\n"
     ]
    }
   ],
   "source": [
    "chars = (string.ascii_letters + string.digits) * 8\n",
    "i = 0\n",
    "for passwd in itertools.permutations(chars, 8):\n",
    "    print(\"\".join(passwd))\n",
    "    i += 1\n",
    "    if i > 10:\n",
    "        break\n"
   ]
  },
  {
   "cell_type": "code",
   "execution_count": 200,
   "id": "43dbfb1f",
   "metadata": {},
   "outputs": [
    {
     "name": "stdout",
     "output_type": "stream",
     "text": [
      "(10, 20)\n",
      "(10, 30)\n",
      "(10, 40)\n",
      "(20, 30)\n",
      "(20, 40)\n",
      "(30, 40)\n",
      "----------------------------------------\n",
      "(10, 20)\n",
      "(10, 30)\n",
      "(10, 40)\n",
      "(20, 10)\n",
      "(20, 30)\n",
      "(20, 40)\n",
      "(30, 10)\n",
      "(30, 20)\n",
      "(30, 40)\n",
      "(40, 10)\n",
      "(40, 20)\n",
      "(40, 30)\n"
     ]
    }
   ],
   "source": [
    "a = [10, 20, 30, 40]\n",
    "\n",
    "for v in itertools.combinations(a, 2):\n",
    "    print(v)\n",
    "\n",
    "print(\"-\" * 40)\n",
    "\n",
    "for v in itertools.permutations(a, 2):\n",
    "    print(v)"
   ]
  },
  {
   "cell_type": "code",
   "execution_count": 204,
   "id": "5ebd19c1",
   "metadata": {},
   "outputs": [
    {
     "name": "stdout",
     "output_type": "stream",
     "text": [
      "10\n",
      "20\n",
      "30\n",
      "50\n",
      "60\n",
      "70\n",
      "----------------------------------------\n",
      "10\n",
      "20\n",
      "30\n",
      "50\n",
      "60\n",
      "70\n"
     ]
    }
   ],
   "source": [
    "a = [10, 20, 30]\n",
    "b = [50, 60, 70]\n",
    "\n",
    "for v in a + b: # This is not memory efficient\n",
    "    print(v)\n",
    "\n",
    "print(\"-\" * 40)\n",
    "\n",
    "for v in itertools.chain(a, b):\n",
    "    print(v)"
   ]
  },
  {
   "cell_type": "code",
   "execution_count": 205,
   "id": "9a81a8dd",
   "metadata": {},
   "outputs": [
    {
     "data": {
      "text/plain": [
       "<itertools.chain at 0x10e979840>"
      ]
     },
     "execution_count": 205,
     "metadata": {},
     "output_type": "execute_result"
    }
   ],
   "source": [
    "c = itertools.chain(a, b)\n",
    "c"
   ]
  },
  {
   "cell_type": "code",
   "execution_count": 212,
   "id": "dd95d985",
   "metadata": {},
   "outputs": [
    {
     "ename": "StopIteration",
     "evalue": "",
     "output_type": "error",
     "traceback": [
      "\u001b[0;31m---------------------------------------------------------------------------\u001b[0m",
      "\u001b[0;31mStopIteration\u001b[0m                             Traceback (most recent call last)",
      "Cell \u001b[0;32mIn[212], line 1\u001b[0m\n\u001b[0;32m----> 1\u001b[0m \u001b[38;5;28mnext\u001b[39m(c)\n",
      "\u001b[0;31mStopIteration\u001b[0m: "
     ]
    }
   ],
   "source": [
    "next(c)"
   ]
  },
  {
   "cell_type": "code",
   "execution_count": 222,
   "id": "e6ea4c82",
   "metadata": {},
   "outputs": [
    {
     "name": "stdout",
     "output_type": "stream",
     "text": [
      "y 20\n",
      "z 100\n",
      "v 300\n",
      "x 10\n",
      "ChainMap({'x': 15, 'y': 22}, {'y': 25, 'z': 100, 'v': 300})\n",
      "{'x': 15, 'y': 22} {'y': 25, 'z': 100, 'v': 300}\n",
      "ChainMap({'x': 15}, {'y': 25, 'z': 100, 'v': 300}) {'x': 15} {'y': 25, 'z': 100, 'v': 300}\n",
      "25\n"
     ]
    }
   ],
   "source": [
    "a = {\"x\": 10, \"y\": 20}\n",
    "\n",
    "b = {\"y\": 25, \"z\": 100, \"v\": 300}\n",
    "\n",
    "from collections import ChainMap\n",
    "\n",
    "c = ChainMap(a, b)\n",
    "for k, v in c.items():\n",
    "    print(k, v)\n",
    "\n",
    "c[\"x\"] = 15\n",
    "\n",
    "c[\"y\"] = 22\n",
    "print(c)\n",
    "print(a, b)\n",
    "\n",
    "del c[\"y\"]\n",
    "print(c, a, b)\n",
    "print(c[\"y\"])"
   ]
  },
  {
   "cell_type": "code",
   "execution_count": 227,
   "id": "ddd1d8fe",
   "metadata": {},
   "outputs": [
    {
     "name": "stdout",
     "output_type": "stream",
     "text": [
      "80\n",
      "/home/joe/sites\n",
      "admin\n",
      "/var/www\n"
     ]
    }
   ],
   "source": [
    "default_config = {\"host\": \"localhost\", \"port\": 8080, \"site_folder\": \"/var/www\"}\n",
    "system_config = {\"host\": \"telesto\", \"port\": 443, \"role\": \"admin\"}\n",
    "\n",
    "user_config  = {\"port\": 80, \"site_folder\": \"/home/joe/sites\"}\n",
    "\n",
    "config = ChainMap(user_config, system_config, default_config)\n",
    "print(config[\"port\"])\n",
    "print(config[\"site_folder\"])\n",
    "print(config[\"role\"])\n",
    "del config[\"site_folder\"]\n",
    "print(config[\"site_folder\"])"
   ]
  },
  {
   "cell_type": "code",
   "execution_count": 228,
   "id": "5481f26b",
   "metadata": {},
   "outputs": [
    {
     "name": "stdout",
     "output_type": "stream",
     "text": [
      "1\n",
      "3\n",
      "6\n",
      "10\n",
      "15\n",
      "21\n"
     ]
    }
   ],
   "source": [
    "a = [1, 2, 3, 4, 5, 6]\n",
    "for v in itertools.accumulate(a):\n",
    "    print(v)"
   ]
  },
  {
   "cell_type": "code",
   "execution_count": 229,
   "id": "106693c3",
   "metadata": {},
   "outputs": [
    {
     "name": "stdout",
     "output_type": "stream",
     "text": [
      "test\n",
      "testdata\n",
      "testdatanew\n",
      "testdatanewstring\n"
     ]
    }
   ],
   "source": [
    "a = [\"test\", \"data\", \"new\", \"string\"]\n",
    "for v in itertools.accumulate(a):\n",
    "    print(v)"
   ]
  },
  {
   "cell_type": "code",
   "execution_count": 232,
   "id": "72fd5b9c",
   "metadata": {},
   "outputs": [
    {
     "name": "stdout",
     "output_type": "stream",
     "text": [
      "(1, 2)\n",
      "(1, 2, 3, 4)\n",
      "(1, 2, 3, 4, 5, 6)\n"
     ]
    },
    {
     "data": {
      "text/plain": [
       "21"
      ]
     },
     "execution_count": 232,
     "metadata": {},
     "output_type": "execute_result"
    }
   ],
   "source": [
    "c = [(1, 2), (3, 4), (5, 6)]\n",
    "for v in itertools.accumulate(c):\n",
    "    print(v)\n",
    "\n",
    "sum(list(itertools.accumulate(c))[-1])"
   ]
  },
  {
   "cell_type": "code",
   "execution_count": 235,
   "id": "c456945e",
   "metadata": {},
   "outputs": [
    {
     "name": "stdout",
     "output_type": "stream",
     "text": [
      "ABCDEFGHIJKLMNOPQRSTUVWXYZ\n",
      "('A', 'B', 'C', 'D')\n",
      "('E', 'F', 'G', 'H')\n",
      "('I', 'J', 'K', 'L')\n",
      "('M', 'N', 'O', 'P')\n",
      "('Q', 'R', 'S', 'T')\n",
      "('U', 'V', 'W', 'X')\n",
      "('Y', 'Z')\n"
     ]
    }
   ],
   "source": [
    "a = string.ascii_uppercase\n",
    "print(a)\n",
    "\n",
    "for c in itertools.batched(a, 4):\n",
    "    print(c)"
   ]
  },
  {
   "cell_type": "code",
   "execution_count": 240,
   "id": "a19d7f75",
   "metadata": {},
   "outputs": [
    {
     "name": "stdout",
     "output_type": "stream",
     "text": [
      "[10, 30, 50, 70, 90] [20, 40, 60, 80, 100]\n",
      "10 20\n",
      "30 40\n",
      "50 60\n",
      "70 80\n",
      "90 100\n"
     ]
    }
   ],
   "source": [
    "values = [10, 20, 30, 40, 50, 60, 70, 80, 90, 100]\n",
    "\n",
    "print(values[::2], values[1::2])\n",
    "new_values = zip(values[::2], values[1::2])\n",
    "\n",
    "\n",
    "for x, y in new_values:\n",
    "    print(x, y)"
   ]
  },
  {
   "cell_type": "code",
   "execution_count": null,
   "id": "4111671e",
   "metadata": {},
   "outputs": [
    {
     "name": "stdout",
     "output_type": "stream",
     "text": [
      "10 20\n",
      "30 40\n",
      "50 60\n",
      "70 80\n",
      "90 100\n"
     ]
    }
   ],
   "source": [
    "values = [10, 20, 30, 40, 50, 60, 70, 80, 90, 100]\n",
    "\n",
    "for x, y in itertools.batched(values, n=2):\n",
    "    print(x, y)"
   ]
  },
  {
   "cell_type": "code",
   "execution_count": 242,
   "id": "98d5bdab",
   "metadata": {},
   "outputs": [
    {
     "name": "stdout",
     "output_type": "stream",
     "text": [
      "1\n",
      "2\n",
      "3\n",
      "4\n",
      "5\n",
      "6\n",
      "7\n",
      "8\n",
      "10\n",
      "20\n",
      "30\n",
      "40\n"
     ]
    }
   ],
   "source": [
    "values = [[1, 2, 3, 4], [5, 6, 7, 8], [10, 20, 30, 40]]\n",
    "\n",
    "for v in itertools.chain(*values):\n",
    "    print(v)"
   ]
  },
  {
   "cell_type": "code",
   "execution_count": 243,
   "id": "b6aee50b",
   "metadata": {},
   "outputs": [
    {
     "name": "stdout",
     "output_type": "stream",
     "text": [
      "1\n",
      "2\n",
      "3\n",
      "4\n",
      "5\n",
      "6\n",
      "7\n",
      "8\n",
      "10\n",
      "20\n",
      "30\n",
      "40\n"
     ]
    }
   ],
   "source": [
    "values = [[1, 2, 3, 4], [5, 6, 7, 8], [10, 20, 30, 40]]\n",
    "\n",
    "for v in itertools.chain.from_iterable(values):\n",
    "    print(v)"
   ]
  },
  {
   "cell_type": "code",
   "execution_count": 245,
   "id": "642811e2",
   "metadata": {},
   "outputs": [
    {
     "name": "stdout",
     "output_type": "stream",
     "text": [
      "[(0, 1, 2, 3, 4, 5, 6, 7, 8, 9), (10, 11, 12, 13, 14, 15, 16, 17, 18, 19), (20, 21, 22, 23, 24, 25, 26, 27, 28, 29), (30, 31, 32, 33, 34, 35, 36, 37, 38, 39), (40, 41, 42, 43, 44, 45, 46, 47, 48, 49), (50, 51, 52, 53, 54, 55, 56, 57, 58, 59), (60, 61, 62, 63, 64, 65, 66, 67, 68, 69), (70, 71, 72, 73, 74, 75, 76, 77, 78, 79), (80, 81, 82, 83, 84, 85, 86, 87, 88, 89), (90, 91, 92, 93, 94, 95, 96, 97, 98, 99)]\n"
     ]
    }
   ],
   "source": [
    "a = list(range(100))\n",
    "b = list(itertools.batched(a, n=10))\n",
    "print(b)"
   ]
  },
  {
   "cell_type": "code",
   "execution_count": 247,
   "id": "88ef7f17",
   "metadata": {},
   "outputs": [
    {
     "data": {
      "text/plain": [
       "['this', 'is', 'string']"
      ]
     },
     "execution_count": 247,
     "metadata": {},
     "output_type": "execute_result"
    }
   ],
   "source": [
    "a = [\"this\", \"is\", \"a\", \"test\", \"string\"]\n",
    "b = [1, 1, 0, 0, 1]\n",
    "\n",
    "list(itertools.compress(a, b))\n"
   ]
  },
  {
   "cell_type": "code",
   "execution_count": 249,
   "id": "d9421c7a",
   "metadata": {},
   "outputs": [
    {
     "data": {
      "text/plain": [
       "[22, 14, 5, 35, 45]"
      ]
     },
     "execution_count": 249,
     "metadata": {},
     "output_type": "execute_result"
    }
   ],
   "source": [
    "a = [10, 15, 17, 12, 7, 22, 14, 5, 35, 45]\n",
    "\n",
    "list(itertools.dropwhile(lambda x: x < 20, a))"
   ]
  },
  {
   "cell_type": "code",
   "execution_count": 254,
   "id": "efc425f6",
   "metadata": {},
   "outputs": [
    {
     "name": "stdout",
     "output_type": "stream",
     "text": [
      "-> error: something bad happened\n",
      "-> this is after the error\n",
      "-> this is another line after the error\n"
     ]
    }
   ],
   "source": [
    "log = \"\"\"\n",
    "this is a test log\n",
    "this is another line of log\n",
    "this yet another line of log\n",
    "error: something bad happened\n",
    "this is after the error\n",
    "this is another line after the error\n",
    "\"\"\"\n",
    "\n",
    "for line in itertools.dropwhile(lambda s: \"error\" not in s, log.splitlines()):\n",
    "    print(\"->\", line)\n"
   ]
  },
  {
   "cell_type": "code",
   "execution_count": 258,
   "id": "f823240f",
   "metadata": {},
   "outputs": [
    {
     "name": "stdout",
     "output_type": "stream",
     "text": [
      "-> \n",
      "-> this is a test log\n",
      "-> this is another line of log\n",
      "-> this yet another line of log\n"
     ]
    }
   ],
   "source": [
    "log = \"\"\"\n",
    "this is a test log\n",
    "this is another line of log\n",
    "this yet another line of log\n",
    "error: something bad happened\n",
    "this is after the error\n",
    "this is another line after the error\n",
    "\"\"\"\n",
    "\n",
    "for line in itertools.takewhile(lambda s: \"error\" not in s, log.splitlines()):\n",
    "    print(\"->\", line)\n"
   ]
  },
  {
   "cell_type": "code",
   "execution_count": 257,
   "id": "227f4171",
   "metadata": {},
   "outputs": [
    {
     "data": {
      "text/plain": [
       "[32, 56, 22, 35, 45]"
      ]
     },
     "execution_count": 257,
     "metadata": {},
     "output_type": "execute_result"
    }
   ],
   "source": [
    "a = [10, 15, 17, 32, 12, 56, 7, 22, 14, 5, 35, 45]\n",
    "list(itertools.filterfalse(lambda x: x < 20, a))"
   ]
  },
  {
   "cell_type": "code",
   "execution_count": 260,
   "id": "875f0924",
   "metadata": {},
   "outputs": [
    {
     "name": "stdout",
     "output_type": "stream",
     "text": [
      "-> --- START ERROR ---\n",
      "-> error: something bad happened\n",
      "-> this is after the error\n",
      "-> this is another line after the error\n"
     ]
    }
   ],
   "source": [
    "log = \"\"\"This is a test log\n",
    "this is another line of log\n",
    "this yet another line of log\n",
    "--- START ERROR ---\n",
    "error: something bad happened\n",
    "this is after the error\n",
    "this is another line after the error\n",
    "--- END ERROR ---\n",
    "this is yet another line of log\n",
    "this is another line of log\n",
    "this yet another line of log\n",
    "\"\"\"\n",
    "\n",
    "for line in itertools.dropwhile(lambda s: \"--- START ERROR ---\" not in s, \n",
    "                                itertools.takewhile(lambda x: \"--- END ERROR ---\" not in x, log.splitlines())):\n",
    "    print(\"->\", line)"
   ]
  },
  {
   "cell_type": "code",
   "execution_count": 269,
   "id": "9f578310",
   "metadata": {},
   "outputs": [
    {
     "name": "stdout",
     "output_type": "stream",
     "text": [
      "3 ['doe', 'bob']\n",
      "4 ['john', 'jane', 'mike', 'sara']\n",
      "5 ['alice', 'steve', 'julia', 'laura']\n",
      "9 ['alexander']\n",
      "13 ['chandrashekar']\n"
     ]
    }
   ],
   "source": [
    "names = \"john\", \"jane\", \"doe\", \"alice\", \"bob\", \"steve\", \"chandrashekar\", \"mike\", \"sara\", \"alexander\", \"julia\", \"laura\"\n",
    "for length, group in itertools.groupby(sorted(names, key=len), len):\n",
    "    print(length, list(group))"
   ]
  },
  {
   "cell_type": "code",
   "execution_count": 270,
   "id": "6a9093ca",
   "metadata": {},
   "outputs": [
    {
     "data": {
      "text/plain": [
       "['alexander',\n",
       " 'alice',\n",
       " 'bob',\n",
       " 'chandrashekar',\n",
       " 'doe',\n",
       " 'jane',\n",
       " 'john',\n",
       " 'julia',\n",
       " 'laura',\n",
       " 'mike',\n",
       " 'sara',\n",
       " 'steve']"
      ]
     },
     "execution_count": 270,
     "metadata": {},
     "output_type": "execute_result"
    }
   ],
   "source": [
    "sorted(names)"
   ]
  },
  {
   "cell_type": "code",
   "execution_count": 268,
   "id": "54b156f0",
   "metadata": {},
   "outputs": [
    {
     "data": {
      "text/plain": [
       "['doe',\n",
       " 'bob',\n",
       " 'john',\n",
       " 'jane',\n",
       " 'mike',\n",
       " 'sara',\n",
       " 'alice',\n",
       " 'steve',\n",
       " 'julia',\n",
       " 'laura',\n",
       " 'alexander',\n",
       " 'chandrashekar']"
      ]
     },
     "execution_count": 268,
     "metadata": {},
     "output_type": "execute_result"
    }
   ],
   "source": [
    "sorted(names, key=len)"
   ]
  },
  {
   "cell_type": "code",
   "execution_count": 271,
   "id": "66c75251",
   "metadata": {},
   "outputs": [
    {
     "name": "stdout",
     "output_type": "stream",
     "text": [
      "a ['alexander', 'alice']\n",
      "b ['bob']\n",
      "c ['chandrashekar']\n",
      "d ['doe']\n",
      "j ['jane', 'john', 'julia']\n",
      "l ['laura']\n",
      "m ['mike']\n",
      "s ['sara', 'steve']\n"
     ]
    }
   ],
   "source": [
    "names = \"john\", \"jane\", \"doe\", \"alice\", \"bob\", \"steve\", \"chandrashekar\", \"mike\", \"sara\", \"alexander\", \"julia\", \"laura\"\n",
    "for length, group in itertools.groupby(sorted(names), lambda x: x[0]):\n",
    "    print(length, list(group))"
   ]
  },
  {
   "cell_type": "code",
   "execution_count": 283,
   "id": "b3714005",
   "metadata": {},
   "outputs": [
    {
     "name": "stdout",
     "output_type": "stream",
     "text": [
      "fruit 135\n",
      "grain 240\n",
      "vegetable 65\n"
     ]
    }
   ],
   "source": [
    "# id, category, name, price\n",
    "# Print the total price of each category\n",
    "groceries = \"\"\"101,fruit,orange,50\n",
    "102,vegetable,carrot,30\n",
    "103,fruit,apple,20\n",
    "104,fruit,banana,25\n",
    "105,vegetable,broccoli,15\n",
    "106,grain,rice,100\n",
    "107,grain,wheat,80\n",
    "108,vegetable,spinach,20\n",
    "109,fruit,grape,40\n",
    "110,grain,oats,60\n",
    "\"\"\"\n",
    "\n",
    "groceries = sorted(groceries.splitlines(), key=lambda x: x.split(\",\")[1])\n",
    "import itertools\n",
    "for category, items in itertools.groupby(groceries, key=lambda x: x.split(\",\")[1]):\n",
    "    print(category, sum(int(rec.split(\",\")[-1]) for rec in items))"
   ]
  },
  {
   "cell_type": "code",
   "execution_count": null,
   "id": "c53ba86d",
   "metadata": {},
   "outputs": [
    {
     "name": "stdout",
     "output_type": "stream",
     "text": [
      "[10, 20, 30, 40, 50, 60, 70, 80, 90]\n",
      "40\n",
      "50\n",
      "60\n",
      "70\n",
      "----------------------------------------\n",
      "220\n",
      "220\n"
     ]
    }
   ],
   "source": [
    "a = list(range(10, 100, 10))\n",
    "print(a)\n",
    "for v in itertools.islice(a, 3, 7):\n",
    "    print(v)\n",
    "print(\"-\" * 40)\n",
    "\n",
    "print(sum(itertools.islice(a, 3, 7))) # This is memory efficient for very large lists with large slices.\n",
    "print(sum(a[3:7])) # This is NOT memory for very large lists with large slices."
   ]
  },
  {
   "cell_type": "code",
   "execution_count": 295,
   "id": "64a13973",
   "metadata": {},
   "outputs": [
    {
     "name": "stdout",
     "output_type": "stream",
     "text": [
      "10 20\n",
      "20 30\n",
      "30 40\n",
      "40 50\n",
      "50 60\n",
      "60 70\n",
      "70 80\n",
      "80 90\n",
      "90 100\n",
      "----------------------------------------\n",
      "10 20\n",
      "30 40\n",
      "50 60\n",
      "70 80\n",
      "90 100\n"
     ]
    }
   ],
   "source": [
    "a = [10, 20, 30, 40, 50, 60, 70, 80, 90, 100]\n",
    "\n",
    "for i, j in itertools.pairwise(a):\n",
    "    print(i, j)\n",
    "\n",
    "print(\"-\" * 40)\n",
    "for i, j in itertools.batched(a, 2):\n",
    "    print(i, j)"
   ]
  },
  {
   "cell_type": "code",
   "execution_count": null,
   "id": "3c16f8a7",
   "metadata": {},
   "outputs": [
    {
     "name": "stdout",
     "output_type": "stream",
     "text": [
      "[10, 11, 45]\n",
      "[10, 11, 45]\n"
     ]
    }
   ],
   "source": [
    "a = [(1, 2, 3, 4), (5, 6), (7, 8, 9, 10, 11)]\n",
    "print(list(itertools.starmap(lambda *n: sum(n), a))) # Variadic version of map() function\n",
    "print([ sum(n) for n in a]) # Comprehensions are easier to read and understand."
   ]
  },
  {
   "cell_type": "code",
   "execution_count": 305,
   "id": "b8f4168d",
   "metadata": {},
   "outputs": [
    {
     "name": "stdout",
     "output_type": "stream",
     "text": [
      "<itertools._tee object at 0x10e6a6b40> <itertools._tee object at 0x10e6a7240>\n",
      "10\n",
      "15\n",
      "17\n",
      "10\n",
      "15\n",
      "17\n"
     ]
    }
   ],
   "source": [
    "a = [10, 15, 17]\n",
    "\n",
    "x, y = itertools.tee(a, 2)\n",
    "print(x, y)\n",
    "\n",
    "for v in x:\n",
    "    print(v)\n",
    "\n",
    "for v in y:\n",
    "    print(v)"
   ]
  },
  {
   "cell_type": "code",
   "execution_count": 306,
   "id": "ef395d9c",
   "metadata": {},
   "outputs": [
    {
     "data": {
      "text/plain": [
       "<list_iterator at 0x10e9c9f90>"
      ]
     },
     "execution_count": 306,
     "metadata": {},
     "output_type": "execute_result"
    }
   ],
   "source": [
    "a = [10, 20, 30, 40]\n",
    "x = iter(a)\n",
    "x"
   ]
  },
  {
   "cell_type": "code",
   "execution_count": 312,
   "id": "2d78e4e9",
   "metadata": {},
   "outputs": [
    {
     "ename": "StopIteration",
     "evalue": "",
     "output_type": "error",
     "traceback": [
      "\u001b[0;31m---------------------------------------------------------------------------\u001b[0m",
      "\u001b[0;31mStopIteration\u001b[0m                             Traceback (most recent call last)",
      "Cell \u001b[0;32mIn[312], line 1\u001b[0m\n\u001b[0;32m----> 1\u001b[0m \u001b[38;5;28mnext\u001b[39m(x)\n",
      "\u001b[0;31mStopIteration\u001b[0m: "
     ]
    }
   ],
   "source": [
    "next(x)"
   ]
  },
  {
   "cell_type": "code",
   "execution_count": null,
   "id": "c2c26b1d",
   "metadata": {},
   "outputs": [
    {
     "name": "stdout",
     "output_type": "stream",
     "text": [
      "<itertools._tee object at 0x10e670d80> <itertools._tee object at 0x10e672dc0>\n"
     ]
    }
   ],
   "source": [
    "a = [10, 20, 30, 40]\n",
    "x, y = itertools.tee(a, 2)\n",
    "x, y = iter(a), iter(a)\n",
    "print(x, y)"
   ]
  },
  {
   "cell_type": "markdown",
   "id": "a0321e17",
   "metadata": {},
   "source": [
    "### Functions"
   ]
  },
  {
   "cell_type": "code",
   "execution_count": 321,
   "id": "890f7772",
   "metadata": {},
   "outputs": [
    {
     "name": "stdout",
     "output_type": "stream",
     "text": [
      "Hello, World!\n",
      "Hello, World!\n",
      "Hello, World!\n"
     ]
    }
   ],
   "source": [
    "def greet():\n",
    "    print(\"Hello, World!\")\n",
    "\n",
    "greet()\n",
    "\n",
    "g = greet\n",
    "g()\n",
    "\n",
    "g.__call__.__call__()"
   ]
  },
  {
   "cell_type": "code",
   "execution_count": 325,
   "id": "95009451",
   "metadata": {},
   "outputs": [
    {
     "name": "stdout",
     "output_type": "stream",
     "text": [
      "[<function add at 0x10ea6d440>, <function sub at 0x10ea6ccc0>, <function mul at 0x10ea6c680>]\n",
      "60\n",
      "20\n",
      "800\n"
     ]
    },
    {
     "ename": "NameError",
     "evalue": "name 'add' is not defined",
     "output_type": "error",
     "traceback": [
      "\u001b[0;31m---------------------------------------------------------------------------\u001b[0m",
      "\u001b[0;31mNameError\u001b[0m                                 Traceback (most recent call last)",
      "Cell \u001b[0;32mIn[325], line 18\u001b[0m\n\u001b[1;32m     15\u001b[0m     \u001b[38;5;28mprint\u001b[39m(task(a, b))\n\u001b[1;32m     17\u001b[0m \u001b[38;5;28;01mdel\u001b[39;00m add\n\u001b[0;32m---> 18\u001b[0m add(\u001b[38;5;241m10\u001b[39m, \u001b[38;5;241m20\u001b[39m)\n",
      "\u001b[0;31mNameError\u001b[0m: name 'add' is not defined"
     ]
    }
   ],
   "source": [
    "def add(x, y):\n",
    "    return x + y\n",
    "\n",
    "def sub(x, y):\n",
    "    return x - y\n",
    "\n",
    "def mul(x, y):\n",
    "    return x * y\n",
    "\n",
    "tasks = [add, sub, mul] # A very simplistic form of \"Chain of Responsibility\" pattern\n",
    "print(tasks)\n",
    "\n",
    "a, b = 40, 20\n",
    "for task in tasks:\n",
    "    print(task(a, b))\n",
    "\n",
    "del add\n",
    "add(10, 20)"
   ]
  },
  {
   "cell_type": "code",
   "execution_count": 328,
   "id": "b0d16825",
   "metadata": {},
   "outputs": [
    {
     "name": "stdout",
     "output_type": "stream",
     "text": [
      "5\n"
     ]
    },
    {
     "ename": "TypeError",
     "evalue": "'int' object is not callable",
     "output_type": "error",
     "traceback": [
      "\u001b[0;31m---------------------------------------------------------------------------\u001b[0m",
      "\u001b[0;31mTypeError\u001b[0m                                 Traceback (most recent call last)",
      "Cell \u001b[0;32mIn[328], line 3\u001b[0m\n\u001b[1;32m      1\u001b[0m a \u001b[38;5;241m=\u001b[39m \u001b[38;5;28mint\u001b[39m(\u001b[38;5;241m5.6\u001b[39m) \u001b[38;5;66;03m# classes are also callable objects. Calling a class constructs an instance of that class.\u001b[39;00m\n\u001b[1;32m      2\u001b[0m \u001b[38;5;28mprint\u001b[39m(a)\n\u001b[0;32m----> 3\u001b[0m a()\n",
      "\u001b[0;31mTypeError\u001b[0m: 'int' object is not callable"
     ]
    }
   ],
   "source": [
    "a = int(5.6) # classes are also callable objects. Calling a class constructs an instance of that class.\n",
    "print(a)\n",
    "a()"
   ]
  },
  {
   "cell_type": "markdown",
   "id": "095154fc",
   "metadata": {},
   "source": [
    "NOTE: Functions are instances of 'function' class, however, these instances are \"Callable\""
   ]
  },
  {
   "cell_type": "code",
   "execution_count": 329,
   "id": "435908a0",
   "metadata": {},
   "outputs": [
    {
     "data": {
      "text/plain": [
       "False"
      ]
     },
     "execution_count": 329,
     "metadata": {},
     "output_type": "execute_result"
    }
   ],
   "source": [
    "a = 100\n",
    "\n",
    "callable(a)"
   ]
  },
  {
   "cell_type": "code",
   "execution_count": 333,
   "id": "834d88e0",
   "metadata": {},
   "outputs": [
    {
     "name": "stdout",
     "output_type": "stream",
     "text": [
      "3.12.7 | packaged by Anaconda, Inc. | (main, Oct  4 2024, 08:22:19) [Clang 14.0.6 ]\n"
     ]
    }
   ],
   "source": [
    "import sys\n",
    "\n",
    "callable(sys.version)\n",
    "print(sys.version)"
   ]
  },
  {
   "cell_type": "code",
   "execution_count": 336,
   "id": "d00cabb4",
   "metadata": {},
   "outputs": [
    {
     "data": {
      "text/plain": [
       "9223372036854775807"
      ]
     },
     "execution_count": 336,
     "metadata": {},
     "output_type": "execute_result"
    }
   ],
   "source": [
    "callable(sys.maxsize)\n",
    "sys.maxsize"
   ]
  },
  {
   "cell_type": "code",
   "execution_count": 338,
   "id": "02c110ab",
   "metadata": {},
   "outputs": [
    {
     "data": {
      "text/plain": [
       "True"
      ]
     },
     "execution_count": 338,
     "metadata": {},
     "output_type": "execute_result"
    }
   ],
   "source": [
    "callable(sys.getrefcount)"
   ]
  },
  {
   "cell_type": "code",
   "execution_count": 341,
   "id": "ee5a0793",
   "metadata": {},
   "outputs": [
    {
     "name": "stdout",
     "output_type": "stream",
     "text": [
      "<function greet at 0x10eb694e0> <class 'function'>\n",
      "<built-in method append of list object at 0x10cc3ab00> <class 'builtin_function_or_method'>\n",
      "<built-in function len> <class 'builtin_function_or_method'>\n"
     ]
    }
   ],
   "source": [
    "a = [10, 20, 30]\n",
    "\n",
    "def greet(): # All user-defined functions are instances of 'function' class\n",
    "    print(\"Hello, World!\")\n",
    "\n",
    "print(greet, type(greet))\n",
    "print(a.append, type(a.append)) # Builtin functions and methods of built-in types are instances of 'builtin_function_or_method' class\n",
    "print(len, type(len))"
   ]
  },
  {
   "cell_type": "code",
   "execution_count": 350,
   "id": "064e2f8d",
   "metadata": {},
   "outputs": [
    {
     "name": "stdout",
     "output_type": "stream",
     "text": [
      "Hello, John!\n",
      "Hello, World!\n"
     ]
    },
    {
     "ename": "TypeError",
     "evalue": "greet() takes 0 positional arguments but 1 was given",
     "output_type": "error",
     "traceback": [
      "\u001b[0;31m---------------------------------------------------------------------------\u001b[0m",
      "\u001b[0;31mTypeError\u001b[0m                                 Traceback (most recent call last)",
      "Cell \u001b[0;32mIn[350], line 16\u001b[0m\n\u001b[1;32m     12\u001b[0m     \u001b[38;5;28mprint\u001b[39m(\u001b[38;5;124m\"\u001b[39m\u001b[38;5;124mHello, World!\u001b[39m\u001b[38;5;124m\"\u001b[39m)\n\u001b[1;32m     14\u001b[0m greet()\n\u001b[0;32m---> 16\u001b[0m greet(\u001b[38;5;124m\"\u001b[39m\u001b[38;5;124mJohn\u001b[39m\u001b[38;5;124m\"\u001b[39m)\n",
      "\u001b[0;31mTypeError\u001b[0m: greet() takes 0 positional arguments but 1 was given"
     ]
    }
   ],
   "source": [
    "### Function prototypes\n",
    "\n",
    "\n",
    "def greet(name):\n",
    "    print(f\"Hello, {name}!\")\n",
    "\n",
    "greet(\"John\")\n",
    "\n",
    "\n",
    "\n",
    "def greet():\n",
    "    print(\"Hello, World!\")\n",
    "\n",
    "greet()\n",
    "\n",
    "greet(\"John\")\n"
   ]
  },
  {
   "cell_type": "code",
   "execution_count": null,
   "id": "c9ad6d78",
   "metadata": {},
   "outputs": [
    {
     "name": "stdout",
     "output_type": "stream",
     "text": [
      "Hello, John!\n",
      "Hello, World!\n"
     ]
    }
   ],
   "source": [
    "### Function prototypes\n",
    "\n",
    "\n",
    "def greet(name=\"World\"): # Function definition with a default argument\n",
    "    print(f\"Hello, {name}!\")\n",
    "\n",
    "greet(\"John\")\n",
    "greet()\n"
   ]
  },
  {
   "cell_type": "code",
   "execution_count": 354,
   "id": "0809b99e",
   "metadata": {},
   "outputs": [
    {
     "name": "stdout",
     "output_type": "stream",
     "text": [
      "Hello, John!\n",
      "Goodbye, John!\n"
     ]
    }
   ],
   "source": [
    "def greet(name, message=\"Hello\"):\n",
    "    print(f\"{message}, {name}!\")\n",
    "\n",
    "greet(\"John\")\n",
    "greet(\"John\", \"Goodbye\")\n"
   ]
  },
  {
   "cell_type": "code",
   "execution_count": 356,
   "id": "e985a5c8",
   "metadata": {},
   "outputs": [
    {
     "name": "stdout",
     "output_type": "stream",
     "text": [
      "Hello, Guest!\n",
      "Hello, John!\n",
      "Goodbye, John!\n"
     ]
    }
   ],
   "source": [
    "def greet(name=\"Guest\", message=\"Hello\"):\n",
    "    print(f\"{message}, {name}!\")\n",
    "\n",
    "greet() # This is a no-args function call\n",
    "greet(\"John\") # The arguments passed are known as positional arguments\n",
    "greet(\"John\", \"Goodbye\") # The arguments passed are known as positional arguments\n"
   ]
  },
  {
   "cell_type": "code",
   "execution_count": 357,
   "id": "b97b8693",
   "metadata": {},
   "outputs": [
    {
     "ename": "SyntaxError",
     "evalue": "parameter without a default follows parameter with a default (1687317113.py, line 1)",
     "output_type": "error",
     "traceback": [
      "\u001b[0;36m  Cell \u001b[0;32mIn[357], line 1\u001b[0;36m\u001b[0m\n\u001b[0;31m    def greet(name=\"Guest\", message):\u001b[0m\n\u001b[0m                            ^\u001b[0m\n\u001b[0;31mSyntaxError\u001b[0m\u001b[0;31m:\u001b[0m parameter without a default follows parameter with a default\n"
     ]
    }
   ],
   "source": [
    "def greet(name=\"Guest\", message):\n",
    "    print(f\"{message}, {name}!\")\n",
    "\n",
    "greet() # This is a no-args function call\n",
    "greet(\"John\") # The arguments passed are known as positional arguments\n",
    "greet(\"John\", \"Goodbye\") # The arguments passed are known as positional arguments\n"
   ]
  },
  {
   "cell_type": "markdown",
   "id": "6dffe06f",
   "metadata": {},
   "source": [
    "NOTE: In function definitions, non-default argument cannot follow default arguments."
   ]
  },
  {
   "cell_type": "code",
   "execution_count": null,
   "id": "4e416993",
   "metadata": {},
   "outputs": [
    {
     "name": "stdout",
     "output_type": "stream",
     "text": [
      "Hello John, Welcome to Mumbai!\n",
      "Hello Bengaluru, Welcome to John!\n",
      "Hello John, Welcome to Bengaluru!\n"
     ]
    }
   ],
   "source": [
    "def greet(name=\"Guest\", place=\"Delhi\"):\n",
    "    print(f\"Hello {name}, Welcome to {place}!\")\n",
    "\n",
    "greet(\"John\", \"Mumbai\")\n",
    "greet(\"Bengaluru\", \"John\") # This is NOT what you expected\n",
    "greet(place=\"Bengaluru\", name=\"John\") # Arguments passed by name are known as keyword arguments\n"
   ]
  },
  {
   "cell_type": "code",
   "execution_count": 366,
   "id": "584a20cc",
   "metadata": {},
   "outputs": [
    {
     "name": "stdout",
     "output_type": "stream",
     "text": [
      "Hello John, Welcome to Mumbai!\n",
      "Hello John, Welcome to Bengaluru!\n",
      "Hello Sam, Welcome to Noida!\n"
     ]
    },
    {
     "ename": "TypeError",
     "evalue": "greet() missing 1 required positional argument: 'name'",
     "output_type": "error",
     "traceback": [
      "\u001b[0;31m---------------------------------------------------------------------------\u001b[0m",
      "\u001b[0;31mTypeError\u001b[0m                                 Traceback (most recent call last)",
      "Cell \u001b[0;32mIn[366], line 7\u001b[0m\n\u001b[1;32m      5\u001b[0m greet(place\u001b[38;5;241m=\u001b[39m\u001b[38;5;124m\"\u001b[39m\u001b[38;5;124mBengaluru\u001b[39m\u001b[38;5;124m\"\u001b[39m, name\u001b[38;5;241m=\u001b[39m\u001b[38;5;124m\"\u001b[39m\u001b[38;5;124mJohn\u001b[39m\u001b[38;5;124m\"\u001b[39m) \u001b[38;5;66;03m# Arguments passed by name are known as keyword arguments\u001b[39;00m\n\u001b[1;32m      6\u001b[0m greet(\u001b[38;5;124m\"\u001b[39m\u001b[38;5;124mSam\u001b[39m\u001b[38;5;124m\"\u001b[39m, place\u001b[38;5;241m=\u001b[39m\u001b[38;5;124m\"\u001b[39m\u001b[38;5;124mNoida\u001b[39m\u001b[38;5;124m\"\u001b[39m)\n\u001b[0;32m----> 7\u001b[0m greet(place\u001b[38;5;241m=\u001b[39m\u001b[38;5;124m\"\u001b[39m\u001b[38;5;124mNoida\u001b[39m\u001b[38;5;124m\"\u001b[39m)\n",
      "\u001b[0;31mTypeError\u001b[0m: greet() missing 1 required positional argument: 'name'"
     ]
    }
   ],
   "source": [
    "def greet(name, place):\n",
    "    print(f\"Hello {name}, Welcome to {place}!\")\n",
    "\n",
    "greet(\"John\", \"Mumbai\")\n",
    "greet(place=\"Bengaluru\", name=\"John\") # Arguments passed by name are known as keyword arguments\n",
    "greet(\"Sam\", place=\"Noida\")\n",
    "greet(place=\"Noida\")"
   ]
  },
  {
   "cell_type": "code",
   "execution_count": 367,
   "id": "63ef36e3",
   "metadata": {},
   "outputs": [
    {
     "ename": "SyntaxError",
     "evalue": "positional argument follows keyword argument (4156677811.py, line 4)",
     "output_type": "error",
     "traceback": [
      "\u001b[0;36m  Cell \u001b[0;32mIn[367], line 4\u001b[0;36m\u001b[0m\n\u001b[0;31m    greet(place=\"Noida\", \"Smith\")\u001b[0m\n\u001b[0m                                ^\u001b[0m\n\u001b[0;31mSyntaxError\u001b[0m\u001b[0;31m:\u001b[0m positional argument follows keyword argument\n"
     ]
    }
   ],
   "source": [
    "def greet(name, place):\n",
    "    print(f\"Hello {name}, Welcome to {place}!\")\n",
    "\n",
    "greet(place=\"Noida\", \"Smith\")"
   ]
  },
  {
   "cell_type": "markdown",
   "id": "4208ffe6",
   "metadata": {},
   "source": [
    "NOTE: In function calls, position argument cannot follow a default argument"
   ]
  },
  {
   "cell_type": "code",
   "execution_count": 370,
   "id": "3cda6e31",
   "metadata": {},
   "outputs": [
    {
     "name": "stdout",
     "output_type": "stream",
     "text": [
      "Hello John, Welcome!\n",
      "----------------------------------------\n",
      "Hello Adrian, Welcome!\n",
      "Hello Claire, Welcome!\n",
      "Hello Bourne, Welcome!\n",
      "Hello Emily, Welcome!\n",
      "----------------------------------------\n",
      "Hello Smith, Welcome!\n",
      "Hello Steve, Welcome!\n",
      "----------------------------------------\n",
      "----------------------------------------\n"
     ]
    }
   ],
   "source": [
    "def greet(*users): # Arbitrary argument list / aka variadic function / varargs\n",
    "    for u in users:\n",
    "        print(f\"Hello {u}, Welcome!\")\n",
    "    print(\"-\" * 40)\n",
    "\n",
    "\n",
    "greet(\"John\")\n",
    "greet(\"Adrian\", \"Claire\", \"Bourne\", \"Emily\")\n",
    "greet(\"Smith\", \"Steve\")\n",
    "greet()"
   ]
  },
  {
   "cell_type": "code",
   "execution_count": null,
   "id": "91d382a8",
   "metadata": {},
   "outputs": [
    {
     "ename": "TypeError",
     "evalue": "store() takes 4 positional arguments but 5 were given",
     "output_type": "error",
     "traceback": [
      "\u001b[0;31m---------------------------------------------------------------------------\u001b[0m",
      "\u001b[0;31mTypeError\u001b[0m                                 Traceback (most recent call last)",
      "Cell \u001b[0;32mIn[377], line 7\u001b[0m\n\u001b[1;32m      4\u001b[0m rec \u001b[38;5;241m=\u001b[39m \u001b[38;5;124m\"\u001b[39m\u001b[38;5;124mJohn\u001b[39m\u001b[38;5;124m\"\u001b[39m, \u001b[38;5;124m\"\u001b[39m\u001b[38;5;124mManager\u001b[39m\u001b[38;5;124m\"\u001b[39m, \u001b[38;5;124m\"\u001b[39m\u001b[38;5;124mSales\u001b[39m\u001b[38;5;124m\"\u001b[39m, \u001b[38;5;124m\"\u001b[39m\u001b[38;5;124mDelhi\u001b[39m\u001b[38;5;124m\"\u001b[39m, \u001b[38;5;124m\"\u001b[39m\u001b[38;5;124mtestdata\u001b[39m\u001b[38;5;124m\"\u001b[39m\n\u001b[1;32m      6\u001b[0m \u001b[38;5;66;03m#store(rec[0], rec[1], rec[2], rec[3])\u001b[39;00m\n\u001b[0;32m----> 7\u001b[0m store(\u001b[38;5;241m*\u001b[39mrec)\n",
      "\u001b[0;31mTypeError\u001b[0m: store() takes 4 positional arguments but 5 were given"
     ]
    }
   ],
   "source": [
    "def store(name, role, dept, place):\n",
    "    print(f\"Storing {name=}, {role=}, {dept=}, {place=}\")\n",
    "\n",
    "rec = \"John\", \"Manager\", \"Sales\", \"Delhi\"\n",
    "\n",
    "#store(rec[0], rec[1], rec[2], rec[3])\n",
    "store(*rec) # Argument unpacking / Unpacking operator"
   ]
  },
  {
   "cell_type": "code",
   "execution_count": 378,
   "id": "27a20fa9",
   "metadata": {},
   "outputs": [
    {
     "name": "stdout",
     "output_type": "stream",
     "text": [
      "Storing name='John', role='Manager', dept='Sales', place='Delhi'\n"
     ]
    }
   ],
   "source": [
    "def store(name, role, dept, place):\n",
    "    print(f\"Storing {name=}, {role=}, {dept=}, {place=}\")\n",
    "\n",
    "store(\"John\", \"Manager\", place=\"Delhi\", dept=\"Sales\")"
   ]
  },
  {
   "cell_type": "code",
   "execution_count": 379,
   "id": "8cfd9b35",
   "metadata": {},
   "outputs": [
    {
     "ename": "TypeError",
     "evalue": "store() got multiple values for argument 'role'",
     "output_type": "error",
     "traceback": [
      "\u001b[0;31m---------------------------------------------------------------------------\u001b[0m",
      "\u001b[0;31mTypeError\u001b[0m                                 Traceback (most recent call last)",
      "Cell \u001b[0;32mIn[379], line 4\u001b[0m\n\u001b[1;32m      1\u001b[0m \u001b[38;5;28;01mdef\u001b[39;00m \u001b[38;5;21mstore\u001b[39m(name, role, dept, place):\n\u001b[1;32m      2\u001b[0m     \u001b[38;5;28mprint\u001b[39m(\u001b[38;5;124mf\u001b[39m\u001b[38;5;124m\"\u001b[39m\u001b[38;5;124mStoring \u001b[39m\u001b[38;5;132;01m{\u001b[39;00mname\u001b[38;5;132;01m=}\u001b[39;00m\u001b[38;5;124m, \u001b[39m\u001b[38;5;132;01m{\u001b[39;00mrole\u001b[38;5;132;01m=}\u001b[39;00m\u001b[38;5;124m, \u001b[39m\u001b[38;5;132;01m{\u001b[39;00mdept\u001b[38;5;132;01m=}\u001b[39;00m\u001b[38;5;124m, \u001b[39m\u001b[38;5;132;01m{\u001b[39;00mplace\u001b[38;5;132;01m=}\u001b[39;00m\u001b[38;5;124m\"\u001b[39m)\n\u001b[0;32m----> 4\u001b[0m store(\u001b[38;5;124m\"\u001b[39m\u001b[38;5;124mJohn\u001b[39m\u001b[38;5;124m\"\u001b[39m, \u001b[38;5;124m\"\u001b[39m\u001b[38;5;124mManager\u001b[39m\u001b[38;5;124m\"\u001b[39m, place\u001b[38;5;241m=\u001b[39m\u001b[38;5;124m\"\u001b[39m\u001b[38;5;124mDelhi\u001b[39m\u001b[38;5;124m\"\u001b[39m, dept\u001b[38;5;241m=\u001b[39m\u001b[38;5;124m\"\u001b[39m\u001b[38;5;124mSales\u001b[39m\u001b[38;5;124m\"\u001b[39m, role\u001b[38;5;241m=\u001b[39m\u001b[38;5;124m\"\u001b[39m\u001b[38;5;124mAdmin\u001b[39m\u001b[38;5;124m\"\u001b[39m)\n",
      "\u001b[0;31mTypeError\u001b[0m: store() got multiple values for argument 'role'"
     ]
    }
   ],
   "source": [
    "def store(name, role, dept, place):\n",
    "    print(f\"Storing {name=}, {role=}, {dept=}, {place=}\")\n",
    "\n",
    "store(\"John\", \"Manager\", place=\"Delhi\", dept=\"Sales\", role=\"Admin\")"
   ]
  },
  {
   "cell_type": "code",
   "execution_count": 380,
   "id": "63c76d8e",
   "metadata": {},
   "outputs": [
    {
     "ename": "SyntaxError",
     "evalue": "keyword argument repeated: place (2106664498.py, line 4)",
     "output_type": "error",
     "traceback": [
      "\u001b[0;36m  Cell \u001b[0;32mIn[380], line 4\u001b[0;36m\u001b[0m\n\u001b[0;31m    store(\"John\", \"Manager\", place=\"Delhi\", dept=\"Sales\", place=\"Mumbai\")\u001b[0m\n\u001b[0m                                                          ^\u001b[0m\n\u001b[0;31mSyntaxError\u001b[0m\u001b[0;31m:\u001b[0m keyword argument repeated: place\n"
     ]
    }
   ],
   "source": [
    "def store(name, role, dept, place):\n",
    "    print(f\"Storing {name=}, {role=}, {dept=}, {place=}\")\n",
    "\n",
    "store(\"John\", \"Manager\", place=\"Delhi\", dept=\"Sales\", place=\"Mumbai\")"
   ]
  },
  {
   "cell_type": "code",
   "execution_count": 383,
   "id": "88c83ed5",
   "metadata": {},
   "outputs": [
    {
     "name": "stdout",
     "output_type": "stream",
     "text": [
      "Storing name='John', role='Manager', dept='Delhi', place='Sales'\n",
      "Storing name='John', role='Manager', dept='Sales', place='Delhi'\n"
     ]
    },
    {
     "ename": "TypeError",
     "evalue": "store() got some positional-only arguments passed as keyword arguments: 'name, role'",
     "output_type": "error",
     "traceback": [
      "\u001b[0;31m---------------------------------------------------------------------------\u001b[0m",
      "\u001b[0;31mTypeError\u001b[0m                                 Traceback (most recent call last)",
      "Cell \u001b[0;32mIn[383], line 7\u001b[0m\n\u001b[1;32m      5\u001b[0m store(\u001b[38;5;124m\"\u001b[39m\u001b[38;5;124mJohn\u001b[39m\u001b[38;5;124m\"\u001b[39m, \u001b[38;5;124m\"\u001b[39m\u001b[38;5;124mManager\u001b[39m\u001b[38;5;124m\"\u001b[39m, \u001b[38;5;124m\"\u001b[39m\u001b[38;5;124mDelhi\u001b[39m\u001b[38;5;124m\"\u001b[39m, \u001b[38;5;124m\"\u001b[39m\u001b[38;5;124mSales\u001b[39m\u001b[38;5;124m\"\u001b[39m)\n\u001b[1;32m      6\u001b[0m store(\u001b[38;5;124m\"\u001b[39m\u001b[38;5;124mJohn\u001b[39m\u001b[38;5;124m\"\u001b[39m, \u001b[38;5;124m\"\u001b[39m\u001b[38;5;124mManager\u001b[39m\u001b[38;5;124m\"\u001b[39m, place\u001b[38;5;241m=\u001b[39m\u001b[38;5;124m\"\u001b[39m\u001b[38;5;124mDelhi\u001b[39m\u001b[38;5;124m\"\u001b[39m, dept\u001b[38;5;241m=\u001b[39m\u001b[38;5;124m\"\u001b[39m\u001b[38;5;124mSales\u001b[39m\u001b[38;5;124m\"\u001b[39m)\n\u001b[0;32m----> 7\u001b[0m store(name\u001b[38;5;241m=\u001b[39m\u001b[38;5;124m\"\u001b[39m\u001b[38;5;124mJohn\u001b[39m\u001b[38;5;124m\"\u001b[39m, role\u001b[38;5;241m=\u001b[39m\u001b[38;5;124m\"\u001b[39m\u001b[38;5;124mManager\u001b[39m\u001b[38;5;124m\"\u001b[39m, place\u001b[38;5;241m=\u001b[39m\u001b[38;5;124m\"\u001b[39m\u001b[38;5;124mDelhi\u001b[39m\u001b[38;5;124m\"\u001b[39m, dept\u001b[38;5;241m=\u001b[39m\u001b[38;5;124m\"\u001b[39m\u001b[38;5;124mSales\u001b[39m\u001b[38;5;124m\"\u001b[39m)\n",
      "\u001b[0;31mTypeError\u001b[0m: store() got some positional-only arguments passed as keyword arguments: 'name, role'"
     ]
    }
   ],
   "source": [
    "# In below definition, name and role are positional-only parameters\n",
    "def store(name, role, /, dept, place):\n",
    "    print(f\"Storing {name=}, {role=}, {dept=}, {place=}\")\n",
    "\n",
    "store(\"John\", \"Manager\", \"Delhi\", \"Sales\")\n",
    "store(\"John\", \"Manager\", place=\"Delhi\", dept=\"Sales\")\n",
    "store(name=\"John\", role=\"Manager\", place=\"Delhi\", dept=\"Sales\")"
   ]
  },
  {
   "cell_type": "code",
   "execution_count": 390,
   "id": "b9a874ca",
   "metadata": {},
   "outputs": [
    {
     "name": "stdout",
     "output_type": "stream",
     "text": [
      "Storing name='John', role='Manager', dept='Sales', place='Delhi'\n",
      "Storing name='John', role='Manager', dept='Sales', place='Delhi'\n"
     ]
    },
    {
     "ename": "TypeError",
     "evalue": "store() takes 3 positional arguments but 4 were given",
     "output_type": "error",
     "traceback": [
      "\u001b[0;31m---------------------------------------------------------------------------\u001b[0m",
      "\u001b[0;31mTypeError\u001b[0m                                 Traceback (most recent call last)",
      "Cell \u001b[0;32mIn[390], line 8\u001b[0m\n\u001b[1;32m      6\u001b[0m store(\u001b[38;5;124m\"\u001b[39m\u001b[38;5;124mJohn\u001b[39m\u001b[38;5;124m\"\u001b[39m, \u001b[38;5;124m\"\u001b[39m\u001b[38;5;124mManager\u001b[39m\u001b[38;5;124m\"\u001b[39m, \u001b[38;5;124m\"\u001b[39m\u001b[38;5;124mSales\u001b[39m\u001b[38;5;124m\"\u001b[39m, place\u001b[38;5;241m=\u001b[39m\u001b[38;5;124m\"\u001b[39m\u001b[38;5;124mDelhi\u001b[39m\u001b[38;5;124m\"\u001b[39m)\n\u001b[1;32m      7\u001b[0m store(\u001b[38;5;124m\"\u001b[39m\u001b[38;5;124mJohn\u001b[39m\u001b[38;5;124m\"\u001b[39m, \u001b[38;5;124m\"\u001b[39m\u001b[38;5;124mManager\u001b[39m\u001b[38;5;124m\"\u001b[39m, dept\u001b[38;5;241m=\u001b[39m\u001b[38;5;124m\"\u001b[39m\u001b[38;5;124mSales\u001b[39m\u001b[38;5;124m\"\u001b[39m, place\u001b[38;5;241m=\u001b[39m\u001b[38;5;124m\"\u001b[39m\u001b[38;5;124mDelhi\u001b[39m\u001b[38;5;124m\"\u001b[39m)\n\u001b[0;32m----> 8\u001b[0m store(\u001b[38;5;124m\"\u001b[39m\u001b[38;5;124mJohn\u001b[39m\u001b[38;5;124m\"\u001b[39m, \u001b[38;5;124m\"\u001b[39m\u001b[38;5;124mManager\u001b[39m\u001b[38;5;124m\"\u001b[39m, \u001b[38;5;124m\"\u001b[39m\u001b[38;5;124mSales\u001b[39m\u001b[38;5;124m\"\u001b[39m, \u001b[38;5;124m\"\u001b[39m\u001b[38;5;124mDelhi\u001b[39m\u001b[38;5;124m\"\u001b[39m)\n",
      "\u001b[0;31mTypeError\u001b[0m: store() takes 3 positional arguments but 4 were given"
     ]
    }
   ],
   "source": [
    "# In below definition, name and role are positional-only parameters\n",
    "# Arguments after * are keyword-only parameters\n",
    "def store(name, role, /, dept, *, place):\n",
    "    print(f\"Storing {name=}, {role=}, {dept=}, {place=}\")\n",
    "\n",
    "store(\"John\", \"Manager\", \"Sales\", place=\"Delhi\")\n",
    "store(\"John\", \"Manager\", dept=\"Sales\", place=\"Delhi\")\n",
    "store(\"John\", \"Manager\", \"Sales\", \"Delhi\")"
   ]
  },
  {
   "cell_type": "code",
   "execution_count": 396,
   "id": "3fdb854b",
   "metadata": {},
   "outputs": [
    {
     "name": "stdout",
     "output_type": "stream",
     "text": [
      "x=10, y=20, z=100, w=200, v=300\n",
      "x=15, y=25, z=100, w=200, v=300\n",
      "x=10, y=20, z=30, w=12, v=11\n"
     ]
    }
   ],
   "source": [
    "def testfn(x, y, *, z=100, w=200, v=300):\n",
    "    print(f\"{x=}, {y=}, {z=}, {w=}, {v=}\")\n",
    "\n",
    "testfn(10, 20)\n",
    "testfn(x=15, y=25)\n",
    "testfn(10, 20, z=30, w=12, v=11)"
   ]
  },
  {
   "cell_type": "code",
   "execution_count": 400,
   "id": "aac4e423",
   "metadata": {},
   "outputs": [
    {
     "name": "stdout",
     "output_type": "stream",
     "text": [
      "name='John', age=30, skills=()\n",
      "name='John', age=25, skills=()\n",
      "name='John', age=35, skills=('Python', 'Django', 'Docker')\n"
     ]
    },
    {
     "ename": "TypeError",
     "evalue": "info() got an unexpected keyword argument 'skills'",
     "output_type": "error",
     "traceback": [
      "\u001b[0;31m---------------------------------------------------------------------------\u001b[0m",
      "\u001b[0;31mTypeError\u001b[0m                                 Traceback (most recent call last)",
      "Cell \u001b[0;32mIn[400], line 7\u001b[0m\n\u001b[1;32m      5\u001b[0m info(\u001b[38;5;124m\"\u001b[39m\u001b[38;5;124mJohn\u001b[39m\u001b[38;5;124m\"\u001b[39m, \u001b[38;5;241m25\u001b[39m)\n\u001b[1;32m      6\u001b[0m info(\u001b[38;5;124m\"\u001b[39m\u001b[38;5;124mJohn\u001b[39m\u001b[38;5;124m\"\u001b[39m, \u001b[38;5;241m35\u001b[39m, \u001b[38;5;124m\"\u001b[39m\u001b[38;5;124mPython\u001b[39m\u001b[38;5;124m\"\u001b[39m, \u001b[38;5;124m\"\u001b[39m\u001b[38;5;124mDjango\u001b[39m\u001b[38;5;124m\"\u001b[39m, \u001b[38;5;124m\"\u001b[39m\u001b[38;5;124mDocker\u001b[39m\u001b[38;5;124m\"\u001b[39m)\n\u001b[0;32m----> 7\u001b[0m info(\u001b[38;5;124m\"\u001b[39m\u001b[38;5;124mJohn\u001b[39m\u001b[38;5;124m\"\u001b[39m, skills\u001b[38;5;241m=\u001b[39m(\u001b[38;5;124m\"\u001b[39m\u001b[38;5;124mPython\u001b[39m\u001b[38;5;124m\"\u001b[39m, \u001b[38;5;124m\"\u001b[39m\u001b[38;5;124mDjango\u001b[39m\u001b[38;5;124m\"\u001b[39m, \u001b[38;5;124m\"\u001b[39m\u001b[38;5;124mDocker\u001b[39m\u001b[38;5;124m\"\u001b[39m))\n",
      "\u001b[0;31mTypeError\u001b[0m: info() got an unexpected keyword argument 'skills'"
     ]
    }
   ],
   "source": [
    "def info(name, age=30, *skills):\n",
    "    print(f\"{name=}, {age=}, {skills=}\")\n",
    "\n",
    "info(\"John\")\n",
    "info(\"John\", 25)\n",
    "info(\"John\", 35, \"Python\", \"Django\", \"Docker\")\n",
    "info(\"John\", skills=(\"Python\", \"Django\", \"Docker\"))"
   ]
  },
  {
   "cell_type": "code",
   "execution_count": 405,
   "id": "c8337c9b",
   "metadata": {},
   "outputs": [
    {
     "name": "stdout",
     "output_type": "stream",
     "text": [
      "name='John', age=30, skills=()\n",
      "name='John', age=30, skills=('Python', 'Django', 'Docker')\n",
      "name='John', age=35, skills=('Python', 'Django', 'Docker')\n"
     ]
    }
   ],
   "source": [
    "def info(name, *skills, age=30):\n",
    "    print(f\"{name=}, {age=}, {skills=}\")\n",
    "\n",
    "info(\"John\")\n",
    "info(\"John\", \"Python\", \"Django\", \"Docker\")\n",
    "info(\"John\", \"Python\", \"Django\", \"Docker\", age=35)"
   ]
  },
  {
   "cell_type": "code",
   "execution_count": 409,
   "id": "fe89e2f1",
   "metadata": {},
   "outputs": [
    {
     "name": "stdout",
     "output_type": "stream",
     "text": [
      "name='John', age=25, skills=()\n",
      "name='John', age=35, skills=('Python', 'Django', 'Docker')\n"
     ]
    }
   ],
   "source": [
    "def info(name, *skills, age):\n",
    "    print(f\"{name=}, {age=}, {skills=}\")\n",
    "\n",
    "info(\"John\", age=25)\n",
    "info(\"John\", \"Python\", \"Django\", \"Docker\", age=35)"
   ]
  },
  {
   "cell_type": "code",
   "execution_count": 412,
   "id": "803431d8",
   "metadata": {},
   "outputs": [
    {
     "name": "stdout",
     "output_type": "stream",
     "text": [
      "name='John', age=30, role='Manager', dept='Sales'\n"
     ]
    }
   ],
   "source": [
    "def info(name, age, role, dept):\n",
    "    print(f\"{name=}, {age=}, {role=}, {dept=}\")\n",
    "\n",
    "rec = {\"name\": \"John\", \"role\": \"Manager\", \"age\": 30, \"dept\": \"Sales\"}\n",
    "info(**rec) # Unpacking keyword arguments"
   ]
  },
  {
   "cell_type": "code",
   "execution_count": 416,
   "id": "15714a74",
   "metadata": {},
   "outputs": [
    {
     "name": "stdout",
     "output_type": "stream",
     "text": [
      "----------------------------------------\n",
      "name => John\n",
      "age => 30\n",
      "role => Manager\n",
      "dept => Sales\n",
      "x => 100\n",
      "y => 200\n",
      "----------------------------------------\n"
     ]
    },
    {
     "ename": "TypeError",
     "evalue": "info() takes 0 positional arguments but 2 were given",
     "output_type": "error",
     "traceback": [
      "\u001b[0;31m---------------------------------------------------------------------------\u001b[0m",
      "\u001b[0;31mTypeError\u001b[0m                                 Traceback (most recent call last)",
      "Cell \u001b[0;32mIn[416], line 8\u001b[0m\n\u001b[1;32m      6\u001b[0m info()\n\u001b[1;32m      7\u001b[0m info(name\u001b[38;5;241m=\u001b[39m\u001b[38;5;124m\"\u001b[39m\u001b[38;5;124mJohn\u001b[39m\u001b[38;5;124m\"\u001b[39m, age\u001b[38;5;241m=\u001b[39m\u001b[38;5;241m30\u001b[39m, role\u001b[38;5;241m=\u001b[39m\u001b[38;5;124m\"\u001b[39m\u001b[38;5;124mManager\u001b[39m\u001b[38;5;124m\"\u001b[39m, dept\u001b[38;5;241m=\u001b[39m\u001b[38;5;124m\"\u001b[39m\u001b[38;5;124mSales\u001b[39m\u001b[38;5;124m\"\u001b[39m, x\u001b[38;5;241m=\u001b[39m\u001b[38;5;241m100\u001b[39m, y\u001b[38;5;241m=\u001b[39m\u001b[38;5;241m200\u001b[39m)\n\u001b[0;32m----> 8\u001b[0m info(\u001b[38;5;241m100\u001b[39m, \u001b[38;5;241m200\u001b[39m)\n",
      "\u001b[0;31mTypeError\u001b[0m: info() takes 0 positional arguments but 2 were given"
     ]
    }
   ],
   "source": [
    "def info(**details): # Arbitrary keyword arguments\n",
    "    for k, v in details.items():\n",
    "        print(f\"{k} => {v}\")\n",
    "    print(\"-\" * 40)\n",
    "\n",
    "info()\n",
    "info(name=\"John\", age=30, role=\"Manager\", dept=\"Sales\", x=100, y=200)\n",
    "info(100, 200)"
   ]
  },
  {
   "cell_type": "code",
   "execution_count": 421,
   "id": "3bff1f1c",
   "metadata": {},
   "outputs": [
    {
     "name": "stdout",
     "output_type": "stream",
     "text": [
      "Positional arguments: ()\n",
      "Keyword arguments: {}\n",
      "----------------------------------------\n",
      "Positional arguments: (10, 20, 30)\n",
      "Keyword arguments: {}\n",
      "----------------------------------------\n",
      "Positional arguments: ()\n",
      "Keyword arguments: {'a': 100, 'b': 200}\n",
      "----------------------------------------\n",
      "Positional arguments: (10, 20)\n",
      "Keyword arguments: {'a': 100, 'b': 200}\n",
      "----------------------------------------\n"
     ]
    }
   ],
   "source": [
    "# Fully variadic function\n",
    "def func(*args, **kwargs):\n",
    "    print(\"Positional arguments:\", args)\n",
    "    print(\"Keyword arguments:\", kwargs)\n",
    "    print(\"-\" * 40)\n",
    "\n",
    "func()\n",
    "func(10, 20, 30)\n",
    "func(a=100, b=200)\n",
    "func(10, 20, a=100, b=200)"
   ]
  },
  {
   "cell_type": "code",
   "execution_count": null,
   "id": "95343974",
   "metadata": {},
   "outputs": [
    {
     "name": "stdout",
     "output_type": "stream",
     "text": [
      "add function invoked x=10, y=20\n",
      "Before calling the function\n",
      "add function invoked x=10, y=20\n",
      "After calling the function\n"
     ]
    },
    {
     "data": {
      "text/plain": [
       "30"
      ]
     },
     "execution_count": 423,
     "metadata": {},
     "output_type": "execute_result"
    }
   ],
   "source": [
    "def wrapper(fn, *args, **kwargs):\n",
    "    print(\"Before calling the function\")\n",
    "    result = fn(*args, **kwargs)\n",
    "    print(\"After calling the function\")\n",
    "    return result\n",
    "\n",
    "def add(x, y):\n",
    "    \"\"\"This is an add function\"\"\"\n",
    "    print(f\"add function invoked {x=}, {y=}\")\n",
    "    return x + y\n",
    "\n",
    "add(10, 20)\n",
    "\n",
    "wrapper(add, 10, 20)"
   ]
  },
  {
   "cell_type": "code",
   "execution_count": 427,
   "id": "d28bde8f",
   "metadata": {},
   "outputs": [
    {
     "name": "stdout",
     "output_type": "stream",
     "text": [
      "4\n",
      "10.240000000000002\n",
      "(12+16j)\n"
     ]
    },
    {
     "ename": "TypeError",
     "evalue": "can't multiply sequence by non-int of type 'str'",
     "output_type": "error",
     "traceback": [
      "\u001b[0;31m---------------------------------------------------------------------------\u001b[0m",
      "\u001b[0;31mTypeError\u001b[0m                                 Traceback (most recent call last)",
      "Cell \u001b[0;32mIn[427], line 13\u001b[0m\n\u001b[1;32m     10\u001b[0m r \u001b[38;5;241m=\u001b[39m square(\u001b[38;5;241m4\u001b[39m\u001b[38;5;241m+\u001b[39m\u001b[38;5;241m2\u001b[39mj)\n\u001b[1;32m     11\u001b[0m \u001b[38;5;28mprint\u001b[39m(r)\n\u001b[0;32m---> 13\u001b[0m r \u001b[38;5;241m=\u001b[39m square(\u001b[38;5;124m\"\u001b[39m\u001b[38;5;124mHello\u001b[39m\u001b[38;5;124m\"\u001b[39m)\n\u001b[1;32m     14\u001b[0m \u001b[38;5;28mprint\u001b[39m(r)\n",
      "Cell \u001b[0;32mIn[427], line 2\u001b[0m, in \u001b[0;36msquare\u001b[0;34m(x)\u001b[0m\n\u001b[1;32m      1\u001b[0m \u001b[38;5;28;01mdef\u001b[39;00m \u001b[38;5;21msquare\u001b[39m(x):\n\u001b[0;32m----> 2\u001b[0m     \u001b[38;5;28;01mreturn\u001b[39;00m x \u001b[38;5;241m*\u001b[39m x\n",
      "\u001b[0;31mTypeError\u001b[0m: can't multiply sequence by non-int of type 'str'"
     ]
    }
   ],
   "source": [
    "def square(x):\n",
    "    return x * x\n",
    "\n",
    "r = square(2)\n",
    "print(r)\n",
    "\n",
    "r = square(3.2)\n",
    "print(r)\n",
    "\n",
    "r = square(4+2j)\n",
    "print(r)\n",
    "\n",
    "r = square(\"Hello\")\n",
    "print(r)"
   ]
  },
  {
   "cell_type": "code",
   "execution_count": 428,
   "id": "7412bd0f",
   "metadata": {},
   "outputs": [
    {
     "name": "stdout",
     "output_type": "stream",
     "text": [
      "4\n",
      "10.240000000000002\n",
      "(12+16j)\n"
     ]
    },
    {
     "ename": "TypeError",
     "evalue": "can't multiply sequence by non-int of type 'str'",
     "output_type": "error",
     "traceback": [
      "\u001b[0;31m---------------------------------------------------------------------------\u001b[0m",
      "\u001b[0;31mTypeError\u001b[0m                                 Traceback (most recent call last)",
      "Cell \u001b[0;32mIn[428], line 7\u001b[0m\n\u001b[1;32m      5\u001b[0m \u001b[38;5;28mprint\u001b[39m(square(\u001b[38;5;241m3.2\u001b[39m))\n\u001b[1;32m      6\u001b[0m \u001b[38;5;28mprint\u001b[39m(square(\u001b[38;5;241m4\u001b[39m\u001b[38;5;241m+\u001b[39m\u001b[38;5;241m2\u001b[39mj))\n\u001b[0;32m----> 7\u001b[0m \u001b[38;5;28mprint\u001b[39m(square(\u001b[38;5;124m\"\u001b[39m\u001b[38;5;124mHello\u001b[39m\u001b[38;5;124m\"\u001b[39m))\n",
      "Cell \u001b[0;32mIn[428], line 2\u001b[0m, in \u001b[0;36msquare\u001b[0;34m(x)\u001b[0m\n\u001b[1;32m      1\u001b[0m \u001b[38;5;28;01mdef\u001b[39;00m \u001b[38;5;21msquare\u001b[39m(x: \u001b[38;5;28mint\u001b[39m) \u001b[38;5;241m-\u001b[39m\u001b[38;5;241m>\u001b[39m \u001b[38;5;28mint\u001b[39m:\n\u001b[0;32m----> 2\u001b[0m     \u001b[38;5;28;01mreturn\u001b[39;00m x \u001b[38;5;241m*\u001b[39m x\n",
      "\u001b[0;31mTypeError\u001b[0m: can't multiply sequence by non-int of type 'str'"
     ]
    }
   ],
   "source": [
    "def square(x: int) -> int:\n",
    "    return x * x\n",
    "\n",
    "print(square(2))\n",
    "print(square(3.2))\n",
    "print(square(4+2j))\n",
    "print(square(\"Hello\"))"
   ]
  },
  {
   "cell_type": "markdown",
   "id": "32a387b4",
   "metadata": {},
   "source": [
    "#### Scope of variables\n",
    " 1. All definitions within a function body are scoped local to that function\n",
    "\n",
    " 2. Mutable objects refered to via global variables can be mutated from anywhere within Python code - the scope is irrelevant."
   ]
  }
 ],
 "metadata": {
  "kernelspec": {
   "display_name": "base",
   "language": "python",
   "name": "python3"
  },
  "language_info": {
   "codemirror_mode": {
    "name": "ipython",
    "version": 3
   },
   "file_extension": ".py",
   "mimetype": "text/x-python",
   "name": "python",
   "nbconvert_exporter": "python",
   "pygments_lexer": "ipython3",
   "version": "3.12.7"
  }
 },
 "nbformat": 4,
 "nbformat_minor": 5
}
